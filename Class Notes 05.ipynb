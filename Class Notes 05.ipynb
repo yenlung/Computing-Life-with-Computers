{
 "cells": [
  {
   "cell_type": "markdown",
   "metadata": {},
   "source": [
    "# Pandas\n",
    "\n",
    "今天我們的主題是 pandas 套件, 記得很多地方是在 <b style=\"color:red;\">Python 3</b> 下執行, 中文的一些相容易更佳! 沒有的話暫時可以名稱什麼都設英文。"
   ]
  },
  {
   "cell_type": "markdown",
   "metadata": {},
   "source": [
    "## 公商服務時間\n",
    "\n",
    "* PyCon APAC 2015 亞洲 Python 年會: 6 月 5 日 -- 7 日\n",
    "* 政大 Py Day! 6 月 8 日 10:00 a.m. -- 3:00 p.m."
   ]
  },
  {
   "cell_type": "markdown",
   "metadata": {},
   "source": [
    "## [練習] 做一個 array\n",
    "\n",
    "以各種不同方法做 array。"
   ]
  },
  {
   "cell_type": "markdown",
   "metadata": {},
   "source": [
    "先把我們的王牌 \n",
    "\n",
    "    %pylab inline\n",
    "    \n",
    "讀進來, 這樣我們的 Python 會計算 (numpy), 會畫圖 (matplotlib)。"
   ]
  },
  {
   "cell_type": "code",
   "execution_count": 1,
   "metadata": {
    "collapsed": false
   },
   "outputs": [
    {
     "name": "stdout",
     "output_type": "stream",
     "text": [
      "Populating the interactive namespace from numpy and matplotlib\n"
     ]
    }
   ],
   "source": [
    "%pylab inline"
   ]
  },
  {
   "cell_type": "markdown",
   "metadata": {},
   "source": [
    "### 方法一\n",
    "\n",
    "做一個平均值 10, 標準差 2, 抽 100 個數據的 array。"
   ]
  },
  {
   "cell_type": "code",
   "execution_count": 2,
   "metadata": {
    "collapsed": true
   },
   "outputs": [],
   "source": [
    "qwe=normal(10,2,100)"
   ]
  },
  {
   "cell_type": "code",
   "execution_count": 3,
   "metadata": {
    "collapsed": false
   },
   "outputs": [
    {
     "data": {
      "text/plain": [
       "array([ 11.48359971,   9.80156944,  10.63794534,   8.49134671,\n",
       "        10.18489844,  10.59332494,  11.62496489,   7.83344194,\n",
       "         9.81483218,   9.65647672,  10.31244499,  10.79107144,\n",
       "        11.4909444 ,   7.1798667 ,  10.74465247,  12.16841368,\n",
       "        10.69032689,   5.72023346,   9.9142596 ,   9.68783661,\n",
       "         9.99627729,   9.09927659,  10.81920683,   9.82540716,\n",
       "        10.1095583 ,  11.97584691,  10.73143793,   6.86975736,\n",
       "         7.91798225,  13.0112487 ,  10.60047971,   7.62823899,\n",
       "         9.44748638,   6.63336485,   7.82514522,   6.91233494,\n",
       "         9.22528327,   7.72880982,   7.5066384 ,   9.8189172 ,\n",
       "        10.36985309,  10.39332149,  10.29297615,   4.0303717 ,\n",
       "        14.83911462,   9.22130629,   9.41988215,  12.09299878,\n",
       "         8.95365849,   9.46306899,   7.93042542,   8.89976704,\n",
       "         8.33835136,  12.52574061,   7.24958908,  13.42473658,\n",
       "        13.86227338,  10.35266458,   8.14412072,  10.16784675,\n",
       "        12.43873988,   9.09758521,   7.41497944,  10.159711  ,\n",
       "        11.2836216 ,   8.86470512,  11.64971352,  11.85343165,\n",
       "         9.64919219,   8.56608955,  14.83994339,   7.15136898,\n",
       "         9.94222935,   8.87617119,   8.71651987,  12.71075291,\n",
       "        11.35321386,  11.22786228,   8.19096705,  10.43056098,\n",
       "         6.41610752,  10.08947545,   7.38770066,   9.73622614,\n",
       "        12.18579255,   9.42374915,  11.15054633,  10.36361935,\n",
       "         6.40021345,   9.02936237,  10.12986724,   9.11834137,\n",
       "         8.97012794,  12.8261215 ,  12.59483948,   7.19047003,\n",
       "         5.99812337,  10.71436057,  12.52305552,   9.72956257])"
      ]
     },
     "execution_count": 3,
     "metadata": {},
     "output_type": "execute_result"
    }
   ],
   "source": [
    "qwe"
   ]
  },
  {
   "cell_type": "markdown",
   "metadata": {},
   "source": [
    "### 方法二\n",
    "\n",
    "直接從平均值 0, 標準差 1 的資料中抽 10 筆出來。"
   ]
  },
  {
   "cell_type": "code",
   "execution_count": 4,
   "metadata": {
    "collapsed": false
   },
   "outputs": [
    {
     "data": {
      "text/plain": [
       "array([-0.85092718,  0.12310949, -0.86770401, -0.83168302,  1.81944224,\n",
       "       -1.42689613, -2.01534853,  1.65692898, -0.4052669 ,  0.14718545])"
      ]
     },
     "execution_count": 4,
     "metadata": {},
     "output_type": "execute_result"
    }
   ],
   "source": [
    "randn(10)"
   ]
  },
  {
   "cell_type": "markdown",
   "metadata": {},
   "source": [
    "### 方法三\n",
    "\n",
    "就抽　10 筆從 0 到 1 間的亂數。"
   ]
  },
  {
   "cell_type": "code",
   "execution_count": 5,
   "metadata": {
    "collapsed": false
   },
   "outputs": [
    {
     "data": {
      "text/plain": [
       "array([ 0.72492272,  0.28008277,  0.33861229,  0.24908406,  0.16965631,\n",
       "        0.95910751,  0.77764117,  0.8919768 ,  0.50174255,  0.95129123])"
      ]
     },
     "execution_count": 5,
     "metadata": {},
     "output_type": "execute_result"
    }
   ],
   "source": [
    "rand(10)"
   ]
  },
  {
   "cell_type": "markdown",
   "metadata": {},
   "source": [
    "### 方法四\n",
    "\n",
    "直接自己訂一個 array。"
   ]
  },
  {
   "cell_type": "code",
   "execution_count": 6,
   "metadata": {
    "collapsed": true
   },
   "outputs": [],
   "source": [
    "arr = array([3,2,1,4,5,6])"
   ]
  },
  {
   "cell_type": "code",
   "execution_count": 7,
   "metadata": {
    "collapsed": false
   },
   "outputs": [
    {
     "data": {
      "text/plain": [
       "array([3, 2, 1, 4, 5, 6])"
      ]
     },
     "execution_count": 7,
     "metadata": {},
     "output_type": "execute_result"
    }
   ],
   "source": [
    "arr"
   ]
  },
  {
   "cell_type": "markdown",
   "metadata": {},
   "source": [
    "## Pandas 的兩大資料結構\n",
    "\n",
    "* Series: 很像 list, array\n",
    "* DataFrame: 很像 table (或很多 tables)"
   ]
  },
  {
   "cell_type": "markdown",
   "metadata": {},
   "source": [
    "## [練習] 把 Array 做成 Series"
   ]
  },
  {
   "cell_type": "markdown",
   "metadata": {},
   "source": [
    "把 Pandas 叫進來。"
   ]
  },
  {
   "cell_type": "code",
   "execution_count": 8,
   "metadata": {
    "collapsed": true
   },
   "outputs": [],
   "source": [
    "import pandas as pd"
   ]
  },
  {
   "cell_type": "markdown",
   "metadata": {},
   "source": [
    "### 造 Series 練習一\n",
    "\n",
    "我們這次取平均 10, 標準差 5, 13 筆資料。"
   ]
  },
  {
   "cell_type": "code",
   "execution_count": 9,
   "metadata": {
    "collapsed": true
   },
   "outputs": [],
   "source": [
    "arr = normal(10,5,13)"
   ]
  },
  {
   "cell_type": "code",
   "execution_count": 10,
   "metadata": {
    "collapsed": false
   },
   "outputs": [
    {
     "data": {
      "text/plain": [
       "array([ -3.83152135,  10.58982428,   3.04033744,   1.410122  ,\n",
       "         6.79734372,  15.30036726,  10.70205759,  12.22554063,\n",
       "        17.61148586,   9.40773818,   9.06118654,   9.89837965,   3.28779258])"
      ]
     },
     "execution_count": 10,
     "metadata": {},
     "output_type": "execute_result"
    }
   ],
   "source": [
    "arr"
   ]
  },
  {
   "cell_type": "markdown",
   "metadata": {},
   "source": [
    "要變成 series, 就用 Pandas 裡的 Series。"
   ]
  },
  {
   "cell_type": "code",
   "execution_count": 11,
   "metadata": {
    "collapsed": true
   },
   "outputs": [],
   "source": [
    "ser = pd.Series(arr)"
   ]
  },
  {
   "cell_type": "code",
   "execution_count": 12,
   "metadata": {
    "collapsed": false
   },
   "outputs": [
    {
     "data": {
      "text/plain": [
       "0     -3.831521\n",
       "1     10.589824\n",
       "2      3.040337\n",
       "3      1.410122\n",
       "4      6.797344\n",
       "5     15.300367\n",
       "6     10.702058\n",
       "7     12.225541\n",
       "8     17.611486\n",
       "9      9.407738\n",
       "10     9.061187\n",
       "11     9.898380\n",
       "12     3.287793\n",
       "dtype: float64"
      ]
     },
     "execution_count": 12,
     "metadata": {},
     "output_type": "execute_result"
    }
   ],
   "source": [
    "ser"
   ]
  },
  {
   "cell_type": "markdown",
   "metadata": {},
   "source": [
    "看起來就和 Series 很像, 只是變成直的 (當成一行), 而且多了 index。"
   ]
  },
  {
   "cell_type": "markdown",
   "metadata": {},
   "source": [
    "我們要改 index 的名字, 為了偷懶, 練習一下快速生字串的 list 方法。"
   ]
  },
  {
   "cell_type": "code",
   "execution_count": 13,
   "metadata": {
    "collapsed": false
   },
   "outputs": [
    {
     "data": {
      "text/plain": [
       "['A', 'B', 'C', 'D']"
      ]
     },
     "execution_count": 13,
     "metadata": {},
     "output_type": "execute_result"
    }
   ],
   "source": [
    "list('ABCD')"
   ]
  },
  {
   "cell_type": "markdown",
   "metadata": {},
   "source": [
    "正式把我們 Series 的 index 改成 A, B, C, ..."
   ]
  },
  {
   "cell_type": "code",
   "execution_count": 14,
   "metadata": {
    "collapsed": true
   },
   "outputs": [],
   "source": [
    "ser.index = list('ABCDEFGHIJKLM')"
   ]
  },
  {
   "cell_type": "code",
   "execution_count": 15,
   "metadata": {
    "collapsed": false
   },
   "outputs": [
    {
     "data": {
      "text/plain": [
       "A    -3.831521\n",
       "B    10.589824\n",
       "C     3.040337\n",
       "D     1.410122\n",
       "E     6.797344\n",
       "F    15.300367\n",
       "G    10.702058\n",
       "H    12.225541\n",
       "I    17.611486\n",
       "J     9.407738\n",
       "K     9.061187\n",
       "L     9.898380\n",
       "M     3.287793\n",
       "dtype: float64"
      ]
     },
     "execution_count": 15,
     "metadata": {},
     "output_type": "execute_result"
    }
   ],
   "source": [
    "ser"
   ]
  },
  {
   "cell_type": "markdown",
   "metadata": {},
   "source": [
    "取出某個 index 的資料。"
   ]
  },
  {
   "cell_type": "code",
   "execution_count": 16,
   "metadata": {
    "collapsed": false
   },
   "outputs": [
    {
     "data": {
      "text/plain": [
       "6.7973437176022689"
      ]
     },
     "execution_count": 16,
     "metadata": {},
     "output_type": "execute_result"
    }
   ],
   "source": [
    "ser['E']"
   ]
  },
  {
   "cell_type": "markdown",
   "metadata": {},
   "source": [
    "甚至可以指定某一段。"
   ]
  },
  {
   "cell_type": "code",
   "execution_count": 17,
   "metadata": {
    "collapsed": false
   },
   "outputs": [
    {
     "data": {
      "text/plain": [
       "E     6.797344\n",
       "F    15.300367\n",
       "G    10.702058\n",
       "H    12.225541\n",
       "I    17.611486\n",
       "J     9.407738\n",
       "K     9.061187\n",
       "dtype: float64"
      ]
     },
     "execution_count": 17,
     "metadata": {},
     "output_type": "execute_result"
    }
   ],
   "source": [
    "ser['E':'K']"
   ]
  },
  {
   "cell_type": "markdown",
   "metadata": {},
   "source": [
    "最後可以畫出來。"
   ]
  },
  {
   "cell_type": "code",
   "execution_count": 18,
   "metadata": {
    "collapsed": false
   },
   "outputs": [
    {
     "data": {
      "text/plain": [
       "<matplotlib.axes.AxesSubplot at 0x107ff8950>"
      ]
     },
     "execution_count": 18,
     "metadata": {},
     "output_type": "execute_result"
    },
    {
     "data": {
      "image/png": "[encoded data removed]",
      "text/plain": [
       "<matplotlib.figure.Figure at 0x107ff8210>"
      ]
     },
     "metadata": {},
     "output_type": "display_data"
    }
   ],
   "source": [
    "ser.plot()"
   ]
  },
  {
   "cell_type": "markdown",
   "metadata": {},
   "source": [
    "### 造 Series 練習二"
   ]
  },
  {
   "cell_type": "code",
   "execution_count": 19,
   "metadata": {
    "collapsed": true
   },
   "outputs": [],
   "source": [
    "S2 = pd.Series([2,3,4,1,1,5], index=list('ABCDEF'))"
   ]
  },
  {
   "cell_type": "code",
   "execution_count": 20,
   "metadata": {
    "collapsed": false
   },
   "outputs": [
    {
     "data": {
      "text/plain": [
       "A    2\n",
       "B    3\n",
       "C    4\n",
       "D    1\n",
       "E    1\n",
       "F    5\n",
       "dtype: int64"
      ]
     },
     "execution_count": 20,
     "metadata": {},
     "output_type": "execute_result"
    }
   ],
   "source": [
    "S2"
   ]
  },
  {
   "cell_type": "markdown",
   "metadata": {},
   "source": [
    "## DataFrame!!\n",
    "\n",
    "Data Frame 基本上就是一個表格。"
   ]
  },
  {
   "cell_type": "markdown",
   "metadata": {},
   "source": [
    "## [練習] 做一個二維陣列"
   ]
  },
  {
   "cell_type": "markdown",
   "metadata": {},
   "source": [
    "### 方法一: normal"
   ]
  },
  {
   "cell_type": "code",
   "execution_count": 21,
   "metadata": {
    "collapsed": false
   },
   "outputs": [
    {
     "data": {
      "text/plain": [
       "array([[ 2.39052334, -2.14455165, -4.3226943 , -1.2047405 ],\n",
       "       [ 3.11084359,  8.02324608,  2.20469135,  1.36463084],\n",
       "       [ 4.56491122,  3.07682141,  3.5084436 ,  4.58188764],\n",
       "       [ 2.68203311, -0.43791957, -3.21937878,  4.25971568],\n",
       "       [-3.44465989,  4.06874384,  2.33237019,  4.76860168]])"
      ]
     },
     "execution_count": 21,
     "metadata": {},
     "output_type": "execute_result"
    }
   ],
   "source": [
    "normal(2,3,(5,4))"
   ]
  },
  {
   "cell_type": "markdown",
   "metadata": {},
   "source": [
    "### 方法二: randn\n",
    "\n",
    "基本上是特别的 normal。"
   ]
  },
  {
   "cell_type": "code",
   "execution_count": 22,
   "metadata": {
    "collapsed": true
   },
   "outputs": [],
   "source": [
    "arr0 = randn(6,7)"
   ]
  },
  {
   "cell_type": "code",
   "execution_count": 23,
   "metadata": {
    "collapsed": false
   },
   "outputs": [
    {
     "data": {
      "text/plain": [
       "array([[-0.43206935,  0.60263602, -1.05747096,  0.39522348, -0.53975891,\n",
       "        -0.82171982,  0.67553566],\n",
       "       [-0.57388933, -0.15522805,  0.22987757,  0.49715398, -0.63717548,\n",
       "        -0.95522604,  1.06892252],\n",
       "       [-1.86278505,  1.44081186,  1.45385448, -1.03062483,  0.41379501,\n",
       "        -0.1976573 ,  0.47491968],\n",
       "       [-0.42105185, -1.81222883, -0.55783682, -1.71417921, -0.55427406,\n",
       "         0.77609374,  0.17825494],\n",
       "       [ 1.20545153, -1.71892456, -3.30843754,  0.77559551, -1.15191526,\n",
       "        -0.33872592,  1.02649355],\n",
       "       [ 0.49432307, -0.83160426, -1.20624109, -2.83185474, -1.20292408,\n",
       "        -1.18487958,  0.74775975]])"
      ]
     },
     "execution_count": 23,
     "metadata": {},
     "output_type": "execute_result"
    }
   ],
   "source": [
    "arr0"
   ]
  },
  {
   "cell_type": "markdown",
   "metadata": {},
   "source": [
    "### 方法三: rand"
   ]
  },
  {
   "cell_type": "code",
   "execution_count": 24,
   "metadata": {
    "collapsed": false
   },
   "outputs": [
    {
     "data": {
      "text/plain": [
       "array([[ 0.52799057,  0.55821816,  0.23092968,  0.62855781],\n",
       "       [ 0.28640499,  0.93066452,  0.39212503,  0.64590585],\n",
       "       [ 0.71311304,  0.13943435,  0.5651599 ,  0.98201804],\n",
       "       [ 0.89681077,  0.51512166,  0.9250718 ,  0.3040044 ],\n",
       "       [ 0.196674  ,  0.64475508,  0.03425562,  0.08370304]])"
      ]
     },
     "execution_count": 24,
     "metadata": {},
     "output_type": "execute_result"
    }
   ],
   "source": [
    "rand(5,4)"
   ]
  },
  {
   "cell_type": "markdown",
   "metadata": {},
   "source": [
    "### 方法四: 什麼都自己打"
   ]
  },
  {
   "cell_type": "code",
   "execution_count": 25,
   "metadata": {
    "collapsed": true
   },
   "outputs": [],
   "source": [
    "arr = array([[1,2,3],[4,5,6]])"
   ]
  },
  {
   "cell_type": "code",
   "execution_count": 26,
   "metadata": {
    "collapsed": false
   },
   "outputs": [
    {
     "data": {
      "text/plain": [
       "array([[1, 2, 3],\n",
       "       [4, 5, 6]])"
      ]
     },
     "execution_count": 26,
     "metadata": {},
     "output_type": "execute_result"
    }
   ],
   "source": [
    "arr"
   ]
  },
  {
   "cell_type": "markdown",
   "metadata": {},
   "source": [
    "## [練習] 二維陣列就差不多是 DataFrame"
   ]
  },
  {
   "cell_type": "markdown",
   "metadata": {},
   "source": [
    "### 例子一"
   ]
  },
  {
   "cell_type": "code",
   "execution_count": 27,
   "metadata": {
    "collapsed": true
   },
   "outputs": [],
   "source": [
    "arr = normal(70,10,(5,3))"
   ]
  },
  {
   "cell_type": "code",
   "execution_count": 28,
   "metadata": {
    "collapsed": false
   },
   "outputs": [
    {
     "data": {
      "text/plain": [
       "array([[ 69.57291704,  65.47193597,  51.26937633],\n",
       "       [ 73.06813008,  51.8044316 ,  66.89776985],\n",
       "       [ 68.96395916,  80.22599173,  43.31713223],\n",
       "       [ 68.54917883,  81.44915238,  66.94396569],\n",
       "       [ 72.3164054 ,  61.99554739,  77.98259158]])"
      ]
     },
     "execution_count": 28,
     "metadata": {},
     "output_type": "execute_result"
    }
   ],
   "source": [
    "arr"
   ]
  },
  {
   "cell_type": "code",
   "execution_count": 29,
   "metadata": {
    "collapsed": true
   },
   "outputs": [],
   "source": [
    "df = pd.DataFrame(arr)"
   ]
  },
  {
   "cell_type": "code",
   "execution_count": 30,
   "metadata": {
    "collapsed": false
   },
   "outputs": [
    {
     "data": {
      "text/html": [
       "<div style=\"max-height:1000px;max-width:1500px;overflow:auto;\">\n",
       "<table border=\"1\" class=\"dataframe\">\n",
       "  <thead>\n",
       "    <tr style=\"text-align: right;\">\n",
       "      <th></th>\n",
       "      <th>0</th>\n",
       "      <th>1</th>\n",
       "      <th>2</th>\n",
       "    </tr>\n",
       "  </thead>\n",
       "  <tbody>\n",
       "    <tr>\n",
       "      <th>0</th>\n",
       "      <td> 69.572917</td>\n",
       "      <td> 65.471936</td>\n",
       "      <td> 51.269376</td>\n",
       "    </tr>\n",
       "    <tr>\n",
       "      <th>1</th>\n",
       "      <td> 73.068130</td>\n",
       "      <td> 51.804432</td>\n",
       "      <td> 66.897770</td>\n",
       "    </tr>\n",
       "    <tr>\n",
       "      <th>2</th>\n",
       "      <td> 68.963959</td>\n",
       "      <td> 80.225992</td>\n",
       "      <td> 43.317132</td>\n",
       "    </tr>\n",
       "    <tr>\n",
       "      <th>3</th>\n",
       "      <td> 68.549179</td>\n",
       "      <td> 81.449152</td>\n",
       "      <td> 66.943966</td>\n",
       "    </tr>\n",
       "    <tr>\n",
       "      <th>4</th>\n",
       "      <td> 72.316405</td>\n",
       "      <td> 61.995547</td>\n",
       "      <td> 77.982592</td>\n",
       "    </tr>\n",
       "  </tbody>\n",
       "</table>\n",
       "<p>5 rows × 3 columns</p>\n",
       "</div>"
      ],
      "text/plain": [
       "           0          1          2\n",
       "0  69.572917  65.471936  51.269376\n",
       "1  73.068130  51.804432  66.897770\n",
       "2  68.963959  80.225992  43.317132\n",
       "3  68.549179  81.449152  66.943966\n",
       "4  72.316405  61.995547  77.982592\n",
       "\n",
       "[5 rows x 3 columns]"
      ]
     },
     "execution_count": 30,
     "metadata": {},
     "output_type": "execute_result"
    }
   ],
   "source": [
    "df"
   ]
  },
  {
   "cell_type": "markdown",
   "metadata": {},
   "source": [
    "index 名稱當然可以改的 (順變秀 Python 3)。"
   ]
  },
  {
   "cell_type": "code",
   "execution_count": 31,
   "metadata": {
    "collapsed": true
   },
   "outputs": [],
   "source": [
    "df.index = ['α', 'β', 'γ', 'ω', 'ζ']"
   ]
  },
  {
   "cell_type": "code",
   "execution_count": 32,
   "metadata": {
    "collapsed": false
   },
   "outputs": [
    {
     "data": {
      "text/html": [
       "<div style=\"max-height:1000px;max-width:1500px;overflow:auto;\">\n",
       "<table border=\"1\" class=\"dataframe\">\n",
       "  <thead>\n",
       "    <tr style=\"text-align: right;\">\n",
       "      <th></th>\n",
       "      <th>0</th>\n",
       "      <th>1</th>\n",
       "      <th>2</th>\n",
       "    </tr>\n",
       "  </thead>\n",
       "  <tbody>\n",
       "    <tr>\n",
       "      <th>α</th>\n",
       "      <td> 69.572917</td>\n",
       "      <td> 65.471936</td>\n",
       "      <td> 51.269376</td>\n",
       "    </tr>\n",
       "    <tr>\n",
       "      <th>β</th>\n",
       "      <td> 73.068130</td>\n",
       "      <td> 51.804432</td>\n",
       "      <td> 66.897770</td>\n",
       "    </tr>\n",
       "    <tr>\n",
       "      <th>γ</th>\n",
       "      <td> 68.963959</td>\n",
       "      <td> 80.225992</td>\n",
       "      <td> 43.317132</td>\n",
       "    </tr>\n",
       "    <tr>\n",
       "      <th>ω</th>\n",
       "      <td> 68.549179</td>\n",
       "      <td> 81.449152</td>\n",
       "      <td> 66.943966</td>\n",
       "    </tr>\n",
       "    <tr>\n",
       "      <th>ζ</th>\n",
       "      <td> 72.316405</td>\n",
       "      <td> 61.995547</td>\n",
       "      <td> 77.982592</td>\n",
       "    </tr>\n",
       "  </tbody>\n",
       "</table>\n",
       "<p>5 rows × 3 columns</p>\n",
       "</div>"
      ],
      "text/plain": [
       "           0          1          2\n",
       "α  69.572917  65.471936  51.269376\n",
       "β  73.068130  51.804432  66.897770\n",
       "γ  68.963959  80.225992  43.317132\n",
       "ω  68.549179  81.449152  66.943966\n",
       "ζ  72.316405  61.995547  77.982592\n",
       "\n",
       "[5 rows x 3 columns]"
      ]
     },
     "execution_count": 32,
     "metadata": {},
     "output_type": "execute_result"
    }
   ],
   "source": [
    "df"
   ]
  },
  {
   "cell_type": "markdown",
   "metadata": {},
   "source": [
    "行的名稱也可以自己訂。"
   ]
  },
  {
   "cell_type": "code",
   "execution_count": 33,
   "metadata": {
    "collapsed": true
   },
   "outputs": [],
   "source": [
    "df.columns = [\"A\", \"B\", \"C\"]"
   ]
  },
  {
   "cell_type": "code",
   "execution_count": 34,
   "metadata": {
    "collapsed": false
   },
   "outputs": [
    {
     "data": {
      "text/html": [
       "<div style=\"max-height:1000px;max-width:1500px;overflow:auto;\">\n",
       "<table border=\"1\" class=\"dataframe\">\n",
       "  <thead>\n",
       "    <tr style=\"text-align: right;\">\n",
       "      <th></th>\n",
       "      <th>A</th>\n",
       "      <th>B</th>\n",
       "      <th>C</th>\n",
       "    </tr>\n",
       "  </thead>\n",
       "  <tbody>\n",
       "    <tr>\n",
       "      <th>α</th>\n",
       "      <td> 69.572917</td>\n",
       "      <td> 65.471936</td>\n",
       "      <td> 51.269376</td>\n",
       "    </tr>\n",
       "    <tr>\n",
       "      <th>β</th>\n",
       "      <td> 73.068130</td>\n",
       "      <td> 51.804432</td>\n",
       "      <td> 66.897770</td>\n",
       "    </tr>\n",
       "    <tr>\n",
       "      <th>γ</th>\n",
       "      <td> 68.963959</td>\n",
       "      <td> 80.225992</td>\n",
       "      <td> 43.317132</td>\n",
       "    </tr>\n",
       "    <tr>\n",
       "      <th>ω</th>\n",
       "      <td> 68.549179</td>\n",
       "      <td> 81.449152</td>\n",
       "      <td> 66.943966</td>\n",
       "    </tr>\n",
       "    <tr>\n",
       "      <th>ζ</th>\n",
       "      <td> 72.316405</td>\n",
       "      <td> 61.995547</td>\n",
       "      <td> 77.982592</td>\n",
       "    </tr>\n",
       "  </tbody>\n",
       "</table>\n",
       "<p>5 rows × 3 columns</p>\n",
       "</div>"
      ],
      "text/plain": [
       "           A          B          C\n",
       "α  69.572917  65.471936  51.269376\n",
       "β  73.068130  51.804432  66.897770\n",
       "γ  68.963959  80.225992  43.317132\n",
       "ω  68.549179  81.449152  66.943966\n",
       "ζ  72.316405  61.995547  77.982592\n",
       "\n",
       "[5 rows x 3 columns]"
      ]
     },
     "execution_count": 34,
     "metadata": {},
     "output_type": "execute_result"
    }
   ],
   "source": [
    "df"
   ]
  },
  {
   "cell_type": "markdown",
   "metadata": {},
   "source": [
    "叫出其中一行。"
   ]
  },
  {
   "cell_type": "code",
   "execution_count": 35,
   "metadata": {
    "collapsed": false
   },
   "outputs": [
    {
     "data": {
      "text/plain": [
       "α    69.572917\n",
       "β    73.068130\n",
       "γ    68.963959\n",
       "ω    68.549179\n",
       "ζ    72.316405\n",
       "Name: A, dtype: float64"
      ]
     },
     "execution_count": 35,
     "metadata": {},
     "output_type": "execute_result"
    }
   ],
   "source": [
    "df['A']"
   ]
  },
  {
   "cell_type": "markdown",
   "metadata": {},
   "source": [
    "一次要兩行。"
   ]
  },
  {
   "cell_type": "code",
   "execution_count": 36,
   "metadata": {
    "collapsed": false
   },
   "outputs": [
    {
     "data": {
      "text/html": [
       "<div style=\"max-height:1000px;max-width:1500px;overflow:auto;\">\n",
       "<table border=\"1\" class=\"dataframe\">\n",
       "  <thead>\n",
       "    <tr style=\"text-align: right;\">\n",
       "      <th></th>\n",
       "      <th>A</th>\n",
       "      <th>B</th>\n",
       "    </tr>\n",
       "  </thead>\n",
       "  <tbody>\n",
       "    <tr>\n",
       "      <th>α</th>\n",
       "      <td> 69.572917</td>\n",
       "      <td> 65.471936</td>\n",
       "    </tr>\n",
       "    <tr>\n",
       "      <th>β</th>\n",
       "      <td> 73.068130</td>\n",
       "      <td> 51.804432</td>\n",
       "    </tr>\n",
       "    <tr>\n",
       "      <th>γ</th>\n",
       "      <td> 68.963959</td>\n",
       "      <td> 80.225992</td>\n",
       "    </tr>\n",
       "    <tr>\n",
       "      <th>ω</th>\n",
       "      <td> 68.549179</td>\n",
       "      <td> 81.449152</td>\n",
       "    </tr>\n",
       "    <tr>\n",
       "      <th>ζ</th>\n",
       "      <td> 72.316405</td>\n",
       "      <td> 61.995547</td>\n",
       "    </tr>\n",
       "  </tbody>\n",
       "</table>\n",
       "<p>5 rows × 2 columns</p>\n",
       "</div>"
      ],
      "text/plain": [
       "           A          B\n",
       "α  69.572917  65.471936\n",
       "β  73.068130  51.804432\n",
       "γ  68.963959  80.225992\n",
       "ω  68.549179  81.449152\n",
       "ζ  72.316405  61.995547\n",
       "\n",
       "[5 rows x 2 columns]"
      ]
     },
     "execution_count": 36,
     "metadata": {},
     "output_type": "execute_result"
    }
   ],
   "source": [
    "df[['A','B']]"
   ]
  },
  {
   "cell_type": "markdown",
   "metadata": {},
   "source": [
    "### 例子二\n",
    "\n",
    "注意我們做出一個二維陣列 (矩陣) 基本上就差不多做好一個 Data Frame。"
   ]
  },
  {
   "cell_type": "code",
   "execution_count": 37,
   "metadata": {
    "collapsed": false
   },
   "outputs": [
    {
     "data": {
      "text/plain": [
       "array([[  9.82753532,   3.87903792,  10.78131662,  14.71918456],\n",
       "       [ 13.7974515 ,  10.56480201,  12.8088856 ,  10.21629421],\n",
       "       [  7.77815093,   7.49206825,  10.17762424,  10.31902046]])"
      ]
     },
     "execution_count": 37,
     "metadata": {},
     "output_type": "execute_result"
    }
   ],
   "source": [
    "normal(10,3,(3,4))"
   ]
  },
  {
   "cell_type": "code",
   "execution_count": 38,
   "metadata": {
    "collapsed": false
   },
   "outputs": [],
   "source": [
    "df=pd.DataFrame(normal(10,3,(3,4)))"
   ]
  },
  {
   "cell_type": "code",
   "execution_count": 39,
   "metadata": {
    "collapsed": false
   },
   "outputs": [
    {
     "data": {
      "text/html": [
       "<div style=\"max-height:1000px;max-width:1500px;overflow:auto;\">\n",
       "<table border=\"1\" class=\"dataframe\">\n",
       "  <thead>\n",
       "    <tr style=\"text-align: right;\">\n",
       "      <th></th>\n",
       "      <th>0</th>\n",
       "      <th>1</th>\n",
       "      <th>2</th>\n",
       "      <th>3</th>\n",
       "    </tr>\n",
       "  </thead>\n",
       "  <tbody>\n",
       "    <tr>\n",
       "      <th>0</th>\n",
       "      <td> 18.682170</td>\n",
       "      <td>  9.974738</td>\n",
       "      <td> 10.605382</td>\n",
       "      <td> 10.264553</td>\n",
       "    </tr>\n",
       "    <tr>\n",
       "      <th>1</th>\n",
       "      <td>  6.407621</td>\n",
       "      <td> 12.729326</td>\n",
       "      <td>  7.403842</td>\n",
       "      <td> 12.068868</td>\n",
       "    </tr>\n",
       "    <tr>\n",
       "      <th>2</th>\n",
       "      <td>  9.036053</td>\n",
       "      <td> 16.739524</td>\n",
       "      <td>  9.080593</td>\n",
       "      <td>  6.379663</td>\n",
       "    </tr>\n",
       "  </tbody>\n",
       "</table>\n",
       "<p>3 rows × 4 columns</p>\n",
       "</div>"
      ],
      "text/plain": [
       "           0          1          2          3\n",
       "0  18.682170   9.974738  10.605382  10.264553\n",
       "1   6.407621  12.729326   7.403842  12.068868\n",
       "2   9.036053  16.739524   9.080593   6.379663\n",
       "\n",
       "[3 rows x 4 columns]"
      ]
     },
     "execution_count": 39,
     "metadata": {},
     "output_type": "execute_result"
    }
   ],
   "source": [
    "df"
   ]
  },
  {
   "cell_type": "markdown",
   "metadata": {},
   "source": [
    "再一次, 改 index 名稱。"
   ]
  },
  {
   "cell_type": "code",
   "execution_count": 40,
   "metadata": {
    "collapsed": true
   },
   "outputs": [],
   "source": [
    "df.index=('apple','orange','boy')"
   ]
  },
  {
   "cell_type": "code",
   "execution_count": 41,
   "metadata": {
    "collapsed": false
   },
   "outputs": [
    {
     "data": {
      "text/html": [
       "<div style=\"max-height:1000px;max-width:1500px;overflow:auto;\">\n",
       "<table border=\"1\" class=\"dataframe\">\n",
       "  <thead>\n",
       "    <tr style=\"text-align: right;\">\n",
       "      <th></th>\n",
       "      <th>0</th>\n",
       "      <th>1</th>\n",
       "      <th>2</th>\n",
       "      <th>3</th>\n",
       "    </tr>\n",
       "  </thead>\n",
       "  <tbody>\n",
       "    <tr>\n",
       "      <th>apple</th>\n",
       "      <td> 18.682170</td>\n",
       "      <td>  9.974738</td>\n",
       "      <td> 10.605382</td>\n",
       "      <td> 10.264553</td>\n",
       "    </tr>\n",
       "    <tr>\n",
       "      <th>orange</th>\n",
       "      <td>  6.407621</td>\n",
       "      <td> 12.729326</td>\n",
       "      <td>  7.403842</td>\n",
       "      <td> 12.068868</td>\n",
       "    </tr>\n",
       "    <tr>\n",
       "      <th>boy</th>\n",
       "      <td>  9.036053</td>\n",
       "      <td> 16.739524</td>\n",
       "      <td>  9.080593</td>\n",
       "      <td>  6.379663</td>\n",
       "    </tr>\n",
       "  </tbody>\n",
       "</table>\n",
       "<p>3 rows × 4 columns</p>\n",
       "</div>"
      ],
      "text/plain": [
       "                0          1          2          3\n",
       "apple   18.682170   9.974738  10.605382  10.264553\n",
       "orange   6.407621  12.729326   7.403842  12.068868\n",
       "boy      9.036053  16.739524   9.080593   6.379663\n",
       "\n",
       "[3 rows x 4 columns]"
      ]
     },
     "execution_count": 41,
     "metadata": {},
     "output_type": "execute_result"
    }
   ],
   "source": [
    "df"
   ]
  },
  {
   "cell_type": "markdown",
   "metadata": {},
   "source": [
    "改行的名稱。"
   ]
  },
  {
   "cell_type": "code",
   "execution_count": 42,
   "metadata": {
    "collapsed": true
   },
   "outputs": [],
   "source": [
    "df.columns = ['第一季', '第二季', '第三季', '第四季']"
   ]
  },
  {
   "cell_type": "code",
   "execution_count": 43,
   "metadata": {
    "collapsed": false
   },
   "outputs": [
    {
     "data": {
      "text/html": [
       "<div style=\"max-height:1000px;max-width:1500px;overflow:auto;\">\n",
       "<table border=\"1\" class=\"dataframe\">\n",
       "  <thead>\n",
       "    <tr style=\"text-align: right;\">\n",
       "      <th></th>\n",
       "      <th>第一季</th>\n",
       "      <th>第二季</th>\n",
       "      <th>第三季</th>\n",
       "      <th>第四季</th>\n",
       "    </tr>\n",
       "  </thead>\n",
       "  <tbody>\n",
       "    <tr>\n",
       "      <th>apple</th>\n",
       "      <td> 18.682170</td>\n",
       "      <td>  9.974738</td>\n",
       "      <td> 10.605382</td>\n",
       "      <td> 10.264553</td>\n",
       "    </tr>\n",
       "    <tr>\n",
       "      <th>orange</th>\n",
       "      <td>  6.407621</td>\n",
       "      <td> 12.729326</td>\n",
       "      <td>  7.403842</td>\n",
       "      <td> 12.068868</td>\n",
       "    </tr>\n",
       "    <tr>\n",
       "      <th>boy</th>\n",
       "      <td>  9.036053</td>\n",
       "      <td> 16.739524</td>\n",
       "      <td>  9.080593</td>\n",
       "      <td>  6.379663</td>\n",
       "    </tr>\n",
       "  </tbody>\n",
       "</table>\n",
       "<p>3 rows × 4 columns</p>\n",
       "</div>"
      ],
      "text/plain": [
       "              第一季        第二季        第三季        第四季\n",
       "apple   18.682170   9.974738  10.605382  10.264553\n",
       "orange   6.407621  12.729326   7.403842  12.068868\n",
       "boy      9.036053  16.739524   9.080593   6.379663\n",
       "\n",
       "[3 rows x 4 columns]"
      ]
     },
     "execution_count": 43,
     "metadata": {},
     "output_type": "execute_result"
    }
   ],
   "source": [
    "df"
   ]
  },
  {
   "cell_type": "markdown",
   "metadata": {},
   "source": [
    "### [重點]\n",
    "每次 Data Frame 選出一部份, 基本上就是一個新的 Data Frame! 這個概念我們會一直使用。"
   ]
  },
  {
   "cell_type": "code",
   "execution_count": 44,
   "metadata": {
    "collapsed": false
   },
   "outputs": [],
   "source": [
    "df2 = df[['第二季', '第四季']]"
   ]
  },
  {
   "cell_type": "code",
   "execution_count": 45,
   "metadata": {
    "collapsed": false
   },
   "outputs": [
    {
     "data": {
      "text/html": [
       "<div style=\"max-height:1000px;max-width:1500px;overflow:auto;\">\n",
       "<table border=\"1\" class=\"dataframe\">\n",
       "  <thead>\n",
       "    <tr style=\"text-align: right;\">\n",
       "      <th></th>\n",
       "      <th>第二季</th>\n",
       "      <th>第四季</th>\n",
       "    </tr>\n",
       "  </thead>\n",
       "  <tbody>\n",
       "    <tr>\n",
       "      <th>apple</th>\n",
       "      <td>  9.974738</td>\n",
       "      <td> 10.264553</td>\n",
       "    </tr>\n",
       "    <tr>\n",
       "      <th>orange</th>\n",
       "      <td> 12.729326</td>\n",
       "      <td> 12.068868</td>\n",
       "    </tr>\n",
       "    <tr>\n",
       "      <th>boy</th>\n",
       "      <td> 16.739524</td>\n",
       "      <td>  6.379663</td>\n",
       "    </tr>\n",
       "  </tbody>\n",
       "</table>\n",
       "<p>3 rows × 2 columns</p>\n",
       "</div>"
      ],
      "text/plain": [
       "              第二季        第四季\n",
       "apple    9.974738  10.264553\n",
       "orange  12.729326  12.068868\n",
       "boy     16.739524   6.379663\n",
       "\n",
       "[3 rows x 2 columns]"
      ]
     },
     "execution_count": 45,
     "metadata": {},
     "output_type": "execute_result"
    }
   ],
   "source": [
    "df2"
   ]
  },
  {
   "cell_type": "code",
   "execution_count": 46,
   "metadata": {
    "collapsed": true
   },
   "outputs": [],
   "source": [
    "df2.columns = ['A', 'B']"
   ]
  },
  {
   "cell_type": "code",
   "execution_count": 47,
   "metadata": {
    "collapsed": false
   },
   "outputs": [
    {
     "data": {
      "text/html": [
       "<div style=\"max-height:1000px;max-width:1500px;overflow:auto;\">\n",
       "<table border=\"1\" class=\"dataframe\">\n",
       "  <thead>\n",
       "    <tr style=\"text-align: right;\">\n",
       "      <th></th>\n",
       "      <th>A</th>\n",
       "      <th>B</th>\n",
       "    </tr>\n",
       "  </thead>\n",
       "  <tbody>\n",
       "    <tr>\n",
       "      <th>apple</th>\n",
       "      <td>  9.974738</td>\n",
       "      <td> 10.264553</td>\n",
       "    </tr>\n",
       "    <tr>\n",
       "      <th>orange</th>\n",
       "      <td> 12.729326</td>\n",
       "      <td> 12.068868</td>\n",
       "    </tr>\n",
       "    <tr>\n",
       "      <th>boy</th>\n",
       "      <td> 16.739524</td>\n",
       "      <td>  6.379663</td>\n",
       "    </tr>\n",
       "  </tbody>\n",
       "</table>\n",
       "<p>3 rows × 2 columns</p>\n",
       "</div>"
      ],
      "text/plain": [
       "                A          B\n",
       "apple    9.974738  10.264553\n",
       "orange  12.729326  12.068868\n",
       "boy     16.739524   6.379663\n",
       "\n",
       "[3 rows x 2 columns]"
      ]
     },
     "execution_count": 47,
     "metadata": {},
     "output_type": "execute_result"
    }
   ],
   "source": [
    "df2"
   ]
  },
  {
   "cell_type": "markdown",
   "metadata": {},
   "source": [
    "叫出一行是這樣做。"
   ]
  },
  {
   "cell_type": "code",
   "execution_count": 48,
   "metadata": {
    "collapsed": false
   },
   "outputs": [
    {
     "data": {
      "text/plain": [
       "apple      9.974738\n",
       "orange    12.729326\n",
       "boy       16.739524\n",
       "Name: A, dtype: float64"
      ]
     },
     "execution_count": 48,
     "metadata": {},
     "output_type": "execute_result"
    }
   ],
   "source": [
    "df2['A']"
   ]
  },
  {
   "cell_type": "markdown",
   "metadata": {},
   "source": [
    "叫出一列則要用 <b style=\"color:red;\">ix</b>。"
   ]
  },
  {
   "cell_type": "code",
   "execution_count": 49,
   "metadata": {
    "collapsed": false
   },
   "outputs": [
    {
     "data": {
      "text/plain": [
       "A     9.974738\n",
       "B    10.264553\n",
       "Name: apple, dtype: float64"
      ]
     },
     "execution_count": 49,
     "metadata": {},
     "output_type": "execute_result"
    }
   ],
   "source": [
    "df2.ix['apple']"
   ]
  },
  {
   "cell_type": "code",
   "execution_count": 50,
   "metadata": {
    "collapsed": false
   },
   "outputs": [
    {
     "data": {
      "text/html": [
       "<div style=\"max-height:1000px;max-width:1500px;overflow:auto;\">\n",
       "<table border=\"1\" class=\"dataframe\">\n",
       "  <thead>\n",
       "    <tr style=\"text-align: right;\">\n",
       "      <th></th>\n",
       "      <th>A</th>\n",
       "      <th>B</th>\n",
       "    </tr>\n",
       "  </thead>\n",
       "  <tbody>\n",
       "    <tr>\n",
       "      <th>apple</th>\n",
       "      <td>  9.974738</td>\n",
       "      <td> 10.264553</td>\n",
       "    </tr>\n",
       "    <tr>\n",
       "      <th>orange</th>\n",
       "      <td> 12.729326</td>\n",
       "      <td> 12.068868</td>\n",
       "    </tr>\n",
       "  </tbody>\n",
       "</table>\n",
       "<p>2 rows × 2 columns</p>\n",
       "</div>"
      ],
      "text/plain": [
       "                A          B\n",
       "apple    9.974738  10.264553\n",
       "orange  12.729326  12.068868\n",
       "\n",
       "[2 rows x 2 columns]"
      ]
     },
     "execution_count": 50,
     "metadata": {},
     "output_type": "execute_result"
    }
   ],
   "source": [
    "df2.ix['apple':'orange']"
   ]
  },
  {
   "cell_type": "code",
   "execution_count": 51,
   "metadata": {
    "collapsed": false
   },
   "outputs": [
    {
     "data": {
      "text/html": [
       "<div style=\"max-height:1000px;max-width:1500px;overflow:auto;\">\n",
       "<table border=\"1\" class=\"dataframe\">\n",
       "  <thead>\n",
       "    <tr style=\"text-align: right;\">\n",
       "      <th></th>\n",
       "      <th>第一季</th>\n",
       "      <th>第二季</th>\n",
       "      <th>第三季</th>\n",
       "      <th>第四季</th>\n",
       "    </tr>\n",
       "  </thead>\n",
       "  <tbody>\n",
       "    <tr>\n",
       "      <th>apple</th>\n",
       "      <td> 18.682170</td>\n",
       "      <td>  9.974738</td>\n",
       "      <td> 10.605382</td>\n",
       "      <td> 10.264553</td>\n",
       "    </tr>\n",
       "    <tr>\n",
       "      <th>orange</th>\n",
       "      <td>  6.407621</td>\n",
       "      <td> 12.729326</td>\n",
       "      <td>  7.403842</td>\n",
       "      <td> 12.068868</td>\n",
       "    </tr>\n",
       "    <tr>\n",
       "      <th>boy</th>\n",
       "      <td>  9.036053</td>\n",
       "      <td> 16.739524</td>\n",
       "      <td>  9.080593</td>\n",
       "      <td>  6.379663</td>\n",
       "    </tr>\n",
       "  </tbody>\n",
       "</table>\n",
       "<p>3 rows × 4 columns</p>\n",
       "</div>"
      ],
      "text/plain": [
       "              第一季        第二季        第三季        第四季\n",
       "apple   18.682170   9.974738  10.605382  10.264553\n",
       "orange   6.407621  12.729326   7.403842  12.068868\n",
       "boy      9.036053  16.739524   9.080593   6.379663\n",
       "\n",
       "[3 rows x 4 columns]"
      ]
     },
     "execution_count": 51,
     "metadata": {},
     "output_type": "execute_result"
    }
   ],
   "source": [
    "df"
   ]
  },
  {
   "cell_type": "code",
   "execution_count": 52,
   "metadata": {
    "collapsed": true
   },
   "outputs": [],
   "source": [
    "df.columns = list('ABCD')"
   ]
  },
  {
   "cell_type": "code",
   "execution_count": 53,
   "metadata": {
    "collapsed": false
   },
   "outputs": [
    {
     "data": {
      "text/html": [
       "<div style=\"max-height:1000px;max-width:1500px;overflow:auto;\">\n",
       "<table border=\"1\" class=\"dataframe\">\n",
       "  <thead>\n",
       "    <tr style=\"text-align: right;\">\n",
       "      <th></th>\n",
       "      <th>A</th>\n",
       "      <th>B</th>\n",
       "      <th>C</th>\n",
       "      <th>D</th>\n",
       "    </tr>\n",
       "  </thead>\n",
       "  <tbody>\n",
       "    <tr>\n",
       "      <th>apple</th>\n",
       "      <td> 18.682170</td>\n",
       "      <td>  9.974738</td>\n",
       "      <td> 10.605382</td>\n",
       "      <td> 10.264553</td>\n",
       "    </tr>\n",
       "    <tr>\n",
       "      <th>orange</th>\n",
       "      <td>  6.407621</td>\n",
       "      <td> 12.729326</td>\n",
       "      <td>  7.403842</td>\n",
       "      <td> 12.068868</td>\n",
       "    </tr>\n",
       "    <tr>\n",
       "      <th>boy</th>\n",
       "      <td>  9.036053</td>\n",
       "      <td> 16.739524</td>\n",
       "      <td>  9.080593</td>\n",
       "      <td>  6.379663</td>\n",
       "    </tr>\n",
       "  </tbody>\n",
       "</table>\n",
       "<p>3 rows × 4 columns</p>\n",
       "</div>"
      ],
      "text/plain": [
       "                A          B          C          D\n",
       "apple   18.682170   9.974738  10.605382  10.264553\n",
       "orange   6.407621  12.729326   7.403842  12.068868\n",
       "boy      9.036053  16.739524   9.080593   6.379663\n",
       "\n",
       "[3 rows x 4 columns]"
      ]
     },
     "execution_count": 53,
     "metadata": {},
     "output_type": "execute_result"
    }
   ],
   "source": [
    "df"
   ]
  },
  {
   "cell_type": "code",
   "execution_count": 54,
   "metadata": {
    "collapsed": false
   },
   "outputs": [
    {
     "data": {
      "text/plain": [
       "<matplotlib.axes.AxesSubplot at 0x1080e3f50>"
      ]
     },
     "execution_count": 54,
     "metadata": {},
     "output_type": "execute_result"
    },
    {
     "data": {
      "image/png": "[encoded data removed]",
      "text/plain": [
       "<matplotlib.figure.Figure at 0x1080a5290>"
      ]
     },
     "metadata": {},
     "output_type": "display_data"
    }
   ],
   "source": [
    "df.plot()"
   ]
  },
  {
   "cell_type": "markdown",
   "metadata": {},
   "source": [
    "基本統計數據。"
   ]
  },
  {
   "cell_type": "code",
   "execution_count": 55,
   "metadata": {
    "collapsed": false
   },
   "outputs": [
    {
     "data": {
      "text/html": [
       "<div style=\"max-height:1000px;max-width:1500px;overflow:auto;\">\n",
       "<table border=\"1\" class=\"dataframe\">\n",
       "  <thead>\n",
       "    <tr style=\"text-align: right;\">\n",
       "      <th></th>\n",
       "      <th>A</th>\n",
       "      <th>B</th>\n",
       "      <th>C</th>\n",
       "      <th>D</th>\n",
       "    </tr>\n",
       "  </thead>\n",
       "  <tbody>\n",
       "    <tr>\n",
       "      <th>count</th>\n",
       "      <td>  3.000000</td>\n",
       "      <td>  3.000000</td>\n",
       "      <td>  3.000000</td>\n",
       "      <td>  3.000000</td>\n",
       "    </tr>\n",
       "    <tr>\n",
       "      <th>mean</th>\n",
       "      <td> 11.375281</td>\n",
       "      <td> 13.147863</td>\n",
       "      <td>  9.029939</td>\n",
       "      <td>  9.571028</td>\n",
       "    </tr>\n",
       "    <tr>\n",
       "      <th>std</th>\n",
       "      <td>  6.462982</td>\n",
       "      <td>  3.401759</td>\n",
       "      <td>  1.601371</td>\n",
       "      <td>  2.907318</td>\n",
       "    </tr>\n",
       "    <tr>\n",
       "      <th>min</th>\n",
       "      <td>  6.407621</td>\n",
       "      <td>  9.974738</td>\n",
       "      <td>  7.403842</td>\n",
       "      <td>  6.379663</td>\n",
       "    </tr>\n",
       "    <tr>\n",
       "      <th>25%</th>\n",
       "      <td>  7.721837</td>\n",
       "      <td> 11.352032</td>\n",
       "      <td>  8.242218</td>\n",
       "      <td>  8.322108</td>\n",
       "    </tr>\n",
       "    <tr>\n",
       "      <th>50%</th>\n",
       "      <td>  9.036053</td>\n",
       "      <td> 12.729326</td>\n",
       "      <td>  9.080593</td>\n",
       "      <td> 10.264553</td>\n",
       "    </tr>\n",
       "    <tr>\n",
       "      <th>75%</th>\n",
       "      <td> 13.859112</td>\n",
       "      <td> 14.734425</td>\n",
       "      <td>  9.842988</td>\n",
       "      <td> 11.166711</td>\n",
       "    </tr>\n",
       "    <tr>\n",
       "      <th>max</th>\n",
       "      <td> 18.682170</td>\n",
       "      <td> 16.739524</td>\n",
       "      <td> 10.605382</td>\n",
       "      <td> 12.068868</td>\n",
       "    </tr>\n",
       "  </tbody>\n",
       "</table>\n",
       "<p>8 rows × 4 columns</p>\n",
       "</div>"
      ],
      "text/plain": [
       "               A          B          C          D\n",
       "count   3.000000   3.000000   3.000000   3.000000\n",
       "mean   11.375281  13.147863   9.029939   9.571028\n",
       "std     6.462982   3.401759   1.601371   2.907318\n",
       "min     6.407621   9.974738   7.403842   6.379663\n",
       "25%     7.721837  11.352032   8.242218   8.322108\n",
       "50%     9.036053  12.729326   9.080593  10.264553\n",
       "75%    13.859112  14.734425   9.842988  11.166711\n",
       "max    18.682170  16.739524  10.605382  12.068868\n",
       "\n",
       "[8 rows x 4 columns]"
      ]
     },
     "execution_count": 55,
     "metadata": {},
     "output_type": "execute_result"
    }
   ],
   "source": [
    "df.describe()"
   ]
  },
  {
   "cell_type": "code",
   "execution_count": 56,
   "metadata": {
    "collapsed": false
   },
   "outputs": [
    {
     "data": {
      "text/html": [
       "<div style=\"max-height:1000px;max-width:1500px;overflow:auto;\">\n",
       "<table border=\"1\" class=\"dataframe\">\n",
       "  <thead>\n",
       "    <tr style=\"text-align: right;\">\n",
       "      <th></th>\n",
       "      <th>A</th>\n",
       "      <th>B</th>\n",
       "      <th>C</th>\n",
       "      <th>D</th>\n",
       "    </tr>\n",
       "  </thead>\n",
       "  <tbody>\n",
       "    <tr>\n",
       "      <th>apple</th>\n",
       "      <td> 18.682170</td>\n",
       "      <td>  9.974738</td>\n",
       "      <td> 10.605382</td>\n",
       "      <td> 10.264553</td>\n",
       "    </tr>\n",
       "    <tr>\n",
       "      <th>orange</th>\n",
       "      <td>  6.407621</td>\n",
       "      <td> 12.729326</td>\n",
       "      <td>  7.403842</td>\n",
       "      <td> 12.068868</td>\n",
       "    </tr>\n",
       "    <tr>\n",
       "      <th>boy</th>\n",
       "      <td>  9.036053</td>\n",
       "      <td> 16.739524</td>\n",
       "      <td>  9.080593</td>\n",
       "      <td>  6.379663</td>\n",
       "    </tr>\n",
       "  </tbody>\n",
       "</table>\n",
       "<p>3 rows × 4 columns</p>\n",
       "</div>"
      ],
      "text/plain": [
       "                A          B          C          D\n",
       "apple   18.682170   9.974738  10.605382  10.264553\n",
       "orange   6.407621  12.729326   7.403842  12.068868\n",
       "boy      9.036053  16.739524   9.080593   6.379663\n",
       "\n",
       "[3 rows x 4 columns]"
      ]
     },
     "execution_count": 56,
     "metadata": {},
     "output_type": "execute_result"
    }
   ],
   "source": [
    "df"
   ]
  },
  {
   "cell_type": "markdown",
   "metadata": {},
   "source": [
    "### 滿意就存!"
   ]
  },
  {
   "cell_type": "code",
   "execution_count": 57,
   "metadata": {
    "collapsed": true
   },
   "outputs": [],
   "source": [
    "df.to_csv('spam.csv')"
   ]
  },
  {
   "cell_type": "code",
   "execution_count": 58,
   "metadata": {
    "collapsed": false
   },
   "outputs": [
    {
     "name": "stdout",
     "output_type": "stream",
     "text": [
      "Class Notes 02.ipynb          README.md\r\n",
      "Class Notes 03.ipynb          Topic_Julia in IPython.ipynb\r\n",
      "Class Notes 04.ipynb          Topic_R in IPython.ipynb\r\n",
      "Class Notes 05.ipynb          spam.csv\r\n"
     ]
    }
   ],
   "source": [
    "ls"
   ]
  },
  {
   "cell_type": "code",
   "execution_count": 59,
   "metadata": {
    "collapsed": false
   },
   "outputs": [
    {
     "name": "stdout",
     "output_type": "stream",
     "text": [
      ",A,B,C,D\r\n",
      "apple,18.682170443321425,9.974737884013674,10.605382055996678,10.264552634622728\r\n",
      "orange,6.407620875127122,12.729326440337532,7.4038420241266865,12.068868398829657\r\n",
      "boy,9.03605288937573,16.739523973543534,9.08059347447978,6.379663253177169\r\n"
     ]
    }
   ],
   "source": [
    "!cat spam.csv"
   ]
  },
  {
   "cell_type": "markdown",
   "metadata": {},
   "source": [
    "### 一串的日子"
   ]
  },
  {
   "cell_type": "code",
   "execution_count": 60,
   "metadata": {
    "collapsed": false
   },
   "outputs": [],
   "source": [
    "dates = pd.date_range('2015-01-01', periods=10)"
   ]
  },
  {
   "cell_type": "code",
   "execution_count": 61,
   "metadata": {
    "collapsed": true
   },
   "outputs": [],
   "source": [
    "names = list('ABCD')"
   ]
  },
  {
   "cell_type": "code",
   "execution_count": 62,
   "metadata": {
    "collapsed": true
   },
   "outputs": [],
   "source": [
    "df = pd.DataFrame(randn(10,4), index=dates, columns=names)"
   ]
  },
  {
   "cell_type": "code",
   "execution_count": 63,
   "metadata": {
    "collapsed": false
   },
   "outputs": [
    {
     "data": {
      "text/html": [
       "<div style=\"max-height:1000px;max-width:1500px;overflow:auto;\">\n",
       "<table border=\"1\" class=\"dataframe\">\n",
       "  <thead>\n",
       "    <tr style=\"text-align: right;\">\n",
       "      <th></th>\n",
       "      <th>A</th>\n",
       "      <th>B</th>\n",
       "      <th>C</th>\n",
       "      <th>D</th>\n",
       "    </tr>\n",
       "  </thead>\n",
       "  <tbody>\n",
       "    <tr>\n",
       "      <th>2015-01-01</th>\n",
       "      <td> 1.414662</td>\n",
       "      <td>-0.461892</td>\n",
       "      <td> 0.241974</td>\n",
       "      <td>-0.403532</td>\n",
       "    </tr>\n",
       "    <tr>\n",
       "      <th>2015-01-02</th>\n",
       "      <td>-0.649703</td>\n",
       "      <td>-0.388180</td>\n",
       "      <td> 0.444474</td>\n",
       "      <td> 0.146423</td>\n",
       "    </tr>\n",
       "    <tr>\n",
       "      <th>2015-01-03</th>\n",
       "      <td>-0.223032</td>\n",
       "      <td>-2.264315</td>\n",
       "      <td> 1.672796</td>\n",
       "      <td>-1.517637</td>\n",
       "    </tr>\n",
       "    <tr>\n",
       "      <th>2015-01-04</th>\n",
       "      <td>-1.565544</td>\n",
       "      <td>-0.712975</td>\n",
       "      <td>-0.580609</td>\n",
       "      <td>-1.381075</td>\n",
       "    </tr>\n",
       "    <tr>\n",
       "      <th>2015-01-05</th>\n",
       "      <td>-1.678401</td>\n",
       "      <td>-0.444493</td>\n",
       "      <td>-0.149635</td>\n",
       "      <td> 0.451021</td>\n",
       "    </tr>\n",
       "    <tr>\n",
       "      <th>2015-01-06</th>\n",
       "      <td>-0.514152</td>\n",
       "      <td>-1.315582</td>\n",
       "      <td>-1.459097</td>\n",
       "      <td> 1.187375</td>\n",
       "    </tr>\n",
       "    <tr>\n",
       "      <th>2015-01-07</th>\n",
       "      <td> 0.485137</td>\n",
       "      <td>-0.171102</td>\n",
       "      <td>-0.945864</td>\n",
       "      <td>-0.820739</td>\n",
       "    </tr>\n",
       "    <tr>\n",
       "      <th>2015-01-08</th>\n",
       "      <td>-0.220614</td>\n",
       "      <td> 0.430514</td>\n",
       "      <td>-0.324456</td>\n",
       "      <td> 0.502766</td>\n",
       "    </tr>\n",
       "    <tr>\n",
       "      <th>2015-01-09</th>\n",
       "      <td> 0.710192</td>\n",
       "      <td>-0.021097</td>\n",
       "      <td>-0.030764</td>\n",
       "      <td> 2.210731</td>\n",
       "    </tr>\n",
       "    <tr>\n",
       "      <th>2015-01-10</th>\n",
       "      <td> 0.480724</td>\n",
       "      <td> 1.004717</td>\n",
       "      <td> 0.411061</td>\n",
       "      <td>-1.369170</td>\n",
       "    </tr>\n",
       "  </tbody>\n",
       "</table>\n",
       "<p>10 rows × 4 columns</p>\n",
       "</div>"
      ],
      "text/plain": [
       "                   A         B         C         D\n",
       "2015-01-01  1.414662 -0.461892  0.241974 -0.403532\n",
       "2015-01-02 -0.649703 -0.388180  0.444474  0.146423\n",
       "2015-01-03 -0.223032 -2.264315  1.672796 -1.517637\n",
       "2015-01-04 -1.565544 -0.712975 -0.580609 -1.381075\n",
       "2015-01-05 -1.678401 -0.444493 -0.149635  0.451021\n",
       "2015-01-06 -0.514152 -1.315582 -1.459097  1.187375\n",
       "2015-01-07  0.485137 -0.171102 -0.945864 -0.820739\n",
       "2015-01-08 -0.220614  0.430514 -0.324456  0.502766\n",
       "2015-01-09  0.710192 -0.021097 -0.030764  2.210731\n",
       "2015-01-10  0.480724  1.004717  0.411061 -1.369170\n",
       "\n",
       "[10 rows x 4 columns]"
      ]
     },
     "execution_count": 63,
     "metadata": {},
     "output_type": "execute_result"
    }
   ],
   "source": [
    "df"
   ]
  },
  {
   "cell_type": "code",
   "execution_count": 64,
   "metadata": {
    "collapsed": false
   },
   "outputs": [
    {
     "data": {
      "text/plain": [
       "<matplotlib.axes.AxesSubplot at 0x1081c42d0>"
      ]
     },
     "execution_count": 64,
     "metadata": {},
     "output_type": "execute_result"
    },
    {
     "data": {
      "image/png": "[encoded data removed]",
      "text/plain": [
       "<matplotlib.figure.Figure at 0x1081c4f50>"
      ]
     },
     "metadata": {},
     "output_type": "display_data"
    }
   ],
   "source": [
    "df.plot()"
   ]
  },
  {
   "cell_type": "markdown",
   "metadata": {},
   "source": [
    "## [練習] 用字典生 DataFrame"
   ]
  },
  {
   "cell_type": "code",
   "execution_count": 65,
   "metadata": {
    "collapsed": true
   },
   "outputs": [],
   "source": [
    "d = {'A':[1,2,3,4], 'B':[83,23,1,5], 'C':[3,1,22,4]}"
   ]
  },
  {
   "cell_type": "code",
   "execution_count": 66,
   "metadata": {
    "collapsed": false
   },
   "outputs": [
    {
     "data": {
      "text/plain": [
       "[1, 2, 3, 4]"
      ]
     },
     "execution_count": 66,
     "metadata": {},
     "output_type": "execute_result"
    }
   ],
   "source": [
    "d['A']"
   ]
  },
  {
   "cell_type": "code",
   "execution_count": 67,
   "metadata": {
    "collapsed": true
   },
   "outputs": [],
   "source": [
    "df = pd.DataFrame(d)"
   ]
  },
  {
   "cell_type": "code",
   "execution_count": 68,
   "metadata": {
    "collapsed": false
   },
   "outputs": [
    {
     "data": {
      "text/html": [
       "<div style=\"max-height:1000px;max-width:1500px;overflow:auto;\">\n",
       "<table border=\"1\" class=\"dataframe\">\n",
       "  <thead>\n",
       "    <tr style=\"text-align: right;\">\n",
       "      <th></th>\n",
       "      <th>A</th>\n",
       "      <th>B</th>\n",
       "      <th>C</th>\n",
       "    </tr>\n",
       "  </thead>\n",
       "  <tbody>\n",
       "    <tr>\n",
       "      <th>0</th>\n",
       "      <td> 1</td>\n",
       "      <td> 83</td>\n",
       "      <td>  3</td>\n",
       "    </tr>\n",
       "    <tr>\n",
       "      <th>1</th>\n",
       "      <td> 2</td>\n",
       "      <td> 23</td>\n",
       "      <td>  1</td>\n",
       "    </tr>\n",
       "    <tr>\n",
       "      <th>2</th>\n",
       "      <td> 3</td>\n",
       "      <td>  1</td>\n",
       "      <td> 22</td>\n",
       "    </tr>\n",
       "    <tr>\n",
       "      <th>3</th>\n",
       "      <td> 4</td>\n",
       "      <td>  5</td>\n",
       "      <td>  4</td>\n",
       "    </tr>\n",
       "  </tbody>\n",
       "</table>\n",
       "<p>4 rows × 3 columns</p>\n",
       "</div>"
      ],
      "text/plain": [
       "   A   B   C\n",
       "0  1  83   3\n",
       "1  2  23   1\n",
       "2  3   1  22\n",
       "3  4   5   4\n",
       "\n",
       "[4 rows x 3 columns]"
      ]
     },
     "execution_count": 68,
     "metadata": {},
     "output_type": "execute_result"
    }
   ],
   "source": [
    "df"
   ]
  },
  {
   "cell_type": "code",
   "execution_count": 69,
   "metadata": {
    "collapsed": true
   },
   "outputs": [],
   "source": [
    "df['D']=[3,4,1,2]"
   ]
  },
  {
   "cell_type": "code",
   "execution_count": 70,
   "metadata": {
    "collapsed": false
   },
   "outputs": [
    {
     "data": {
      "text/html": [
       "<div style=\"max-height:1000px;max-width:1500px;overflow:auto;\">\n",
       "<table border=\"1\" class=\"dataframe\">\n",
       "  <thead>\n",
       "    <tr style=\"text-align: right;\">\n",
       "      <th></th>\n",
       "      <th>A</th>\n",
       "      <th>B</th>\n",
       "      <th>C</th>\n",
       "      <th>D</th>\n",
       "    </tr>\n",
       "  </thead>\n",
       "  <tbody>\n",
       "    <tr>\n",
       "      <th>0</th>\n",
       "      <td> 1</td>\n",
       "      <td> 83</td>\n",
       "      <td>  3</td>\n",
       "      <td> 3</td>\n",
       "    </tr>\n",
       "    <tr>\n",
       "      <th>1</th>\n",
       "      <td> 2</td>\n",
       "      <td> 23</td>\n",
       "      <td>  1</td>\n",
       "      <td> 4</td>\n",
       "    </tr>\n",
       "    <tr>\n",
       "      <th>2</th>\n",
       "      <td> 3</td>\n",
       "      <td>  1</td>\n",
       "      <td> 22</td>\n",
       "      <td> 1</td>\n",
       "    </tr>\n",
       "    <tr>\n",
       "      <th>3</th>\n",
       "      <td> 4</td>\n",
       "      <td>  5</td>\n",
       "      <td>  4</td>\n",
       "      <td> 2</td>\n",
       "    </tr>\n",
       "  </tbody>\n",
       "</table>\n",
       "<p>4 rows × 4 columns</p>\n",
       "</div>"
      ],
      "text/plain": [
       "   A   B   C  D\n",
       "0  1  83   3  3\n",
       "1  2  23   1  4\n",
       "2  3   1  22  1\n",
       "3  4   5   4  2\n",
       "\n",
       "[4 rows x 4 columns]"
      ]
     },
     "execution_count": 70,
     "metadata": {},
     "output_type": "execute_result"
    }
   ],
   "source": [
    "df"
   ]
  },
  {
   "cell_type": "markdown",
   "metadata": {},
   "source": [
    "## 真正的數據!!"
   ]
  },
  {
   "cell_type": "markdown",
   "metadata": {},
   "source": [
    "我們現在要練習拿出真正的數據, 基本上的來源可能有:\n",
    "\n",
    "1. Python 某個套件偷藏的。\n",
    "2. Python 某個套件 (如 Pandas) 自動幫我們抓。\n",
    "3. 不管什麼卑劣手段找到的 Excel, CSV　或其他檔案。\n",
    "4. 自己從網頁抓!"
   ]
  },
  {
   "cell_type": "markdown",
   "metadata": {},
   "source": [
    "### [數據一] 神速抓股票"
   ]
  },
  {
   "cell_type": "code",
   "execution_count": 71,
   "metadata": {
    "collapsed": true
   },
   "outputs": [],
   "source": [
    "import pandas.io.data as web"
   ]
  },
  {
   "cell_type": "code",
   "execution_count": 72,
   "metadata": {
    "collapsed": true
   },
   "outputs": [],
   "source": [
    "start = '2014-01-01'"
   ]
  },
  {
   "cell_type": "code",
   "execution_count": 73,
   "metadata": {
    "collapsed": true
   },
   "outputs": [],
   "source": [
    "end = '2015-04-20'"
   ]
  },
  {
   "cell_type": "code",
   "execution_count": 74,
   "metadata": {
    "collapsed": true
   },
   "outputs": [],
   "source": [
    "df = web.DataReader('AAPL', 'yahoo', start, end)"
   ]
  },
  {
   "cell_type": "code",
   "execution_count": 75,
   "metadata": {
    "collapsed": false
   },
   "outputs": [
    {
     "data": {
      "text/html": [
       "<div style=\"max-height:1000px;max-width:1500px;overflow:auto;\">\n",
       "<table border=\"1\" class=\"dataframe\">\n",
       "  <thead>\n",
       "    <tr style=\"text-align: right;\">\n",
       "      <th></th>\n",
       "      <th>Open</th>\n",
       "      <th>High</th>\n",
       "      <th>Low</th>\n",
       "      <th>Close</th>\n",
       "      <th>Volume</th>\n",
       "      <th>Adj Close</th>\n",
       "    </tr>\n",
       "    <tr>\n",
       "      <th>Date</th>\n",
       "      <th></th>\n",
       "      <th></th>\n",
       "      <th></th>\n",
       "      <th></th>\n",
       "      <th></th>\n",
       "      <th></th>\n",
       "    </tr>\n",
       "  </thead>\n",
       "  <tbody>\n",
       "    <tr>\n",
       "      <th>2014-01-02</th>\n",
       "      <td> 555.67999</td>\n",
       "      <td> 557.02997</td>\n",
       "      <td> 552.02002</td>\n",
       "      <td> 553.13000</td>\n",
       "      <td>  58671200</td>\n",
       "      <td> 77.08570</td>\n",
       "    </tr>\n",
       "    <tr>\n",
       "      <th>2014-01-03</th>\n",
       "      <td> 552.86005</td>\n",
       "      <td> 553.70001</td>\n",
       "      <td> 540.43005</td>\n",
       "      <td> 540.98004</td>\n",
       "      <td>  98116900</td>\n",
       "      <td> 75.39245</td>\n",
       "    </tr>\n",
       "    <tr>\n",
       "      <th>2014-01-06</th>\n",
       "      <td> 537.45001</td>\n",
       "      <td> 546.80005</td>\n",
       "      <td> 533.59998</td>\n",
       "      <td> 543.93005</td>\n",
       "      <td> 103152700</td>\n",
       "      <td> 75.80357</td>\n",
       "    </tr>\n",
       "    <tr>\n",
       "      <th>2014-01-07</th>\n",
       "      <td> 544.32001</td>\n",
       "      <td> 545.96008</td>\n",
       "      <td> 537.91998</td>\n",
       "      <td> 540.03998</td>\n",
       "      <td>  79302300</td>\n",
       "      <td> 75.26144</td>\n",
       "    </tr>\n",
       "    <tr>\n",
       "      <th>2014-01-08</th>\n",
       "      <td> 538.81006</td>\n",
       "      <td> 545.56000</td>\n",
       "      <td> 538.69000</td>\n",
       "      <td> 543.45996</td>\n",
       "      <td>  64632400</td>\n",
       "      <td> 75.73806</td>\n",
       "    </tr>\n",
       "  </tbody>\n",
       "</table>\n",
       "<p>5 rows × 6 columns</p>\n",
       "</div>"
      ],
      "text/plain": [
       "                 Open       High        Low      Close     Volume  Adj Close\n",
       "Date                                                                        \n",
       "2014-01-02  555.67999  557.02997  552.02002  553.13000   58671200   77.08570\n",
       "2014-01-03  552.86005  553.70001  540.43005  540.98004   98116900   75.39245\n",
       "2014-01-06  537.45001  546.80005  533.59998  543.93005  103152700   75.80357\n",
       "2014-01-07  544.32001  545.96008  537.91998  540.03998   79302300   75.26144\n",
       "2014-01-08  538.81006  545.56000  538.69000  543.45996   64632400   75.73806\n",
       "\n",
       "[5 rows x 6 columns]"
      ]
     },
     "execution_count": 75,
     "metadata": {},
     "output_type": "execute_result"
    }
   ],
   "source": [
    "df.head()"
   ]
  },
  {
   "cell_type": "code",
   "execution_count": 76,
   "metadata": {
    "collapsed": false
   },
   "outputs": [
    {
     "data": {
      "text/plain": [
       "<matplotlib.axes.AxesSubplot at 0x1085355d0>"
      ]
     },
     "execution_count": 76,
     "metadata": {},
     "output_type": "execute_result"
    },
    {
     "data": {
      "image/png": "[encoded data removed]",
      "text/plain": [
       "<matplotlib.figure.Figure at 0x1085aae50>"
      ]
     },
     "metadata": {},
     "output_type": "display_data"
    }
   ],
   "source": [
    "df['Close'].plot()"
   ]
  },
  {
   "cell_type": "markdown",
   "metadata": {},
   "source": [
    "### [數據二]\n",
    "\n",
    "我有 CSV 檔, Execl 檔等等, 當然都可以直接讀! 這是本週主要練習。"
   ]
  },
  {
   "cell_type": "markdown",
   "metadata": {},
   "source": [
    "### [數據三] 直接上網抓資料\n",
    "\n",
    "以下的動作可能需要 html5lib, 所以你要在指令列中打入:\n",
    "\n",
    "    conda install html5lib"
   ]
  },
  {
   "cell_type": "markdown",
   "metadata": {},
   "source": [
    "#### 3-1 Pandas 神速抓表格\n",
    "\n",
    "我們來看看天氣資料。\n",
    "\n",
    "[中央氣象局](http://www.cwb.gov.tw/V7/index.htm),\n",
    "\n",
    "看到在\n",
    "\n",
    "[台北天氣預報](http://www.cwb.gov.tw/V7/forecast/taiwan/Taipei_City.htm)\n",
    "\n",
    "這有些看來好像表格的東西..."
   ]
  },
  {
   "cell_type": "code",
   "execution_count": 77,
   "metadata": {
    "collapsed": true
   },
   "outputs": [],
   "source": [
    "url = \"http://www.cwb.gov.tw/V7/forecast/taiwan/Taipei_City.htm\""
   ]
  },
  {
   "cell_type": "code",
   "execution_count": 78,
   "metadata": {
    "collapsed": true
   },
   "outputs": [],
   "source": [
    "df = pd.read_html(url)"
   ]
  },
  {
   "cell_type": "markdown",
   "metadata": {},
   "source": [
    "這樣就抓回一堆表格!! 我們看有幾個表格。"
   ]
  },
  {
   "cell_type": "code",
   "execution_count": 79,
   "metadata": {
    "collapsed": false
   },
   "outputs": [
    {
     "data": {
      "text/plain": [
       "4"
      ]
     },
     "execution_count": 79,
     "metadata": {},
     "output_type": "execute_result"
    }
   ],
   "source": [
    "len(df)"
   ]
  },
  {
   "cell_type": "markdown",
   "metadata": {},
   "source": [
    "再來一一看他們內容。"
   ]
  },
  {
   "cell_type": "code",
   "execution_count": 80,
   "metadata": {
    "collapsed": false
   },
   "outputs": [],
   "source": [
    "weather = df[0]"
   ]
  },
  {
   "cell_type": "code",
   "execution_count": 81,
   "metadata": {
    "collapsed": false
   },
   "outputs": [
    {
     "data": {
      "text/html": [
       "<div style=\"max-height:1000px;max-width:1500px;overflow:auto;\">\n",
       "<table border=\"1\" class=\"dataframe\">\n",
       "  <thead>\n",
       "    <tr style=\"text-align: right;\">\n",
       "      <th></th>\n",
       "      <th>臺北市</th>\n",
       "      <th>溫度 (℃)</th>\n",
       "      <th>天氣狀況</th>\n",
       "      <th>舒適度</th>\n",
       "      <th>降雨機率 (%)</th>\n",
       "    </tr>\n",
       "  </thead>\n",
       "  <tbody>\n",
       "    <tr>\n",
       "      <th>0</th>\n",
       "      <td> 今晚至明晨 04/22 18:00~04/23 06:00</td>\n",
       "      <td> 19 ~ 21</td>\n",
       "      <td>NaN</td>\n",
       "      <td> 稍有寒意至舒適</td>\n",
       "      <td>  0 %</td>\n",
       "    </tr>\n",
       "    <tr>\n",
       "      <th>1</th>\n",
       "      <td>  明日白天 04/23 06:00~04/23 18:00</td>\n",
       "      <td> 19 ~ 27</td>\n",
       "      <td>NaN</td>\n",
       "      <td> 稍有寒意至舒適</td>\n",
       "      <td> 10 %</td>\n",
       "    </tr>\n",
       "    <tr>\n",
       "      <th>2</th>\n",
       "      <td>  明日晚上 04/23 18:00~04/24 06:00</td>\n",
       "      <td> 20 ~ 24</td>\n",
       "      <td>NaN</td>\n",
       "      <td>      舒適</td>\n",
       "      <td> 30 %</td>\n",
       "    </tr>\n",
       "  </tbody>\n",
       "</table>\n",
       "<p>3 rows × 5 columns</p>\n",
       "</div>"
      ],
      "text/plain": [
       "                             臺北市   溫度 (℃)  天氣狀況      舒適度 降雨機率 (%)\n",
       "0  今晚至明晨 04/22 18:00~04/23 06:00  19 ~ 21   NaN  稍有寒意至舒適      0 %\n",
       "1   明日白天 04/23 06:00~04/23 18:00  19 ~ 27   NaN  稍有寒意至舒適     10 %\n",
       "2   明日晚上 04/23 18:00~04/24 06:00  20 ~ 24   NaN       舒適     30 %\n",
       "\n",
       "[3 rows x 5 columns]"
      ]
     },
     "execution_count": 81,
     "metadata": {},
     "output_type": "execute_result"
    }
   ],
   "source": [
    "weather"
   ]
  },
  {
   "cell_type": "code",
   "execution_count": 82,
   "metadata": {
    "collapsed": false
   },
   "outputs": [
    {
     "data": {
      "text/html": [
       "<div style=\"max-height:1000px;max-width:1500px;overflow:auto;\">\n",
       "<table border=\"1\" class=\"dataframe\">\n",
       "  <thead>\n",
       "    <tr style=\"text-align: right;\">\n",
       "      <th></th>\n",
       "      <th>四月</th>\n",
       "      <th>最高溫 (℃)</th>\n",
       "      <th>最低溫 (℃)</th>\n",
       "      <th>降雨量 (mm)</th>\n",
       "    </tr>\n",
       "  </thead>\n",
       "  <tbody>\n",
       "    <tr>\n",
       "      <th>0</th>\n",
       "      <td> 臺北</td>\n",
       "      <td> 25.7</td>\n",
       "      <td> 19</td>\n",
       "      <td> 177.8</td>\n",
       "    </tr>\n",
       "  </tbody>\n",
       "</table>\n",
       "<p>1 rows × 4 columns</p>\n",
       "</div>"
      ],
      "text/plain": [
       "   四月  最高溫 (℃)  最低溫 (℃)  降雨量 (mm)\n",
       "0  臺北     25.7       19     177.8\n",
       "\n",
       "[1 rows x 4 columns]"
      ]
     },
     "execution_count": 82,
     "metadata": {},
     "output_type": "execute_result"
    }
   ],
   "source": [
    "df[1]"
   ]
  },
  {
   "cell_type": "code",
   "execution_count": 83,
   "metadata": {
    "collapsed": false
   },
   "outputs": [
    {
     "data": {
      "text/html": [
       "<div style=\"max-height:1000px;max-width:1500px;overflow:auto;\">\n",
       "<table border=\"1\" class=\"dataframe\">\n",
       "  <thead>\n",
       "    <tr style=\"text-align: right;\">\n",
       "      <th></th>\n",
       "      <th>04/22</th>\n",
       "      <th>日出時刻hh:mm</th>\n",
       "      <th>日沒時刻hh:mm</th>\n",
       "      <th>月出時刻hh:mm</th>\n",
       "      <th>月沒時刻hh:mm</th>\n",
       "    </tr>\n",
       "  </thead>\n",
       "  <tbody>\n",
       "    <tr>\n",
       "      <th>0</th>\n",
       "      <td> 臺北</td>\n",
       "      <td>2015-04-22 05:26:00</td>\n",
       "      <td>2015-04-22 18:19:00</td>\n",
       "      <td>2015-04-22 08:15:00</td>\n",
       "      <td>2015-04-22 21:54:00</td>\n",
       "    </tr>\n",
       "  </tbody>\n",
       "</table>\n",
       "<p>1 rows × 5 columns</p>\n",
       "</div>"
      ],
      "text/plain": [
       "  04/22           日出時刻hh:mm           日沒時刻hh:mm           月出時刻hh:mm  \\\n",
       "0    臺北 2015-04-22 05:26:00 2015-04-22 18:19:00 2015-04-22 08:15:00   \n",
       "\n",
       "            月沒時刻hh:mm  \n",
       "0 2015-04-22 21:54:00  \n",
       "\n",
       "[1 rows x 5 columns]"
      ]
     },
     "execution_count": 83,
     "metadata": {},
     "output_type": "execute_result"
    }
   ],
   "source": [
    "df[2]"
   ]
  },
  {
   "cell_type": "code",
   "execution_count": 84,
   "metadata": {
    "collapsed": false
   },
   "outputs": [
    {
     "data": {
      "text/html": [
       "<div style=\"max-height:1000px;max-width:1500px;overflow:auto;\">\n",
       "<table border=\"1\" class=\"dataframe\">\n",
       "  <thead>\n",
       "    <tr style=\"text-align: right;\">\n",
       "      <th></th>\n",
       "      <th>0</th>\n",
       "    </tr>\n",
       "  </thead>\n",
       "  <tbody>\n",
       "    <tr>\n",
       "      <th>0</th>\n",
       "      <td> °C °F  °F °C</td>\n",
       "    </tr>\n",
       "  </tbody>\n",
       "</table>\n",
       "<p>1 rows × 1 columns</p>\n",
       "</div>"
      ],
      "text/plain": [
       "              0\n",
       "0  °C °F  °F °C\n",
       "\n",
       "[1 rows x 1 columns]"
      ]
     },
     "execution_count": 84,
     "metadata": {},
     "output_type": "execute_result"
    }
   ],
   "source": [
    "df[3]"
   ]
  },
  {
   "cell_type": "markdown",
   "metadata": {
    "collapsed": true
   },
   "source": [
    "## [主題] 更一般的\n",
    "\n",
    "    requests\n",
    "    Beautiful Soup\n",
    "    \n",
    "使用 requests, 可能要\n",
    "\n",
    "    pip install requests"
   ]
  },
  {
   "cell_type": "code",
   "execution_count": 85,
   "metadata": {
    "collapsed": true
   },
   "outputs": [],
   "source": [
    "url = \"https://tw.search.bid.yahoo.com/search/auction/product?p=cannon+300mm+f2.8&qt=product&cid=0&clv=0\""
   ]
  },
  {
   "cell_type": "markdown",
   "metadata": {},
   "source": [
    "我們搜尋了 Canon 300mm f2.8, 然後看有沒有貼心的表格。"
   ]
  },
  {
   "cell_type": "code",
   "execution_count": 86,
   "metadata": {
    "collapsed": true
   },
   "outputs": [],
   "source": [
    "df = pd.read_html(url)"
   ]
  },
  {
   "cell_type": "code",
   "execution_count": 87,
   "metadata": {
    "collapsed": false
   },
   "outputs": [
    {
     "data": {
      "text/plain": [
       "1"
      ]
     },
     "execution_count": 87,
     "metadata": {},
     "output_type": "execute_result"
    }
   ],
   "source": [
    "len(df)"
   ]
  },
  {
   "cell_type": "markdown",
   "metadata": {},
   "source": [
    "有表格! 當我們開心的看一下時..."
   ]
  },
  {
   "cell_type": "code",
   "execution_count": 88,
   "metadata": {
    "collapsed": false
   },
   "outputs": [
    {
     "data": {
      "text/html": [
       "<div style=\"max-height:1000px;max-width:1500px;overflow:auto;\">\n",
       "<table border=\"1\" class=\"dataframe\">\n",
       "  <thead>\n",
       "    <tr style=\"text-align: right;\">\n",
       "      <th></th>\n",
       "      <th>0</th>\n",
       "    </tr>\n",
       "  </thead>\n",
       "  <tbody>\n",
       "    <tr>\n",
       "      <th>0</th>\n",
       "      <td>NaN</td>\n",
       "    </tr>\n",
       "  </tbody>\n",
       "</table>\n",
       "<p>1 rows × 1 columns</p>\n",
       "</div>"
      ],
      "text/plain": [
       "    0\n",
       "0 NaN\n",
       "\n",
       "[1 rows x 1 columns]"
      ]
     },
     "execution_count": 88,
     "metadata": {},
     "output_type": "execute_result"
    }
   ],
   "source": [
    "df[0]"
   ]
  },
  {
   "cell_type": "markdown",
   "metadata": {},
   "source": [
    "這次失敗了!!"
   ]
  },
  {
   "cell_type": "markdown",
   "metadata": {},
   "source": [
    "#### requests \n",
    "\n",
    "requests 套件可以完全模擬我們瀏覽器去要資料的各種動作。最簡單的是用 GET 方式去拿下一個網頁。"
   ]
  },
  {
   "cell_type": "code",
   "execution_count": 89,
   "metadata": {
    "collapsed": true
   },
   "outputs": [],
   "source": [
    "import requests"
   ]
  },
  {
   "cell_type": "code",
   "execution_count": 90,
   "metadata": {
    "collapsed": true
   },
   "outputs": [],
   "source": [
    "r = requests.get(url)"
   ]
  },
  {
   "cell_type": "code",
   "execution_count": 91,
   "metadata": {
    "collapsed": false
   },
   "outputs": [
    {
     "data": {
      "text/plain": [
       "'<!DOCTYPE html>\\n<html>\\n<head>\\n<meta http-equiv=\"content-type\" content=\"text/html; charset=utf-8\">\\n<meta http-equiv=\"expires\" content=\"-1\">\\n<meta name=\"application-name\" content=\"Yahoo!奇摩拍賣\"/>\\n<meta name=\"msapplication-TileColor\" content=\"#7B0099\"/>\\n<meta name=\"keywords\" content=\"拍賣,網拍,網路拍賣,競標,購物,奇摩拍賣,拍賣網\">\\n<meta name=\"description\" content=\"什麼都有、什麼都賣，名牌精品、電腦、手機、數位相機、電玩遊戲、中古車二手車、MP3、美容、香水、保養品，歡迎來Yahoo!奇摩拍賣挖寶！\">\\n<meta name=\"msapplication-TileImage\" content=\"https://s.yimg.com/f/i/tw/auction/yau/icon_pin_auction_121218.png\"/>\\n<title>搜尋 cannon 300mm f2.8 結果-Yahoo!奇摩拍賣</title>\\n<link rel=\"stylesheet\" href=\"https://s.yimg.com/tu/srp/srpapd_150409.css\"></head>\\n<body class=\"p_auction \">\\n    <div id=\"yaft_page\">\\n                        <!-- hd begin -->\\n        <div id=\"hd\">\\n            <div id=\"uh\" class=\"yui3-u-1 header\">\\r\\n    <div class=\"hd\">\\r\\n        <div class=\"eyebrow wide\">\\r\\n\\t\\t            <ul class=\"yui3-g\">\\r\\n\\t\\t\\t\\t\\t\\t\\t<li class=\"yui3-u\"><a href=\"https://tw.yahoo.com/\"  class=\"uh-ico home\" data-ylk=\"slk:eb_hp\">首頁</a></li>\\r\\n\\t\\t\\t\\t\\t\\t\\t<li class=\"yui3-u\"><a href=\"https://tw.mall.yahoo.com/\"   data-ylk=\"slk:eb_mall\">超級商城</a></li>\\r\\n\\t\\t\\t\\t\\t\\t\\t<li class=\"yui3-u\"><a href=\"https://tw.buy.yahoo.com/\"   data-ylk=\"slk:eb_shp\">購物中心</a></li>\\r\\n\\t\\t\\t\\t\\t\\t\\t<li class=\"yui3-u\"><a href=\"https://tw.serviceplus.yahoo.com/\"   data-ylk=\"slk:eb_splus\">服務+</a></li>\\r\\n\\t\\t\\t\\t\\t\\t\\t<li class=\"yui3-u\"><a href=\"https://tw.uwant.yahoo.com/\"   data-ylk=\"slk:eb_uww\">慾望牆</a></li>\\r\\n\\t\\t\\t                        </ul>\\r\\n\\t\\t        </div>\\r\\n    </div>\\r\\n    <div class=\"bd wide\">\\r\\n        <div class=\"yui3-g wrap\">\\r\\n                        <div class=\"ylogo sp-logo yui3-u\">\\r\\n                <a data-ylk=\"slk:logo\" href=\"https://tw.bid.yahoo.com/\" >Yahoo!奇摩拍賣</a>\\r\\n            </div>\\r\\n                        \\r\\n                        <form id=\"top_search\" class=\"searchbar yui3-skin-sam yui3-u\" action=\"https://tw.search.bid.yahoo.com/search/auction/product\">\\r\\n                <a class=\"guidetile\" accesskey=\"s\" href=\"#searchBox\" name=\"searhcBox\">:::商品搜尋框</a>\\r\\n                <fieldset>\\r\\n                    <legend id=\"aria-legend\" class=\"vh\">搜尋</legend>\\r\\n                    <label for=\"topsearch_input\" class=\"vh\">搜尋:</label>\\r\\n                    <div class=\"searchwrapper\">\\r\\n                        <div class=\"searchwrapper-inner\">\\r\\n                            <table><tbody><tr>\\r\\n                                                        <td class=\"srp-sbar-ip\">\\r\\n                                <input id=\"srp-ac-bar\" type=\"text\" name=\"p\" autocomplete=\"off\" value=\"cannon 300mm f2.8\" placeholder=\"請輸入 商品 關鍵字\">\\r\\n                            </td>\\r\\n                            </tr></tbody></table>\\r\\n                        </div>\\r\\n                        <input id=\"UHSearchProperty\" class=\"yui3-u searchbtn\" type=\"submit\" value=\"搜尋商品\">\\r\\n                                            <input type=\"hidden\" name=\"qt\" class=\"qt\" value=\"product\">\\r\\n                        <input type=\"hidden\" name=\"cid\" class=\"cid\" autocomplete=\"off\" value=\"0\">\\r\\n                        <input type=\"hidden\" name=\"clv\" class=\"clv\" autocomplete=\"off\" value=\"0\">\\r\\n                    </div>\\r\\n                </fieldset>\\r\\n            </form>\\r\\n                        <div class=\"type_tabber yui3-u\">\\r\\n                <a class=\"guidetile\" href=\"#head\" name=\"head\" accesskey=\"u\">:::上方功能區塊</a>    \\r\\n                    <div class=\"type_tabber\">\\n            <div class=\"persona-wrap\">\\n                <div id=\"yuhead-uftool\" class=\"uftool\" aria-label=\"Yahoo!奇摩拍賣工具列\">\\n                    <nav>\\n                        <ul class=\"menubar yucs-toolbar yucs-activate\">\\n                            <li class=\"menubar-item\">\\n                                <a class=\"ico-account\" rel=\"nofollow\" href=\"https://tw.user.bid.yahoo.com/tw/show/myaucs?.r=1429704388\">我的拍賣</a>\\n                            </li>\\n                            <li class=\"menubar-item\">\\n                                <a class=\"utlink\" rel=\"nofollow\" href=\"https://login.yahoo.com/config/login?.pd=c%3D3Chd7Yq72e502eh4R99sgUvi5Q--&.done=https://tw.bid.yahoo.com/tw\">登入</a>\\n                            </li>\\n                            <li class=\"menubar-item\">\\n                                <a class=\"ico-submit\" rel=\"nofollow\" href=\"https://tw.bid.yahoo.com/tw/show/submitselecttype?category=0\">我要賣東西</a>\\n                            </li>\\n                            <li class=\"menubar-item shopping-cart-wrap\">\\n                                <a class=\"icon ico-shopping-cart-w\" rel=\"nofollow\" href=\"https://tw.bid.yahoo.com/checkout/cart\">購物車</a>\\n                            </li>\\n                            <li class=\"menubar-item\">\\n                                <a class=\"ico-help\" rel=\"nofollow\" href=\"https://tw.bid.yahoo.com/help/auct.html\">求助</a>\\n                            </li>\\n                        </ul>\\n                    </nav>\\n                </div>\\n            </div>\\n        </div>            </div>\\r\\n        </div>\\r\\n    </div>\\r\\n</div>\\r\\n<div id=\"uh_spid\" data-bk=\"\" data-acurl=\"https://tw.search.bid.yahoo.com/search/srp/searchbar?property=auction\" data-spid=\"2092111218\" data-lhid=\"2092111218\" data-yaft=\"\"></div>\\r\\n\\r\\n        </div>\\n        <div id=\"bd\">\\n            <div id=\"srp_topinfo\">\\n                                                \\n            </div>\\n            <div id=\"topsearchbar\" class=\"rpd-mod\"><a href=\"2092111218\"></a></div>\\n            <div id=\"srp-pjax\" class=\"yui3-g\">\\n                <div id=\"srp-pjax-content\">\\n                    <div id=\"srp_sidebar\" class=\"yui3-u\">\\n                                                    <div id=\"srp-property\" class=\"srp-sl sp-menu\">\\n        <div id=\"rfnr\" class=\"rpd-mod\">\\n            <a href=\"2092111218\"></a>\\n        </div>\\n\\t    <div class=\"bd\">\\n            <div class=\"btn-menu-title srp-bg\">\\n                <span>顯示其他商品來源</span>\\n            </div>\\n            <div class=\"btn-menu-body\">\\n            \\t            \\t<div>\\n                    <a class=\"from checkitem yui3-u srp-ico checked\" href=\"product;_ylt=A3TWBEDEjjdVeQYAyRdyFbN8;_ylv=3?p=cannon+300mm+f2.8&qt=product&cid=0&clv=0&property=auction&sub_property=auction&srch=product&aoffset=0&poffset=0&pg=1&pptf=1&act=srp&rescheck=1\">\\n                        <span class=\"mall srp-tag\">超級商城</span>\\n                    </a>\\n                </div>\\n            \\t            \\t<div>\\n                    <a class=\"from checkitem yui3-u srp-ico checked\" href=\"product;_ylt=A3TWBEDEjjdVeQYAyhdyFbN8;_ylv=3?p=cannon+300mm+f2.8&qt=product&cid=0&clv=0&property=auction&sub_property=auction&srch=product&aoffset=0&poffset=0&pg=1&pptf=2&act=srp&rescheck=1\">\\n                        <span class=\"splus srp-tag\">服務+</span>\\n                    </a>\\n                </div>\\n            \\t            </div>\\n        </div> \\n    </div>\\n    <div id=\"srp-category\" class=\"srp-sl sp-menu \">\\n    <div class=\"bd\">\\n            <div class=\"btn-menu-title srp-bg\">\\n                <a class=\"guidetile\" accesskey=\"l\" href=\"#allCat\" name=\"allCat\">:::全部分類</a>\\n                                <span>全部分類</span>\\n                            </div>\\n            <div class=\"btn-menu expand-menu\">\\n                <div class=\"l-btn sp-btn\">\\n                                                            <div class=\"row yui3-g\">\\n                        <div class=\"item yui3-u \">\\n                            <a class=\"btn\" href=\"product;_ylt=A3TWBEDEjjdVeQYAyxdyFbN8;_ylv=3?p=cannon+300mm+f2.8&qt=product&cid=2092077887&clv=1&property=auction&sub_property=auction&srch=product&aoffset=0&poffset=0&pg=1&act=srp\">\\n                                <div class=\"content\">\\n                                    相機、攝影與周邊                                    <span class=\"num\">(88)</span>\\n                                </div>\\n                            </a>\\n                        </div>\\n                    </div>\\n                                                        </div> \\n            </div>\\n        </div> \\n        \\n    </div>\\n<div id=\"srp-price\" class=\"srp-sl srp_pjax\">\\n    <div class=\"srp-sl-block\">\\n        <div class=\"yui3-g hd\">\\n            <span class=\"yui3-u-1-2 a-left\">\\n                <span class=\"srp-ico toggle yui3-u\"></span>\\n                <span class=\"title yui3-u\">價格</span>\\n            </span>\\n                    </div>\\n        <div class=\"bd\">\\n            <div class=\"btn-menu \">\\n                <div class=\"l-btn\">\\n         \\t\\t           \\n                </div>\\n            </div>\\n            <div id=\"srp-price-period\">\\n            \\t<form medoth=\"GET\" id=\"price_form\" action=\"product;_ylt=A3TWBEDEjjdVeQYAqxdyFbN8;_ylv=3\">\\n                    <div id=\"srp-price-field\" class=\"srp-ico yui3-g\">\\n                        <div id=\"srp-price-input\" class=\"yui3-u\">\\n                            <input type=\"text\" id=\"price-from\" name=\"minp\" placeholder=\"最低\" value=\"\">\\n                            <span class=\"price-seperator\">–</span>\\n                            <input type=\"text\" placeholder=\"最高\" id=\"price-to\" name=\"maxp\" value=\"\">\\n                                                        \\t\\n                            \\t<input type=\"hidden\" name=\"acu\" value=\"0\" />\\n                                                        \\t\\n                            \\t<input type=\"hidden\" name=\"aoffset\" value=\"0\" />\\n                                                        \\t\\n                            \\t<input type=\"hidden\" name=\"cid\" value=\"0\" />\\n                                                        \\t\\n                            \\t<input type=\"hidden\" name=\"clv\" value=\"0\" />\\n                                                        \\t\\n                            \\t<input type=\"hidden\" name=\"p\" value=\"cannon 300mm f2.8\" />\\n                                                        \\t\\n                            \\t<input type=\"hidden\" name=\"pnew\" value=\"0\" />\\n                                                        \\t\\n                            \\t<input type=\"hidden\" name=\"poffset\" value=\"0\" />\\n                                                        \\t\\n                            \\t<input type=\"hidden\" name=\"ppd\" value=\"4\" />\\n                                                        \\t\\n                            \\t<input type=\"hidden\" name=\"property\" value=\"auction\" />\\n                                                        \\t\\n                            \\t<input type=\"hidden\" name=\"psz\" value=\"48\" />\\n                                                        \\t\\n                            \\t<input type=\"hidden\" name=\"show\" value=\"picdes\" />\\n                                                        \\t\\n                            \\t<input type=\"hidden\" name=\"show_flag\" value=\"0\" />\\n                                                        \\t\\n                            \\t<input type=\"hidden\" name=\"sort\" value=\"etime\" />\\n                                                        \\t\\n                            \\t<input type=\"hidden\" name=\"srch\" value=\"item\" />\\n                                                        \\t\\n                            \\t<input type=\"hidden\" name=\"qt\" value=\"product\" />\\n                                                        \\t\\n                            \\t<input type=\"hidden\" name=\"sub_property\" value=\"auction\" />\\n                                                        \\t\\n                            \\t<input type=\"hidden\" name=\"visit\" value=\"auction2\" />\\n                                                        \\t\\n                            \\t<input type=\"hidden\" name=\"qrw\" value=\"0\" />\\n                                                        \\t\\n                            \\t<input type=\"hidden\" name=\"rescheck\" value=\"1\" />\\n                                                    </div>\\n                        <div class=\"yui3-u\">\\n                            <input type=\"submit\" id=\"price-submit\">\\n                        </div>\\n                    </div>\\n                    <div id=\"srp-error-price\"  class=\"srp-ico\">\\n                        請以數字輸入價格\\n                    </div>\\n                </form>\\n            </div>\\n        </div>\\n    </div>\\n</div>\\n\\t\\t<div class=\"srp-sl srp-nd-check srp_pjax\">\\n\\t\\t\\t\\n                        <div class=\"srp-sl-block \">\\n                            <div class=\"yui3-g hd\">\\n                                <span class=\"yui3-u-1-2 a-left\">\\n                                    <span class=\"srp-ico toggle yui3-u\">\\n                                    </span>\\n                                    <span class=\"title yui3-u\">\\n                                        運送                                    </span>\\n                                </span>\\n                                                            </div>\\n                            <div class=\"yui3-g bd\">\\n                            \\n                                <a href=\"product;_ylt=A3TWBEDEjjdVeQYAzBdyFbN8;_ylv=3?p=cannon+300mm+f2.8&qt=product&cid=0&clv=0&property=auction&sub_property=auction&srch=product&aoffset=0&poffset=0&pg=1&dlv=1&act=srp&rescheck=1\" class=\"yui3-u checkitem srp-ico \">\\n                                    <span>免運費</span>\\n                                </a>\\n                            \\n                                <a href=\"product;_ylt=A3TWBEDEjjdVeQYAzRdyFbN8;_ylv=3?p=cannon+300mm+f2.8&qt=product&cid=0&clv=0&property=auction&sub_property=auction&srch=product&aoffset=0&poffset=0&pg=1&dlv=2&act=srp&rescheck=1\" class=\"yui3-u checkitem srp-ico \">\\n                                    <span>可面交</span>\\n                                </a>\\n                            \\n                                <a href=\"product;_ylt=A3TWBEDEjjdVeQYAzhdyFbN8;_ylv=3?p=cannon+300mm+f2.8&qt=product&cid=0&clv=0&property=auction&sub_property=auction&srch=product&aoffset=0&poffset=0&pg=1&dlv=4&act=srp&rescheck=1\" class=\"yui3-u checkitem srp-ico \">\\n                                    <span>跨國運送</span>\\n                                </a>\\n                                \\n                            </div>\\n                        </div>\\n                        <input class=\"hide-checkbox\" type=\"hidden\" name=\"dlv\" value=\"\"/>\\n                </div>\\n\\t\\t<div class=\"srp-sl srp-nd-check srp_pjax\">\\n\\t\\t\\t\\n                        <div class=\"srp-sl-block \">\\n                            <div class=\"yui3-g hd\">\\n                                <span class=\"yui3-u-1-2 a-left\">\\n                                    <span class=\"srp-ico toggle yui3-u\">\\n                                    </span>\\n                                    <span class=\"title yui3-u\">\\n                                        競標條件                                    </span>\\n                                </span>\\n                                                            </div>\\n                            <div class=\"yui3-g bd\">\\n                            \\n                                <a href=\"product;_ylt=A3TWBEDEjjdVeQYAzxdyFbN8;_ylv=3?p=cannon+300mm+f2.8&qt=product&cid=0&clv=0&property=auction&sub_property=auction&srch=product&aoffset=0&poffset=0&pg=1&slt=1&act=srp&rescheck=1\" class=\"yui3-u checkitem srp-ico \">\\n                                    <span>可立即結標</span>\\n                                </a>\\n                            \\n                                <a href=\"product;_ylt=A3TWBEDEjjdVeQYA0BdyFbN8;_ylv=3?p=cannon+300mm+f2.8&qt=product&cid=0&clv=0&property=auction&sub_property=auction&srch=product&aoffset=0&poffset=0&pg=1&slt=2&act=srp&rescheck=1\" class=\"yui3-u checkitem srp-ico \">\\n                                    <span>無底價</span>\\n                                </a>\\n                            \\n                                <a href=\"product;_ylt=A3TWBEDEjjdVeQYA0RdyFbN8;_ylv=3?p=cannon+300mm+f2.8&qt=product&cid=0&clv=0&property=auction&sub_property=auction&srch=product&aoffset=0&poffset=0&pg=1&slt=4&act=srp&rescheck=1\" class=\"yui3-u checkitem srp-ico \">\\n                                    <span>一元起標</span>\\n                                </a>\\n                                \\n                            </div>\\n                        </div>\\n                        <input class=\"hide-checkbox\" type=\"hidden\" name=\"slt\" value=\"\"/>\\n                </div>\\n<div id =\"srp-location\" class=\"srp-sl srp_pjax\">\\n    <div class=\"srp-sl-block\">\\n        <div class=\"yui3-g hd\">\\n            <span class=\"yui3-u-1-2 a-left\">\\n                <span class=\"srp-ico toggle yui3-u\"> </span>\\n                <span class=\"title yui3-u\">所在地</span>\\n            </span>\\n\\t\\t        </div>\\n        <div class=\"bd\">\\n            <div class=\"btn-menu\">\\n                <div class=\"s-btn\"><!-- l-btn m-btn s-btn -->\\n                                        <div class=\"row yui3-g\">\\n                 \\n                            <div class=\"item yui3-u\">\\n                                <a class=\"btn \" data-exkey=\"cluid:{cluid};atrbid:{atrbid};valueid:{valueid}\" href=\"product;_ylt=A3TWBEDEjjdVeQYA0hdyFbN8;_ylv=3?p=cannon+300mm+f2.8&qt=product&cid=0&clv=0&property=auction&sub_property=auction&srch=product&aoffset=0&poffset=0&pg=1&uloc0=1&act=srp&rescheck=1\"><span>台北市</span></a>\\n                            </div>\\n                 \\n                            <div class=\"item yui3-u\">\\n                                <a class=\"btn \" data-exkey=\"cluid:{cluid};atrbid:{atrbid};valueid:{valueid}\" href=\"product;_ylt=A3TWBEDEjjdVeQYA0xdyFbN8;_ylv=3?p=cannon+300mm+f2.8&qt=product&cid=0&clv=0&property=auction&sub_property=auction&srch=product&aoffset=0&poffset=0&pg=1&uloc0=2&act=srp&rescheck=1\"><span>新北市</span></a>\\n                            </div>\\n                 \\n                            <div class=\"item yui3-u\">\\n                                <a class=\"btn \" data-exkey=\"cluid:{cluid};atrbid:{atrbid};valueid:{valueid}\" href=\"product;_ylt=A3TWBEDEjjdVeQYA1BdyFbN8;_ylv=3?p=cannon+300mm+f2.8&qt=product&cid=0&clv=0&property=auction&sub_property=auction&srch=product&aoffset=0&poffset=0&pg=1&uloc0=4&act=srp&rescheck=1\"><span>基隆市</span></a>\\n                            </div>\\n                                                \\n                        </div>\\n                                        <div class=\"row yui3-g\">\\n                 \\n                            <div class=\"item yui3-u\">\\n                                <a class=\"btn \" data-exkey=\"cluid:{cluid};atrbid:{atrbid};valueid:{valueid}\" href=\"product;_ylt=A3TWBEDEjjdVeQYA1RdyFbN8;_ylv=3?p=cannon+300mm+f2.8&qt=product&cid=0&clv=0&property=auction&sub_property=auction&srch=product&aoffset=0&poffset=0&pg=1&uloc0=8&act=srp&rescheck=1\"><span>宜蘭縣</span></a>\\n                            </div>\\n                 \\n                            <div class=\"item yui3-u\">\\n                                <a class=\"btn \" data-exkey=\"cluid:{cluid};atrbid:{atrbid};valueid:{valueid}\" href=\"product;_ylt=A3TWBEDEjjdVeQYA1hdyFbN8;_ylv=3?p=cannon+300mm+f2.8&qt=product&cid=0&clv=0&property=auction&sub_property=auction&srch=product&aoffset=0&poffset=0&pg=1&uloc0=16&act=srp&rescheck=1\"><span>桃園縣</span></a>\\n                            </div>\\n                 \\n                            <div class=\"item yui3-u\">\\n                                <a class=\"btn \" data-exkey=\"cluid:{cluid};atrbid:{atrbid};valueid:{valueid}\" href=\"product;_ylt=A3TWBEDEjjdVeQYA1xdyFbN8;_ylv=3?p=cannon+300mm+f2.8&qt=product&cid=0&clv=0&property=auction&sub_property=auction&srch=product&aoffset=0&poffset=0&pg=1&uloc0=32&act=srp&rescheck=1\"><span>新竹市</span></a>\\n                            </div>\\n                                                \\n                        </div>\\n                                        <div class=\"row yui3-g\">\\n                 \\n                            <div class=\"item yui3-u\">\\n                                <a class=\"btn \" data-exkey=\"cluid:{cluid};atrbid:{atrbid};valueid:{valueid}\" href=\"product;_ylt=A3TWBEDEjjdVeQYA2BdyFbN8;_ylv=3?p=cannon+300mm+f2.8&qt=product&cid=0&clv=0&property=auction&sub_property=auction&srch=product&aoffset=0&poffset=0&pg=1&uloc0=64&act=srp&rescheck=1\"><span>新竹縣</span></a>\\n                            </div>\\n                 \\n                            <div class=\"item yui3-u\">\\n                                <a class=\"btn \" data-exkey=\"cluid:{cluid};atrbid:{atrbid};valueid:{valueid}\" href=\"product;_ylt=A3TWBEDEjjdVeQYA2RdyFbN8;_ylv=3?p=cannon+300mm+f2.8&qt=product&cid=0&clv=0&property=auction&sub_property=auction&srch=product&aoffset=0&poffset=0&pg=1&uloc0=128&act=srp&rescheck=1\"><span>苗栗縣</span></a>\\n                            </div>\\n                 \\n                            <div class=\"item yui3-u\">\\n                                <a class=\"btn \" data-exkey=\"cluid:{cluid};atrbid:{atrbid};valueid:{valueid}\" href=\"product;_ylt=A3TWBEDEjjdVeQYA2hdyFbN8;_ylv=3?p=cannon+300mm+f2.8&qt=product&cid=0&clv=0&property=auction&sub_property=auction&srch=product&aoffset=0&poffset=0&pg=1&uloc0=256&act=srp&rescheck=1\"><span>台中市</span></a>\\n                            </div>\\n                                                \\n                        </div>\\n                                        <div class=\"row yui3-g\">\\n                 \\n                            <div class=\"item yui3-u\">\\n                                <a class=\"btn \" data-exkey=\"cluid:{cluid};atrbid:{atrbid};valueid:{valueid}\" href=\"product;_ylt=A3TWBEDEjjdVeQYA2xdyFbN8;_ylv=3?p=cannon+300mm+f2.8&qt=product&cid=0&clv=0&property=auction&sub_property=auction&srch=product&aoffset=0&poffset=0&pg=1&uloc0=512&act=srp&rescheck=1\"><span>彰化縣</span></a>\\n                            </div>\\n                 \\n                            <div class=\"item yui3-u\">\\n                                <a class=\"btn \" data-exkey=\"cluid:{cluid};atrbid:{atrbid};valueid:{valueid}\" href=\"product;_ylt=A3TWBEDEjjdVeQYA3BdyFbN8;_ylv=3?p=cannon+300mm+f2.8&qt=product&cid=0&clv=0&property=auction&sub_property=auction&srch=product&aoffset=0&poffset=0&pg=1&uloc0=1024&act=srp&rescheck=1\"><span>南投縣</span></a>\\n                            </div>\\n                 \\n                            <div class=\"item yui3-u\">\\n                                <a class=\"btn \" data-exkey=\"cluid:{cluid};atrbid:{atrbid};valueid:{valueid}\" href=\"product;_ylt=A3TWBEDEjjdVeQYA3RdyFbN8;_ylv=3?p=cannon+300mm+f2.8&qt=product&cid=0&clv=0&property=auction&sub_property=auction&srch=product&aoffset=0&poffset=0&pg=1&uloc0=2048&act=srp&rescheck=1\"><span>嘉義市</span></a>\\n                            </div>\\n                                                \\n                        </div>\\n                                        <div class=\"row yui3-g\">\\n                 \\n                            <div class=\"item yui3-u\">\\n                                <a class=\"btn \" data-exkey=\"cluid:{cluid};atrbid:{atrbid};valueid:{valueid}\" href=\"product;_ylt=A3TWBEDEjjdVeQYA3hdyFbN8;_ylv=3?p=cannon+300mm+f2.8&qt=product&cid=0&clv=0&property=auction&sub_property=auction&srch=product&aoffset=0&poffset=0&pg=1&uloc0=4096&act=srp&rescheck=1\"><span>嘉義縣</span></a>\\n                            </div>\\n                 \\n                            <div class=\"item yui3-u\">\\n                                <a class=\"btn \" data-exkey=\"cluid:{cluid};atrbid:{atrbid};valueid:{valueid}\" href=\"product;_ylt=A3TWBEDEjjdVeQYA3xdyFbN8;_ylv=3?p=cannon+300mm+f2.8&qt=product&cid=0&clv=0&property=auction&sub_property=auction&srch=product&aoffset=0&poffset=0&pg=1&uloc0=8192&act=srp&rescheck=1\"><span>雲林縣</span></a>\\n                            </div>\\n                 \\n                            <div class=\"item yui3-u\">\\n                                <a class=\"btn \" data-exkey=\"cluid:{cluid};atrbid:{atrbid};valueid:{valueid}\" href=\"product;_ylt=A3TWBEDEjjdVeQYA4BdyFbN8;_ylv=3?p=cannon+300mm+f2.8&qt=product&cid=0&clv=0&property=auction&sub_property=auction&srch=product&aoffset=0&poffset=0&pg=1&uloc0=16384&act=srp&rescheck=1\"><span>台南市</span></a>\\n                            </div>\\n                                                \\n                        </div>\\n                                        <div class=\"row yui3-g\">\\n                 \\n                            <div class=\"item yui3-u\">\\n                                <a class=\"btn \" data-exkey=\"cluid:{cluid};atrbid:{atrbid};valueid:{valueid}\" href=\"product;_ylt=A3TWBEDEjjdVeQYA4RdyFbN8;_ylv=3?p=cannon+300mm+f2.8&qt=product&cid=0&clv=0&property=auction&sub_property=auction&srch=product&aoffset=0&poffset=0&pg=1&uloc0=32768&act=srp&rescheck=1\"><span>高雄市</span></a>\\n                            </div>\\n                 \\n                            <div class=\"item yui3-u\">\\n                                <a class=\"btn \" data-exkey=\"cluid:{cluid};atrbid:{atrbid};valueid:{valueid}\" href=\"product;_ylt=A3TWBEDEjjdVeQYA4hdyFbN8;_ylv=3?p=cannon+300mm+f2.8&qt=product&cid=0&clv=0&property=auction&sub_property=auction&srch=product&aoffset=0&poffset=0&pg=1&uloc0=65536&act=srp&rescheck=1\"><span>屏東縣</span></a>\\n                            </div>\\n                 \\n                            <div class=\"item yui3-u\">\\n                                <a class=\"btn \" data-exkey=\"cluid:{cluid};atrbid:{atrbid};valueid:{valueid}\" href=\"product;_ylt=A3TWBEDEjjdVeQYA4xdyFbN8;_ylv=3?p=cannon+300mm+f2.8&qt=product&cid=0&clv=0&property=auction&sub_property=auction&srch=product&aoffset=0&poffset=0&pg=1&uloc0=131072&act=srp&rescheck=1\"><span>花蓮縣</span></a>\\n                            </div>\\n                                                \\n                        </div>\\n                                        <div class=\"row yui3-g\">\\n                 \\n                            <div class=\"item yui3-u\">\\n                                <a class=\"btn \" data-exkey=\"cluid:{cluid};atrbid:{atrbid};valueid:{valueid}\" href=\"product;_ylt=A3TWBEDEjjdVeQYA5BdyFbN8;_ylv=3?p=cannon+300mm+f2.8&qt=product&cid=0&clv=0&property=auction&sub_property=auction&srch=product&aoffset=0&poffset=0&pg=1&uloc0=262144&act=srp&rescheck=1\"><span>台東縣</span></a>\\n                            </div>\\n                 \\n                            <div class=\"item yui3-u\">\\n                                <a class=\"btn \" data-exkey=\"cluid:{cluid};atrbid:{atrbid};valueid:{valueid}\" href=\"product;_ylt=A3TWBEDEjjdVeQYA5RdyFbN8;_ylv=3?p=cannon+300mm+f2.8&qt=product&cid=0&clv=0&property=auction&sub_property=auction&srch=product&aoffset=0&poffset=0&pg=1&uloc0=524288&act=srp&rescheck=1\"><span>澎湖縣</span></a>\\n                            </div>\\n                 \\n                            <div class=\"item yui3-u\">\\n                                <a class=\"btn \" data-exkey=\"cluid:{cluid};atrbid:{atrbid};valueid:{valueid}\" href=\"product;_ylt=A3TWBEDEjjdVeQYA5hdyFbN8;_ylv=3?p=cannon+300mm+f2.8&qt=product&cid=0&clv=0&property=auction&sub_property=auction&srch=product&aoffset=0&poffset=0&pg=1&uloc0=1048576&act=srp&rescheck=1\"><span>金門</span></a>\\n                            </div>\\n                                                \\n                        </div>\\n                                        <div class=\"row yui3-g\">\\n                 \\n                            <div class=\"item yui3-u\">\\n                                <a class=\"btn \" data-exkey=\"cluid:{cluid};atrbid:{atrbid};valueid:{valueid}\" href=\"product;_ylt=A3TWBEDEjjdVeQYA5xdyFbN8;_ylv=3?p=cannon+300mm+f2.8&qt=product&cid=0&clv=0&property=auction&sub_property=auction&srch=product&aoffset=0&poffset=0&pg=1&uloc0=2097152&act=srp&rescheck=1\"><span>馬祖</span></a>\\n                            </div>\\n                 \\n                            <div class=\"item yui3-u\">\\n                                <a class=\"btn \" data-exkey=\"cluid:{cluid};atrbid:{atrbid};valueid:{valueid}\" href=\"product;_ylt=A3TWBEDEjjdVeQYA6BdyFbN8;_ylv=3?p=cannon+300mm+f2.8&qt=product&cid=0&clv=0&property=auction&sub_property=auction&srch=product&aoffset=0&poffset=0&pg=1&uloc0=4194304&act=srp&rescheck=1\"><span>美國</span></a>\\n                            </div>\\n                 \\n                            <div class=\"item yui3-u\">\\n                                <a class=\"btn \" data-exkey=\"cluid:{cluid};atrbid:{atrbid};valueid:{valueid}\" href=\"product;_ylt=A3TWBEDEjjdVeQYA6RdyFbN8;_ylv=3?p=cannon+300mm+f2.8&qt=product&cid=0&clv=0&property=auction&sub_property=auction&srch=product&aoffset=0&poffset=0&pg=1&uloc0=8388608&act=srp&rescheck=1\"><span>加拿大</span></a>\\n                            </div>\\n                                                \\n                        </div>\\n                                        <div class=\"row yui3-g\">\\n                 \\n                            <div class=\"item yui3-u\">\\n                                <a class=\"btn \" data-exkey=\"cluid:{cluid};atrbid:{atrbid};valueid:{valueid}\" href=\"product;_ylt=A3TWBEDEjjdVeQYA6hdyFbN8;_ylv=3?p=cannon+300mm+f2.8&qt=product&cid=0&clv=0&property=auction&sub_property=auction&srch=product&aoffset=0&poffset=0&pg=1&uloc0=16777216&act=srp&rescheck=1\"><span>香港</span></a>\\n                            </div>\\n                 \\n                            <div class=\"item yui3-u\">\\n                                <a class=\"btn \" data-exkey=\"cluid:{cluid};atrbid:{atrbid};valueid:{valueid}\" href=\"product;_ylt=A3TWBEDEjjdVeQYA6xdyFbN8;_ylv=3?p=cannon+300mm+f2.8&qt=product&cid=0&clv=0&property=auction&sub_property=auction&srch=product&aoffset=0&poffset=0&pg=1&uloc0=33554432&act=srp&rescheck=1\"><span>中國</span></a>\\n                            </div>\\n                 \\n                            <div class=\"item yui3-u\">\\n                                <a class=\"btn \" data-exkey=\"cluid:{cluid};atrbid:{atrbid};valueid:{valueid}\" href=\"product;_ylt=A3TWBEDEjjdVeQYA7BdyFbN8;_ylv=3?p=cannon+300mm+f2.8&qt=product&cid=0&clv=0&property=auction&sub_property=auction&srch=product&aoffset=0&poffset=0&pg=1&uloc0=67108864&act=srp&rescheck=1\"><span>日本</span></a>\\n                            </div>\\n                                                \\n                        </div>\\n                                </div>\\n            </div>\\n        </div>\\n    </div>\\n</div>\\n\\t\\t<div class=\"srp-sl srp-nd-check srp_pjax\">\\n\\t\\t\\t\\n                        <div class=\"srp-sl-block \">\\n                            <div class=\"yui3-g hd\">\\n                                <span class=\"yui3-u-1-2 a-left\">\\n                                    <span class=\"srp-ico toggle yui3-u\">\\n                                    </span>\\n                                    <span class=\"title yui3-u\">\\n                                        商品狀況                                    </span>\\n                                </span>\\n                                                            </div>\\n                            <div class=\"yui3-g bd\">\\n                            \\n                                <a href=\"product;_ylt=A3TWBEDEjjdVeQYA7RdyFbN8;_ylv=3?p=cannon+300mm+f2.8&qt=product&cid=0&clv=0&property=auction&sub_property=auction&srch=product&aoffset=0&poffset=0&pg=1&its=1&act=srp&rescheck=1\" class=\"yui3-u checkitem srp-ico \">\\n                                    <span>有照片</span>\\n                                </a>\\n                            \\n                                <a href=\"product;_ylt=A3TWBEDEjjdVeQYA7hdyFbN8;_ylv=3?p=cannon+300mm+f2.8&qt=product&cid=0&clv=0&property=auction&sub_property=auction&srch=product&aoffset=0&poffset=0&pg=1&its=4&act=srp&rescheck=1\" class=\"yui3-u checkitem srp-ico \">\\n                                    <span>全新</span>\\n                                </a>\\n                            \\n                                <a href=\"product;_ylt=A3TWBEDEjjdVeQYA7xdyFbN8;_ylv=3?p=cannon+300mm+f2.8&qt=product&cid=0&clv=0&property=auction&sub_property=auction&srch=product&aoffset=0&poffset=0&pg=1&its=8&act=srp&rescheck=1\" class=\"yui3-u checkitem srp-ico \">\\n                                    <span>二手</span>\\n                                </a>\\n                            \\n                                <a href=\"product;_ylt=A3TWBEDEjjdVeQYA8BdyFbN8;_ylv=3?p=cannon+300mm+f2.8&qt=product&cid=0&clv=0&property=auction&sub_property=auction&srch=product&aoffset=0&poffset=0&pg=1&its=16&act=srp&rescheck=1\" class=\"yui3-u checkitem srp-ico \">\\n                                    <span>直購商品</span>\\n                                </a>\\n                                \\n                            </div>\\n                        </div>\\n                        <input class=\"hide-checkbox\" type=\"hidden\" name=\"its\" value=\"\"/>\\n                </div>\\n\\t\\t<div class=\"srp-sl srp-nd-check srp_pjax\">\\n\\t\\t\\t\\n                        <div class=\"srp-sl-block \">\\n                            <div class=\"yui3-g hd\">\\n                                <span class=\"yui3-u-1-2 a-left\">\\n                                    <span class=\"srp-ico toggle yui3-u\">\\n                                    </span>\\n                                    <span class=\"title yui3-u\">\\n                                        時間                                    </span>\\n                                </span>\\n                                                            </div>\\n                            <div class=\"yui3-g bd\">\\n                            \\n                                <a href=\"product;_ylt=A3TWBEDEjjdVeQYA8RdyFbN8;_ylv=3?p=cannon+300mm+f2.8&qt=product&cid=0&clv=0&property=auction&sub_property=auction&srch=product&aoffset=0&poffset=0&pg=1&tim=1&act=srp&rescheck=1\" class=\"yui3-u checkitem srp-ico \">\\n                                    <span>新刊登</span>\\n                                </a>\\n                            \\n                                <a href=\"product;_ylt=A3TWBEDEjjdVeQYA8hdyFbN8;_ylv=3?p=cannon+300mm+f2.8&qt=product&cid=0&clv=0&property=auction&sub_property=auction&srch=product&aoffset=0&poffset=0&pg=1&tim=2&act=srp&rescheck=1\" class=\"yui3-u checkitem srp-ico \">\\n                                    <span>即將結標</span>\\n                                </a>\\n                                \\n                            </div>\\n                        </div>\\n                        <input class=\"hide-checkbox\" type=\"hidden\" name=\"tim\" value=\"\"/>\\n                </div>\\n\\t\\t<div id=\"paytype_check\" class=\"srp-sl srp-nd-check srp_pjax srp-col-1\">\\n                        <div class=\"srp-sl-block \">\\n                            <div class=\"yui3-g hd\">\\n                                <span class=\"yui3-u-2-3 a-left\">\\n                                    <span class=\"srp-ico toggle yui3-u\">\\n                                    </span>\\n                                    <span class=\"title yui3-u\">\\n                                        輕鬆付付款方式                                    </span>\\n                                </span>\\n                                                            </div>\\n                            <div class=\"yui3-g bd\">\\n                                <div id=\"pay_cash_desc\" class=\"yui3-u hide\">\\n                                    <div class=\"srp-ico hdbg\"></div>\\n                                    <div class=\"hd\" style=\"cursor: auto;\">Yahoo!奇摩輕鬆付現金接受付款方式</div>\\n                                    <div class=\"bd\">\\n                                        <ul>\\n                                            <li>帳戶餘額</li>\\n                                            <li>網路ATM</li>\\n                                            <li>實體ATM</li>\\n                                            <li>FamiPort</li>\\n                                        </ul>\\n                                    </div>\\n                                    <div class=\"ft\">\\n                                    ATM可選擇的帳號銀行有：合作金庫、華南銀行、玉山銀行、臺灣銀行、國泰世華、中國信託\\n                                    </div>\\n                                    <a class=\"close srp-ico\" href=\"#\">Close</a>\\n                                </div>\\n                            \\n                            \\n                                <a href=\"product;_ylt=A3TWBEDEjjdVeQYA8xdyFbN8;_ylv=3?p=cannon+300mm+f2.8&qt=product&cid=0&clv=0&property=auction&sub_property=auction&srch=product&aoffset=0&poffset=0&pg=1&pmt=1&act=srp&rescheck=1\" class=\"yui3-u checkitem srp-ico \">\\n                                    <span>現金付款<span class=\"desc\">(說明)</span></span>\\n                                </a>\\n                            \\n                                <a href=\"product;_ylt=A3TWBEDEjjdVeQYA9BdyFbN8;_ylv=3?p=cannon+300mm+f2.8&qt=product&cid=0&clv=0&property=auction&sub_property=auction&srch=product&aoffset=0&poffset=0&pg=1&pmt=2&act=srp&rescheck=1\" class=\"yui3-u checkitem srp-ico \">\\n                                    <span>信用卡一次付清</span>\\n                                </a>\\n                            \\n                                <a href=\"product;_ylt=A3TWBEDEjjdVeQYA9RdyFbN8;_ylv=3?p=cannon+300mm+f2.8&qt=product&cid=0&clv=0&property=auction&sub_property=auction&srch=product&aoffset=0&poffset=0&pg=1&pmt=4&act=srp&rescheck=1\" class=\"yui3-u checkitem srp-ico \">\\n                                    <span>分期0利率</span>\\n                                </a>\\n                            \\n                                <a href=\"product;_ylt=A3TWBEDEjjdVeQYA9hdyFbN8;_ylv=3?p=cannon+300mm+f2.8&qt=product&cid=0&clv=0&property=auction&sub_property=auction&srch=product&aoffset=0&poffset=0&pg=1&pmt=8&act=srp&rescheck=1\" class=\"yui3-u checkitem srp-ico \">\\n                                    <span>全家取貨付款</span>\\n                                </a>\\n                            \\n                                <a href=\"product;_ylt=A3TWBEDEjjdVeQYA9xdyFbN8;_ylv=3?p=cannon+300mm+f2.8&qt=product&cid=0&clv=0&property=auction&sub_property=auction&srch=product&aoffset=0&poffset=0&pg=1&pmt=16&act=srp&rescheck=1\" class=\"yui3-u checkitem srp-ico \">\\n                                    <span>7-11取貨付款</span>\\n                                </a>\\n                                \\n                            </div>\\n                        </div>\\n                        <input class=\"hide-checkbox\" type=\"hidden\" name=\"pmt\" value=\"\"/>\\n</div>\\n\\n<div id=\"related-store\" class=\"srp-sl srp_pjax\">\\n    <div class=\"srp-sl-block\">\\n        <div class=\"yui3-g hd\">\\n            <span class=\"yui3-u-1-2 a-left yui3-g\">\\n                <span class=\"srp-ico toggle yui3-u\">\\n                </span>\\n                <span class=\"title yui3-u\">\\n                賣家評價                </span>\\n            </span>\\n\\t    \\t        </div>\\n        <div class=\"bd\">\\n            <div class=\"btn-menu expand-menu\">\\n                <div class=\"l-btn\">\\n                    <div class=\"row yui3-g\">\\n                        <div class=\"item yui3-u\">\\n                            <a class=\"btn \" href=\"product;_ylt=A3TWBEDEjjdVeQYA.BdyFbN8;_ylv=3?p=cannon+300mm+f2.8&qt=product&cid=0&clv=0&property=auction&sub_property=auction&srch=product&aoffset=0&poffset=0&pg=1&credit=1&act=srp&rescheck=1\">\\n                                <span>\\n                                    1~100                                </span>\\n                            </a>\\n                        </div>\\n                    </div>\\n                    <div class=\"row yui3-g\">\\n                        <div class=\"item yui3-u\">\\n                            <a class=\"btn \" href=\"product;_ylt=A3TWBEDEjjdVeQYA.RdyFbN8;_ylv=3?p=cannon+300mm+f2.8&qt=product&cid=0&clv=0&property=auction&sub_property=auction&srch=product&aoffset=0&poffset=0&pg=1&credit=2&act=srp&rescheck=1\">\\n                                <span>\\n                                    高於100                                </span>\\n                            </a>\\n                        </div>\\n                    </div>\\n                    <div class=\"row yui3-g\">\\n                        <div class=\"item yui3-u\">\\n                            <a class=\"btn \" href=\"product;_ylt=A3TWBEDEjjdVeQYA.hdyFbN8;_ylv=3?p=cannon+300mm+f2.8&qt=product&cid=0&clv=0&property=auction&sub_property=auction&srch=product&aoffset=0&poffset=0&pg=1&credit=3&act=srp&rescheck=1\">\\n                                <span>\\n                                    高於10000                                </span>\\n                            </a>\\n                        </div>\\n                    </div>\\n                 \\n                </div>\\n            </div>\\n        </div>\\n    </div>\\n</div>\\n\\n\\n\\t\\t<div class=\"srp-sl srp-nd-check srp_pjax\">\\n\\t\\t\\t\\n                        <div class=\"srp-sl-block \">\\n                            <div class=\"yui3-g hd\">\\n                                <span class=\"yui3-u-1-2 a-left\">\\n                                    <span class=\"srp-ico toggle yui3-u\">\\n                                    </span>\\n                                    <span class=\"title yui3-u\">\\n                                        賣家資格                                    </span>\\n                                </span>\\n                                                            </div>\\n                            <div class=\"yui3-g bd\">\\n                            \\n                                <a href=\"product;_ylt=A3TWBEDEjjdVeQYA.xdyFbN8;_ylv=3?p=cannon+300mm+f2.8&qt=product&cid=0&clv=0&property=auction&sub_property=auction&srch=product&aoffset=0&poffset=0&pg=1&stg=2&act=srp&rescheck=1\" class=\"yui3-u checkitem srp-ico \">\\n                                    <span>店舖</span>\\n                                </a>\\n                                \\n                            </div>\\n                        </div>\\n                        <input class=\"hide-checkbox\" type=\"hidden\" name=\"stg\" value=\"\"/>\\n                </div>\\n<div id=\"related-store\" class=\"srp-sl sp-menu\">\\n    <div class=\"srp-sl-block\">\\n        <div class=\"yui3-g hd\">\\n            <span class=\"yui3-u-1-2 a-left yui3-g\">\\n                <span class=\"srp-ico toggle yui3-u\">\\n                </span>\\n                <span class=\"title yui3-u\">\\n                符合店舖                </span>\\n            </span>\\n        </div>\\n        <div class=\"bd\">\\n            <div class=\"btn-menu expand-menu\">\\n                <div class=\"l-btn\">\\n\\t\\t\\t\\t                    <div class=\"row yui3-g\">\\n                        <div class=\"item yui3-u \">\\n                            <a class=\"btn\" href=\"https://tw.bid.yahoo.com/tw/user/y8082587130;_ylt=A3TWBEDEjjdVeQYArBdyFbN8;_ylv=3\">\\n                                <div class=\"content\">\\n                                    數位達人塘鵝暴風箱現貨展示中                                    <span class=\"num\">(12)</span>\\n                                </div>\\n                            </a>\\n                        </div>\\n                    </div>\\n\\t\\t\\t\\t                    <div class=\"row yui3-g\">\\n                        <div class=\"item yui3-u \">\\n                            <a class=\"btn\" href=\"https://tw.bid.yahoo.com/tw/user/dcsale0106;_ylt=A3TWBEDEjjdVeQYArRdyFbN8;_ylv=3\">\\n                                <div class=\"content\">\\n                                    《久東光學＊公館》                                    <span class=\"num\">(7)</span>\\n                                </div>\\n                            </a>\\n                        </div>\\n                    </div>\\n\\t\\t\\t\\t                    <div class=\"row yui3-g\">\\n                        <div class=\"item yui3-u \">\\n                            <a class=\"btn\" href=\"https://tw.bid.yahoo.com/tw/user/y6871761427;_ylt=A3TWBEDEjjdVeQYArhdyFbN8;_ylv=3\">\\n                                <div class=\"content\">\\n                                    彩色鳥攝影器材出租                                    <span class=\"num\">(7)</span>\\n                                </div>\\n                            </a>\\n                        </div>\\n                    </div>\\n\\t\\t\\t\\t                    <div class=\"row yui3-g\">\\n                        <div class=\"item yui3-u \">\\n                            <a class=\"btn\" href=\"https://tw.bid.yahoo.com/tw/user/Y3190273151;_ylt=A3TWBEDEjjdVeQYArxdyFbN8;_ylv=3\">\\n                                <div class=\"content\">\\n                                    永佳相機                                    <span class=\"num\">(6)</span>\\n                                </div>\\n                            </a>\\n                        </div>\\n                    </div>\\n\\t\\t\\t\\t                    <div class=\"row yui3-g\">\\n                        <div class=\"item yui3-u \">\\n                            <a class=\"btn\" href=\"https://tw.bid.yahoo.com/tw/user/ropin899;_ylt=A3TWBEDEjjdVeQYAsBdyFbN8;_ylv=3\">\\n                                <div class=\"content\">\\n                                    【MyDC旺全】                                    <span class=\"num\">(5)</span>\\n                                </div>\\n                            </a>\\n                        </div>\\n                    </div>\\n\\t\\t\\t\\t                    <div class=\"row yui3-g\">\\n                        <div class=\"item yui3-u hide\">\\n                            <a class=\"btn\" href=\"https://tw.bid.yahoo.com/tw/user/y1723970737;_ylt=A3TWBEDEjjdVeQYAsRdyFbN8;_ylv=3\">\\n                                <div class=\"content\">\\n                                    集英堂&#20889;真機                                    <span class=\"num\">(4)</span>\\n                                </div>\\n                            </a>\\n                        </div>\\n                    </div>\\n\\t\\t\\t\\t                    <div class=\"row yui3-g\">\\n                        <div class=\"item yui3-u hide\">\\n                            <a class=\"btn\" href=\"https://tw.bid.yahoo.com/tw/user/y5175105678;_ylt=A3TWBEDEjjdVeQYAshdyFbN8;_ylv=3\">\\n                                <div class=\"content\">\\n                                    !!在地台南囡仔開的專業相機店!!                                    <span class=\"num\">(3)</span>\\n                                </div>\\n                            </a>\\n                        </div>\\n                    </div>\\n\\t\\t\\t\\t                    <div class=\"row yui3-g\">\\n                        <div class=\"item yui3-u hide\">\\n                            <a class=\"btn\" href=\"https://tw.bid.yahoo.com/tw/user/y9313691215;_ylt=A3TWBEDEjjdVeQYAsxdyFbN8;_ylv=3\">\\n                                <div class=\"content\">\\n                                    日多數位                                    <span class=\"num\">(3)</span>\\n                                </div>\\n                            </a>\\n                        </div>\\n                    </div>\\n\\t\\t\\t\\t                    <div class=\"row yui3-g\">\\n                        <div class=\"item yui3-u hide\">\\n                            <a class=\"btn\" href=\"https://tw.bid.yahoo.com/tw/user/jsfotoms65;_ylt=A3TWBEDEjjdVeQYAtBdyFbN8;_ylv=3\">\\n                                <div class=\"content\">\\n                                    ＠佳鑫相機＠                                    <span class=\"num\">(3)</span>\\n                                </div>\\n                            </a>\\n                        </div>\\n                    </div>\\n\\t\\t\\t\\t                    <div class=\"row yui3-g\">\\n                        <div class=\"item yui3-u hide\">\\n                            <a class=\"btn\" href=\"https://tw.bid.yahoo.com/tw/user/focus0601;_ylt=A3TWBEDEjjdVeQYAtRdyFbN8;_ylv=3\">\\n                                <div class=\"content\">\\n                                    老字號 中和&#21894;安數位                                    <span class=\"num\">(3)</span>\\n                                </div>\\n                            </a>\\n                        </div>\\n                    </div>\\n\\t\\t\\t\\t                    <div class=\"row yui3-g\">\\n                        <div class=\"item yui3-u hide\">\\n                            <a class=\"btn\" href=\"https://tw.bid.yahoo.com/tw/user/kercherkao;_ylt=A3TWBEDEjjdVeQYAthdyFbN8;_ylv=3\">\\n                                <div class=\"content\">\\n                                    可傑 單眼相機門市加碼送贈品                                    <span class=\"num\">(2)</span>\\n                                </div>\\n                            </a>\\n                        </div>\\n                    </div>\\n\\t\\t\\t\\t                    <div class=\"row yui3-g\">\\n                        <div class=\"item yui3-u hide\">\\n                            <a class=\"btn\" href=\"https://tw.bid.yahoo.com/tw/user/y5776920996;_ylt=A3TWBEDEjjdVeQYAtxdyFbN8;_ylv=3\">\\n                                <div class=\"content\">\\n                                    【GoGoJapan】北市民權西路122號                                    <span class=\"num\">(2)</span>\\n                                </div>\\n                            </a>\\n                        </div>\\n                    </div>\\n\\t\\t\\t\\t                    <div class=\"row yui3-g\">\\n                        <div class=\"item yui3-u hide\">\\n                            <a class=\"btn\" href=\"https://tw.bid.yahoo.com/tw/user/y1015519102;_ylt=A3TWBEDEjjdVeQYAuBdyFbN8;_ylv=3\">\\n                                <div class=\"content\">\\n                                    中野數位                                    <span class=\"num\">(2)</span>\\n                                </div>\\n                            </a>\\n                        </div>\\n                    </div>\\n\\t\\t\\t\\t                    <div class=\"row yui3-g\">\\n                        <div class=\"item yui3-u hide\">\\n                            <a class=\"btn\" href=\"https://tw.bid.yahoo.com/tw/user/rawson0055;_ylt=A3TWBEDEjjdVeQYAuRdyFbN8;_ylv=3\">\\n                                <div class=\"content\">\\n                                    羅森資訊                                    <span class=\"num\">(2)</span>\\n                                </div>\\n                            </a>\\n                        </div>\\n                    </div>\\n\\t\\t\\t\\t                    <div class=\"row yui3-g\">\\n                        <div class=\"item yui3-u hide\">\\n                            <a class=\"btn\" href=\"https://tw.bid.yahoo.com/tw/user/y1302531753;_ylt=A3TWBEDEjjdVeQYAuhdyFbN8;_ylv=3\">\\n                                <div class=\"content\">\\n                                    大元3C【搭機購包享優惠實施中】                                    <span class=\"num\">(2)</span>\\n                                </div>\\n                            </a>\\n                        </div>\\n                    </div>\\n\\t\\t\\t\\t                    <div class=\"row yui3-g\">\\n                        <div class=\"item yui3-u hide\">\\n                            <a class=\"btn\" href=\"https://tw.bid.yahoo.com/tw/user/Y5108361206;_ylt=A3TWBEDEjjdVeQYAuxdyFbN8;_ylv=3\">\\n                                <div class=\"content\">\\n                                    國維數位科技                                    <span class=\"num\">(1)</span>\\n                                </div>\\n                            </a>\\n                        </div>\\n                    </div>\\n\\t\\t\\t\\t                    <div class=\"row yui3-g\">\\n                        <div class=\"item yui3-u hide\">\\n                            <a class=\"btn\" href=\"https://tw.bid.yahoo.com/tw/user/dpo168;_ylt=A3TWBEDEjjdVeQYAvBdyFbN8;_ylv=3\">\\n                                <div class=\"content\">\\n                                    德寶光學數位影像專賣店                                    <span class=\"num\">(1)</span>\\n                                </div>\\n                            </a>\\n                        </div>\\n                    </div>\\n\\t\\t\\t\\t                    <div class=\"row yui3-g\">\\n                        <div class=\"item yui3-u hide\">\\n                            <a class=\"btn\" href=\"https://tw.bid.yahoo.com/tw/user/pjack1;_ylt=A3TWBEDEjjdVeQYAvRdyFbN8;_ylv=3\">\\n                                <div class=\"content\">\\n                                    東明數位－相機王(R)                                    <span class=\"num\">(1)</span>\\n                                </div>\\n                            </a>\\n                        </div>\\n                    </div>\\n\\t\\t\\t\\t                    <div class=\"row yui3-g\">\\n                        <div class=\"item yui3-u hide\">\\n                            <a class=\"btn\" href=\"https://tw.bid.yahoo.com/tw/user/y7277178569;_ylt=A3TWBEDEjjdVeQYAvhdyFbN8;_ylv=3\">\\n                                <div class=\"content\">\\n                                    ~視冠‧台中~線上刷卡免手續費                                    <span class=\"num\">(1)</span>\\n                                </div>\\n                            </a>\\n                        </div>\\n                    </div>\\n\\t\\t\\t\\t                    <div class=\"row yui3-g\">\\n                        <div class=\"item yui3-u hide\">\\n                            <a class=\"btn\" href=\"https://tw.bid.yahoo.com/tw/user/y3776281487;_ylt=A3TWBEDEjjdVeQYAvxdyFbN8;_ylv=3\">\\n                                <div class=\"content\">\\n                                    【薪創數位‧台北光華店】                                    <span class=\"num\">(1)</span>\\n                                </div>\\n                            </a>\\n                        </div>\\n                    </div>\\n\\t\\t\\t\\t                    <div class=\"row yui3-g\">\\n                        <div class=\"item yui3-u hide\">\\n                            <a class=\"btn\" href=\"https://tw.bid.yahoo.com/tw/user/y2653033175;_ylt=A3TWBEDEjjdVeQYAwBdyFbN8;_ylv=3\">\\n                                <div class=\"content\">\\n                                    【薪創數位‧新竹NOVA店】                                    <span class=\"num\">(1)</span>\\n                                </div>\\n                            </a>\\n                        </div>\\n                    </div>\\n\\t\\t\\t\\t                    <div class=\"row yui3-g\">\\n                        <div class=\"item yui3-u hide\">\\n                            <a class=\"btn\" href=\"https://tw.bid.yahoo.com/tw/user/y6735282102;_ylt=A3TWBEDEjjdVeQYAwRdyFbN8;_ylv=3\">\\n                                <div class=\"content\">\\n                                    薪創數位【台中公益店】                                    <span class=\"num\">(1)</span>\\n                                </div>\\n                            </a>\\n                        </div>\\n                    </div>\\n\\t\\t\\t\\t                    <div class=\"row yui3-g\">\\n                        <div class=\"item yui3-u hide\">\\n                            <a class=\"btn\" href=\"https://tw.bid.yahoo.com/tw/user/y3629001852;_ylt=A3TWBEDEjjdVeQYAwhdyFbN8;_ylv=3\">\\n                                <div class=\"content\">\\n                                    LaCo!*Digital Shop*                                    <span class=\"num\">(1)</span>\\n                                </div>\\n                            </a>\\n                        </div>\\n                    </div>\\n\\t\\t\\t\\t                    <div class=\"row yui3-g\">\\n                        <div class=\"item yui3-u hide\">\\n                            <a class=\"btn\" href=\"https://tw.bid.yahoo.com/tw/user/y1278901191;_ylt=A3TWBEDEjjdVeQYAwxdyFbN8;_ylv=3\">\\n                                <div class=\"content\">\\n                                    小齊的家                                    <span class=\"num\">(1)</span>\\n                                </div>\\n                            </a>\\n                        </div>\\n                    </div>\\n\\t\\t\\t\\t                    <div class=\"row yui3-g\">\\n                        <div class=\"item yui3-u hide\">\\n                            <a class=\"btn\" href=\"https://tw.bid.yahoo.com/tw/user/Y7119931857;_ylt=A3TWBEDEjjdVeQYAxBdyFbN8;_ylv=3\">\\n                                <div class=\"content\">\\n                                    聖瑋照相器材行                                    <span class=\"num\">(1)</span>\\n                                </div>\\n                            </a>\\n                        </div>\\n                    </div>\\n\\t\\t\\t\\t                    <div class=\"row yui3-g\">\\n                        <div class=\"item yui3-u hide\">\\n                            <a class=\"btn\" href=\"https://tw.bid.yahoo.com/tw/user/Y6915516577;_ylt=A3TWBEDEjjdVeQYAxRdyFbN8;_ylv=3\">\\n                                <div class=\"content\">\\n                                    兆華國際有限公司                                    <span class=\"num\">(1)</span>\\n                                </div>\\n                            </a>\\n                        </div>\\n                    </div>\\n\\t\\t\\t\\t                                        <div class=\"row toggle-btn collapse\">\\n                        <div class=\"item yui3-u\">\\n                            <span class=\"btn yui3-g\" href=\"#\">\\n                                <span class=\"yui3-u-1-2\">\\n                                    <span class=\"more\">更多</span>\\n                                    <span class=\"less\">收合</span>\\n                                </span>\\n                                <span class=\"yui3-u-1-2 a-right\">\\n                                    <span class=\"srp-ico\"></span>\\n                                </span>\\n                            </span>\\n                        </div>\\n                    </div>\\n                                    </div>\\n            </div>\\n        </div>\\n    </div>\\n</div>\\n\\n                        \\n                        <!-- Begin:  YSM West SRP  10 Ads     -->\\n<iframe src=\"https://s.yimg.com/bf/ysm/auction/west/auction_west_srp_s.html?v=873982490&ctxtID=&p=cannon 300mm f2.8&bcm=%7C%7C%7C\" \\nwidth=\"200\" height=\"2400\" marginwidth=\"0\" marginheight=\"0\" hspace=\"0\" vspace=\"0\" frameborder=\"0\" scrolling=\"NO\" ></iframe>\\n<!-- End:  YSM West SRP  10 Ads     -->\\n\\n                        \\n<!--sky ad start //-->\\n<div id=\"yaumedsky\" class=\"yaumodule listpane\">\\n\\t<div class=\"hd\"><h3> </h3></div>\\n\\t\\t<div class=\"bd\">\\n\\t\\t\\t<div class=\"bdw\">\\n\\t\\t\\t\\t<!-- APT Vendor: Right Media, Name: Standard Graphical -->\\n<SCRIPT TYPE=\"text/javascript\" SRC=\"https://ads.yahoo.com/st?ad_type=ad&publisher_blob=${RS}|_1SSfTIwMy5H1wvrIkbuTBC7MTE4LgAAAAD.MMd6|2092111218|SKY|1429704388.481|${SECURE-DARLA}&cnt=yan&ad_size=160x600&site=155513&section_code=266727449&ypos=SKY&uccc=${UCCC}&cb=1429704388.481&yud=smpv%3d3%26ed%3dzxE1dF31xQzMnXQidpJpWHc1xnH4&K=1&pub_redirect_unencoded=1&pub_url=https%3A%2F%2Ftw.search.bid.yahoo.com%2Fsearch%2Fauction%2Fproduct%3Fp%3Dcannon%2B300mm%2Bf2.8%26qt%3Dproduct%26cid%3D0%26clv%3D0&pub_redirect=https://beap-bc.yahoo.com/yc/YnY9MS4wLjAmYnM9KDE3ZXZzNzNkZShnaWQkXzFTU2ZUSXdNeTVIMXd2cklrYnVUQkM3TVRFNExnQUFBQUQuTU1kNixzdCQxNDI5NzA0Mzg4NDU1NDA3LHNpJDIyOTU2MSxzcCQyMDkyMTExMjE4LGNyJDEyNzY5NzU1NjEsdiQyLjAsYWlkJDB1WjBuTW9yd3VJLSxjdCQyNSx5YngkcHNFTUxuc1ZRSzFoNDkwajlMTUNkUSxiaSQyMjEyNTI1NjEsbW1lJDQwMTY1MTYyMzg2NjUwNDM4NDMsbG5nJHpoLXR3LHIkMCx5b28kMSxhZ3AkMjY2NzI3NDQ5LGFwJFNLWSkp/0/*\"></SCRIPT><noscript><IFRAME ALLOWTRANSPARENCY=TRUE FRAMEBORDER=0 MARGINWIDTH=0 MARGINHEIGHT=0 SCROLLING=NO WIDTH=160 HEIGHT=600 SRC=\"https://ads.yahoo.com/st?ad_type=iframe&publisher_blob=${RS}|_1SSfTIwMy5H1wvrIkbuTBC7MTE4LgAAAAD.MMd6|2092111218|SKY|1429704388.481|${SECURE-DARLA}&cnt=yan&ad_size=160x600&site=155513&section_code=266727449&ypos=SKY&cb=1429704388.481&yud=smpv%3d3%26ed%3dzxE1dF31xQzMnXQidpJpWHc1xnH4&K=1&pub_url=https%3A%2F%2Ftw.search.bid.yahoo.com%2Fsearch%2Fauction%2Fproduct%3Fp%3Dcannon%2B300mm%2Bf2.8%26qt%3Dproduct%26cid%3D0%26clv%3D0&promote_sizes=1&pub_redirect_unencoded=1&pub_redirect=https://beap-bc.yahoo.com/yc/YnY9MS4wLjAmYnM9KDE3ZW5xNXA0NChnaWQkXzFTU2ZUSXdNeTVIMXd2cklrYnVUQkM3TVRFNExnQUFBQUQuTU1kNixzdCQxNDI5NzA0Mzg4NDU1NDA3LHNpJDIyOTU2MSxzcCQyMDkyMTExMjE4LGNyJDEyNzY5NzU1NjEsdiQyLjAsYWlkJDB1WjBuTW9yd3VJLSxjdCQyNSx5YngkcHNFTUxuc1ZRSzFoNDkwajlMTUNkUSxiaSQyMjEyNTI1NjEsbW1lJDQwMTY1MTYyMzg2NjUwNDM4NDMsbG5nJHpoLXR3LHIkMSx5b28kMSxhZ3AkMjY2NzI3NDQ5LGFwJFNLWSkp/0/*\"></IFRAME></noscript><script>var url = \"\"; if(url && url.search(\"http\") != -1){new Image().src = url;}</script><!--QYZ 221252561,1276975561,202.43.201.79;;SKY;2092111218;1;--><script language=javascript>\\nif(window.xzq_d==null)window.xzq_d=new Object();\\nwindow.xzq_d[\\'0uZ0nMorwuI-\\']=\\'(as$1386ud2l4,aid$0uZ0nMorwuI-,bi$221252561,agp$266727449,cr$1276975561,ct$25,at$HR,eob$gd1_match_id=-1:ypos=SKY)\\';\\n</script><noscript><img width=1 height=1 alt=\"\" src=\"https://csc.beap.bc.yahoo.com/yi?bv=1.0.0&bs=(135oc6drd(gid$_1SSfTIwMy5H1wvrIkbuTBC7MTE4LgAAAAD.MMd6,st$1429704388455407,si$229561,sp$2092111218,pv$1,v$2.0))&t=JR_3-DR_3&al=(as$1386ud2l4,aid$0uZ0nMorwuI-,bi$221252561,agp$266727449,cr$1276975561,ct$25,at$HR,eob$gd1_match_id=-1:ypos=SKY)\"></noscript>\\t\\t\\t</div>\\n\\t\\t</div>\\n\\t<div class=\"ft\"><div></div></div>\\n</div>\\n<!--sky ad end //-->\\n                    </div>\\n                    <div id=\"srp_result\" class=\"yui3-u\">\\n                        <div id=\"srp_speller\" class=\"srp-ico yui3-g\">\\n\\t<span class=\"yui3-u\">我們也同時搜尋 canon 300mm f2.8 只看</span><a class=\"yui3-u\" href=\"product;_ylt=A3TWBEDEjjdVeQYAqBdyFbN8;_ylv=3?qrw=0&nobf=1&act=srp&p=cannon+300mm+f2.8\">cannon 300mm f2.8</a> <span class=\"yui3-u\">搜尋結果嗎?</span></div>\\n                                                \\n                            <div id=\"srp_sortview\" class=\"yui3-g srp_pjax trackitem\" data-sec=\"sort\">\\n        <div class=\"yui3-u srp-tab\">\\n            <ul class=\"yui3-g\">\\n                <li class=\"yui3-u all selected\"><div class=\"selected-btn\"><div class=\"name\">全部</div><div class=\"srp-total\">(94)</div></div></li>                <li class=\"yui3-u hasbuyp\"><a href=\"product;_ylt=A3TWBEDEjjdVeQYA_RdyFbN8;_ylv=3?p=cannon+300mm+f2.8&qt=product&cid=0&clv=0&property=auction&sub_property=auction&srch=product&aoffset=0&poffset=0&pg=1&acu=1&sort=rel&act=srp&rescheck=1\">立刻買</a></li>                <li class=\"yui3-u bid\"><a href=\"product;_ylt=A3TWBEDEjjdVeQYA_hdyFbN8;_ylv=3?p=cannon+300mm+f2.8&qt=product&cid=0&clv=0&property=auction&sub_property=auction&srch=product&aoffset=0&poffset=0&pg=1&acu=2&sort=etime&act=srp&rescheck=1\">競標</a></li>            </ul>\\n            <div id=\"buynow_hint\" class=\"srp-ico hide\">\\n                <div class=\"close\"></div>\\n            </div>\\n        </div>\\n        <div class=\"yui3-u srp-sorttype\">\\n            <div class=\"yui3-g\">\\n                <div class=\"yui3-u group rel\">\\n                    <a class=\"label yui3-g\" href=\"product;_ylt=A3TWBEDEjjdVeQYA_xdyFbN8;_ylv=3?p=cannon+300mm+f2.8&qt=product&cid=0&clv=0&property=auction&sub_property=auction&srch=product&aoffset=0&poffset=0&pg=1&sort=rel&nst=1&act=srp&rescheck=1\"><span class=\"yui3-u\">最相關</span></a>                </div>\\n                 <div class=\"yui3-u group rel\">\\n                    <a class=\"label yui3-g\" href=\"product;_ylt=A3TWBEDEjjdVeQYAABhyFbN8;_ylv=3?p=cannon+300mm+f2.8&qt=product&cid=0&clv=0&property=auction&sub_property=auction&srch=product&aoffset=0&poffset=0&pg=1&sort=popular&nst=1&act=srp&rescheck=1\"><span class=\"yui3-u\">人氣排行</span></a>                </div>\\n                            <div class=\"yui3-u group price\">\\n                    <div class=\"label yui3-g \"><!--\\n                        --><span class=\"yui3-u\">價格</span><!--\\n                        --><span class=\"yui3-u srp-ico\"></span><!--\\n                        --><div class=\"srp-sort-panel yui3-u\">\\n                            <ul>\\n                                                            <li class=\"item \">\\n                                    <a class=\"yui3-g\" href=\"product;_ylt=A3TWBEDEjjdVeQYAARhyFbN8;_ylv=3?p=cannon+300mm+f2.8&qt=product&cid=0&clv=0&property=auction&sub_property=auction&srch=product&aoffset=0&poffset=0&pg=1&sort=curp&nst=1&act=srp&rescheck=1\">\\n                                        <span class=\"yui3-u\">商品價：低到高</span>\\n                                                                            </a>\\n                                </li>\\n                                                            <li class=\"item \">\\n                                    <a class=\"yui3-g\" href=\"product;_ylt=A3TWBEDEjjdVeQYAAhhyFbN8;_ylv=3?p=cannon+300mm+f2.8&qt=product&cid=0&clv=0&property=auction&sub_property=auction&srch=product&aoffset=0&poffset=0&pg=1&sort=-curp&nst=1&act=srp&rescheck=1\">\\n                                        <span class=\"yui3-u\">商品價：高到低</span>\\n                                                                            </a>\\n                                </li>\\n                                                            <li class=\"item \">\\n                                    <a class=\"yui3-g\" href=\"product;_ylt=A3TWBEDEjjdVeQYAAxhyFbN8;_ylv=3?p=cannon+300mm+f2.8&qt=product&cid=0&clv=0&property=auction&sub_property=auction&srch=product&aoffset=0&poffset=0&pg=1&sort=totalp&nst=1&act=srp&rescheck=1\">\\n                                        <span class=\"yui3-u\">商品價+運費：低到高</span>\\n                                                                                <span class=\"srp-ico hint yui3-u\">\\n                                            <span>此排序不含面交/自取/不寄送的商品</span>\\n                                        </span>\\n                                                                            </a>\\n                                </li>\\n                                                            <li class=\"item \">\\n                                    <a class=\"yui3-g\" href=\"product;_ylt=A3TWBEDEjjdVeQYABBhyFbN8;_ylv=3?p=cannon+300mm+f2.8&qt=product&cid=0&clv=0&property=auction&sub_property=auction&srch=product&aoffset=0&poffset=0&pg=1&sort=-totalp&nst=1&act=srp&rescheck=1\">\\n                                        <span class=\"yui3-u\">商品價+運費：高到低</span>\\n                                                                                <span class=\"srp-ico hint yui3-u\">\\n                                            <span>此排序不含面交/自取/不寄送的商品</span>\\n                                        </span>\\n                                                                            </a>\\n                                </li>\\n                                                        </ul>\\n                        </div><!--\\n                    --></div>\\n                </div>\\n                            <div class=\"yui3-u group time\">\\n                    <div class=\"label yui3-g selected\"><!--\\n                        --><span class=\"yui3-u\">剩餘時間：少到多</span><!--\\n                        --><span class=\"yui3-u srp-ico\"></span><!--\\n                        --><div class=\"srp-sort-panel yui3-u\">\\n                            <ul>\\n                                                            <li class=\"item selected srp-ico\">\\n                                    <a class=\"yui3-g\" href=\"product;_ylt=A3TWBEDEjjdVeQYABRhyFbN8;_ylv=3?p=cannon+300mm+f2.8&qt=product&cid=0&clv=0&property=auction&sub_property=auction&srch=product&aoffset=0&poffset=0&pg=1&sort=etime&nst=1&act=srp&rescheck=1\">\\n                                        <span class=\"yui3-u\">剩餘時間：少到多</span>\\n                                                                            </a>\\n                                </li>\\n                                                            <li class=\"item \">\\n                                    <a class=\"yui3-g\" href=\"product;_ylt=A3TWBEDEjjdVeQYABhhyFbN8;_ylv=3?p=cannon+300mm+f2.8&qt=product&cid=0&clv=0&property=auction&sub_property=auction&srch=product&aoffset=0&poffset=0&pg=1&sort=-etime&nst=1&act=srp&rescheck=1\">\\n                                        <span class=\"yui3-u\">剩餘時間：多到少</span>\\n                                                                            </a>\\n                                </li>\\n                                                            <li class=\"item \">\\n                                    <a class=\"yui3-g\" href=\"product;_ylt=A3TWBEDEjjdVeQYABxhyFbN8;_ylv=3?p=cannon+300mm+f2.8&qt=product&cid=0&clv=0&property=auction&sub_property=auction&srch=product&aoffset=0&poffset=0&pg=1&sort=-ptime&nst=1&act=srp&rescheck=1\">\\n                                        <span class=\"yui3-u\">刊登時間：新到舊</span>\\n                                                                            </a>\\n                                </li>\\n                                                            <li class=\"item \">\\n                                    <a class=\"yui3-g\" href=\"product;_ylt=A3TWBEDEjjdVeQYACBhyFbN8;_ylv=3?p=cannon+300mm+f2.8&qt=product&cid=0&clv=0&property=auction&sub_property=auction&srch=product&aoffset=0&poffset=0&pg=1&sort=ptime&nst=1&act=srp&rescheck=1\">\\n                                        <span class=\"yui3-u\">刊登時間：舊到新</span>\\n                                                                            </a>\\n                                </li>\\n                                                        </ul>\\n                        </div><!--\\n                    --></div>\\n                </div>\\n                        </div>\\n        </div>\\n        <div class=\"yui3-u srp-viewtype\">\\n            <div class=\"yui3-g srp-ico grid-type\"><a class=\"yui3-u\" href=\"product;_ylt=A3TWBEDEjjdVeQYACRhyFbN8;_ylv=3?p=cannon+300mm+f2.8&qt=product&cid=0&clv=0&property=auction&sub_property=auction&srch=product&show=pic&show_flag=1&view=pic&nst=1&act=srp&rescheck=1\" title=\"圖片模式\"></a><span class=\"yui3-u\"></span></div>        </div>\\n    </div>\\n                         \\n\\t\\t\\t\\t            <div id=\"srp_sl_result\">\\n                                \\n<div id=\"sr\" class=\"rpd-mod\"><a href=\"2092111218\"></a></div>\\n<a class=\"guidetile\" accesskey=\"c\" href=\"#searchResult\" name=\"searhResult\">:::搜尋結果列表</a>\\n<div id=\"srp_result_list\" class=\"trackitem\" data-sec=\"sr\">\\n    <div class=\"srp-ptitle yui3-g\">\\n        <div class=\"yui3-u-1-2\">\\n            <span class=\"title\">全部商品</span>\\n        </div>\\n    </div>\\n    <div class=\"list-type yui3-g\"><!--\\n    --><div class=\"att-item item \" data-url=\"https://login.yahoo.com/config/login?.intl=tw&.pd=c%3D3Chd7Yq72e502eh4R99sgUvi5Q--&.done=https%3A%2F%2Ftw.search.bid.yahoo.com%2Fsearch%2Fauction%2Fproduct%3Fp%3Dcannon%2B300mm%2Bf2.8%26qt%3Dproduct%26cid%3D0%26clv%3D0&rr=4285762340\">\\n        <div class=\"wrap yui3-g\">\\n            <div class=\"srp-pdimage yui3-u\">\\n                <a href=\"https://tw.bid.yahoo.com/item/e75697627;_ylt=A3TWBEDEjjdVeQYADBhyFbN8;_ylv=3\" title=\"【薪創台中】Canon EF 300mm F2.8 L IS II USM 彩虹公司貨 望遠定焦鏡 適 60D 6D 7D 5D3 打鳥 二代鏡\">\\n                    <img width=\"150\" \\n                    alt=\"【薪創台中】Canon EF 300mm F2.8 L IS II USM 彩虹公司貨 望遠定焦鏡 適 60D 6D 7D 5D3 打鳥 二代鏡\"\\n                    src=\"https://s.yimg.com/aw/api/res/1.2/ckDb_u5CFw.jlA9e_xEggw--/YXBwaWQ9eXR3YXVjdGlvbnNlcnZpY2U7aD0zMDA7cT04NTtzcj0xLjI7c3M9MS4yO3c9NDAw/http://nevec-img.zenfs.com/prod/tw_ec05-7/9e10dcef-ee19-46e0-b9dc-8aad7673e305.jpg\">\\n                </a>\\n            </div>\\n            <div class=\"yui3-u srp-pdcontent\">\\n                <div class=\"srp-pdtitle yui3-g\">\\n                                        <span class=\"srp-tag bid yui3-u\">競標品</span>\\n                                        <div class=\"title yui3-u\">\\n                        <a class=\"ellipsis\" href=\"https://tw.bid.yahoo.com/item/e75697627;_ylt=A3TWBEDEjjdVeQYACxhyFbN8;_ylv=3\" title=\"【薪創台中】Canon EF 300mm F2.8 L IS II USM 彩虹公司貨 望遠定焦鏡 適 60D 6D 7D 5D3 打鳥 二代鏡\">【薪創台中】Canon EF 300mm F2.8 L IS II USM 彩虹公司貨 望遠定焦鏡 適 60D 6D 7D 5D3 打鳥 二代鏡</a>\\n                    </div>\\n                </div>\\n                <div class=\"srp-pddetail yui3-g\">\\n                    <div class=\"srp-pdlblock yui3-u\">\\n                        <div class=\"yui3-g\">\\n                            <div class=\"srp-pdblock1 yui3-u\">\\n                                <div class=\"srp-bidprice yui3-g\">\\n                                    <span class=\"yui3-u title\">出價</span>\\n                                    <em class=\"yui3-u red\">202,300</em>\\n                                    <span class=\"yui3-u\">元</span>\\n                                </div>\\n                                <div class=\"srp-pdprice yui3-g\">\\n                                                                    </div>\\n                                <div class=\"srp-shipping\">\\n                                    運費80元                                </div>\\n                                                            </div>\\n                            <div class=\"srp-pdblock2 yui3-u\">\\n                                <span class=\"sep yui3-u\">｜</span>\\n                                <a href=\"https://tw.page.bid.yahoo.com/tw/show/bid_hist;_ylt=A3TWBEDEjjdVeQYADxhyFbN8;_ylv=3?aID=e75697627\">\\n                                    0 次\\n                                </a>\\n                            </div>\\n                            <div class=\"srp-pdblock3 yui3-u\">\\n                                <span class=\"sep yui3-u\">｜</span>\\n                                                                            <span class=\"red\">剩45分</span>\\n                                                            </div>\\n                        </div>\\n                    </div>\\n                    <div class=\"srp-pdrblock yui3-u\">\\n                        <div class=\"yui3-g\">\\n                            <div class=\"srp-sellerinfo yui3-u\">\\n                                <div class=\"srp-pdstore\">\\n                                    <span class=\"store\">賣家：</span><a href=\"https://tw.bid.yahoo.com/tw/user/Y6735282102;_ylt=A3TWBEDEjjdVeQYADRhyFbN8;_ylv=3\">薪創數位【台中公益店】</a>\\n                                    <span class=\"store\">(評價 <a href=\"https://tw.bid.yahoo.com/rating/Y6735282102/listing;_ylt=A3TWBEDEjjdVeQYADhhyFbN8;_ylv=3\">832</a>)</span>\\n                                </div>\\n                                                                    <a class=\"srp-ico store-icon\" title=\"拍賣店鋪\" href=\"https://help.yahoo.com/kb/index?page=content&id=SLN11039&locale=zh_TW&y=PROD_TWAUCT\"></a>\\n                                                                <div class=\"srp-place\">\\n                                    在台中市                                </div>\\n                            </div>\\n                            <div class=\"srp-paytype yui3-u\">\\n                                <div class=\"srp-ico easy-pay\"></div>                            </div>\\n                        </div>\\n                    </div>\\n                </div>\\n            </div>\\n        </div>\\n    </div><!--\\n    --><div class=\"att-item item \" data-url=\"https://login.yahoo.com/config/login?.intl=tw&.pd=c%3D3Chd7Yq72e502eh4R99sgUvi5Q--&.done=https%3A%2F%2Ftw.search.bid.yahoo.com%2Fsearch%2Fauction%2Fproduct%3Fp%3Dcannon%2B300mm%2Bf2.8%26qt%3Dproduct%26cid%3D0%26clv%3D0&rr=1205588466\">\\n        <div class=\"wrap yui3-g\">\\n            <div class=\"srp-pdimage yui3-u\">\\n                <a href=\"https://tw.bid.yahoo.com/item/100053256296;_ylt=A3TWBEDEjjdVeQYAERhyFbN8;_ylv=3\" title=\"☆相機王☆Canon EF 300mm F2.8 L IS II USM﹝公司貨﹞F2.8L 二代~送砲衣 【士林店】\">\\n                    <img width=\"150\" \\n                    alt=\"☆相機王☆Canon EF 300mm F2.8 L IS II USM﹝公司貨﹞F2.8L 二代~送砲衣 【士林店】\"\\n                    src=\"https://s.yimg.com/aw/api/res/1.2/fUDk1wvSLwJbOJGjPqGuaQ--/YXBwaWQ9eXR3YXVjdGlvbnNlcnZpY2U7aD0zMDc7cT04NTtyb3RhdGU9YXV0bzt3PTQwMA--/http://nevec-img.zenfs.com/prod/tw_ec05-7/803e6e02-ed5b-40ac-a7df-70172e774fbd.jpg\">\\n                </a>\\n            </div>\\n            <div class=\"yui3-u srp-pdcontent\">\\n                <div class=\"srp-pdtitle yui3-g\">\\n                                    <span class=\"srp-tag buynow yui3-u\">直購品</span>\\n                                    <div class=\"title yui3-u\">\\n                        <a class=\"ellipsis\" href=\"https://tw.bid.yahoo.com/item/100053256296;_ylt=A3TWBEDEjjdVeQYAEBhyFbN8;_ylv=3\" title=\"☆相機王☆Canon EF 300mm F2.8 L IS II USM﹝公司貨﹞F2.8L 二代~送砲衣 【士林店】\">☆相機王☆Canon EF 300mm F2.8 L IS II USM﹝公司貨﹞F2.8L 二代~送砲衣 【士林店】</a>\\n                    </div>\\n                </div>\\n                <div class=\"srp-pddetail yui3-g\">\\n                    <div class=\"srp-pdlblock yui3-u\">\\n                        <div class=\"yui3-g\">\\n                            <div class=\"srp-pdblock1 yui3-u\">\\n                                <div class=\"srp-pdprice yui3-g\">\\n                                                                        <span class=\"yui3-u title\">直購價</span>\\n                                    <em class=\"yui3-u\">202,300</em>\\n                                    <span class=\"yui3-u\">元</span>\\n                                                                    </div>\\n                                <div class=\"srp-shipping\">\\n                                    運費150元                                </div>\\n                                                            </div>\\n                            <div class=\"srp-pdblock2 yui3-u\">\\n                               \\n                            </div>\\n                            <div class=\"srp-pdblock3 yui3-u\">\\n                                <span class=\"sep yui3-u\">｜</span>\\n                                                            </div>\\n                        </div>\\n                    </div>\\n                    <div class=\"srp-pdrblock yui3-u\">\\n                        <div class=\"yui3-g\">\\n                            <div class=\"srp-sellerinfo yui3-u\">\\n                                <div class=\"srp-pdstore\">\\n                                    <span class=\"store\">賣家：</span><a href=\"https://tw.bid.yahoo.com/tw/user/Y0631066855;_ylt=A3TWBEDEjjdVeQYAEhhyFbN8;_ylv=3\">東明數位－相機王(R)</a>\\n                                    <span class=\"store\">(評價 <a href=\"https://tw.bid.yahoo.com/rating/Y0631066855/listing;_ylt=A3TWBEDEjjdVeQYAExhyFbN8;_ylv=3\">19608</a>)</span>\\n                                </div>\\n                                                                    <a class=\"srp-ico store-icon\" tilte=\"拍賣店鋪\" href=\"https://help.yahoo.com/kb/index?page=content&id=SLN11039&locale=zh_TW&y=PROD_TWAUCT\"></a>\\n                                                                <div class=\"srp-place\">\\n                                    在台北市                                </div>\\n                            </div>\\n                            <div class=\"srp-paytype yui3-u\">\\n                                <div class=\"srp-ico easy-pay\"></div><div class=\"srp-ico credit\"></div><div class=\"srp-ico installment\"></div>                            </div>\\n                        </div>\\n                    </div>\\n                </div>\\n            </div>\\n        </div>\\n    </div><!--\\n    --><div class=\"att-item item \" data-url=\"https://login.yahoo.com/config/login?.intl=tw&.pd=c%3D3Chd7Yq72e502eh4R99sgUvi5Q--&.done=https%3A%2F%2Ftw.search.bid.yahoo.com%2Fsearch%2Fauction%2Fproduct%3Fp%3Dcannon%2B300mm%2Bf2.8%26qt%3Dproduct%26cid%3D0%26clv%3D0&rr=3258946885\">\\n        <div class=\"wrap yui3-g\">\\n            <div class=\"srp-pdimage yui3-u\">\\n                <a href=\"https://tw.bid.yahoo.com/item/100056424556;_ylt=A3TWBEDEjjdVeQYAFhhyFbN8;_ylv=3\" title=\"『永佳懷舊』CANON EF 300mm F2.8 L USM no.28174 UM鏡 ~中古品~\">\\n                    <img height=\"150\" \\n                    alt=\"『永佳懷舊』CANON EF 300mm F2.8 L USM no.28174 UM鏡 ~中古品~\"\\n                    src=\"https://s.yimg.com/aw/api/res/1.2/oGXCKR4quyeZ1NOlqULUpw--/YXBwaWQ9eXR3YXVjdGlvbnNlcnZpY2U7aD00MDA7cT04NTtyb3RhdGU9YXV0bzt3PTQwMA--/http://nevec-img.zenfs.com/prod/tw_ec05-7/de7e4d1e-d1c5-42f2-8053-80c20c6e4b12.jpg\">\\n                </a>\\n            </div>\\n            <div class=\"yui3-u srp-pdcontent\">\\n                <div class=\"srp-pdtitle yui3-g\">\\n                                        <span class=\"srp-tag bid yui3-u\">競標品</span>\\n                                        <div class=\"title yui3-u\">\\n                        <a class=\"ellipsis\" href=\"https://tw.bid.yahoo.com/item/100056424556;_ylt=A3TWBEDEjjdVeQYAFRhyFbN8;_ylv=3\" title=\"『永佳懷舊』CANON EF 300mm F2.8 L USM no.28174 UM鏡 ~中古品~\">『永佳懷舊』CANON EF 300mm F2.8 L USM no.28174 UM鏡 ~中古品~</a>\\n                    </div>\\n                </div>\\n                <div class=\"srp-pddetail yui3-g\">\\n                    <div class=\"srp-pdlblock yui3-u\">\\n                        <div class=\"yui3-g\">\\n                            <div class=\"srp-pdblock1 yui3-u\">\\n                                <div class=\"srp-bidprice yui3-g\">\\n                                    <span class=\"yui3-u title\">出價</span>\\n                                    <em class=\"yui3-u red\">68,000</em>\\n                                    <span class=\"yui3-u\">元</span>\\n                                </div>\\n                                <div class=\"srp-pdprice yui3-g\">\\n                                                                    </div>\\n                                <div class=\"srp-shipping\">\\n                                    運費100元                                </div>\\n                                                            </div>\\n                            <div class=\"srp-pdblock2 yui3-u\">\\n                                <span class=\"sep yui3-u\">｜</span>\\n                                <a href=\"https://tw.page.bid.yahoo.com/tw/show/bid_hist;_ylt=A3TWBEDEjjdVeQYAGRhyFbN8;_ylv=3?aID=100056424556\">\\n                                    0 次\\n                                </a>\\n                            </div>\\n                            <div class=\"srp-pdblock3 yui3-u\">\\n                                <span class=\"sep yui3-u\">｜</span>\\n                                                                            <span class=\"\">剩17小時 17分</span>\\n                                                            </div>\\n                        </div>\\n                    </div>\\n                    <div class=\"srp-pdrblock yui3-u\">\\n                        <div class=\"yui3-g\">\\n                            <div class=\"srp-sellerinfo yui3-u\">\\n                                <div class=\"srp-pdstore\">\\n                                    <span class=\"store\">賣家：</span><a href=\"https://tw.bid.yahoo.com/tw/user/Y3190273151;_ylt=A3TWBEDEjjdVeQYAFxhyFbN8;_ylv=3\">永佳相機</a>\\n                                    <span class=\"store\">(評價 <a href=\"https://tw.bid.yahoo.com/rating/Y3190273151/listing;_ylt=A3TWBEDEjjdVeQYAGBhyFbN8;_ylv=3\">6860</a>)</span>\\n                                </div>\\n                                                                    <a class=\"srp-ico store-icon\" title=\"拍賣店鋪\" href=\"https://help.yahoo.com/kb/index?page=content&id=SLN11039&locale=zh_TW&y=PROD_TWAUCT\"></a>\\n                                                                <div class=\"srp-place\">\\n                                    在台北市                                </div>\\n                            </div>\\n                            <div class=\"srp-paytype yui3-u\">\\n                                <div class=\"srp-ico easy-pay\"></div>                            </div>\\n                        </div>\\n                    </div>\\n                </div>\\n            </div>\\n        </div>\\n    </div><!--\\n    --><div class=\"att-item item \" data-url=\"https://login.yahoo.com/config/login?.intl=tw&.pd=c%3D3Chd7Yq72e502eh4R99sgUvi5Q--&.done=https%3A%2F%2Ftw.search.bid.yahoo.com%2Fsearch%2Fauction%2Fproduct%3Fp%3Dcannon%2B300mm%2Bf2.8%26qt%3Dproduct%26cid%3D0%26clv%3D0&rr=7283715174\">\\n        <div class=\"wrap yui3-g\">\\n            <div class=\"srp-pdimage yui3-u\">\\n                <a href=\"https://tw.bid.yahoo.com/item/c87433322;_ylt=A3TWBEDEjjdVeQYAGxhyFbN8;_ylv=3\" title=\"永佳相機_Lenscoat 鏡頭炮衣 for CANON EF 300MM F2.8 L IS II 綠色迷彩 售價2750元\">\\n                    <img width=\"150\" \\n                    alt=\"永佳相機_Lenscoat 鏡頭炮衣 for CANON EF 300MM F2.8 L IS II 綠色迷彩 售價2750元\"\\n                    src=\"https://s.yimg.com/aw/api/res/1.2/j5ukCnNn0yoJTWrAPgc_cw--/YXBwaWQ9eXR3YXVjdGlvbnNlcnZpY2U7aD0zMDg7cT04NTtzcj0xLjI7c3M9MS4yO3c9NDAw/http://nevec-img.zenfs.com/prod/tw_ec05-7/646d8090-45de-43e9-9c82-1dd3ecfdc26b.jpg\">\\n                </a>\\n            </div>\\n            <div class=\"yui3-u srp-pdcontent\">\\n                <div class=\"srp-pdtitle yui3-g\">\\n                                        <span class=\"srp-tag bid yui3-u\">競標品</span>\\n                                        <div class=\"title yui3-u\">\\n                        <a class=\"ellipsis\" href=\"https://tw.bid.yahoo.com/item/c87433322;_ylt=A3TWBEDEjjdVeQYAGhhyFbN8;_ylv=3\" title=\"永佳相機_Lenscoat 鏡頭炮衣 for CANON EF 300MM F2.8 L IS II 綠色迷彩 售價2750元\">永佳相機_Lenscoat 鏡頭炮衣 for CANON EF 300MM F2.8 L IS II 綠色迷彩 售價2750元</a>\\n                    </div>\\n                </div>\\n                <div class=\"srp-pddetail yui3-g\">\\n                    <div class=\"srp-pdlblock yui3-u\">\\n                        <div class=\"yui3-g\">\\n                            <div class=\"srp-pdblock1 yui3-u\">\\n                                <div class=\"srp-bidprice yui3-g\">\\n                                    <span class=\"yui3-u title\">出價</span>\\n                                    <em class=\"yui3-u red\">2,750</em>\\n                                    <span class=\"yui3-u\">元</span>\\n                                </div>\\n                                <div class=\"srp-pdprice yui3-g\">\\n                                                                    </div>\\n                                <div class=\"srp-shipping\">\\n                                    運費55元                                </div>\\n                                                            </div>\\n                            <div class=\"srp-pdblock2 yui3-u\">\\n                                <span class=\"sep yui3-u\">｜</span>\\n                                <a href=\"https://tw.page.bid.yahoo.com/tw/show/bid_hist;_ylt=A3TWBEDEjjdVeQYAHhhyFbN8;_ylv=3?aID=c87433322\">\\n                                    0 次\\n                                </a>\\n                            </div>\\n                            <div class=\"srp-pdblock3 yui3-u\">\\n                                <span class=\"sep yui3-u\">｜</span>\\n                                                                            <span class=\"\">剩17小時 17分</span>\\n                                                            </div>\\n                        </div>\\n                    </div>\\n                    <div class=\"srp-pdrblock yui3-u\">\\n                        <div class=\"yui3-g\">\\n                            <div class=\"srp-sellerinfo yui3-u\">\\n                                <div class=\"srp-pdstore\">\\n                                    <span class=\"store\">賣家：</span><a href=\"https://tw.bid.yahoo.com/tw/user/Y3190273151;_ylt=A3TWBEDEjjdVeQYAHBhyFbN8;_ylv=3\">永佳相機</a>\\n                                    <span class=\"store\">(評價 <a href=\"https://tw.bid.yahoo.com/rating/Y3190273151/listing;_ylt=A3TWBEDEjjdVeQYAHRhyFbN8;_ylv=3\">6860</a>)</span>\\n                                </div>\\n                                                                    <a class=\"srp-ico store-icon\" title=\"拍賣店鋪\" href=\"https://help.yahoo.com/kb/index?page=content&id=SLN11039&locale=zh_TW&y=PROD_TWAUCT\"></a>\\n                                                                <div class=\"srp-place\">\\n                                    在台北市                                </div>\\n                            </div>\\n                            <div class=\"srp-paytype yui3-u\">\\n                                <div class=\"srp-ico easy-pay\"></div><div class=\"srp-ico family\"></div><div class=\"srp-ico seven\"></div>                            </div>\\n                        </div>\\n                    </div>\\n                </div>\\n            </div>\\n        </div>\\n    </div><!--\\n    --><div class=\"att-item item \" data-url=\"https://login.yahoo.com/config/login?.intl=tw&.pd=c%3D3Chd7Yq72e502eh4R99sgUvi5Q--&.done=https%3A%2F%2Ftw.search.bid.yahoo.com%2Fsearch%2Fauction%2Fproduct%3Fp%3Dcannon%2B300mm%2Bf2.8%26qt%3Dproduct%26cid%3D0%26clv%3D0&rr=4767151006\">\\n        <div class=\"wrap yui3-g\">\\n            <div class=\"srp-pdimage yui3-u\">\\n                <a href=\"https://tw.bid.yahoo.com/item/100026771317;_ylt=A3TWBEDEjjdVeQYAIBhyFbN8;_ylv=3\" title=\"永佳相機_CANON EF 300mm F2.8 L IS II USM 二代遠攝鏡頭  【平行輸入】 直購價含稅\">\\n                    <img width=\"150\" \\n                    alt=\"永佳相機_CANON EF 300mm F2.8 L IS II USM 二代遠攝鏡頭  【平行輸入】 直購價含稅\"\\n                    src=\"https://s.yimg.com/aw/api/res/1.2/XcEpVY5W7Sw8YnpmTVPfbg--/YXBwaWQ9eXR3YXVjdGlvbnNlcnZpY2U7aD0zMDg7cT04NTtyb3RhdGU9YXV0bztzcj0xLjI7c3M9MS4yO3c9NDAw/http://nevec-img.zenfs.com/prod/tw_ec05-7/ec1b0fff-8b87-4136-a4ad-3f96f10e6590.jpg\">\\n                </a>\\n            </div>\\n            <div class=\"yui3-u srp-pdcontent\">\\n                <div class=\"srp-pdtitle yui3-g\">\\n                                        <span class=\"srp-tag bid yui3-u\">競標品</span>\\n                                        <div class=\"title yui3-u\">\\n                        <a class=\"ellipsis\" href=\"https://tw.bid.yahoo.com/item/100026771317;_ylt=A3TWBEDEjjdVeQYAHxhyFbN8;_ylv=3\" title=\"永佳相機_CANON EF 300mm F2.8 L IS II USM 二代遠攝鏡頭  【平行輸入】 直購價含稅\">永佳相機_CANON EF 300mm F2.8 L IS II USM 二代遠攝鏡頭  【平行輸入】 直購價含稅</a>\\n                    </div>\\n                </div>\\n                <div class=\"srp-pddetail yui3-g\">\\n                    <div class=\"srp-pdlblock yui3-u\">\\n                        <div class=\"yui3-g\">\\n                            <div class=\"srp-pdblock1 yui3-u\">\\n                                <div class=\"srp-bidprice yui3-g\">\\n                                    <span class=\"yui3-u title\">出價</span>\\n                                    <em class=\"yui3-u \">170,000</em>\\n                                    <span class=\"yui3-u\">元</span>\\n                                </div>\\n                                <div class=\"srp-pdprice yui3-g\">\\n                                                                        <span class=\"yui3-u title\">直購價</span>\\n                                    <em class=\"yui3-u\">178,500</em>\\n                                    <span class=\"yui3-u\">元</span>\\n                                                                    </div>\\n                                <div class=\"srp-shipping\">\\n                                    面交/自取/不寄送                                </div>\\n                                                                <span class=\"item-panel-btn srp-ico\" data-url=\"/tw/dedup?groupid=167835694&type=list&pg=1\">\\n                                    賣家相似商品\\n                                </span>\\n                                                            </div>\\n                            <div class=\"srp-pdblock2 yui3-u\">\\n                                <span class=\"sep yui3-u\">｜</span>\\n                                <a href=\"https://tw.page.bid.yahoo.com/tw/show/bid_hist;_ylt=A3TWBEDEjjdVeQYAIxhyFbN8;_ylv=3?aID=100026771317\">\\n                                    0 次\\n                                </a>\\n                            </div>\\n                            <div class=\"srp-pdblock3 yui3-u\">\\n                                <span class=\"sep yui3-u\">｜</span>\\n                                                                            <span class=\"\">剩17小時 18分</span>\\n                                                            </div>\\n                        </div>\\n                    </div>\\n                    <div class=\"srp-pdrblock yui3-u\">\\n                        <div class=\"yui3-g\">\\n                            <div class=\"srp-sellerinfo yui3-u\">\\n                                <div class=\"srp-pdstore\">\\n                                    <span class=\"store\">賣家：</span><a href=\"https://tw.bid.yahoo.com/tw/user/Y3190273151;_ylt=A3TWBEDEjjdVeQYAIRhyFbN8;_ylv=3\">永佳相機</a>\\n                                    <span class=\"store\">(評價 <a href=\"https://tw.bid.yahoo.com/rating/Y3190273151/listing;_ylt=A3TWBEDEjjdVeQYAIhhyFbN8;_ylv=3\">6860</a>)</span>\\n                                </div>\\n                                                                    <a class=\"srp-ico store-icon\" title=\"拍賣店鋪\" href=\"https://help.yahoo.com/kb/index?page=content&id=SLN11039&locale=zh_TW&y=PROD_TWAUCT\"></a>\\n                                                                <div class=\"srp-place\">\\n                                    在台北市                                </div>\\n                            </div>\\n                            <div class=\"srp-paytype yui3-u\">\\n                                <div class=\"srp-ico easy-pay\"></div>                            </div>\\n                        </div>\\n                    </div>\\n                </div>\\n            </div>\\n        </div>\\n    </div><!--\\n    --><div class=\"att-item item \" data-url=\"https://login.yahoo.com/config/login?.intl=tw&.pd=c%3D3Chd7Yq72e502eh4R99sgUvi5Q--&.done=https%3A%2F%2Ftw.search.bid.yahoo.com%2Fsearch%2Fauction%2Fproduct%3Fp%3Dcannon%2B300mm%2Bf2.8%26qt%3Dproduct%26cid%3D0%26clv%3D0&rr=3458162587\">\\n        <div class=\"wrap yui3-g\">\\n            <div class=\"srp-pdimage yui3-u\">\\n                <a href=\"https://tw.bid.yahoo.com/item/b90974519;_ylt=A3TWBEDEjjdVeQYAJRhyFbN8;_ylv=3\" title=\"全新SIGMA 300mm F2.8 EX DG APO HSM 恆伸公司貨 CANON NIKON\">\\n                    <img width=\"150\" \\n                    alt=\"全新SIGMA 300mm F2.8 EX DG APO HSM 恆伸公司貨 CANON NIKON\"\\n                    src=\"https://s.yimg.com/aw/api/res/1.2/zCY40B7IsYtsi4GnGgbXuw--/YXBwaWQ9eXR3YXVjdGlvbnNlcnZpY2U7aD0yMTA7cT04NTtzcj0xLjI7c3M9MS4yO3c9Mzkw/http://nevec-img.zenfs.com/prod/tw_ec05-7/cb1c9cfa-3422-4034-967f-a269e5469669.jpg\">\\n                </a>\\n            </div>\\n            <div class=\"yui3-u srp-pdcontent\">\\n                <div class=\"srp-pdtitle yui3-g\">\\n                                        <span class=\"srp-tag bid yui3-u\">競標品</span>\\n                                        <div class=\"title yui3-u\">\\n                        <a class=\"ellipsis\" href=\"https://tw.bid.yahoo.com/item/b90974519;_ylt=A3TWBEDEjjdVeQYAJBhyFbN8;_ylv=3\" title=\"全新SIGMA 300mm F2.8 EX DG APO HSM 恆伸公司貨 CANON NIKON\">全新SIGMA 300mm F2.8 EX DG APO HSM 恆伸公司貨 CANON NIKON</a>\\n                    </div>\\n                </div>\\n                <div class=\"srp-pddetail yui3-g\">\\n                    <div class=\"srp-pdlblock yui3-u\">\\n                        <div class=\"yui3-g\">\\n                            <div class=\"srp-pdblock1 yui3-u\">\\n                                <div class=\"srp-bidprice yui3-g\">\\n                                    <span class=\"yui3-u title\">出價</span>\\n                                    <em class=\"yui3-u red\">88,800</em>\\n                                    <span class=\"yui3-u\">元</span>\\n                                </div>\\n                                <div class=\"srp-pdprice yui3-g\">\\n                                                                    </div>\\n                                <div class=\"srp-shipping\">\\n                                    運費100元                                </div>\\n                                                            </div>\\n                            <div class=\"srp-pdblock2 yui3-u\">\\n                                <span class=\"sep yui3-u\">｜</span>\\n                                <a href=\"https://tw.page.bid.yahoo.com/tw/show/bid_hist;_ylt=A3TWBEDEjjdVeQYAKBhyFbN8;_ylv=3?aID=b90974519\">\\n                                    0 次\\n                                </a>\\n                            </div>\\n                            <div class=\"srp-pdblock3 yui3-u\">\\n                                <span class=\"sep yui3-u\">｜</span>\\n                                                                            <span class=\"\">剩17小時 25分</span>\\n                                                            </div>\\n                        </div>\\n                    </div>\\n                    <div class=\"srp-pdrblock yui3-u\">\\n                        <div class=\"yui3-g\">\\n                            <div class=\"srp-sellerinfo yui3-u\">\\n                                <div class=\"srp-pdstore\">\\n                                    <span class=\"store\">賣家：</span><a href=\"https://tw.bid.yahoo.com/tw/user/Y9979913821;_ylt=A3TWBEDEjjdVeQYAJhhyFbN8;_ylv=3\">華揚數位相機量販(可刷國旅卡)</a>\\n                                    <span class=\"store\">(評價 <a href=\"https://tw.bid.yahoo.com/rating/Y9979913821/listing;_ylt=A3TWBEDEjjdVeQYAJxhyFbN8;_ylv=3\">5371</a>)</span>\\n                                </div>\\n                                                                <div class=\"srp-place\">\\n                                    在台中市                                </div>\\n                            </div>\\n                            <div class=\"srp-paytype yui3-u\">\\n                                <div class=\"srp-ico easy-pay\"></div>                            </div>\\n                        </div>\\n                    </div>\\n                </div>\\n            </div>\\n        </div>\\n    </div><!--\\n    --><div class=\"att-item item \" data-url=\"https://login.yahoo.com/config/login?.intl=tw&.pd=c%3D3Chd7Yq72e502eh4R99sgUvi5Q--&.done=https%3A%2F%2Ftw.search.bid.yahoo.com%2Fsearch%2Fauction%2Fproduct%3Fp%3Dcannon%2B300mm%2Bf2.8%26qt%3Dproduct%26cid%3D0%26clv%3D0&rr=3782455231\">\\n        <div class=\"wrap yui3-g\">\\n            <div class=\"srp-pdimage yui3-u\">\\n                <a href=\"https://tw.bid.yahoo.com/item/100026771401;_ylt=A3TWBEDEjjdVeQYAKhhyFbN8;_ylv=3\" title=\"永佳相機_CANON EF 300mm F2.8 L IS II USM 二代遠攝鏡頭 【彩虹公司貨】 售202300元\">\\n                    <img width=\"150\" \\n                    alt=\"永佳相機_CANON EF 300mm F2.8 L IS II USM 二代遠攝鏡頭 【彩虹公司貨】 售202300元\"\\n                    src=\"https://s.yimg.com/aw/api/res/1.2/ZYCT2BdfvtXBK5v_9hkhcg--/YXBwaWQ9eXR3YXVjdGlvbnNlcnZpY2U7aD0zMDg7cT04NTtyb3RhdGU9YXV0bztzcj0xLjI7c3M9MS4yO3c9NDAw/http://nevec-img.zenfs.com/prod/tw_ec05-7/b7ef8a55-9087-4d20-8ef1-f4781f68d87a.jpg\">\\n                </a>\\n            </div>\\n            <div class=\"yui3-u srp-pdcontent\">\\n                <div class=\"srp-pdtitle yui3-g\">\\n                                        <span class=\"srp-tag bid yui3-u\">競標品</span>\\n                                        <div class=\"title yui3-u\">\\n                        <a class=\"ellipsis\" href=\"https://tw.bid.yahoo.com/item/100026771401;_ylt=A3TWBEDEjjdVeQYAKRhyFbN8;_ylv=3\" title=\"永佳相機_CANON EF 300mm F2.8 L IS II USM 二代遠攝鏡頭 【彩虹公司貨】 售202300元\">永佳相機_CANON EF 300mm F2.8 L IS II USM 二代遠攝鏡頭 【彩虹公司貨】 售202300元</a>\\n                    </div>\\n                </div>\\n                <div class=\"srp-pddetail yui3-g\">\\n                    <div class=\"srp-pdlblock yui3-u\">\\n                        <div class=\"yui3-g\">\\n                            <div class=\"srp-pdblock1 yui3-u\">\\n                                <div class=\"srp-bidprice yui3-g\">\\n                                    <span class=\"yui3-u title\">出價</span>\\n                                    <em class=\"yui3-u red\">202,300</em>\\n                                    <span class=\"yui3-u\">元</span>\\n                                </div>\\n                                <div class=\"srp-pdprice yui3-g\">\\n                                                                    </div>\\n                                <div class=\"srp-shipping\">\\n                                    面交/自取/不寄送                                </div>\\n                                                                <span class=\"item-panel-btn srp-ico\" data-url=\"/tw/dedup?groupid=167859485&type=list&pg=1\">\\n                                    賣家相似商品\\n                                </span>\\n                                                            </div>\\n                            <div class=\"srp-pdblock2 yui3-u\">\\n                                <span class=\"sep yui3-u\">｜</span>\\n                                <a href=\"https://tw.page.bid.yahoo.com/tw/show/bid_hist;_ylt=A3TWBEDEjjdVeQYALRhyFbN8;_ylv=3?aID=100026771401\">\\n                                    0 次\\n                                </a>\\n                            </div>\\n                            <div class=\"srp-pdblock3 yui3-u\">\\n                                <span class=\"sep yui3-u\">｜</span>\\n                                                                            <span class=\"\">剩17小時 38分</span>\\n                                                            </div>\\n                        </div>\\n                    </div>\\n                    <div class=\"srp-pdrblock yui3-u\">\\n                        <div class=\"yui3-g\">\\n                            <div class=\"srp-sellerinfo yui3-u\">\\n                                <div class=\"srp-pdstore\">\\n                                    <span class=\"store\">賣家：</span><a href=\"https://tw.bid.yahoo.com/tw/user/Y3190273151;_ylt=A3TWBEDEjjdVeQYAKxhyFbN8;_ylv=3\">永佳相機</a>\\n                                    <span class=\"store\">(評價 <a href=\"https://tw.bid.yahoo.com/rating/Y3190273151/listing;_ylt=A3TWBEDEjjdVeQYALBhyFbN8;_ylv=3\">6860</a>)</span>\\n                                </div>\\n                                                                    <a class=\"srp-ico store-icon\" title=\"拍賣店鋪\" href=\"https://help.yahoo.com/kb/index?page=content&id=SLN11039&locale=zh_TW&y=PROD_TWAUCT\"></a>\\n                                                                <div class=\"srp-place\">\\n                                    在台北市                                </div>\\n                            </div>\\n                            <div class=\"srp-paytype yui3-u\">\\n                                <div class=\"srp-ico easy-pay\"></div>                            </div>\\n                        </div>\\n                    </div>\\n                </div>\\n            </div>\\n        </div>\\n    </div><!--\\n    --><div class=\"att-item item \" data-url=\"https://login.yahoo.com/config/login?.intl=tw&.pd=c%3D3Chd7Yq72e502eh4R99sgUvi5Q--&.done=https%3A%2F%2Ftw.search.bid.yahoo.com%2Fsearch%2Fauction%2Fproduct%3Fp%3Dcannon%2B300mm%2Bf2.8%26qt%3Dproduct%26cid%3D0%26clv%3D0&rr=5911411446\">\\n        <div class=\"wrap yui3-g\">\\n            <div class=\"srp-pdimage yui3-u\">\\n                <a href=\"https://tw.bid.yahoo.com/item/d88891144;_ylt=A3TWBEDEjjdVeQYALxhyFbN8;_ylv=3\" title=\"【中古器材- 光華店】數位達人 CANON EF 300mm F2.8 L IS USM / 平行輸入 / 美品等級 /\">\\n                    <img width=\"150\" \\n                    alt=\"【中古器材- 光華店】數位達人 CANON EF 300mm F2.8 L IS USM / 平行輸入 / 美品等級 /\"\\n                    src=\"https://s.yimg.com/aw/api/res/1.2/jybSyXcSD.TPaEMk08FY5w--/YXBwaWQ9eXR3YXVjdGlvbnNlcnZpY2U7aD0yNzM7cT04NTtzcj0xLjI7c3M9MS4yO3c9NDAw/http://nevec-img.zenfs.com/prod/tw_ec05-7/a0d89053-f771-4a65-9411-de9a44034474.jpg\">\\n                </a>\\n            </div>\\n            <div class=\"yui3-u srp-pdcontent\">\\n                <div class=\"srp-pdtitle yui3-g\">\\n                                        <span class=\"srp-tag bid yui3-u\">競標品</span>\\n                                        <div class=\"title yui3-u\">\\n                        <a class=\"ellipsis\" href=\"https://tw.bid.yahoo.com/item/d88891144;_ylt=A3TWBEDEjjdVeQYALhhyFbN8;_ylv=3\" title=\"【中古器材- 光華店】數位達人 CANON EF 300mm F2.8 L IS USM / 平行輸入 / 美品等級 /\">【中古器材- 光華店】數位達人 CANON EF 300mm F2.8 L IS USM / 平行輸入 / 美品等級 /</a>\\n                    </div>\\n                </div>\\n                <div class=\"srp-pddetail yui3-g\">\\n                    <div class=\"srp-pdlblock yui3-u\">\\n                        <div class=\"yui3-g\">\\n                            <div class=\"srp-pdblock1 yui3-u\">\\n                                <div class=\"srp-bidprice yui3-g\">\\n                                    <span class=\"yui3-u title\">出價</span>\\n                                    <em class=\"yui3-u red\">112,000</em>\\n                                    <span class=\"yui3-u\">元</span>\\n                                </div>\\n                                <div class=\"srp-pdprice yui3-g\">\\n                                                                    </div>\\n                                <div class=\"srp-shipping\">\\n                                    面交/自取/不寄送                                </div>\\n                                                            </div>\\n                            <div class=\"srp-pdblock2 yui3-u\">\\n                                <span class=\"sep yui3-u\">｜</span>\\n                                <a href=\"https://tw.page.bid.yahoo.com/tw/show/bid_hist;_ylt=A3TWBEDEjjdVeQYAMhhyFbN8;_ylv=3?aID=d88891144\">\\n                                    0 次\\n                                </a>\\n                            </div>\\n                            <div class=\"srp-pdblock3 yui3-u\">\\n                                <span class=\"sep yui3-u\">｜</span>\\n                                                                            <span class=\"\">剩19小時 29分</span>\\n                                                            </div>\\n                        </div>\\n                    </div>\\n                    <div class=\"srp-pdrblock yui3-u\">\\n                        <div class=\"yui3-g\">\\n                            <div class=\"srp-sellerinfo yui3-u\">\\n                                <div class=\"srp-pdstore\">\\n                                    <span class=\"store\">賣家：</span><a href=\"https://tw.bid.yahoo.com/tw/user/Y8082587130;_ylt=A3TWBEDEjjdVeQYAMBhyFbN8;_ylv=3\">數位達人塘鵝暴風箱現貨展示中</a>\\n                                    <span class=\"store\">(評價 <a href=\"https://tw.bid.yahoo.com/rating/Y8082587130/listing;_ylt=A3TWBEDEjjdVeQYAMRhyFbN8;_ylv=3\">9337</a>)</span>\\n                                </div>\\n                                                                    <a class=\"srp-ico store-icon\" title=\"拍賣店鋪\" href=\"https://help.yahoo.com/kb/index?page=content&id=SLN11039&locale=zh_TW&y=PROD_TWAUCT\"></a>\\n                                                                <div class=\"srp-place\">\\n                                    在台北市                                </div>\\n                            </div>\\n                            <div class=\"srp-paytype yui3-u\">\\n                                <div class=\"srp-ico easy-pay\"></div>                            </div>\\n                        </div>\\n                    </div>\\n                </div>\\n            </div>\\n        </div>\\n    </div><!--\\n    --><div class=\"att-item item \" data-url=\"https://login.yahoo.com/config/login?.intl=tw&.pd=c%3D3Chd7Yq72e502eh4R99sgUvi5Q--&.done=https%3A%2F%2Ftw.search.bid.yahoo.com%2Fsearch%2Fauction%2Fproduct%3Fp%3Dcannon%2B300mm%2Bf2.8%26qt%3Dproduct%26cid%3D0%26clv%3D0&rr=6101010121\">\\n        <div class=\"wrap yui3-g\">\\n            <div class=\"srp-pdimage yui3-u\">\\n                <a href=\"https://tw.bid.yahoo.com/item/e84507284;_ylt=A3TWBEDEjjdVeQYANBhyFbN8;_ylv=3\" title=\"【中古器材- 光華店】數位達人 CANON EF 300mm F2.8 L IS USM / 平行輸入 / 新品等級 / NT: 128000\">\\n                    <img width=\"150\" \\n                    alt=\"【中古器材- 光華店】數位達人 CANON EF 300mm F2.8 L IS USM / 平行輸入 / 新品等級 / NT: 128000\"\\n                    src=\"https://s.yimg.com/aw/api/res/1.2/9N4pHp9SeteDmdZrRlvtEQ--/YXBwaWQ9eXR3YXVjdGlvbnNlcnZpY2U7aD0yNjE7cT04NTtzcj0xLjI7c3M9MS4yO3c9NDAw/http://nevec-img.zenfs.com/prod/tw_ec05-7/e74ca04f-79fc-4205-9c84-9e00ada5f84a.jpg\">\\n                </a>\\n            </div>\\n            <div class=\"yui3-u srp-pdcontent\">\\n                <div class=\"srp-pdtitle yui3-g\">\\n                                        <span class=\"srp-tag bid yui3-u\">競標品</span>\\n                                        <div class=\"title yui3-u\">\\n                        <a class=\"ellipsis\" href=\"https://tw.bid.yahoo.com/item/e84507284;_ylt=A3TWBEDEjjdVeQYAMxhyFbN8;_ylv=3\" title=\"【中古器材- 光華店】數位達人 CANON EF 300mm F2.8 L IS USM / 平行輸入 / 新品等級 / NT: 128000\">【中古器材- 光華店】數位達人 CANON EF 300mm F2.8 L IS USM / 平行輸入 / 新品等級 / NT: 128000</a>\\n                    </div>\\n                </div>\\n                <div class=\"srp-pddetail yui3-g\">\\n                    <div class=\"srp-pdlblock yui3-u\">\\n                        <div class=\"yui3-g\">\\n                            <div class=\"srp-pdblock1 yui3-u\">\\n                                <div class=\"srp-bidprice yui3-g\">\\n                                    <span class=\"yui3-u title\">出價</span>\\n                                    <em class=\"yui3-u red\">128,000</em>\\n                                    <span class=\"yui3-u\">元</span>\\n                                </div>\\n                                <div class=\"srp-pdprice yui3-g\">\\n                                                                    </div>\\n                                <div class=\"srp-shipping\">\\n                                    面交/自取/不寄送                                </div>\\n                                                            </div>\\n                            <div class=\"srp-pdblock2 yui3-u\">\\n                                <span class=\"sep yui3-u\">｜</span>\\n                                <a href=\"https://tw.page.bid.yahoo.com/tw/show/bid_hist;_ylt=A3TWBEDEjjdVeQYANxhyFbN8;_ylv=3?aID=e84507284\">\\n                                    0 次\\n                                </a>\\n                            </div>\\n                            <div class=\"srp-pdblock3 yui3-u\">\\n                                <span class=\"sep yui3-u\">｜</span>\\n                                                                            <span class=\"\">剩19小時 29分</span>\\n                                                            </div>\\n                        </div>\\n                    </div>\\n                    <div class=\"srp-pdrblock yui3-u\">\\n                        <div class=\"yui3-g\">\\n                            <div class=\"srp-sellerinfo yui3-u\">\\n                                <div class=\"srp-pdstore\">\\n                                    <span class=\"store\">賣家：</span><a href=\"https://tw.bid.yahoo.com/tw/user/Y8082587130;_ylt=A3TWBEDEjjdVeQYANRhyFbN8;_ylv=3\">數位達人塘鵝暴風箱現貨展示中</a>\\n                                    <span class=\"store\">(評價 <a href=\"https://tw.bid.yahoo.com/rating/Y8082587130/listing;_ylt=A3TWBEDEjjdVeQYANhhyFbN8;_ylv=3\">9337</a>)</span>\\n                                </div>\\n                                                                    <a class=\"srp-ico store-icon\" title=\"拍賣店鋪\" href=\"https://help.yahoo.com/kb/index?page=content&id=SLN11039&locale=zh_TW&y=PROD_TWAUCT\"></a>\\n                                                                <div class=\"srp-place\">\\n                                    在台北市                                </div>\\n                            </div>\\n                            <div class=\"srp-paytype yui3-u\">\\n                                <div class=\"srp-ico easy-pay\"></div>                            </div>\\n                        </div>\\n                    </div>\\n                </div>\\n            </div>\\n        </div>\\n    </div><!--\\n    --><div class=\"att-item item \" data-url=\"https://login.yahoo.com/config/login?.intl=tw&.pd=c%3D3Chd7Yq72e502eh4R99sgUvi5Q--&.done=https%3A%2F%2Ftw.search.bid.yahoo.com%2Fsearch%2Fauction%2Fproduct%3Fp%3Dcannon%2B300mm%2Bf2.8%26qt%3Dproduct%26cid%3D0%26clv%3D0&rr=9381085634\">\\n        <div class=\"wrap yui3-g\">\\n            <div class=\"srp-pdimage yui3-u\">\\n                <a href=\"https://tw.bid.yahoo.com/item/100063470562;_ylt=A3TWBEDEjjdVeQYAORhyFbN8;_ylv=3\" title=\"【台北101】Canon EF 300 mm F/2.8 L IS USM II 平行輸入盒裝\">\\n                    <img height=\"150\" \\n                    alt=\"【台北101】Canon EF 300 mm F/2.8 L IS USM II 平行輸入盒裝\"\\n                    src=\"https://s.yimg.com/aw/api/res/1.2/hGhc7IsZ81zJW8dFp5wAGw--/YXBwaWQ9eXR3YXVjdGlvbnNlcnZpY2U7aD00MDA7cT04NTtyb3RhdGU9YXV0bzt3PTQwMA--/http://nevec-img.zenfs.com/prod/tw_ec05-7/6a1868a0-f5c1-44df-936e-8525ba40408e.jpg\">\\n                </a>\\n            </div>\\n            <div class=\"yui3-u srp-pdcontent\">\\n                <div class=\"srp-pdtitle yui3-g\">\\n                                        <span class=\"srp-tag bid yui3-u\">競標品</span>\\n                                        <div class=\"title yui3-u\">\\n                        <a class=\"ellipsis\" href=\"https://tw.bid.yahoo.com/item/100063470562;_ylt=A3TWBEDEjjdVeQYAOBhyFbN8;_ylv=3\" title=\"【台北101】Canon EF 300 mm F/2.8 L IS USM II 平行輸入盒裝\">【台北101】Canon EF 300 mm F/2.8 L IS USM II 平行輸入盒裝</a>\\n                    </div>\\n                </div>\\n                <div class=\"srp-pddetail yui3-g\">\\n                    <div class=\"srp-pdlblock yui3-u\">\\n                        <div class=\"yui3-g\">\\n                            <div class=\"srp-pdblock1 yui3-u\">\\n                                <div class=\"srp-bidprice yui3-g\">\\n                                    <span class=\"yui3-u title\">出價</span>\\n                                    <em class=\"yui3-u red\">165,500</em>\\n                                    <span class=\"yui3-u\">元</span>\\n                                </div>\\n                                <div class=\"srp-pdprice yui3-g\">\\n                                                                    </div>\\n                                <div class=\"srp-shipping\">\\n                                    運費55元                                </div>\\n                                                            </div>\\n                            <div class=\"srp-pdblock2 yui3-u\">\\n                                <span class=\"sep yui3-u\">｜</span>\\n                                <a href=\"https://tw.page.bid.yahoo.com/tw/show/bid_hist;_ylt=A3TWBEDEjjdVeQYAPBhyFbN8;_ylv=3?aID=100063470562\">\\n                                    0 次\\n                                </a>\\n                            </div>\\n                            <div class=\"srp-pdblock3 yui3-u\">\\n                                <span class=\"sep yui3-u\">｜</span>\\n                                                                            <span class=\"\">剩1天 2小時 </span>\\n                                                            </div>\\n                        </div>\\n                    </div>\\n                    <div class=\"srp-pdrblock yui3-u\">\\n                        <div class=\"yui3-g\">\\n                            <div class=\"srp-sellerinfo yui3-u\">\\n                                <div class=\"srp-pdstore\">\\n                                    <span class=\"store\">賣家：</span><a href=\"https://tw.bid.yahoo.com/tw/user/Y6359886566;_ylt=A3TWBEDEjjdVeQYAOhhyFbN8;_ylv=3\">Y6359886566</a>\\n                                    <span class=\"store\">(評價 <a href=\"https://tw.bid.yahoo.com/rating/Y6359886566/listing;_ylt=A3TWBEDEjjdVeQYAOxhyFbN8;_ylv=3\">0</a>)</span>\\n                                </div>\\n                                                                <div class=\"srp-place\">\\n                                    在台北市                                </div>\\n                            </div>\\n                            <div class=\"srp-paytype yui3-u\">\\n                                <div class=\"srp-ico easy-pay\"></div><div class=\"srp-ico family\"></div><div class=\"srp-ico seven\"></div>                            </div>\\n                        </div>\\n                    </div>\\n                </div>\\n            </div>\\n        </div>\\n    </div><!--\\n    --><div class=\"att-item item \" data-url=\"https://login.yahoo.com/config/login?.intl=tw&.pd=c%3D3Chd7Yq72e502eh4R99sgUvi5Q--&.done=https%3A%2F%2Ftw.search.bid.yahoo.com%2Fsearch%2Fauction%2Fproduct%3Fp%3Dcannon%2B300mm%2Bf2.8%26qt%3Dproduct%26cid%3D0%26clv%3D0&rr=4437965464\">\\n        <div class=\"wrap yui3-g\">\\n            <div class=\"srp-pdimage yui3-u\">\\n                <a href=\"https://tw.bid.yahoo.com/item/100044848252;_ylt=A3TWBEDEjjdVeQYAPhhyFbN8;_ylv=3\" title=\"【中野數位】Canon EF 300mm F2.8 L IS II USM二代鏡/彩虹貨/1DX/5D3/6D免運~\">\\n                    <img width=\"150\" \\n                    alt=\"【中野數位】Canon EF 300mm F2.8 L IS II USM二代鏡/彩虹貨/1DX/5D3/6D免運~\"\\n                    src=\"https://s.yimg.com/aw/api/res/1.2/MK02EsOa68HOl8lT1xIi3A--/YXBwaWQ9eXR3YXVjdGlvbnNlcnZpY2U7aD0zMDA7cT04NTtyb3RhdGU9YXV0bzt3PTQwMA--/http://nevec-img.zenfs.com/prod/tw_ec05-7/4e89a2db-dd1f-4518-935e-5e8b3e292fe1.jpg\">\\n                </a>\\n            </div>\\n            <div class=\"yui3-u srp-pdcontent\">\\n                <div class=\"srp-pdtitle yui3-g\">\\n                                    <span class=\"srp-tag buynow yui3-u\">直購品</span>\\n                                    <div class=\"title yui3-u\">\\n                        <a class=\"ellipsis\" href=\"https://tw.bid.yahoo.com/item/100044848252;_ylt=A3TWBEDEjjdVeQYAPRhyFbN8;_ylv=3\" title=\"【中野數位】Canon EF 300mm F2.8 L IS II USM二代鏡/彩虹貨/1DX/5D3/6D免運~\">【中野數位】Canon EF 300mm F2.8 L IS II USM二代鏡/彩虹貨/1DX/5D3/6D免運~</a>\\n                    </div>\\n                </div>\\n                <div class=\"srp-pddetail yui3-g\">\\n                    <div class=\"srp-pdlblock yui3-u\">\\n                        <div class=\"yui3-g\">\\n                            <div class=\"srp-pdblock1 yui3-u\">\\n                                <div class=\"srp-pdprice yui3-g\">\\n                                                                        <span class=\"yui3-u title\">直購價</span>\\n                                    <em class=\"yui3-u\">202,300</em>\\n                                    <span class=\"yui3-u\">元</span>\\n                                                                    </div>\\n                                <div class=\"srp-shipping\">\\n                                    免運                                </div>\\n                                                            </div>\\n                            <div class=\"srp-pdblock2 yui3-u\">\\n                               \\n                            </div>\\n                            <div class=\"srp-pdblock3 yui3-u\">\\n                                <span class=\"sep yui3-u\">｜</span>\\n                                                            </div>\\n                        </div>\\n                    </div>\\n                    <div class=\"srp-pdrblock yui3-u\">\\n                        <div class=\"yui3-g\">\\n                            <div class=\"srp-sellerinfo yui3-u\">\\n                                <div class=\"srp-pdstore\">\\n                                    <span class=\"store\">賣家：</span><a href=\"https://tw.bid.yahoo.com/tw/user/Y1015519102;_ylt=A3TWBEDEjjdVeQYAPxhyFbN8;_ylv=3\">中野數位</a>\\n                                    <span class=\"store\">(評價 <a href=\"https://tw.bid.yahoo.com/rating/Y1015519102/listing;_ylt=A3TWBEDEjjdVeQYAQBhyFbN8;_ylv=3\">1925</a>)</span>\\n                                </div>\\n                                                                    <a class=\"srp-ico store-icon\" tilte=\"拍賣店鋪\" href=\"https://help.yahoo.com/kb/index?page=content&id=SLN11039&locale=zh_TW&y=PROD_TWAUCT\"></a>\\n                                                                <div class=\"srp-place\">\\n                                    在台中市                                </div>\\n                            </div>\\n                            <div class=\"srp-paytype yui3-u\">\\n                                <div class=\"srp-ico easy-pay\"></div>                            </div>\\n                        </div>\\n                    </div>\\n                </div>\\n            </div>\\n        </div>\\n    </div><!--\\n    --><div class=\"att-item item \" data-url=\"https://login.yahoo.com/config/login?.intl=tw&.pd=c%3D3Chd7Yq72e502eh4R99sgUvi5Q--&.done=https%3A%2F%2Ftw.search.bid.yahoo.com%2Fsearch%2Fauction%2Fproduct%3Fp%3Dcannon%2B300mm%2Bf2.8%26qt%3Dproduct%26cid%3D0%26clv%3D0&rr=7617840072\">\\n        <div class=\"wrap yui3-g\">\\n            <div class=\"srp-pdimage yui3-u\">\\n                <a href=\"https://tw.bid.yahoo.com/item/e46374693;_ylt=A3TWBEDEjjdVeQYAQxhyFbN8;_ylv=3\" title=\"彩色鳥 (鏡頭出租 單眼相機出租) SIGMA APO 120-300mm f2.8 EX DG canon用(寫真人像/生態飛禽皆宜)\">\\n                    <img width=\"150\" \\n                    alt=\"彩色鳥 (鏡頭出租 單眼相機出租) SIGMA APO 120-300mm f2.8 EX DG canon用(寫真人像/生態飛禽皆宜)\"\\n                    src=\"https://s.yimg.com/aw/api/res/1.2/VgSuG1kZ0aU4PVl7CxHg1g--/YXBwaWQ9eXR3YXVjdGlvbnNlcnZpY2U7aD0zMjA7cT04NTtzcj0xLjI7c3M9MS4yO3c9NDAw/http://nevec-img.zenfs.com/prod/tw_ec05-7/39f15678-f2f6-49bb-aca9-8aa2f85f7541.jpg\">\\n                </a>\\n            </div>\\n            <div class=\"yui3-u srp-pdcontent\">\\n                <div class=\"srp-pdtitle yui3-g\">\\n                                        <span class=\"srp-tag bid yui3-u\">競標品</span>\\n                                        <div class=\"title yui3-u\">\\n                        <a class=\"ellipsis\" href=\"https://tw.bid.yahoo.com/item/e46374693;_ylt=A3TWBEDEjjdVeQYAQhhyFbN8;_ylv=3\" title=\"彩色鳥 (鏡頭出租 單眼相機出租) SIGMA APO 120-300mm f2.8 EX DG canon用(寫真人像/生態飛禽皆宜)\">彩色鳥 (鏡頭出租 單眼相機出租) SIGMA APO 120-300mm f2.8 EX DG canon用(寫真人像/生態飛禽皆宜)</a>\\n                    </div>\\n                </div>\\n                <div class=\"srp-pddetail yui3-g\">\\n                    <div class=\"srp-pdlblock yui3-u\">\\n                        <div class=\"yui3-g\">\\n                            <div class=\"srp-pdblock1 yui3-u\">\\n                                <div class=\"srp-bidprice yui3-g\">\\n                                    <span class=\"yui3-u title\">出價</span>\\n                                    <em class=\"yui3-u red\">800</em>\\n                                    <span class=\"yui3-u\">元</span>\\n                                </div>\\n                                <div class=\"srp-pdprice yui3-g\">\\n                                                                    </div>\\n                                <div class=\"srp-shipping\">\\n                                    面交/自取/不寄送                                </div>\\n                                                            </div>\\n                            <div class=\"srp-pdblock2 yui3-u\">\\n                                <span class=\"sep yui3-u\">｜</span>\\n                                <a href=\"https://tw.page.bid.yahoo.com/tw/show/bid_hist;_ylt=A3TWBEDEjjdVeQYARhhyFbN8;_ylv=3?aID=e46374693\">\\n                                    0 次\\n                                </a>\\n                            </div>\\n                            <div class=\"srp-pdblock3 yui3-u\">\\n                                <span class=\"sep yui3-u\">｜</span>\\n                                                                            <span class=\"\">剩1天 15小時 </span>\\n                                                            </div>\\n                        </div>\\n                    </div>\\n                    <div class=\"srp-pdrblock yui3-u\">\\n                        <div class=\"yui3-g\">\\n                            <div class=\"srp-sellerinfo yui3-u\">\\n                                <div class=\"srp-pdstore\">\\n                                    <span class=\"store\">賣家：</span><a href=\"https://tw.bid.yahoo.com/tw/user/Y6871761427;_ylt=A3TWBEDEjjdVeQYARBhyFbN8;_ylv=3\">彩色鳥攝影器材出租</a>\\n                                    <span class=\"store\">(評價 <a href=\"https://tw.bid.yahoo.com/rating/Y6871761427/listing;_ylt=A3TWBEDEjjdVeQYARRhyFbN8;_ylv=3\">323</a>)</span>\\n                                </div>\\n                                                                    <a class=\"srp-ico store-icon\" title=\"拍賣店鋪\" href=\"https://help.yahoo.com/kb/index?page=content&id=SLN11039&locale=zh_TW&y=PROD_TWAUCT\"></a>\\n                                                                <div class=\"srp-place\">\\n                                    在台北市                                </div>\\n                            </div>\\n                            <div class=\"srp-paytype yui3-u\">\\n                                <div class=\"srp-ico easy-pay\"></div>                            </div>\\n                        </div>\\n                    </div>\\n                </div>\\n            </div>\\n        </div>\\n    </div><!--\\n    --><div class=\"att-item item \" data-url=\"https://login.yahoo.com/config/login?.intl=tw&.pd=c%3D3Chd7Yq72e502eh4R99sgUvi5Q--&.done=https%3A%2F%2Ftw.search.bid.yahoo.com%2Fsearch%2Fauction%2Fproduct%3Fp%3Dcannon%2B300mm%2Bf2.8%26qt%3Dproduct%26cid%3D0%26clv%3D0&rr=2628710156\">\\n        <div class=\"wrap yui3-g\">\\n            <div class=\"srp-pdimage yui3-u\">\\n                <a href=\"https://tw.bid.yahoo.com/item/e45490435;_ylt=A3TWBEDEjjdVeQYASBhyFbN8;_ylv=3\" title=\"彩色鳥 Canon 5D mark2+ Sigma APO 120-300mm F2.8 EX DG (望遠鏡頭/寫真人像/生態飛禽皆宜)7D\">\\n                    <img width=\"150\" \\n                    alt=\"彩色鳥 Canon 5D mark2+ Sigma APO 120-300mm F2.8 EX DG (望遠鏡頭/寫真人像/生態飛禽皆宜)7D\"\\n                    src=\"https://s.yimg.com/aw/api/res/1.2/F_omK3Gombn5R.pPZdUOTw--/YXBwaWQ9eXR3YXVjdGlvbnNlcnZpY2U7aD0zMjA7cT04NTtzcj0xLjI7c3M9MS4yO3c9NDAw/http://nevec-img.zenfs.com/prod/tw_ec05-7/9bac60c5-18d7-485d-a1e0-9fea85fbde9d.jpg\">\\n                </a>\\n            </div>\\n            <div class=\"yui3-u srp-pdcontent\">\\n                <div class=\"srp-pdtitle yui3-g\">\\n                                        <span class=\"srp-tag bid yui3-u\">競標品</span>\\n                                        <div class=\"title yui3-u\">\\n                        <a class=\"ellipsis\" href=\"https://tw.bid.yahoo.com/item/e45490435;_ylt=A3TWBEDEjjdVeQYARxhyFbN8;_ylv=3\" title=\"彩色鳥 Canon 5D mark2+ Sigma APO 120-300mm F2.8 EX DG (望遠鏡頭/寫真人像/生態飛禽皆宜)7D\">彩色鳥 Canon 5D mark2+ Sigma APO 120-300mm F2.8 EX DG (望遠鏡頭/寫真人像/生態飛禽皆宜)7D</a>\\n                    </div>\\n                </div>\\n                <div class=\"srp-pddetail yui3-g\">\\n                    <div class=\"srp-pdlblock yui3-u\">\\n                        <div class=\"yui3-g\">\\n                            <div class=\"srp-pdblock1 yui3-u\">\\n                                <div class=\"srp-bidprice yui3-g\">\\n                                    <span class=\"yui3-u title\">出價</span>\\n                                    <em class=\"yui3-u red\">1,500</em>\\n                                    <span class=\"yui3-u\">元</span>\\n                                </div>\\n                                <div class=\"srp-pdprice yui3-g\">\\n                                                                    </div>\\n                                <div class=\"srp-shipping\">\\n                                    面交/自取/不寄送                                </div>\\n                                                            </div>\\n                            <div class=\"srp-pdblock2 yui3-u\">\\n                                <span class=\"sep yui3-u\">｜</span>\\n                                <a href=\"https://tw.page.bid.yahoo.com/tw/show/bid_hist;_ylt=A3TWBEDEjjdVeQYASxhyFbN8;_ylv=3?aID=e45490435\">\\n                                    0 次\\n                                </a>\\n                            </div>\\n                            <div class=\"srp-pdblock3 yui3-u\">\\n                                <span class=\"sep yui3-u\">｜</span>\\n                                                                            <span class=\"\">剩1天 15小時 </span>\\n                                                            </div>\\n                        </div>\\n                    </div>\\n                    <div class=\"srp-pdrblock yui3-u\">\\n                        <div class=\"yui3-g\">\\n                            <div class=\"srp-sellerinfo yui3-u\">\\n                                <div class=\"srp-pdstore\">\\n                                    <span class=\"store\">賣家：</span><a href=\"https://tw.bid.yahoo.com/tw/user/Y6871761427;_ylt=A3TWBEDEjjdVeQYASRhyFbN8;_ylv=3\">彩色鳥攝影器材出租</a>\\n                                    <span class=\"store\">(評價 <a href=\"https://tw.bid.yahoo.com/rating/Y6871761427/listing;_ylt=A3TWBEDEjjdVeQYAShhyFbN8;_ylv=3\">323</a>)</span>\\n                                </div>\\n                                                                    <a class=\"srp-ico store-icon\" title=\"拍賣店鋪\" href=\"https://help.yahoo.com/kb/index?page=content&id=SLN11039&locale=zh_TW&y=PROD_TWAUCT\"></a>\\n                                                                <div class=\"srp-place\">\\n                                    在台北市                                </div>\\n                            </div>\\n                            <div class=\"srp-paytype yui3-u\">\\n                                <div class=\"srp-ico easy-pay\"></div>                            </div>\\n                        </div>\\n                    </div>\\n                </div>\\n            </div>\\n        </div>\\n    </div><!--\\n    --><div class=\"att-item item \" data-url=\"https://login.yahoo.com/config/login?.intl=tw&.pd=c%3D3Chd7Yq72e502eh4R99sgUvi5Q--&.done=https%3A%2F%2Ftw.search.bid.yahoo.com%2Fsearch%2Fauction%2Fproduct%3Fp%3Dcannon%2B300mm%2Bf2.8%26qt%3Dproduct%26cid%3D0%26clv%3D0&rr=4592234731\">\\n        <div class=\"wrap yui3-g\">\\n            <div class=\"srp-pdimage yui3-u\">\\n                <a href=\"https://tw.bid.yahoo.com/item/100029237146;_ylt=A3TWBEDEjjdVeQYATRhyFbN8;_ylv=3\" title=\"【數位達人】買就送砲衣或長焦托板!(現貨)原裝進口Canon EF 300mm F2.8 L IS USM II / 3\">\\n                    <img width=\"150\" \\n                    alt=\"【數位達人】買就送砲衣或長焦托板!(現貨)原裝進口Canon EF 300mm F2.8 L IS USM II / 3\"\\n                    src=\"https://s.yimg.com/aw/api/res/1.2/6GE1hpH_l.rlOEaVqUHaJg--/YXBwaWQ9eXR3YXVjdGlvbnNlcnZpY2U7aD0zMTc7cT04NTtyb3RhdGU9YXV0bztzcj0xLjI7c3M9MS4yO3c9NDAw/http://nevec-img.zenfs.com/prod/tw_ec05-7/81b9d11d-aa18-4746-84c1-0c72f8b624a1.jpg\">\\n                </a>\\n            </div>\\n            <div class=\"yui3-u srp-pdcontent\">\\n                <div class=\"srp-pdtitle yui3-g\">\\n                                        <span class=\"srp-tag bid yui3-u\">競標品</span>\\n                                        <div class=\"title yui3-u\">\\n                        <a class=\"ellipsis\" href=\"https://tw.bid.yahoo.com/item/100029237146;_ylt=A3TWBEDEjjdVeQYATBhyFbN8;_ylv=3\" title=\"【數位達人】買就送砲衣或長焦托板!(現貨)原裝進口Canon EF 300mm F2.8 L IS USM II / 3\">【數位達人】買就送砲衣或長焦托板!(現貨)原裝進口Canon EF 300mm F2.8 L IS USM II / 3</a>\\n                    </div>\\n                </div>\\n                <div class=\"srp-pddetail yui3-g\">\\n                    <div class=\"srp-pdlblock yui3-u\">\\n                        <div class=\"yui3-g\">\\n                            <div class=\"srp-pdblock1 yui3-u\">\\n                                <div class=\"srp-bidprice yui3-g\">\\n                                    <span class=\"yui3-u title\">出價</span>\\n                                    <em class=\"yui3-u \">160,000</em>\\n                                    <span class=\"yui3-u\">元</span>\\n                                </div>\\n                                <div class=\"srp-pdprice yui3-g\">\\n                                                                        <span class=\"yui3-u title\">直購價</span>\\n                                    <em class=\"yui3-u\">168,000</em>\\n                                    <span class=\"yui3-u\">元</span>\\n                                                                    </div>\\n                                <div class=\"srp-shipping\">\\n                                    運費100元                                </div>\\n                                                            </div>\\n                            <div class=\"srp-pdblock2 yui3-u\">\\n                                <span class=\"sep yui3-u\">｜</span>\\n                                <a href=\"https://tw.page.bid.yahoo.com/tw/show/bid_hist;_ylt=A3TWBEDEjjdVeQYAUBhyFbN8;_ylv=3?aID=100029237146\">\\n                                    0 次\\n                                </a>\\n                            </div>\\n                            <div class=\"srp-pdblock3 yui3-u\">\\n                                <span class=\"sep yui3-u\">｜</span>\\n                                                                            <span class=\"\">剩1天 19小時 </span>\\n                                                            </div>\\n                        </div>\\n                    </div>\\n                    <div class=\"srp-pdrblock yui3-u\">\\n                        <div class=\"yui3-g\">\\n                            <div class=\"srp-sellerinfo yui3-u\">\\n                                <div class=\"srp-pdstore\">\\n                                    <span class=\"store\">賣家：</span><a href=\"https://tw.bid.yahoo.com/tw/user/Y8082587130;_ylt=A3TWBEDEjjdVeQYAThhyFbN8;_ylv=3\">數位達人塘鵝暴風箱現貨展示中</a>\\n                                    <span class=\"store\">(評價 <a href=\"https://tw.bid.yahoo.com/rating/Y8082587130/listing;_ylt=A3TWBEDEjjdVeQYATxhyFbN8;_ylv=3\">9337</a>)</span>\\n                                </div>\\n                                                                    <a class=\"srp-ico store-icon\" title=\"拍賣店鋪\" href=\"https://help.yahoo.com/kb/index?page=content&id=SLN11039&locale=zh_TW&y=PROD_TWAUCT\"></a>\\n                                                                <div class=\"srp-place\">\\n                                    在台北市                                </div>\\n                            </div>\\n                            <div class=\"srp-paytype yui3-u\">\\n                                <div class=\"srp-ico easy-pay\"></div>                            </div>\\n                        </div>\\n                    </div>\\n                </div>\\n            </div>\\n        </div>\\n    </div><!--\\n    --><div class=\"att-item item \" data-url=\"https://login.yahoo.com/config/login?.intl=tw&.pd=c%3D3Chd7Yq72e502eh4R99sgUvi5Q--&.done=https%3A%2F%2Ftw.search.bid.yahoo.com%2Fsearch%2Fauction%2Fproduct%3Fp%3Dcannon%2B300mm%2Bf2.8%26qt%3Dproduct%26cid%3D0%26clv%3D0&rr=5247361463\">\\n        <div class=\"wrap yui3-g\">\\n            <div class=\"srp-pdimage yui3-u\">\\n                <a href=\"https://tw.bid.yahoo.com/item/1247741424;_ylt=A3TWBEDEjjdVeQYAUhhyFbN8;_ylv=3\" title=\"《喆安數位》CANON EF 300mm F2.8 L IS II USM 二代遠攝鏡頭  大光圈 F2.8 L 彩虹公司貨\">\\n                    <img width=\"150\" \\n                    alt=\"《喆安數位》CANON EF 300mm F2.8 L IS II USM 二代遠攝鏡頭  大光圈 F2.8 L 彩虹公司貨\"\\n                    src=\"https://s.yimg.com/aw/api/res/1.2/5OT8neHOorlEDSSA6blUBg--/YXBwaWQ9eXR3YXVjdGlvbnNlcnZpY2U7aD0zMjA7cT04NTtzcj0xLjI7c3M9MS4yO3c9NDAw/http://nevec-img.zenfs.com/prod/tw_ec05-7/fc7ad011-f28c-4a5f-9fb0-2999c1d529ce.jpg\">\\n                </a>\\n            </div>\\n            <div class=\"yui3-u srp-pdcontent\">\\n                <div class=\"srp-pdtitle yui3-g\">\\n                                        <span class=\"srp-tag bid yui3-u\">競標品</span>\\n                                        <div class=\"title yui3-u\">\\n                        <a class=\"ellipsis\" href=\"https://tw.bid.yahoo.com/item/1247741424;_ylt=A3TWBEDEjjdVeQYAURhyFbN8;_ylv=3\" title=\"《喆安數位》CANON EF 300mm F2.8 L IS II USM 二代遠攝鏡頭  大光圈 F2.8 L 彩虹公司貨\">《喆安數位》CANON EF 300mm F2.8 L IS II USM 二代遠攝鏡頭  大光圈 F2.8 L 彩虹公司貨</a>\\n                    </div>\\n                </div>\\n                <div class=\"srp-pddetail yui3-g\">\\n                    <div class=\"srp-pdlblock yui3-u\">\\n                        <div class=\"yui3-g\">\\n                            <div class=\"srp-pdblock1 yui3-u\">\\n                                <div class=\"srp-bidprice yui3-g\">\\n                                    <span class=\"yui3-u title\">出價</span>\\n                                    <em class=\"yui3-u red\">202,300</em>\\n                                    <span class=\"yui3-u\">元</span>\\n                                </div>\\n                                <div class=\"srp-pdprice yui3-g\">\\n                                                                    </div>\\n                                <div class=\"srp-shipping\">\\n                                    運費100元                                </div>\\n                                                                <span class=\"item-panel-btn srp-ico\" data-url=\"/tw/dedup?groupid=160010213&type=list&pg=1\">\\n                                    賣家相似商品\\n                                </span>\\n                                                            </div>\\n                            <div class=\"srp-pdblock2 yui3-u\">\\n                                <span class=\"sep yui3-u\">｜</span>\\n                                <a href=\"https://tw.page.bid.yahoo.com/tw/show/bid_hist;_ylt=A3TWBEDEjjdVeQYAVRhyFbN8;_ylv=3?aID=1247741424\">\\n                                    0 次\\n                                </a>\\n                            </div>\\n                            <div class=\"srp-pdblock3 yui3-u\">\\n                                <span class=\"sep yui3-u\">｜</span>\\n                                                                            <span class=\"\">剩1天 19小時 </span>\\n                                                            </div>\\n                        </div>\\n                    </div>\\n                    <div class=\"srp-pdrblock yui3-u\">\\n                        <div class=\"yui3-g\">\\n                            <div class=\"srp-sellerinfo yui3-u\">\\n                                <div class=\"srp-pdstore\">\\n                                    <span class=\"store\">賣家：</span><a href=\"https://tw.bid.yahoo.com/tw/user/Y5796566973;_ylt=A3TWBEDEjjdVeQYAUxhyFbN8;_ylv=3\">老字號 中和&#21894;安數位</a>\\n                                    <span class=\"store\">(評價 <a href=\"https://tw.bid.yahoo.com/rating/Y5796566973/listing;_ylt=A3TWBEDEjjdVeQYAVBhyFbN8;_ylv=3\">2136</a>)</span>\\n                                </div>\\n                                                                <div class=\"srp-place\">\\n                                    在新北市                                </div>\\n                            </div>\\n                            <div class=\"srp-paytype yui3-u\">\\n                                <div class=\"srp-ico easy-pay\"></div>                            </div>\\n                        </div>\\n                    </div>\\n                </div>\\n            </div>\\n        </div>\\n    </div><!--\\n    --><div class=\"att-item item \" data-url=\"https://login.yahoo.com/config/login?.intl=tw&.pd=c%3D3Chd7Yq72e502eh4R99sgUvi5Q--&.done=https%3A%2F%2Ftw.search.bid.yahoo.com%2Fsearch%2Fauction%2Fproduct%3Fp%3Dcannon%2B300mm%2Bf2.8%26qt%3Dproduct%26cid%3D0%26clv%3D0&rr=8816875725\">\\n        <div class=\"wrap yui3-g\">\\n            <div class=\"srp-pdimage yui3-u\">\\n                <a href=\"https://tw.bid.yahoo.com/item/f54492873;_ylt=A3TWBEDEjjdVeQYAVxhyFbN8;_ylv=3\" title=\"【數位達人】買就送砲衣或長焦托板!(現貨)原裝進口Canon EF 300mm F2.8 L IS USM II / 2\">\\n                    <img width=\"150\" \\n                    alt=\"【數位達人】買就送砲衣或長焦托板!(現貨)原裝進口Canon EF 300mm F2.8 L IS USM II / 2\"\\n                    src=\"https://s.yimg.com/aw/api/res/1.2/TBpurZ7WMI0uPIdJJWDVMg--/YXBwaWQ9eXR3YXVjdGlvbnNlcnZpY2U7aD0zMTc7cT04NTtzcj0xLjI7c3M9MS4yO3c9NDAw/http://nevec-img.zenfs.com/prod/tw_ec05-7/24fb12cf-4b16-4b1b-a655-79dcfd948ffa.jpg\">\\n                </a>\\n            </div>\\n            <div class=\"yui3-u srp-pdcontent\">\\n                <div class=\"srp-pdtitle yui3-g\">\\n                                        <span class=\"srp-tag bid yui3-u\">競標品</span>\\n                                        <div class=\"title yui3-u\">\\n                        <a class=\"ellipsis\" href=\"https://tw.bid.yahoo.com/item/f54492873;_ylt=A3TWBEDEjjdVeQYAVhhyFbN8;_ylv=3\" title=\"【數位達人】買就送砲衣或長焦托板!(現貨)原裝進口Canon EF 300mm F2.8 L IS USM II / 2\">【數位達人】買就送砲衣或長焦托板!(現貨)原裝進口Canon EF 300mm F2.8 L IS USM II / 2</a>\\n                    </div>\\n                </div>\\n                <div class=\"srp-pddetail yui3-g\">\\n                    <div class=\"srp-pdlblock yui3-u\">\\n                        <div class=\"yui3-g\">\\n                            <div class=\"srp-pdblock1 yui3-u\">\\n                                <div class=\"srp-bidprice yui3-g\">\\n                                    <span class=\"yui3-u title\">出價</span>\\n                                    <em class=\"yui3-u \">160,000</em>\\n                                    <span class=\"yui3-u\">元</span>\\n                                </div>\\n                                <div class=\"srp-pdprice yui3-g\">\\n                                                                        <span class=\"yui3-u title\">直購價</span>\\n                                    <em class=\"yui3-u\">168,000</em>\\n                                    <span class=\"yui3-u\">元</span>\\n                                                                    </div>\\n                                <div class=\"srp-shipping\">\\n                                    運費100元                                </div>\\n                                                            </div>\\n                            <div class=\"srp-pdblock2 yui3-u\">\\n                                <span class=\"sep yui3-u\">｜</span>\\n                                <a href=\"https://tw.page.bid.yahoo.com/tw/show/bid_hist;_ylt=A3TWBEDEjjdVeQYAWhhyFbN8;_ylv=3?aID=f54492873\">\\n                                    0 次\\n                                </a>\\n                            </div>\\n                            <div class=\"srp-pdblock3 yui3-u\">\\n                                <span class=\"sep yui3-u\">｜</span>\\n                                                                            <span class=\"\">剩1天 19小時 </span>\\n                                                            </div>\\n                        </div>\\n                    </div>\\n                    <div class=\"srp-pdrblock yui3-u\">\\n                        <div class=\"yui3-g\">\\n                            <div class=\"srp-sellerinfo yui3-u\">\\n                                <div class=\"srp-pdstore\">\\n                                    <span class=\"store\">賣家：</span><a href=\"https://tw.bid.yahoo.com/tw/user/Y8082587130;_ylt=A3TWBEDEjjdVeQYAWBhyFbN8;_ylv=3\">數位達人塘鵝暴風箱現貨展示中</a>\\n                                    <span class=\"store\">(評價 <a href=\"https://tw.bid.yahoo.com/rating/Y8082587130/listing;_ylt=A3TWBEDEjjdVeQYAWRhyFbN8;_ylv=3\">9337</a>)</span>\\n                                </div>\\n                                                                    <a class=\"srp-ico store-icon\" title=\"拍賣店鋪\" href=\"https://help.yahoo.com/kb/index?page=content&id=SLN11039&locale=zh_TW&y=PROD_TWAUCT\"></a>\\n                                                                <div class=\"srp-place\">\\n                                    在台北市                                </div>\\n                            </div>\\n                            <div class=\"srp-paytype yui3-u\">\\n                                <div class=\"srp-ico easy-pay\"></div>                            </div>\\n                        </div>\\n                    </div>\\n                </div>\\n            </div>\\n        </div>\\n    </div><!--\\n    --><div class=\"att-item item \" data-url=\"https://login.yahoo.com/config/login?.intl=tw&.pd=c%3D3Chd7Yq72e502eh4R99sgUvi5Q--&.done=https%3A%2F%2Ftw.search.bid.yahoo.com%2Fsearch%2Fauction%2Fproduct%3Fp%3Dcannon%2B300mm%2Bf2.8%26qt%3Dproduct%26cid%3D0%26clv%3D0&rr=4506098091\">\\n        <div class=\"wrap yui3-g\">\\n            <div class=\"srp-pdimage yui3-u\">\\n                <a href=\"https://tw.bid.yahoo.com/item/d85252953;_ylt=A3TWBEDEjjdVeQYAXBhyFbN8;_ylv=3\" title=\"【數位達人】買就送砲衣或長焦托板!(現貨)原裝進口Canon EF 300mm F2.8 L IS USM II / 1\">\\n                    <img width=\"150\" \\n                    alt=\"【數位達人】買就送砲衣或長焦托板!(現貨)原裝進口Canon EF 300mm F2.8 L IS USM II / 1\"\\n                    src=\"https://s.yimg.com/aw/api/res/1.2/g2HjE091SyT_PlW7c3rA5w--/YXBwaWQ9eXR3YXVjdGlvbnNlcnZpY2U7aD0zMTc7cT04NTtzcj0xLjI7c3M9MS4yO3c9NDAw/http://nevec-img.zenfs.com/prod/tw_ec05-7/2aaf7aa4-9c89-408c-b99f-3cd135be721e.jpg\">\\n                </a>\\n            </div>\\n            <div class=\"yui3-u srp-pdcontent\">\\n                <div class=\"srp-pdtitle yui3-g\">\\n                                        <span class=\"srp-tag bid yui3-u\">競標品</span>\\n                                        <div class=\"title yui3-u\">\\n                        <a class=\"ellipsis\" href=\"https://tw.bid.yahoo.com/item/d85252953;_ylt=A3TWBEDEjjdVeQYAWxhyFbN8;_ylv=3\" title=\"【數位達人】買就送砲衣或長焦托板!(現貨)原裝進口Canon EF 300mm F2.8 L IS USM II / 1\">【數位達人】買就送砲衣或長焦托板!(現貨)原裝進口Canon EF 300mm F2.8 L IS USM II / 1</a>\\n                    </div>\\n                </div>\\n                <div class=\"srp-pddetail yui3-g\">\\n                    <div class=\"srp-pdlblock yui3-u\">\\n                        <div class=\"yui3-g\">\\n                            <div class=\"srp-pdblock1 yui3-u\">\\n                                <div class=\"srp-bidprice yui3-g\">\\n                                    <span class=\"yui3-u title\">出價</span>\\n                                    <em class=\"yui3-u \">160,000</em>\\n                                    <span class=\"yui3-u\">元</span>\\n                                </div>\\n                                <div class=\"srp-pdprice yui3-g\">\\n                                                                        <span class=\"yui3-u title\">直購價</span>\\n                                    <em class=\"yui3-u\">168,000</em>\\n                                    <span class=\"yui3-u\">元</span>\\n                                                                    </div>\\n                                <div class=\"srp-shipping\">\\n                                    運費100元                                </div>\\n                                                            </div>\\n                            <div class=\"srp-pdblock2 yui3-u\">\\n                                <span class=\"sep yui3-u\">｜</span>\\n                                <a href=\"https://tw.page.bid.yahoo.com/tw/show/bid_hist;_ylt=A3TWBEDEjjdVeQYAXxhyFbN8;_ylv=3?aID=d85252953\">\\n                                    0 次\\n                                </a>\\n                            </div>\\n                            <div class=\"srp-pdblock3 yui3-u\">\\n                                <span class=\"sep yui3-u\">｜</span>\\n                                                                            <span class=\"\">剩1天 19小時 </span>\\n                                                            </div>\\n                        </div>\\n                    </div>\\n                    <div class=\"srp-pdrblock yui3-u\">\\n                        <div class=\"yui3-g\">\\n                            <div class=\"srp-sellerinfo yui3-u\">\\n                                <div class=\"srp-pdstore\">\\n                                    <span class=\"store\">賣家：</span><a href=\"https://tw.bid.yahoo.com/tw/user/Y8082587130;_ylt=A3TWBEDEjjdVeQYAXRhyFbN8;_ylv=3\">數位達人塘鵝暴風箱現貨展示中</a>\\n                                    <span class=\"store\">(評價 <a href=\"https://tw.bid.yahoo.com/rating/Y8082587130/listing;_ylt=A3TWBEDEjjdVeQYAXhhyFbN8;_ylv=3\">9337</a>)</span>\\n                                </div>\\n                                                                    <a class=\"srp-ico store-icon\" title=\"拍賣店鋪\" href=\"https://help.yahoo.com/kb/index?page=content&id=SLN11039&locale=zh_TW&y=PROD_TWAUCT\"></a>\\n                                                                <div class=\"srp-place\">\\n                                    在台北市                                </div>\\n                            </div>\\n                            <div class=\"srp-paytype yui3-u\">\\n                                <div class=\"srp-ico easy-pay\"></div>                            </div>\\n                        </div>\\n                    </div>\\n                </div>\\n            </div>\\n        </div>\\n    </div><!--\\n    --><div class=\"att-item item \" data-url=\"https://login.yahoo.com/config/login?.intl=tw&.pd=c%3D3Chd7Yq72e502eh4R99sgUvi5Q--&.done=https%3A%2F%2Ftw.search.bid.yahoo.com%2Fsearch%2Fauction%2Fproduct%3Fp%3Dcannon%2B300mm%2Bf2.8%26qt%3Dproduct%26cid%3D0%26clv%3D0&rr=7972095682\">\\n        <div class=\"wrap yui3-g\">\\n            <div class=\"srp-pdimage yui3-u\">\\n                <a href=\"https://tw.bid.yahoo.com/item/d80256303;_ylt=A3TWBEDEjjdVeQYAYRhyFbN8;_ylv=3\" title=\"《喆安數位》 Canon EF 300mm F2.8 L IS USM II 平輸 平行輸入 二代  大光圈 一年保固\">\\n                    <img width=\"150\" \\n                    alt=\"《喆安數位》 Canon EF 300mm F2.8 L IS USM II 平輸 平行輸入 二代  大光圈 一年保固\"\\n                    src=\"https://s.yimg.com/aw/api/res/1.2/hVF_2ia4T.su_62H9AP5ZQ--/YXBwaWQ9eXR3YXVjdGlvbnNlcnZpY2U7aD0zMjA7cT04NTtzcj0xLjI7c3M9MS4yO3c9NDAw/http://nevec-img.zenfs.com/prod/tw_ec05-7/c07df76b-820a-41e4-9834-6c9ba1520b21.jpg\">\\n                </a>\\n            </div>\\n            <div class=\"yui3-u srp-pdcontent\">\\n                <div class=\"srp-pdtitle yui3-g\">\\n                                        <span class=\"srp-tag bid yui3-u\">競標品</span>\\n                                        <div class=\"title yui3-u\">\\n                        <a class=\"ellipsis\" href=\"https://tw.bid.yahoo.com/item/d80256303;_ylt=A3TWBEDEjjdVeQYAYBhyFbN8;_ylv=3\" title=\"《喆安數位》 Canon EF 300mm F2.8 L IS USM II 平輸 平行輸入 二代  大光圈 一年保固\">《喆安數位》 Canon EF 300mm F2.8 L IS USM II 平輸 平行輸入 二代  大光圈 一年保固</a>\\n                    </div>\\n                </div>\\n                <div class=\"srp-pddetail yui3-g\">\\n                    <div class=\"srp-pdlblock yui3-u\">\\n                        <div class=\"yui3-g\">\\n                            <div class=\"srp-pdblock1 yui3-u\">\\n                                <div class=\"srp-bidprice yui3-g\">\\n                                    <span class=\"yui3-u title\">出價</span>\\n                                    <em class=\"yui3-u red\">167,000</em>\\n                                    <span class=\"yui3-u\">元</span>\\n                                </div>\\n                                <div class=\"srp-pdprice yui3-g\">\\n                                                                    </div>\\n                                <div class=\"srp-shipping\">\\n                                    運費100元                                </div>\\n                                                            </div>\\n                            <div class=\"srp-pdblock2 yui3-u\">\\n                                <span class=\"sep yui3-u\">｜</span>\\n                                <a href=\"https://tw.page.bid.yahoo.com/tw/show/bid_hist;_ylt=A3TWBEDEjjdVeQYAZBhyFbN8;_ylv=3?aID=d80256303\">\\n                                    0 次\\n                                </a>\\n                            </div>\\n                            <div class=\"srp-pdblock3 yui3-u\">\\n                                <span class=\"sep yui3-u\">｜</span>\\n                                                                            <span class=\"\">剩1天 19小時 </span>\\n                                                            </div>\\n                        </div>\\n                    </div>\\n                    <div class=\"srp-pdrblock yui3-u\">\\n                        <div class=\"yui3-g\">\\n                            <div class=\"srp-sellerinfo yui3-u\">\\n                                <div class=\"srp-pdstore\">\\n                                    <span class=\"store\">賣家：</span><a href=\"https://tw.bid.yahoo.com/tw/user/Y5796566973;_ylt=A3TWBEDEjjdVeQYAYhhyFbN8;_ylv=3\">老字號 中和&#21894;安數位</a>\\n                                    <span class=\"store\">(評價 <a href=\"https://tw.bid.yahoo.com/rating/Y5796566973/listing;_ylt=A3TWBEDEjjdVeQYAYxhyFbN8;_ylv=3\">2136</a>)</span>\\n                                </div>\\n                                                                    <a class=\"srp-ico store-icon\" title=\"拍賣店鋪\" href=\"https://help.yahoo.com/kb/index?page=content&id=SLN11039&locale=zh_TW&y=PROD_TWAUCT\"></a>\\n                                                                <div class=\"srp-place\">\\n                                    在新北市                                </div>\\n                            </div>\\n                            <div class=\"srp-paytype yui3-u\">\\n                                <div class=\"srp-ico easy-pay\"></div>                            </div>\\n                        </div>\\n                    </div>\\n                </div>\\n            </div>\\n        </div>\\n    </div><!--\\n    --><div class=\"att-item item \" data-url=\"https://login.yahoo.com/config/login?.intl=tw&.pd=c%3D3Chd7Yq72e502eh4R99sgUvi5Q--&.done=https%3A%2F%2Ftw.search.bid.yahoo.com%2Fsearch%2Fauction%2Fproduct%3Fp%3Dcannon%2B300mm%2Bf2.8%26qt%3Dproduct%26cid%3D0%26clv%3D0&rr=8364048725\">\\n        <div class=\"wrap yui3-g\">\\n            <div class=\"srp-pdimage yui3-u\">\\n                <a href=\"https://tw.bid.yahoo.com/item/f49505335;_ylt=A3TWBEDEjjdVeQYAZhhyFbN8;_ylv=3\" title=\"《喆安數位》 Canon EF 300mm F2.8 L IS USM II 平輸 平行輸入 二代  大光圈 一年保固\">\\n                    <img width=\"150\" \\n                    alt=\"《喆安數位》 Canon EF 300mm F2.8 L IS USM II 平輸 平行輸入 二代  大光圈 一年保固\"\\n                    src=\"https://s.yimg.com/aw/api/res/1.2/D.Ny.egX9Z72t64rDDCD3Q--/YXBwaWQ9eXR3YXVjdGlvbnNlcnZpY2U7aD0zMjA7cT04NTtzcj0xLjI7c3M9MS4yO3c9NDAw/http://nevec-img.zenfs.com/prod/tw_ec05-7/ed0cf619-2d6d-41bc-a2d8-73ca2fd85259.jpg\">\\n                </a>\\n            </div>\\n            <div class=\"yui3-u srp-pdcontent\">\\n                <div class=\"srp-pdtitle yui3-g\">\\n                                        <span class=\"srp-tag bid yui3-u\">競標品</span>\\n                                        <div class=\"title yui3-u\">\\n                        <a class=\"ellipsis\" href=\"https://tw.bid.yahoo.com/item/f49505335;_ylt=A3TWBEDEjjdVeQYAZRhyFbN8;_ylv=3\" title=\"《喆安數位》 Canon EF 300mm F2.8 L IS USM II 平輸 平行輸入 二代  大光圈 一年保固\">《喆安數位》 Canon EF 300mm F2.8 L IS USM II 平輸 平行輸入 二代  大光圈 一年保固</a>\\n                    </div>\\n                </div>\\n                <div class=\"srp-pddetail yui3-g\">\\n                    <div class=\"srp-pdlblock yui3-u\">\\n                        <div class=\"yui3-g\">\\n                            <div class=\"srp-pdblock1 yui3-u\">\\n                                <div class=\"srp-bidprice yui3-g\">\\n                                    <span class=\"yui3-u title\">出價</span>\\n                                    <em class=\"yui3-u red\">167,000</em>\\n                                    <span class=\"yui3-u\">元</span>\\n                                </div>\\n                                <div class=\"srp-pdprice yui3-g\">\\n                                                                    </div>\\n                                <div class=\"srp-shipping\">\\n                                    運費100元                                </div>\\n                                                                <span class=\"item-panel-btn srp-ico\" data-url=\"/tw/dedup?groupid=165935113&type=list&pg=1\">\\n                                    賣家相似商品\\n                                </span>\\n                                                            </div>\\n                            <div class=\"srp-pdblock2 yui3-u\">\\n                                <span class=\"sep yui3-u\">｜</span>\\n                                <a href=\"https://tw.page.bid.yahoo.com/tw/show/bid_hist;_ylt=A3TWBEDEjjdVeQYAaRhyFbN8;_ylv=3?aID=f49505335\">\\n                                    0 次\\n                                </a>\\n                            </div>\\n                            <div class=\"srp-pdblock3 yui3-u\">\\n                                <span class=\"sep yui3-u\">｜</span>\\n                                                                            <span class=\"\">剩1天 19小時 </span>\\n                                                            </div>\\n                        </div>\\n                    </div>\\n                    <div class=\"srp-pdrblock yui3-u\">\\n                        <div class=\"yui3-g\">\\n                            <div class=\"srp-sellerinfo yui3-u\">\\n                                <div class=\"srp-pdstore\">\\n                                    <span class=\"store\">賣家：</span><a href=\"https://tw.bid.yahoo.com/tw/user/Y5796566973;_ylt=A3TWBEDEjjdVeQYAZxhyFbN8;_ylv=3\">老字號 中和&#21894;安數位</a>\\n                                    <span class=\"store\">(評價 <a href=\"https://tw.bid.yahoo.com/rating/Y5796566973/listing;_ylt=A3TWBEDEjjdVeQYAaBhyFbN8;_ylv=3\">2136</a>)</span>\\n                                </div>\\n                                                                    <a class=\"srp-ico store-icon\" title=\"拍賣店鋪\" href=\"https://help.yahoo.com/kb/index?page=content&id=SLN11039&locale=zh_TW&y=PROD_TWAUCT\"></a>\\n                                                                <div class=\"srp-place\">\\n                                    在新北市                                </div>\\n                            </div>\\n                            <div class=\"srp-paytype yui3-u\">\\n                                <div class=\"srp-ico easy-pay\"></div>                            </div>\\n                        </div>\\n                    </div>\\n                </div>\\n            </div>\\n        </div>\\n    </div><!--\\n    --><div class=\"att-item item \" data-url=\"https://login.yahoo.com/config/login?.intl=tw&.pd=c%3D3Chd7Yq72e502eh4R99sgUvi5Q--&.done=https%3A%2F%2Ftw.search.bid.yahoo.com%2Fsearch%2Fauction%2Fproduct%3Fp%3Dcannon%2B300mm%2Bf2.8%26qt%3Dproduct%26cid%3D0%26clv%3D0&rr=9477327949\">\\n        <div class=\"wrap yui3-g\">\\n            <div class=\"srp-pdimage yui3-u\">\\n                <a href=\"https://tw.bid.yahoo.com/item/d85766631;_ylt=A3TWBEDEjjdVeQYAaxhyFbN8;_ylv=3\" title=\"《喆安數位》CANON EF 300mm F2.8 L IS II USM 彩虹公司貨 二代 遠攝鏡頭 大光圈 一年保固\">\\n                    <img width=\"150\" \\n                    alt=\"《喆安數位》CANON EF 300mm F2.8 L IS II USM 彩虹公司貨 二代 遠攝鏡頭 大光圈 一年保固\"\\n                    src=\"https://s.yimg.com/aw/api/res/1.2/oibd9a__4MNSkFJI72K6RQ--/YXBwaWQ9eXR3YXVjdGlvbnNlcnZpY2U7aD0zMjA7cT04NTtzcj0xLjI7c3M9MS4yO3c9NDAw/http://nevec-img.zenfs.com/prod/tw_ec05-7/bbbc4d64-cc2c-466e-a31b-376724bb2dc8.jpg\">\\n                </a>\\n            </div>\\n            <div class=\"yui3-u srp-pdcontent\">\\n                <div class=\"srp-pdtitle yui3-g\">\\n                                        <span class=\"srp-tag bid yui3-u\">競標品</span>\\n                                        <div class=\"title yui3-u\">\\n                        <a class=\"ellipsis\" href=\"https://tw.bid.yahoo.com/item/d85766631;_ylt=A3TWBEDEjjdVeQYAahhyFbN8;_ylv=3\" title=\"《喆安數位》CANON EF 300mm F2.8 L IS II USM 彩虹公司貨 二代 遠攝鏡頭 大光圈 一年保固\">《喆安數位》CANON EF 300mm F2.8 L IS II USM 彩虹公司貨 二代 遠攝鏡頭 大光圈 一年保固</a>\\n                    </div>\\n                </div>\\n                <div class=\"srp-pddetail yui3-g\">\\n                    <div class=\"srp-pdlblock yui3-u\">\\n                        <div class=\"yui3-g\">\\n                            <div class=\"srp-pdblock1 yui3-u\">\\n                                <div class=\"srp-bidprice yui3-g\">\\n                                    <span class=\"yui3-u title\">出價</span>\\n                                    <em class=\"yui3-u red\">202,300</em>\\n                                    <span class=\"yui3-u\">元</span>\\n                                </div>\\n                                <div class=\"srp-pdprice yui3-g\">\\n                                                                    </div>\\n                                <div class=\"srp-shipping\">\\n                                    運費100元                                </div>\\n                                                            </div>\\n                            <div class=\"srp-pdblock2 yui3-u\">\\n                                <span class=\"sep yui3-u\">｜</span>\\n                                <a href=\"https://tw.page.bid.yahoo.com/tw/show/bid_hist;_ylt=A3TWBEDEjjdVeQYAbhhyFbN8;_ylv=3?aID=d85766631\">\\n                                    0 次\\n                                </a>\\n                            </div>\\n                            <div class=\"srp-pdblock3 yui3-u\">\\n                                <span class=\"sep yui3-u\">｜</span>\\n                                                                            <span class=\"\">剩1天 19小時 </span>\\n                                                            </div>\\n                        </div>\\n                    </div>\\n                    <div class=\"srp-pdrblock yui3-u\">\\n                        <div class=\"yui3-g\">\\n                            <div class=\"srp-sellerinfo yui3-u\">\\n                                <div class=\"srp-pdstore\">\\n                                    <span class=\"store\">賣家：</span><a href=\"https://tw.bid.yahoo.com/tw/user/Y5796566973;_ylt=A3TWBEDEjjdVeQYAbBhyFbN8;_ylv=3\">老字號 中和&#21894;安數位</a>\\n                                    <span class=\"store\">(評價 <a href=\"https://tw.bid.yahoo.com/rating/Y5796566973/listing;_ylt=A3TWBEDEjjdVeQYAbRhyFbN8;_ylv=3\">2136</a>)</span>\\n                                </div>\\n                                                                    <a class=\"srp-ico store-icon\" title=\"拍賣店鋪\" href=\"https://help.yahoo.com/kb/index?page=content&id=SLN11039&locale=zh_TW&y=PROD_TWAUCT\"></a>\\n                                                                <div class=\"srp-place\">\\n                                    在新北市                                </div>\\n                            </div>\\n                            <div class=\"srp-paytype yui3-u\">\\n                                <div class=\"srp-ico easy-pay\"></div>                            </div>\\n                        </div>\\n                    </div>\\n                </div>\\n            </div>\\n        </div>\\n    </div><!--\\n    --><div class=\"att-item item \" data-url=\"https://login.yahoo.com/config/login?.intl=tw&.pd=c%3D3Chd7Yq72e502eh4R99sgUvi5Q--&.done=https%3A%2F%2Ftw.search.bid.yahoo.com%2Fsearch%2Fauction%2Fproduct%3Fp%3Dcannon%2B300mm%2Bf2.8%26qt%3Dproduct%26cid%3D0%26clv%3D0&rr=1619781427\">\\n        <div class=\"wrap yui3-g\">\\n            <div class=\"srp-pdimage yui3-u\">\\n                <a href=\"https://tw.bid.yahoo.com/item/1240811786;_ylt=A3TWBEDEjjdVeQYAcBhyFbN8;_ylv=3\" title=\"【中野數位】Canon EF 300mm F2.8 L IS II USM二代鏡/彩虹貨/1DX/5D3/6D免運~\">\\n                    <img width=\"150\" \\n                    alt=\"【中野數位】Canon EF 300mm F2.8 L IS II USM二代鏡/彩虹貨/1DX/5D3/6D免運~\"\\n                    src=\"https://s.yimg.com/aw/api/res/1.2/5vFOGGhRSaSBCuh_dXfv9Q--/YXBwaWQ9eXR3YXVjdGlvbnNlcnZpY2U7aD0zMDA7cT04NTtzcj0xLjI7c3M9MS4yO3c9NDAw/http://nevec-img.zenfs.com/prod/tw_ec05-7/08edbadb-a053-47c2-ae0e-d3aaebc4c651.jpg\">\\n                </a>\\n            </div>\\n            <div class=\"yui3-u srp-pdcontent\">\\n                <div class=\"srp-pdtitle yui3-g\">\\n                                        <span class=\"srp-tag bid yui3-u\">競標品</span>\\n                                        <div class=\"title yui3-u\">\\n                        <a class=\"ellipsis\" href=\"https://tw.bid.yahoo.com/item/1240811786;_ylt=A3TWBEDEjjdVeQYAbxhyFbN8;_ylv=3\" title=\"【中野數位】Canon EF 300mm F2.8 L IS II USM二代鏡/彩虹貨/1DX/5D3/6D免運~\">【中野數位】Canon EF 300mm F2.8 L IS II USM二代鏡/彩虹貨/1DX/5D3/6D免運~</a>\\n                    </div>\\n                </div>\\n                <div class=\"srp-pddetail yui3-g\">\\n                    <div class=\"srp-pdlblock yui3-u\">\\n                        <div class=\"yui3-g\">\\n                            <div class=\"srp-pdblock1 yui3-u\">\\n                                <div class=\"srp-bidprice yui3-g\">\\n                                    <span class=\"yui3-u title\">出價</span>\\n                                    <em class=\"yui3-u \">202,300</em>\\n                                    <span class=\"yui3-u\">元</span>\\n                                </div>\\n                                <div class=\"srp-pdprice yui3-g\">\\n                                                                        <span class=\"yui3-u title\">直購價</span>\\n                                    <em class=\"yui3-u\">202,300</em>\\n                                    <span class=\"yui3-u\">元</span>\\n                                                                    </div>\\n                                <div class=\"srp-shipping\">\\n                                    免運                                </div>\\n                                                            </div>\\n                            <div class=\"srp-pdblock2 yui3-u\">\\n                                <span class=\"sep yui3-u\">｜</span>\\n                                <a href=\"https://tw.page.bid.yahoo.com/tw/show/bid_hist;_ylt=A3TWBEDEjjdVeQYAcxhyFbN8;_ylv=3?aID=1240811786\">\\n                                    0 次\\n                                </a>\\n                            </div>\\n                            <div class=\"srp-pdblock3 yui3-u\">\\n                                <span class=\"sep yui3-u\">｜</span>\\n                                                                            <span class=\"\">剩2天 2小時 </span>\\n                                                            </div>\\n                        </div>\\n                    </div>\\n                    <div class=\"srp-pdrblock yui3-u\">\\n                        <div class=\"yui3-g\">\\n                            <div class=\"srp-sellerinfo yui3-u\">\\n                                <div class=\"srp-pdstore\">\\n                                    <span class=\"store\">賣家：</span><a href=\"https://tw.bid.yahoo.com/tw/user/Y1015519102;_ylt=A3TWBEDEjjdVeQYAcRhyFbN8;_ylv=3\">中野數位</a>\\n                                    <span class=\"store\">(評價 <a href=\"https://tw.bid.yahoo.com/rating/Y1015519102/listing;_ylt=A3TWBEDEjjdVeQYAchhyFbN8;_ylv=3\">1925</a>)</span>\\n                                </div>\\n                                                                    <a class=\"srp-ico store-icon\" title=\"拍賣店鋪\" href=\"https://help.yahoo.com/kb/index?page=content&id=SLN11039&locale=zh_TW&y=PROD_TWAUCT\"></a>\\n                                                                <div class=\"srp-place\">\\n                                    在台中市                                </div>\\n                            </div>\\n                            <div class=\"srp-paytype yui3-u\">\\n                                <div class=\"srp-ico easy-pay\"></div>                            </div>\\n                        </div>\\n                    </div>\\n                </div>\\n            </div>\\n        </div>\\n    </div><!--\\n    --><div class=\"att-item item \" data-url=\"https://login.yahoo.com/config/login?.intl=tw&.pd=c%3D3Chd7Yq72e502eh4R99sgUvi5Q--&.done=https%3A%2F%2Ftw.search.bid.yahoo.com%2Fsearch%2Fauction%2Fproduct%3Fp%3Dcannon%2B300mm%2Bf2.8%26qt%3Dproduct%26cid%3D0%26clv%3D0&rr=8977535142\">\\n        <div class=\"wrap yui3-g\">\\n            <div class=\"srp-pdimage yui3-u\">\\n                <a href=\"https://tw.bid.yahoo.com/item/f64550851;_ylt=A3TWBEDEjjdVeQYAdRhyFbN8;_ylv=3\" title=\"《久東光學＊公館》SIGMA APO 120-300mm 恆定F2.8  DG OS HSM FOR CANON/NIKON 公司 三年保\">\\n                    <img width=\"150\" \\n                    alt=\"《久東光學＊公館》SIGMA APO 120-300mm 恆定F2.8  DG OS HSM FOR CANON/NIKON 公司 三年保\"\\n                    src=\"https://s.yimg.com/aw/api/res/1.2/WvdY7K7o0l3R5AIITblKvA--/YXBwaWQ9eXR3YXVjdGlvbnNlcnZpY2U7aD0zMDA7cT04NTtzcj0xLjI7c3M9MS4yO3c9NDAw/http://nevec-img.zenfs.com/prod/tw_ec05-7/c8f31583-3daa-4f26-8344-e447fc84a69c.jpg\">\\n                </a>\\n            </div>\\n            <div class=\"yui3-u srp-pdcontent\">\\n                <div class=\"srp-pdtitle yui3-g\">\\n                                        <span class=\"srp-tag bid yui3-u\">競標品</span>\\n                                        <div class=\"title yui3-u\">\\n                        <a class=\"ellipsis\" href=\"https://tw.bid.yahoo.com/item/f64550851;_ylt=A3TWBEDEjjdVeQYAdBhyFbN8;_ylv=3\" title=\"《久東光學＊公館》SIGMA APO 120-300mm 恆定F2.8  DG OS HSM FOR CANON/NIKON 公司 三年保\">《久東光學＊公館》SIGMA APO 120-300mm 恆定F2.8  DG OS HSM FOR CANON/NIKON 公司 三年保</a>\\n                    </div>\\n                </div>\\n                <div class=\"srp-pddetail yui3-g\">\\n                    <div class=\"srp-pdlblock yui3-u\">\\n                        <div class=\"yui3-g\">\\n                            <div class=\"srp-pdblock1 yui3-u\">\\n                                <div class=\"srp-bidprice yui3-g\">\\n                                    <span class=\"yui3-u title\">出價</span>\\n                                    <em class=\"yui3-u red\">89,900</em>\\n                                    <span class=\"yui3-u\">元</span>\\n                                </div>\\n                                <div class=\"srp-pdprice yui3-g\">\\n                                                                    </div>\\n                                <div class=\"srp-shipping\">\\n                                    運費100元                                </div>\\n                                                                <span class=\"item-panel-btn srp-ico\" data-url=\"/tw/dedup?groupid=153696011&type=list&pg=1\">\\n                                    賣家相似商品\\n                                </span>\\n                                                            </div>\\n                            <div class=\"srp-pdblock2 yui3-u\">\\n                                <span class=\"sep yui3-u\">｜</span>\\n                                <a href=\"https://tw.page.bid.yahoo.com/tw/show/bid_hist;_ylt=A3TWBEDEjjdVeQYAeBhyFbN8;_ylv=3?aID=f64550851\">\\n                                    0 次\\n                                </a>\\n                            </div>\\n                            <div class=\"srp-pdblock3 yui3-u\">\\n                                <span class=\"sep yui3-u\">｜</span>\\n                                                                            <span class=\"\">剩2天 17小時 </span>\\n                                                            </div>\\n                        </div>\\n                    </div>\\n                    <div class=\"srp-pdrblock yui3-u\">\\n                        <div class=\"yui3-g\">\\n                            <div class=\"srp-sellerinfo yui3-u\">\\n                                <div class=\"srp-pdstore\">\\n                                    <span class=\"store\">賣家：</span><a href=\"https://tw.bid.yahoo.com/tw/user/Y5915223596;_ylt=A3TWBEDEjjdVeQYAdhhyFbN8;_ylv=3\">《久東光學＊公館》</a>\\n                                    <span class=\"store\">(評價 <a href=\"https://tw.bid.yahoo.com/rating/Y5915223596/listing;_ylt=A3TWBEDEjjdVeQYAdxhyFbN8;_ylv=3\">950</a>)</span>\\n                                </div>\\n                                                                    <a class=\"srp-ico store-icon\" title=\"拍賣店鋪\" href=\"https://help.yahoo.com/kb/index?page=content&id=SLN11039&locale=zh_TW&y=PROD_TWAUCT\"></a>\\n                                                                <div class=\"srp-place\">\\n                                    在台北市                                </div>\\n                            </div>\\n                            <div class=\"srp-paytype yui3-u\">\\n                                <div class=\"srp-ico easy-pay\"></div>                            </div>\\n                        </div>\\n                    </div>\\n                </div>\\n            </div>\\n        </div>\\n    </div><!--\\n    --><div class=\"att-item item \" data-url=\"https://login.yahoo.com/config/login?.intl=tw&.pd=c%3D3Chd7Yq72e502eh4R99sgUvi5Q--&.done=https%3A%2F%2Ftw.search.bid.yahoo.com%2Fsearch%2Fauction%2Fproduct%3Fp%3Dcannon%2B300mm%2Bf2.8%26qt%3Dproduct%26cid%3D0%26clv%3D0&rr=8844282013\">\\n        <div class=\"wrap yui3-g\">\\n            <div class=\"srp-pdimage yui3-u\">\\n                <a href=\"https://tw.bid.yahoo.com/item/100029252540;_ylt=A3TWBEDEjjdVeQYAehhyFbN8;_ylv=3\" title=\"《久東光學＊公館》 CANON EF 300mm F2.8 L IS USM 防手震 平行輸入 保固一年1\">\\n                    <img width=\"150\" \\n                    alt=\"《久東光學＊公館》 CANON EF 300mm F2.8 L IS USM 防手震 平行輸入 保固一年1\"\\n                    src=\"https://s.yimg.com/aw/api/res/1.2/xcNW20YYVbqwTxLCB6sTZQ--/YXBwaWQ9eXR3YXVjdGlvbnNlcnZpY2U7aD0zMDA7cT04NTtyb3RhdGU9YXV0bztzcj0xLjI7c3M9MS4yO3c9NDAw/http://nevec-img.zenfs.com/prod/tw_ec05-7/52ee817c-abea-4ec0-a74e-639bb1db462d.jpg\">\\n                </a>\\n            </div>\\n            <div class=\"yui3-u srp-pdcontent\">\\n                <div class=\"srp-pdtitle yui3-g\">\\n                                        <span class=\"srp-tag bid yui3-u\">競標品</span>\\n                                        <div class=\"title yui3-u\">\\n                        <a class=\"ellipsis\" href=\"https://tw.bid.yahoo.com/item/100029252540;_ylt=A3TWBEDEjjdVeQYAeRhyFbN8;_ylv=3\" title=\"《久東光學＊公館》 CANON EF 300mm F2.8 L IS USM 防手震 平行輸入 保固一年1\">《久東光學＊公館》 CANON EF 300mm F2.8 L IS USM 防手震 平行輸入 保固一年1</a>\\n                    </div>\\n                </div>\\n                <div class=\"srp-pddetail yui3-g\">\\n                    <div class=\"srp-pdlblock yui3-u\">\\n                        <div class=\"yui3-g\">\\n                            <div class=\"srp-pdblock1 yui3-u\">\\n                                <div class=\"srp-bidprice yui3-g\">\\n                                    <span class=\"yui3-u title\">出價</span>\\n                                    <em class=\"yui3-u red\">160,000</em>\\n                                    <span class=\"yui3-u\">元</span>\\n                                </div>\\n                                <div class=\"srp-pdprice yui3-g\">\\n                                                                    </div>\\n                                <div class=\"srp-shipping\">\\n                                    運費100元                                </div>\\n                                                            </div>\\n                            <div class=\"srp-pdblock2 yui3-u\">\\n                                <span class=\"sep yui3-u\">｜</span>\\n                                <a href=\"https://tw.page.bid.yahoo.com/tw/show/bid_hist;_ylt=A3TWBEDEjjdVeQYAfRhyFbN8;_ylv=3?aID=100029252540\">\\n                                    0 次\\n                                </a>\\n                            </div>\\n                            <div class=\"srp-pdblock3 yui3-u\">\\n                                <span class=\"sep yui3-u\">｜</span>\\n                                                                            <span class=\"\">剩2天 17小時 </span>\\n                                                            </div>\\n                        </div>\\n                    </div>\\n                    <div class=\"srp-pdrblock yui3-u\">\\n                        <div class=\"yui3-g\">\\n                            <div class=\"srp-sellerinfo yui3-u\">\\n                                <div class=\"srp-pdstore\">\\n                                    <span class=\"store\">賣家：</span><a href=\"https://tw.bid.yahoo.com/tw/user/Y5915223596;_ylt=A3TWBEDEjjdVeQYAexhyFbN8;_ylv=3\">《久東光學＊公館》</a>\\n                                    <span class=\"store\">(評價 <a href=\"https://tw.bid.yahoo.com/rating/Y5915223596/listing;_ylt=A3TWBEDEjjdVeQYAfBhyFbN8;_ylv=3\">950</a>)</span>\\n                                </div>\\n                                                                    <a class=\"srp-ico store-icon\" title=\"拍賣店鋪\" href=\"https://help.yahoo.com/kb/index?page=content&id=SLN11039&locale=zh_TW&y=PROD_TWAUCT\"></a>\\n                                                                <div class=\"srp-place\">\\n                                    在台北市                                </div>\\n                            </div>\\n                            <div class=\"srp-paytype yui3-u\">\\n                                <div class=\"srp-ico easy-pay\"></div>                            </div>\\n                        </div>\\n                    </div>\\n                </div>\\n            </div>\\n        </div>\\n    </div><!--\\n    --><div class=\"att-item item \" data-url=\"https://login.yahoo.com/config/login?.intl=tw&.pd=c%3D3Chd7Yq72e502eh4R99sgUvi5Q--&.done=https%3A%2F%2Ftw.search.bid.yahoo.com%2Fsearch%2Fauction%2Fproduct%3Fp%3Dcannon%2B300mm%2Bf2.8%26qt%3Dproduct%26cid%3D0%26clv%3D0&rr=6933313053\">\\n        <div class=\"wrap yui3-g\">\\n            <div class=\"srp-pdimage yui3-u\">\\n                <a href=\"https://tw.bid.yahoo.com/item/100029252604;_ylt=A3TWBEDEjjdVeQYAfxhyFbN8;_ylv=3\" title=\"《久東光學＊公館》 CANON EF 300mm F2.8 L IS USM 防手震 平行輸入 保固一年2\">\\n                    <img width=\"150\" \\n                    alt=\"《久東光學＊公館》 CANON EF 300mm F2.8 L IS USM 防手震 平行輸入 保固一年2\"\\n                    src=\"https://s.yimg.com/aw/api/res/1.2/sYLsVbhTgRpABtA8IZ1lnQ--/YXBwaWQ9eXR3YXVjdGlvbnNlcnZpY2U7aD0zMDA7cT04NTtyb3RhdGU9YXV0bztzcj0xLjI7c3M9MS4yO3c9NDAw/http://nevec-img.zenfs.com/prod/tw_ec05-7/9d8cfded-8c02-4926-8211-1075765a9fc4.jpg\">\\n                </a>\\n            </div>\\n            <div class=\"yui3-u srp-pdcontent\">\\n                <div class=\"srp-pdtitle yui3-g\">\\n                                        <span class=\"srp-tag bid yui3-u\">競標品</span>\\n                                        <div class=\"title yui3-u\">\\n                        <a class=\"ellipsis\" href=\"https://tw.bid.yahoo.com/item/100029252604;_ylt=A3TWBEDEjjdVeQYAfhhyFbN8;_ylv=3\" title=\"《久東光學＊公館》 CANON EF 300mm F2.8 L IS USM 防手震 平行輸入 保固一年2\">《久東光學＊公館》 CANON EF 300mm F2.8 L IS USM 防手震 平行輸入 保固一年2</a>\\n                    </div>\\n                </div>\\n                <div class=\"srp-pddetail yui3-g\">\\n                    <div class=\"srp-pdlblock yui3-u\">\\n                        <div class=\"yui3-g\">\\n                            <div class=\"srp-pdblock1 yui3-u\">\\n                                <div class=\"srp-bidprice yui3-g\">\\n                                    <span class=\"yui3-u title\">出價</span>\\n                                    <em class=\"yui3-u red\">160,000</em>\\n                                    <span class=\"yui3-u\">元</span>\\n                                </div>\\n                                <div class=\"srp-pdprice yui3-g\">\\n                                                                    </div>\\n                                <div class=\"srp-shipping\">\\n                                    運費100元                                </div>\\n                                                            </div>\\n                            <div class=\"srp-pdblock2 yui3-u\">\\n                                <span class=\"sep yui3-u\">｜</span>\\n                                <a href=\"https://tw.page.bid.yahoo.com/tw/show/bid_hist;_ylt=A3TWBEDEjjdVeQYAghhyFbN8;_ylv=3?aID=100029252604\">\\n                                    0 次\\n                                </a>\\n                            </div>\\n                            <div class=\"srp-pdblock3 yui3-u\">\\n                                <span class=\"sep yui3-u\">｜</span>\\n                                                                            <span class=\"\">剩2天 17小時 </span>\\n                                                            </div>\\n                        </div>\\n                    </div>\\n                    <div class=\"srp-pdrblock yui3-u\">\\n                        <div class=\"yui3-g\">\\n                            <div class=\"srp-sellerinfo yui3-u\">\\n                                <div class=\"srp-pdstore\">\\n                                    <span class=\"store\">賣家：</span><a href=\"https://tw.bid.yahoo.com/tw/user/Y5915223596;_ylt=A3TWBEDEjjdVeQYAgBhyFbN8;_ylv=3\">《久東光學＊公館》</a>\\n                                    <span class=\"store\">(評價 <a href=\"https://tw.bid.yahoo.com/rating/Y5915223596/listing;_ylt=A3TWBEDEjjdVeQYAgRhyFbN8;_ylv=3\">950</a>)</span>\\n                                </div>\\n                                                                    <a class=\"srp-ico store-icon\" title=\"拍賣店鋪\" href=\"https://help.yahoo.com/kb/index?page=content&id=SLN11039&locale=zh_TW&y=PROD_TWAUCT\"></a>\\n                                                                <div class=\"srp-place\">\\n                                    在台北市                                </div>\\n                            </div>\\n                            <div class=\"srp-paytype yui3-u\">\\n                                <div class=\"srp-ico easy-pay\"></div>                            </div>\\n                        </div>\\n                    </div>\\n                </div>\\n            </div>\\n        </div>\\n    </div><!--\\n    --><div class=\"att-item item \" data-url=\"https://login.yahoo.com/config/login?.intl=tw&.pd=c%3D3Chd7Yq72e502eh4R99sgUvi5Q--&.done=https%3A%2F%2Ftw.search.bid.yahoo.com%2Fsearch%2Fauction%2Fproduct%3Fp%3Dcannon%2B300mm%2Bf2.8%26qt%3Dproduct%26cid%3D0%26clv%3D0&rr=1797058935\">\\n        <div class=\"wrap yui3-g\">\\n            <div class=\"srp-pdimage yui3-u\">\\n                <a href=\"https://tw.bid.yahoo.com/item/100029252375;_ylt=A3TWBEDEjjdVeQYAhBhyFbN8;_ylv=3\" title=\"《久東光學＊公館》 CANON EF 300mm F2.8 L IS USM 防手震 彩虹公司貨 二代1\">\\n                    <img width=\"150\" \\n                    alt=\"《久東光學＊公館》 CANON EF 300mm F2.8 L IS USM 防手震 彩虹公司貨 二代1\"\\n                    src=\"https://s.yimg.com/aw/api/res/1.2/U6uZZrU8tX_ciY8CATvYLw--/YXBwaWQ9eXR3YXVjdGlvbnNlcnZpY2U7aD0zMDA7cT04NTtyb3RhdGU9YXV0bztzcj0xLjI7c3M9MS4yO3c9NDAw/http://nevec-img.zenfs.com/prod/tw_ec05-7/cb266ee2-c341-44b9-82da-4199ff008ab3.jpg\">\\n                </a>\\n            </div>\\n            <div class=\"yui3-u srp-pdcontent\">\\n                <div class=\"srp-pdtitle yui3-g\">\\n                                        <span class=\"srp-tag bid yui3-u\">競標品</span>\\n                                        <div class=\"title yui3-u\">\\n                        <a class=\"ellipsis\" href=\"https://tw.bid.yahoo.com/item/100029252375;_ylt=A3TWBEDEjjdVeQYAgxhyFbN8;_ylv=3\" title=\"《久東光學＊公館》 CANON EF 300mm F2.8 L IS USM 防手震 彩虹公司貨 二代1\">《久東光學＊公館》 CANON EF 300mm F2.8 L IS USM 防手震 彩虹公司貨 二代1</a>\\n                    </div>\\n                </div>\\n                <div class=\"srp-pddetail yui3-g\">\\n                    <div class=\"srp-pdlblock yui3-u\">\\n                        <div class=\"yui3-g\">\\n                            <div class=\"srp-pdblock1 yui3-u\">\\n                                <div class=\"srp-bidprice yui3-g\">\\n                                    <span class=\"yui3-u title\">出價</span>\\n                                    <em class=\"yui3-u red\">202,300</em>\\n                                    <span class=\"yui3-u\">元</span>\\n                                </div>\\n                                <div class=\"srp-pdprice yui3-g\">\\n                                                                    </div>\\n                                <div class=\"srp-shipping\">\\n                                    運費100元                                </div>\\n                                                            </div>\\n                            <div class=\"srp-pdblock2 yui3-u\">\\n                                <span class=\"sep yui3-u\">｜</span>\\n                                <a href=\"https://tw.page.bid.yahoo.com/tw/show/bid_hist;_ylt=A3TWBEDEjjdVeQYAhxhyFbN8;_ylv=3?aID=100029252375\">\\n                                    0 次\\n                                </a>\\n                            </div>\\n                            <div class=\"srp-pdblock3 yui3-u\">\\n                                <span class=\"sep yui3-u\">｜</span>\\n                                                                            <span class=\"\">剩2天 17小時 </span>\\n                                                            </div>\\n                        </div>\\n                    </div>\\n                    <div class=\"srp-pdrblock yui3-u\">\\n                        <div class=\"yui3-g\">\\n                            <div class=\"srp-sellerinfo yui3-u\">\\n                                <div class=\"srp-pdstore\">\\n                                    <span class=\"store\">賣家：</span><a href=\"https://tw.bid.yahoo.com/tw/user/Y5915223596;_ylt=A3TWBEDEjjdVeQYAhRhyFbN8;_ylv=3\">《久東光學＊公館》</a>\\n                                    <span class=\"store\">(評價 <a href=\"https://tw.bid.yahoo.com/rating/Y5915223596/listing;_ylt=A3TWBEDEjjdVeQYAhhhyFbN8;_ylv=3\">950</a>)</span>\\n                                </div>\\n                                                                    <a class=\"srp-ico store-icon\" title=\"拍賣店鋪\" href=\"https://help.yahoo.com/kb/index?page=content&id=SLN11039&locale=zh_TW&y=PROD_TWAUCT\"></a>\\n                                                                <div class=\"srp-place\">\\n                                    在台北市                                </div>\\n                            </div>\\n                            <div class=\"srp-paytype yui3-u\">\\n                                <div class=\"srp-ico easy-pay\"></div>                            </div>\\n                        </div>\\n                    </div>\\n                </div>\\n            </div>\\n        </div>\\n    </div><!--\\n    --><div class=\"att-item item \" data-url=\"https://login.yahoo.com/config/login?.intl=tw&.pd=c%3D3Chd7Yq72e502eh4R99sgUvi5Q--&.done=https%3A%2F%2Ftw.search.bid.yahoo.com%2Fsearch%2Fauction%2Fproduct%3Fp%3Dcannon%2B300mm%2Bf2.8%26qt%3Dproduct%26cid%3D0%26clv%3D0&rr=2976857756\">\\n        <div class=\"wrap yui3-g\">\\n            <div class=\"srp-pdimage yui3-u\">\\n                <a href=\"https://tw.bid.yahoo.com/item/e75697574;_ylt=A3TWBEDEjjdVeQYAiRhyFbN8;_ylv=3\" title=\"【薪創新竹】Canon EF 300mm F2.8 L IS II USM 彩虹公司貨 望遠定焦鏡 適 60D 6D 7D 5D3 打鳥 二代鏡\">\\n                    <img width=\"150\" \\n                    alt=\"【薪創新竹】Canon EF 300mm F2.8 L IS II USM 彩虹公司貨 望遠定焦鏡 適 60D 6D 7D 5D3 打鳥 二代鏡\"\\n                    src=\"https://s.yimg.com/aw/api/res/1.2/IK0bBmra4rFPdMPMsm14Jw--/YXBwaWQ9eXR3YXVjdGlvbnNlcnZpY2U7aD0zMDA7cT04NTtzcj0xLjI7c3M9MS4yO3c9NDAw/http://nevec-img.zenfs.com/prod/tw_ec05-7/01659612-2103-4dfe-9fb5-d01c61612503.jpg\">\\n                </a>\\n            </div>\\n            <div class=\"yui3-u srp-pdcontent\">\\n                <div class=\"srp-pdtitle yui3-g\">\\n                                        <span class=\"srp-tag bid yui3-u\">競標品</span>\\n                                        <div class=\"title yui3-u\">\\n                        <a class=\"ellipsis\" href=\"https://tw.bid.yahoo.com/item/e75697574;_ylt=A3TWBEDEjjdVeQYAiBhyFbN8;_ylv=3\" title=\"【薪創新竹】Canon EF 300mm F2.8 L IS II USM 彩虹公司貨 望遠定焦鏡 適 60D 6D 7D 5D3 打鳥 二代鏡\">【薪創新竹】Canon EF 300mm F2.8 L IS II USM 彩虹公司貨 望遠定焦鏡 適 60D 6D 7D 5D3 打鳥 二代鏡</a>\\n                    </div>\\n                </div>\\n                <div class=\"srp-pddetail yui3-g\">\\n                    <div class=\"srp-pdlblock yui3-u\">\\n                        <div class=\"yui3-g\">\\n                            <div class=\"srp-pdblock1 yui3-u\">\\n                                <div class=\"srp-bidprice yui3-g\">\\n                                    <span class=\"yui3-u title\">出價</span>\\n                                    <em class=\"yui3-u red\">202,300</em>\\n                                    <span class=\"yui3-u\">元</span>\\n                                </div>\\n                                <div class=\"srp-pdprice yui3-g\">\\n                                                                    </div>\\n                                <div class=\"srp-shipping\">\\n                                    運費80元                                </div>\\n                                                            </div>\\n                            <div class=\"srp-pdblock2 yui3-u\">\\n                                <span class=\"sep yui3-u\">｜</span>\\n                                <a href=\"https://tw.page.bid.yahoo.com/tw/show/bid_hist;_ylt=A3TWBEDEjjdVeQYAjBhyFbN8;_ylv=3?aID=e75697574\">\\n                                    0 次\\n                                </a>\\n                            </div>\\n                            <div class=\"srp-pdblock3 yui3-u\">\\n                                <span class=\"sep yui3-u\">｜</span>\\n                                                                            <span class=\"\">剩2天 17小時 </span>\\n                                                            </div>\\n                        </div>\\n                    </div>\\n                    <div class=\"srp-pdrblock yui3-u\">\\n                        <div class=\"yui3-g\">\\n                            <div class=\"srp-sellerinfo yui3-u\">\\n                                <div class=\"srp-pdstore\">\\n                                    <span class=\"store\">賣家：</span><a href=\"https://tw.bid.yahoo.com/tw/user/Y2653033175;_ylt=A3TWBEDEjjdVeQYAihhyFbN8;_ylv=3\">【薪創數位‧新竹NOVA店】</a>\\n                                    <span class=\"store\">(評價 <a href=\"https://tw.bid.yahoo.com/rating/Y2653033175/listing;_ylt=A3TWBEDEjjdVeQYAixhyFbN8;_ylv=3\">195</a>)</span>\\n                                </div>\\n                                                                    <a class=\"srp-ico store-icon\" title=\"拍賣店鋪\" href=\"https://help.yahoo.com/kb/index?page=content&id=SLN11039&locale=zh_TW&y=PROD_TWAUCT\"></a>\\n                                                                <div class=\"srp-place\">\\n                                    在新竹市                                </div>\\n                            </div>\\n                            <div class=\"srp-paytype yui3-u\">\\n                                <div class=\"srp-ico easy-pay\"></div>                            </div>\\n                        </div>\\n                    </div>\\n                </div>\\n            </div>\\n        </div>\\n    </div><!--\\n    --><div class=\"att-item item \" data-url=\"https://login.yahoo.com/config/login?.intl=tw&.pd=c%3D3Chd7Yq72e502eh4R99sgUvi5Q--&.done=https%3A%2F%2Ftw.search.bid.yahoo.com%2Fsearch%2Fauction%2Fproduct%3Fp%3Dcannon%2B300mm%2Bf2.8%26qt%3Dproduct%26cid%3D0%26clv%3D0&rr=8112957399\">\\n        <div class=\"wrap yui3-g\">\\n            <div class=\"srp-pdimage yui3-u\">\\n                <a href=\"https://tw.bid.yahoo.com/item/100029252455;_ylt=A3TWBEDEjjdVeQYAjhhyFbN8;_ylv=3\" title=\"《久東光學＊公館》 CANON EF 300mm F2.8 L IS USM 防手震 彩虹公司貨 二代2\">\\n                    <img width=\"150\" \\n                    alt=\"《久東光學＊公館》 CANON EF 300mm F2.8 L IS USM 防手震 彩虹公司貨 二代2\"\\n                    src=\"https://s.yimg.com/aw/api/res/1.2/r4y2w2Msk8LLl6G1bXZ1fw--/YXBwaWQ9eXR3YXVjdGlvbnNlcnZpY2U7aD0zMDA7cT04NTtyb3RhdGU9YXV0bztzcj0xLjI7c3M9MS4yO3c9NDAw/http://nevec-img.zenfs.com/prod/tw_ec05-7/b925f7a8-4675-4ca1-ac54-6005dcc6d402.jpg\">\\n                </a>\\n            </div>\\n            <div class=\"yui3-u srp-pdcontent\">\\n                <div class=\"srp-pdtitle yui3-g\">\\n                                        <span class=\"srp-tag bid yui3-u\">競標品</span>\\n                                        <div class=\"title yui3-u\">\\n                        <a class=\"ellipsis\" href=\"https://tw.bid.yahoo.com/item/100029252455;_ylt=A3TWBEDEjjdVeQYAjRhyFbN8;_ylv=3\" title=\"《久東光學＊公館》 CANON EF 300mm F2.8 L IS USM 防手震 彩虹公司貨 二代2\">《久東光學＊公館》 CANON EF 300mm F2.8 L IS USM 防手震 彩虹公司貨 二代2</a>\\n                    </div>\\n                </div>\\n                <div class=\"srp-pddetail yui3-g\">\\n                    <div class=\"srp-pdlblock yui3-u\">\\n                        <div class=\"yui3-g\">\\n                            <div class=\"srp-pdblock1 yui3-u\">\\n                                <div class=\"srp-bidprice yui3-g\">\\n                                    <span class=\"yui3-u title\">出價</span>\\n                                    <em class=\"yui3-u red\">202,300</em>\\n                                    <span class=\"yui3-u\">元</span>\\n                                </div>\\n                                <div class=\"srp-pdprice yui3-g\">\\n                                                                    </div>\\n                                <div class=\"srp-shipping\">\\n                                    運費100元                                </div>\\n                                                            </div>\\n                            <div class=\"srp-pdblock2 yui3-u\">\\n                                <span class=\"sep yui3-u\">｜</span>\\n                                <a href=\"https://tw.page.bid.yahoo.com/tw/show/bid_hist;_ylt=A3TWBEDEjjdVeQYAkRhyFbN8;_ylv=3?aID=100029252455\">\\n                                    0 次\\n                                </a>\\n                            </div>\\n                            <div class=\"srp-pdblock3 yui3-u\">\\n                                <span class=\"sep yui3-u\">｜</span>\\n                                                                            <span class=\"\">剩2天 21小時 </span>\\n                                                            </div>\\n                        </div>\\n                    </div>\\n                    <div class=\"srp-pdrblock yui3-u\">\\n                        <div class=\"yui3-g\">\\n                            <div class=\"srp-sellerinfo yui3-u\">\\n                                <div class=\"srp-pdstore\">\\n                                    <span class=\"store\">賣家：</span><a href=\"https://tw.bid.yahoo.com/tw/user/Y5915223596;_ylt=A3TWBEDEjjdVeQYAjxhyFbN8;_ylv=3\">《久東光學＊公館》</a>\\n                                    <span class=\"store\">(評價 <a href=\"https://tw.bid.yahoo.com/rating/Y5915223596/listing;_ylt=A3TWBEDEjjdVeQYAkBhyFbN8;_ylv=3\">950</a>)</span>\\n                                </div>\\n                                                                    <a class=\"srp-ico store-icon\" title=\"拍賣店鋪\" href=\"https://help.yahoo.com/kb/index?page=content&id=SLN11039&locale=zh_TW&y=PROD_TWAUCT\"></a>\\n                                                                <div class=\"srp-place\">\\n                                    在台北市                                </div>\\n                            </div>\\n                            <div class=\"srp-paytype yui3-u\">\\n                                <div class=\"srp-ico easy-pay\"></div>                            </div>\\n                        </div>\\n                    </div>\\n                </div>\\n            </div>\\n        </div>\\n    </div><!--\\n    --><div class=\"att-item item \" data-url=\"https://login.yahoo.com/config/login?.intl=tw&.pd=c%3D3Chd7Yq72e502eh4R99sgUvi5Q--&.done=https%3A%2F%2Ftw.search.bid.yahoo.com%2Fsearch%2Fauction%2Fproduct%3Fp%3Dcannon%2B300mm%2Bf2.8%26qt%3Dproduct%26cid%3D0%26clv%3D0&rr=3732150682\">\\n        <div class=\"wrap yui3-g\">\\n            <div class=\"srp-pdimage yui3-u\">\\n                <a href=\"https://tw.bid.yahoo.com/item/b103406877;_ylt=A3TWBEDEjjdVeQYAkxhyFbN8;_ylv=3\" title=\"《久東光學＊公館》SIGMA APO 120-300mm 恆定F2.8 DG OS HSM FOR CANON/NIKON 公司貨 三年保\">\\n                    <img width=\"150\" \\n                    alt=\"《久東光學＊公館》SIGMA APO 120-300mm 恆定F2.8 DG OS HSM FOR CANON/NIKON 公司貨 三年保\"\\n                    src=\"https://s.yimg.com/aw/api/res/1.2/UqTbdbDGKLejNXeMuTyGxw--/YXBwaWQ9eXR3YXVjdGlvbnNlcnZpY2U7aD0zMDA7cT04NTtzcj0xLjI7c3M9MS4yO3c9NDAw/http://nevec-img.zenfs.com/prod/tw_ec05-7/c394f6a7-2b8b-4ef8-a695-5c0e0d2aca26.jpg\">\\n                </a>\\n            </div>\\n            <div class=\"yui3-u srp-pdcontent\">\\n                <div class=\"srp-pdtitle yui3-g\">\\n                                        <span class=\"srp-tag bid yui3-u\">競標品</span>\\n                                        <div class=\"title yui3-u\">\\n                        <a class=\"ellipsis\" href=\"https://tw.bid.yahoo.com/item/b103406877;_ylt=A3TWBEDEjjdVeQYAkhhyFbN8;_ylv=3\" title=\"《久東光學＊公館》SIGMA APO 120-300mm 恆定F2.8 DG OS HSM FOR CANON/NIKON 公司貨 三年保\">《久東光學＊公館》SIGMA APO 120-300mm 恆定F2.8 DG OS HSM FOR CANON/NIKON 公司貨 三年保</a>\\n                    </div>\\n                </div>\\n                <div class=\"srp-pddetail yui3-g\">\\n                    <div class=\"srp-pdlblock yui3-u\">\\n                        <div class=\"yui3-g\">\\n                            <div class=\"srp-pdblock1 yui3-u\">\\n                                <div class=\"srp-bidprice yui3-g\">\\n                                    <span class=\"yui3-u title\">出價</span>\\n                                    <em class=\"yui3-u red\">89,900</em>\\n                                    <span class=\"yui3-u\">元</span>\\n                                </div>\\n                                <div class=\"srp-pdprice yui3-g\">\\n                                                                    </div>\\n                                <div class=\"srp-shipping\">\\n                                    運費100元                                </div>\\n                                                            </div>\\n                            <div class=\"srp-pdblock2 yui3-u\">\\n                                <span class=\"sep yui3-u\">｜</span>\\n                                <a href=\"https://tw.page.bid.yahoo.com/tw/show/bid_hist;_ylt=A3TWBEDEjjdVeQYAlhhyFbN8;_ylv=3?aID=b103406877\">\\n                                    0 次\\n                                </a>\\n                            </div>\\n                            <div class=\"srp-pdblock3 yui3-u\">\\n                                <span class=\"sep yui3-u\">｜</span>\\n                                                                            <span class=\"\">剩2天 21小時 </span>\\n                                                            </div>\\n                        </div>\\n                    </div>\\n                    <div class=\"srp-pdrblock yui3-u\">\\n                        <div class=\"yui3-g\">\\n                            <div class=\"srp-sellerinfo yui3-u\">\\n                                <div class=\"srp-pdstore\">\\n                                    <span class=\"store\">賣家：</span><a href=\"https://tw.bid.yahoo.com/tw/user/Y5915223596;_ylt=A3TWBEDEjjdVeQYAlBhyFbN8;_ylv=3\">《久東光學＊公館》</a>\\n                                    <span class=\"store\">(評價 <a href=\"https://tw.bid.yahoo.com/rating/Y5915223596/listing;_ylt=A3TWBEDEjjdVeQYAlRhyFbN8;_ylv=3\">950</a>)</span>\\n                                </div>\\n                                                                    <a class=\"srp-ico store-icon\" title=\"拍賣店鋪\" href=\"https://help.yahoo.com/kb/index?page=content&id=SLN11039&locale=zh_TW&y=PROD_TWAUCT\"></a>\\n                                                                <div class=\"srp-place\">\\n                                    在台北市                                </div>\\n                            </div>\\n                            <div class=\"srp-paytype yui3-u\">\\n                                <div class=\"srp-ico easy-pay\"></div>                            </div>\\n                        </div>\\n                    </div>\\n                </div>\\n            </div>\\n        </div>\\n    </div><!--\\n    --><div class=\"att-item item \" data-url=\"https://login.yahoo.com/config/login?.intl=tw&.pd=c%3D3Chd7Yq72e502eh4R99sgUvi5Q--&.done=https%3A%2F%2Ftw.search.bid.yahoo.com%2Fsearch%2Fauction%2Fproduct%3Fp%3Dcannon%2B300mm%2Bf2.8%26qt%3Dproduct%26cid%3D0%26clv%3D0&rr=7006605344\">\\n        <div class=\"wrap yui3-g\">\\n            <div class=\"srp-pdimage yui3-u\">\\n                <a href=\"https://tw.bid.yahoo.com/item/1255894346;_ylt=A3TWBEDEjjdVeQYAmBhyFbN8;_ylv=3\" title=\"~視冠台中~ Canon EF 300mm f2.8 IS L U II 望遠定焦鏡頭 公司貨 免運費\">\\n                    <img width=\"150\" \\n                    alt=\"~視冠台中~ Canon EF 300mm f2.8 IS L U II 望遠定焦鏡頭 公司貨 免運費\"\\n                    src=\"https://s.yimg.com/aw/api/res/1.2/w9rVwr0T_hZKu4a.QfoLDg--/YXBwaWQ9eXR3YXVjdGlvbnNlcnZpY2U7aD0zMDA7cT04NTtzcj0xLjI7c3M9MS4yO3c9NDAw/http://nevec-img.zenfs.com/prod/tw_ec05-7/effab9b2-0d12-4027-8a50-16c272f2e876.jpg\">\\n                </a>\\n            </div>\\n            <div class=\"yui3-u srp-pdcontent\">\\n                <div class=\"srp-pdtitle yui3-g\">\\n                                        <span class=\"srp-tag bid yui3-u\">競標品</span>\\n                                        <div class=\"title yui3-u\">\\n                        <a class=\"ellipsis\" href=\"https://tw.bid.yahoo.com/item/1255894346;_ylt=A3TWBEDEjjdVeQYAlxhyFbN8;_ylv=3\" title=\"~視冠台中~ Canon EF 300mm f2.8 IS L U II 望遠定焦鏡頭 公司貨 免運費\">~視冠台中~ Canon EF 300mm f2.8 IS L U II 望遠定焦鏡頭 公司貨 免運費</a>\\n                    </div>\\n                </div>\\n                <div class=\"srp-pddetail yui3-g\">\\n                    <div class=\"srp-pdlblock yui3-u\">\\n                        <div class=\"yui3-g\">\\n                            <div class=\"srp-pdblock1 yui3-u\">\\n                                <div class=\"srp-bidprice yui3-g\">\\n                                    <span class=\"yui3-u title\">出價</span>\\n                                    <em class=\"yui3-u red\">202,300</em>\\n                                    <span class=\"yui3-u\">元</span>\\n                                </div>\\n                                <div class=\"srp-pdprice yui3-g\">\\n                                                                    </div>\\n                                <div class=\"srp-shipping\">\\n                                    免運                                </div>\\n                                                            </div>\\n                            <div class=\"srp-pdblock2 yui3-u\">\\n                                <span class=\"sep yui3-u\">｜</span>\\n                                <a href=\"https://tw.page.bid.yahoo.com/tw/show/bid_hist;_ylt=A3TWBEDEjjdVeQYAmxhyFbN8;_ylv=3?aID=1255894346\">\\n                                    0 次\\n                                </a>\\n                            </div>\\n                            <div class=\"srp-pdblock3 yui3-u\">\\n                                <span class=\"sep yui3-u\">｜</span>\\n                                                                            <span class=\"\">剩2天 23小時 </span>\\n                                                            </div>\\n                        </div>\\n                    </div>\\n                    <div class=\"srp-pdrblock yui3-u\">\\n                        <div class=\"yui3-g\">\\n                            <div class=\"srp-sellerinfo yui3-u\">\\n                                <div class=\"srp-pdstore\">\\n                                    <span class=\"store\">賣家：</span><a href=\"https://tw.bid.yahoo.com/tw/user/Y7277178569;_ylt=A3TWBEDEjjdVeQYAmRhyFbN8;_ylv=3\">~視冠‧台中~線上刷卡免手續費</a>\\n                                    <span class=\"store\">(評價 <a href=\"https://tw.bid.yahoo.com/rating/Y7277178569/listing;_ylt=A3TWBEDEjjdVeQYAmhhyFbN8;_ylv=3\">682</a>)</span>\\n                                </div>\\n                                                                    <a class=\"srp-ico store-icon\" title=\"拍賣店鋪\" href=\"https://help.yahoo.com/kb/index?page=content&id=SLN11039&locale=zh_TW&y=PROD_TWAUCT\"></a>\\n                                                                <div class=\"srp-place\">\\n                                    在台中市                                </div>\\n                            </div>\\n                            <div class=\"srp-paytype yui3-u\">\\n                                <div class=\"srp-ico easy-pay\"></div>                            </div>\\n                        </div>\\n                    </div>\\n                </div>\\n            </div>\\n        </div>\\n    </div><!--\\n    --><div class=\"att-item item \" data-url=\"https://login.yahoo.com/config/login?.intl=tw&.pd=c%3D3Chd7Yq72e502eh4R99sgUvi5Q--&.done=https%3A%2F%2Ftw.search.bid.yahoo.com%2Fsearch%2Fauction%2Fproduct%3Fp%3Dcannon%2B300mm%2Bf2.8%26qt%3Dproduct%26cid%3D0%26clv%3D0&rr=1827285050\">\\n        <div class=\"wrap yui3-g\">\\n            <div class=\"srp-pdimage yui3-u\">\\n                <a href=\"https://tw.bid.yahoo.com/item/c58844097;_ylt=A3TWBEDEjjdVeQYAnRhyFbN8;_ylv=3\" title=\"永佳相機_CANON ET-65 III ET-65III ET65III 原廠遮光罩 環型 EF 135MM F2.8 / 100-300MM 售價850元\">\\n                    <img width=\"150\" \\n                    alt=\"永佳相機_CANON ET-65 III ET-65III ET65III 原廠遮光罩 環型 EF 135MM F2.8 / 100-300MM 售價850元\"\\n                    src=\"https://s.yimg.com/aw/api/res/1.2/G0vjU0nnec6K_sOjgOOUTQ--/YXBwaWQ9eXR3YXVjdGlvbnNlcnZpY2U7aD0zMDg7cT04NTtzcj0xLjI7c3M9MS4yO3c9NDAw/http://nevec-img.zenfs.com/prod/tw_ec05-7/ecfeb0c0-c0c0-4307-990f-760cefbab31e.jpg\">\\n                </a>\\n            </div>\\n            <div class=\"yui3-u srp-pdcontent\">\\n                <div class=\"srp-pdtitle yui3-g\">\\n                                        <span class=\"srp-tag bid yui3-u\">競標品</span>\\n                                        <div class=\"title yui3-u\">\\n                        <a class=\"ellipsis\" href=\"https://tw.bid.yahoo.com/item/c58844097;_ylt=A3TWBEDEjjdVeQYAnBhyFbN8;_ylv=3\" title=\"永佳相機_CANON ET-65 III ET-65III ET65III 原廠遮光罩 環型 EF 135MM F2.8 / 100-300MM 售價850元\">永佳相機_CANON ET-65 III ET-65III ET65III 原廠遮光罩 環型 EF 135MM F2.8 / 100-300MM 售價850元</a>\\n                    </div>\\n                </div>\\n                <div class=\"srp-pddetail yui3-g\">\\n                    <div class=\"srp-pdlblock yui3-u\">\\n                        <div class=\"yui3-g\">\\n                            <div class=\"srp-pdblock1 yui3-u\">\\n                                <div class=\"srp-bidprice yui3-g\">\\n                                    <span class=\"yui3-u title\">出價</span>\\n                                    <em class=\"yui3-u red\">850</em>\\n                                    <span class=\"yui3-u\">元</span>\\n                                </div>\\n                                <div class=\"srp-pdprice yui3-g\">\\n                                                                    </div>\\n                                <div class=\"srp-shipping\">\\n                                    面交/自取/不寄送                                </div>\\n                                                            </div>\\n                            <div class=\"srp-pdblock2 yui3-u\">\\n                                <span class=\"sep yui3-u\">｜</span>\\n                                <a href=\"https://tw.page.bid.yahoo.com/tw/show/bid_hist;_ylt=A3TWBEDEjjdVeQYAoBhyFbN8;_ylv=3?aID=c58844097\">\\n                                    0 次\\n                                </a>\\n                            </div>\\n                            <div class=\"srp-pdblock3 yui3-u\">\\n                                <span class=\"sep yui3-u\">｜</span>\\n                                                                            <span class=\"\">剩3天 14小時 </span>\\n                                                            </div>\\n                        </div>\\n                    </div>\\n                    <div class=\"srp-pdrblock yui3-u\">\\n                        <div class=\"yui3-g\">\\n                            <div class=\"srp-sellerinfo yui3-u\">\\n                                <div class=\"srp-pdstore\">\\n                                    <span class=\"store\">賣家：</span><a href=\"https://tw.bid.yahoo.com/tw/user/Y3190273151;_ylt=A3TWBEDEjjdVeQYAnhhyFbN8;_ylv=3\">永佳相機</a>\\n                                    <span class=\"store\">(評價 <a href=\"https://tw.bid.yahoo.com/rating/Y3190273151/listing;_ylt=A3TWBEDEjjdVeQYAnxhyFbN8;_ylv=3\">6860</a>)</span>\\n                                </div>\\n                                                                    <a class=\"srp-ico store-icon\" title=\"拍賣店鋪\" href=\"https://help.yahoo.com/kb/index?page=content&id=SLN11039&locale=zh_TW&y=PROD_TWAUCT\"></a>\\n                                                                <div class=\"srp-place\">\\n                                    在台北市                                </div>\\n                            </div>\\n                            <div class=\"srp-paytype yui3-u\">\\n                                <div class=\"srp-ico easy-pay\"></div><div class=\"srp-ico family\"></div><div class=\"srp-ico seven\"></div>                            </div>\\n                        </div>\\n                    </div>\\n                </div>\\n            </div>\\n        </div>\\n    </div><!--\\n    --><div class=\"att-item item \" data-url=\"https://login.yahoo.com/config/login?.intl=tw&.pd=c%3D3Chd7Yq72e502eh4R99sgUvi5Q--&.done=https%3A%2F%2Ftw.search.bid.yahoo.com%2Fsearch%2Fauction%2Fproduct%3Fp%3Dcannon%2B300mm%2Bf2.8%26qt%3Dproduct%26cid%3D0%26clv%3D0&rr=7394968984\">\\n        <div class=\"wrap yui3-g\">\\n            <div class=\"srp-pdimage yui3-u\">\\n                <a href=\"https://tw.bid.yahoo.com/item/100032631604;_ylt=A3TWBEDEjjdVeQYAohhyFbN8;_ylv=3\" title=\"現貨 線上刷卡 彩虹公司貨 Canon EF 300mm F2.8 L IS II USM 二代鏡 F2.8L\">\\n                    <img width=\"150\" \\n                    alt=\"現貨 線上刷卡 彩虹公司貨 Canon EF 300mm F2.8 L IS II USM 二代鏡 F2.8L\"\\n                    src=\"https://s.yimg.com/aw/api/res/1.2/TQ5HBBYa_ED1fnd1afA4aA--/YXBwaWQ9eXR3YXVjdGlvbnNlcnZpY2U7aD0zMDA7cT04NTtyb3RhdGU9YXV0bztzcj0xLjI7c3M9MS4yO3c9NDAw/http://nevec-img.zenfs.com/prod/tw_ec05-7/31c66ca6-3b90-4e70-93b1-708afcaebff9.jpg\">\\n                </a>\\n            </div>\\n            <div class=\"yui3-u srp-pdcontent\">\\n                <div class=\"srp-pdtitle yui3-g\">\\n                                    <span class=\"srp-tag buynow yui3-u\">直購品</span>\\n                                    <div class=\"title yui3-u\">\\n                        <a class=\"ellipsis\" href=\"https://tw.bid.yahoo.com/item/100032631604;_ylt=A3TWBEDEjjdVeQYAoRhyFbN8;_ylv=3\" title=\"現貨 線上刷卡 彩虹公司貨 Canon EF 300mm F2.8 L IS II USM 二代鏡 F2.8L\">現貨 線上刷卡 彩虹公司貨 Canon EF 300mm F2.8 L IS II USM 二代鏡 F2.8L</a>\\n                    </div>\\n                </div>\\n                <div class=\"srp-pddetail yui3-g\">\\n                    <div class=\"srp-pdlblock yui3-u\">\\n                        <div class=\"yui3-g\">\\n                            <div class=\"srp-pdblock1 yui3-u\">\\n                                <div class=\"srp-pdprice yui3-g\">\\n                                                                        <span class=\"yui3-u title\">直購價</span>\\n                                    <em class=\"yui3-u\">202,300</em>\\n                                    <span class=\"yui3-u\">元</span>\\n                                                                    </div>\\n                                <div class=\"srp-shipping\">\\n                                    運費80元                                </div>\\n                                                            </div>\\n                            <div class=\"srp-pdblock2 yui3-u\">\\n                               \\n                            </div>\\n                            <div class=\"srp-pdblock3 yui3-u\">\\n                                <span class=\"sep yui3-u\">｜</span>\\n                                                            </div>\\n                        </div>\\n                    </div>\\n                    <div class=\"srp-pdrblock yui3-u\">\\n                        <div class=\"yui3-g\">\\n                            <div class=\"srp-sellerinfo yui3-u\">\\n                                <div class=\"srp-pdstore\">\\n                                    <span class=\"store\">賣家：</span><a href=\"https://tw.bid.yahoo.com/tw/user/Y9616506631;_ylt=A3TWBEDEjjdVeQYAoxhyFbN8;_ylv=3\">捷運忠孝新生2分鐘,開車免下車</a>\\n                                    <span class=\"store\">(評價 <a href=\"https://tw.bid.yahoo.com/rating/Y9616506631/listing;_ylt=A3TWBEDEjjdVeQYApBhyFbN8;_ylv=3\">4405</a>)</span>\\n                                </div>\\n                                                                <div class=\"srp-place\">\\n                                    在台北市                                </div>\\n                            </div>\\n                            <div class=\"srp-paytype yui3-u\">\\n                                <div class=\"srp-ico easy-pay\"></div><div class=\"srp-ico credit\"></div>                            </div>\\n                        </div>\\n                    </div>\\n                </div>\\n            </div>\\n        </div>\\n    </div><!--\\n    --><div class=\"att-item item \" data-url=\"https://login.yahoo.com/config/login?.intl=tw&.pd=c%3D3Chd7Yq72e502eh4R99sgUvi5Q--&.done=https%3A%2F%2Ftw.search.bid.yahoo.com%2Fsearch%2Fauction%2Fproduct%3Fp%3Dcannon%2B300mm%2Bf2.8%26qt%3Dproduct%26cid%3D0%26clv%3D0&rr=1292367685\">\\n        <div class=\"wrap yui3-g\">\\n            <div class=\"srp-pdimage yui3-u\">\\n                <a href=\"https://tw.bid.yahoo.com/item/c58843113;_ylt=A3TWBEDEjjdVeQYApxhyFbN8;_ylv=3\" title=\"永佳相機_CANON ES-65 III ES-65III ES65III 原廠遮光罩 環型 EF 135MM F2.8 / 100-300MM 售價1200元\">\\n                    <img width=\"150\" \\n                    alt=\"永佳相機_CANON ES-65 III ES-65III ES65III 原廠遮光罩 環型 EF 135MM F2.8 / 100-300MM 售價1200元\"\\n                    src=\"https://s.yimg.com/aw/api/res/1.2/H.jk.JGmx4WrFmKgEGGxPA--/YXBwaWQ9eXR3YXVjdGlvbnNlcnZpY2U7aD0zMDg7cT04NTtzcj0xLjI7c3M9MS4yO3c9NDAw/http://nevec-img.zenfs.com/prod/tw_ec05-7/a218137f-eb00-4622-a14b-6909d1be5b1d.jpg\">\\n                </a>\\n            </div>\\n            <div class=\"yui3-u srp-pdcontent\">\\n                <div class=\"srp-pdtitle yui3-g\">\\n                                        <span class=\"srp-tag bid yui3-u\">競標品</span>\\n                                        <div class=\"title yui3-u\">\\n                        <a class=\"ellipsis\" href=\"https://tw.bid.yahoo.com/item/c58843113;_ylt=A3TWBEDEjjdVeQYAphhyFbN8;_ylv=3\" title=\"永佳相機_CANON ES-65 III ES-65III ES65III 原廠遮光罩 環型 EF 135MM F2.8 / 100-300MM 售價1200元\">永佳相機_CANON ES-65 III ES-65III ES65III 原廠遮光罩 環型 EF 135MM F2.8 / 100-300MM 售價1200元</a>\\n                    </div>\\n                </div>\\n                <div class=\"srp-pddetail yui3-g\">\\n                    <div class=\"srp-pdlblock yui3-u\">\\n                        <div class=\"yui3-g\">\\n                            <div class=\"srp-pdblock1 yui3-u\">\\n                                <div class=\"srp-bidprice yui3-g\">\\n                                    <span class=\"yui3-u title\">出價</span>\\n                                    <em class=\"yui3-u red\">1,200</em>\\n                                    <span class=\"yui3-u\">元</span>\\n                                </div>\\n                                <div class=\"srp-pdprice yui3-g\">\\n                                                                    </div>\\n                                <div class=\"srp-shipping\">\\n                                    面交/自取/不寄送                                </div>\\n                                                            </div>\\n                            <div class=\"srp-pdblock2 yui3-u\">\\n                                <span class=\"sep yui3-u\">｜</span>\\n                                <a href=\"https://tw.page.bid.yahoo.com/tw/show/bid_hist;_ylt=A3TWBEDEjjdVeQYAqhhyFbN8;_ylv=3?aID=c58843113\">\\n                                    0 次\\n                                </a>\\n                            </div>\\n                            <div class=\"srp-pdblock3 yui3-u\">\\n                                <span class=\"sep yui3-u\">｜</span>\\n                                                                            <span class=\"\">剩3天 17小時 </span>\\n                                                            </div>\\n                        </div>\\n                    </div>\\n                    <div class=\"srp-pdrblock yui3-u\">\\n                        <div class=\"yui3-g\">\\n                            <div class=\"srp-sellerinfo yui3-u\">\\n                                <div class=\"srp-pdstore\">\\n                                    <span class=\"store\">賣家：</span><a href=\"https://tw.bid.yahoo.com/tw/user/Y3190273151;_ylt=A3TWBEDEjjdVeQYAqBhyFbN8;_ylv=3\">永佳相機</a>\\n                                    <span class=\"store\">(評價 <a href=\"https://tw.bid.yahoo.com/rating/Y3190273151/listing;_ylt=A3TWBEDEjjdVeQYAqRhyFbN8;_ylv=3\">6860</a>)</span>\\n                                </div>\\n                                                                    <a class=\"srp-ico store-icon\" title=\"拍賣店鋪\" href=\"https://help.yahoo.com/kb/index?page=content&id=SLN11039&locale=zh_TW&y=PROD_TWAUCT\"></a>\\n                                                                <div class=\"srp-place\">\\n                                    在台北市                                </div>\\n                            </div>\\n                            <div class=\"srp-paytype yui3-u\">\\n                                <div class=\"srp-ico easy-pay\"></div><div class=\"srp-ico family\"></div><div class=\"srp-ico seven\"></div>                            </div>\\n                        </div>\\n                    </div>\\n                </div>\\n            </div>\\n        </div>\\n    </div><!--\\n    --><div class=\"att-item item \" data-url=\"https://login.yahoo.com/config/login?.intl=tw&.pd=c%3D3Chd7Yq72e502eh4R99sgUvi5Q--&.done=https%3A%2F%2Ftw.search.bid.yahoo.com%2Fsearch%2Fauction%2Fproduct%3Fp%3Dcannon%2B300mm%2Bf2.8%26qt%3Dproduct%26cid%3D0%26clv%3D0&rr=2032873517\">\\n        <div class=\"wrap yui3-g\">\\n            <div class=\"srp-pdimage yui3-u\">\\n                <a href=\"https://tw.bid.yahoo.com/item/f43432249;_ylt=A3TWBEDEjjdVeQYArBhyFbN8;_ylv=3\" title=\"東旭光學 CANON 300mm F2.8L IS USM II 二代鏡 公司貨  EF 300 mm F2.8 L 1\">\\n                    <img width=\"150\" \\n                    alt=\"東旭光學 CANON 300mm F2.8L IS USM II 二代鏡 公司貨  EF 300 mm F2.8 L 1\"\\n                    src=\"https://s.yimg.com/aw/api/res/1.2/w.I7GIvIrR3tXzpRw5OuUA--/YXBwaWQ9eXR3YXVjdGlvbnNlcnZpY2U7aD0zNTY7cT04NTtzcj0xLjI7c3M9MS4yO3c9NDAw/http://nevec-img.zenfs.com/prod/tw_ec05-7/887199db-57cf-4253-ab25-ba36408bfd9e.jpg\">\\n                </a>\\n            </div>\\n            <div class=\"yui3-u srp-pdcontent\">\\n                <div class=\"srp-pdtitle yui3-g\">\\n                                        <span class=\"srp-tag bid yui3-u\">競標品</span>\\n                                        <div class=\"title yui3-u\">\\n                        <a class=\"ellipsis\" href=\"https://tw.bid.yahoo.com/item/f43432249;_ylt=A3TWBEDEjjdVeQYAqxhyFbN8;_ylv=3\" title=\"東旭光學 CANON 300mm F2.8L IS USM II 二代鏡 公司貨  EF 300 mm F2.8 L 1\">東旭光學 CANON 300mm F2.8L IS USM II 二代鏡 公司貨  EF 300 mm F2.8 L 1</a>\\n                    </div>\\n                </div>\\n                <div class=\"srp-pddetail yui3-g\">\\n                    <div class=\"srp-pdlblock yui3-u\">\\n                        <div class=\"yui3-g\">\\n                            <div class=\"srp-pdblock1 yui3-u\">\\n                                <div class=\"srp-bidprice yui3-g\">\\n                                    <span class=\"yui3-u title\">出價</span>\\n                                    <em class=\"yui3-u red\">202,300</em>\\n                                    <span class=\"yui3-u\">元</span>\\n                                </div>\\n                                <div class=\"srp-pdprice yui3-g\">\\n                                                                    </div>\\n                                <div class=\"srp-shipping\">\\n                                    運費100元                                </div>\\n                                                            </div>\\n                            <div class=\"srp-pdblock2 yui3-u\">\\n                                <span class=\"sep yui3-u\">｜</span>\\n                                <a href=\"https://tw.page.bid.yahoo.com/tw/show/bid_hist;_ylt=A3TWBEDEjjdVeQYArxhyFbN8;_ylv=3?aID=f43432249\">\\n                                    0 次\\n                                </a>\\n                            </div>\\n                            <div class=\"srp-pdblock3 yui3-u\">\\n                                <span class=\"sep yui3-u\">｜</span>\\n                                                                            <span class=\"\">剩3天 18小時 </span>\\n                                                            </div>\\n                        </div>\\n                    </div>\\n                    <div class=\"srp-pdrblock yui3-u\">\\n                        <div class=\"yui3-g\">\\n                            <div class=\"srp-sellerinfo yui3-u\">\\n                                <div class=\"srp-pdstore\">\\n                                    <span class=\"store\">賣家：</span><a href=\"https://tw.bid.yahoo.com/tw/user/Y5175105678;_ylt=A3TWBEDEjjdVeQYArRhyFbN8;_ylv=3\">!!在地台南囡仔開的專業相機店!!</a>\\n                                    <span class=\"store\">(評價 <a href=\"https://tw.bid.yahoo.com/rating/Y5175105678/listing;_ylt=A3TWBEDEjjdVeQYArhhyFbN8;_ylv=3\">2343</a>)</span>\\n                                </div>\\n                                                                    <a class=\"srp-ico store-icon\" title=\"拍賣店鋪\" href=\"https://help.yahoo.com/kb/index?page=content&id=SLN11039&locale=zh_TW&y=PROD_TWAUCT\"></a>\\n                                                                <div class=\"srp-place\">\\n                                    在台南市                                </div>\\n                            </div>\\n                            <div class=\"srp-paytype yui3-u\">\\n                                <div class=\"srp-ico easy-pay\"></div>                            </div>\\n                        </div>\\n                    </div>\\n                </div>\\n            </div>\\n        </div>\\n    </div><!--\\n    --><div class=\"att-item item \" data-url=\"https://login.yahoo.com/config/login?.intl=tw&.pd=c%3D3Chd7Yq72e502eh4R99sgUvi5Q--&.done=https%3A%2F%2Ftw.search.bid.yahoo.com%2Fsearch%2Fauction%2Fproduct%3Fp%3Dcannon%2B300mm%2Bf2.8%26qt%3Dproduct%26cid%3D0%26clv%3D0&rr=9653915870\">\\n        <div class=\"wrap yui3-g\">\\n            <div class=\"srp-pdimage yui3-u\">\\n                <a href=\"https://tw.bid.yahoo.com/item/c78324119;_ylt=A3TWBEDEjjdVeQYAsRhyFbN8;_ylv=3\" title=\"東旭光學 CANON 300mm F2.8L IS USM II 二代鏡 公司貨  EF 300 mm F2.8 L 2\">\\n                    <img width=\"150\" \\n                    alt=\"東旭光學 CANON 300mm F2.8L IS USM II 二代鏡 公司貨  EF 300 mm F2.8 L 2\"\\n                    src=\"https://s.yimg.com/aw/api/res/1.2/pJU26hZFl5VbYEWxh3WzMg--/YXBwaWQ9eXR3YXVjdGlvbnNlcnZpY2U7aD0zNTY7cT04NTtzcj0xLjI7c3M9MS4yO3c9NDAw/http://nevec-img.zenfs.com/prod/tw_ec05-7/147a62f9-c9e8-4a5f-a6c5-5180696a5fe4.jpg\">\\n                </a>\\n            </div>\\n            <div class=\"yui3-u srp-pdcontent\">\\n                <div class=\"srp-pdtitle yui3-g\">\\n                                        <span class=\"srp-tag bid yui3-u\">競標品</span>\\n                                        <div class=\"title yui3-u\">\\n                        <a class=\"ellipsis\" href=\"https://tw.bid.yahoo.com/item/c78324119;_ylt=A3TWBEDEjjdVeQYAsBhyFbN8;_ylv=3\" title=\"東旭光學 CANON 300mm F2.8L IS USM II 二代鏡 公司貨  EF 300 mm F2.8 L 2\">東旭光學 CANON 300mm F2.8L IS USM II 二代鏡 公司貨  EF 300 mm F2.8 L 2</a>\\n                    </div>\\n                </div>\\n                <div class=\"srp-pddetail yui3-g\">\\n                    <div class=\"srp-pdlblock yui3-u\">\\n                        <div class=\"yui3-g\">\\n                            <div class=\"srp-pdblock1 yui3-u\">\\n                                <div class=\"srp-bidprice yui3-g\">\\n                                    <span class=\"yui3-u title\">出價</span>\\n                                    <em class=\"yui3-u red\">202,300</em>\\n                                    <span class=\"yui3-u\">元</span>\\n                                </div>\\n                                <div class=\"srp-pdprice yui3-g\">\\n                                                                    </div>\\n                                <div class=\"srp-shipping\">\\n                                    免運                                </div>\\n                                                            </div>\\n                            <div class=\"srp-pdblock2 yui3-u\">\\n                                <span class=\"sep yui3-u\">｜</span>\\n                                <a href=\"https://tw.page.bid.yahoo.com/tw/show/bid_hist;_ylt=A3TWBEDEjjdVeQYAtBhyFbN8;_ylv=3?aID=c78324119\">\\n                                    0 次\\n                                </a>\\n                            </div>\\n                            <div class=\"srp-pdblock3 yui3-u\">\\n                                <span class=\"sep yui3-u\">｜</span>\\n                                                                            <span class=\"\">剩3天 18小時 </span>\\n                                                            </div>\\n                        </div>\\n                    </div>\\n                    <div class=\"srp-pdrblock yui3-u\">\\n                        <div class=\"yui3-g\">\\n                            <div class=\"srp-sellerinfo yui3-u\">\\n                                <div class=\"srp-pdstore\">\\n                                    <span class=\"store\">賣家：</span><a href=\"https://tw.bid.yahoo.com/tw/user/Y5175105678;_ylt=A3TWBEDEjjdVeQYAshhyFbN8;_ylv=3\">!!在地台南囡仔開的專業相機店!!</a>\\n                                    <span class=\"store\">(評價 <a href=\"https://tw.bid.yahoo.com/rating/Y5175105678/listing;_ylt=A3TWBEDEjjdVeQYAsxhyFbN8;_ylv=3\">2343</a>)</span>\\n                                </div>\\n                                                                    <a class=\"srp-ico store-icon\" title=\"拍賣店鋪\" href=\"https://help.yahoo.com/kb/index?page=content&id=SLN11039&locale=zh_TW&y=PROD_TWAUCT\"></a>\\n                                                                <div class=\"srp-place\">\\n                                    在台南市                                </div>\\n                            </div>\\n                            <div class=\"srp-paytype yui3-u\">\\n                                <div class=\"srp-ico easy-pay\"></div>                            </div>\\n                        </div>\\n                    </div>\\n                </div>\\n            </div>\\n        </div>\\n    </div><!--\\n    --><div class=\"att-item item \" data-url=\"https://login.yahoo.com/config/login?.intl=tw&.pd=c%3D3Chd7Yq72e502eh4R99sgUvi5Q--&.done=https%3A%2F%2Ftw.search.bid.yahoo.com%2Fsearch%2Fauction%2Fproduct%3Fp%3Dcannon%2B300mm%2Bf2.8%26qt%3Dproduct%26cid%3D0%26clv%3D0&rr=7576082864\">\\n        <div class=\"wrap yui3-g\">\\n            <div class=\"srp-pdimage yui3-u\">\\n                <a href=\"https://tw.mall.yahoo.com/item/p099049561914;_ylt=A3TWBEDEjjdVeQYAthhyFbN8;_ylv=3\" title=\"大砲專用 Canon EF 300mm F/2.8 L IS II USM [ 棕色叢林迷彩 ] 鏡頭炮衣 迷彩砲衣 炮衣 另有其他規格\">\\n                    <img width=\"150\" \\n                    alt=\"大砲專用 Canon EF 300mm F/2.8 L IS II USM [ 棕色叢林迷彩 ] 鏡頭炮衣 迷彩砲衣 炮衣 另有其他規格\"\\n                    src=\"https://s.yimg.com/hg/pimg2/8b/3a/p099049561914-item-4831xf2x0600x0450-m.jpg\">\\n                </a>\\n            </div>\\n            <div class=\"yui3-u srp-pdcontent\">\\n                <div class=\"srp-pdtitle yui3-g\">\\n                                    <span class=\"srp-tag mall yui3-u\">超級商城</span>\\n                                    <div class=\"title yui3-u\">\\n                        <a class=\"ellipsis\" href=\"https://tw.mall.yahoo.com/item/p099049561914;_ylt=A3TWBEDEjjdVeQYAtRhyFbN8;_ylv=3\" title=\"大砲專用 Canon EF 300mm F/2.8 L IS II USM [ 棕色叢林迷彩 ] 鏡頭炮衣 迷彩砲衣 炮衣 另有其他規格\">大砲專用 Canon EF 300mm F/2.8 L IS II USM [ 棕色叢林迷彩 ] 鏡頭炮衣 迷彩砲衣 炮衣 另有其他規格</a>\\n                    </div>\\n                </div>\\n                <div class=\"srp-pddetail yui3-g\">\\n                    <div class=\"srp-pdlblock yui3-u\">\\n                        <div class=\"yui3-g\">\\n                            <div class=\"srp-pdblock1 yui3-u\">\\n                                <div class=\"srp-pdprice\">\\n                                    <span>價格</span>\\n                                    <em>2,500</em>\\n                                    <span>元</span>\\n                                </div>\\n                                                        </div>\\n                            <div class=\"yui3-u srp-pdblock3\">\\n                                <span class=\"sep yui3-u\">｜</span>\\n                                <div class=\"yui3-u\">\\n                                                                    </div>\\n                            </div>\\n                        </div>\\n                    </div>\\n                    <div class=\"yui3-u srp-pdrblock\">\\n                        <div class=\"yui3-g\">\\n                            <div class=\"yui3-u srp-sellerinfo\">\\n                                <div class=\"srp-pdstore\">\\n                                    <span class=\"store\">商店：</span><a href=\"http://tw.mall.yahoo.com/store/kercherkao;_ylt=A3TWBEDEjjdVeQYAtxhyFbN8;_ylv=3\">可傑數位</a>\\n                                </div>\\n                                <div class=\"srp-gstore srp-ico\">\\n                                </div>\\n                                <div class=\"srp-score yui3-u srp-place\">\\n                                    <a class=\"srp-ico\" href=\"http://tw.user.mall.yahoo.com/rating/list;_ylt=A3TWBEDEjjdVeQYAuBhyFbN8;_ylv=3?sid=kercherkao\">9.3</a>\\n                                    <span class=\"num\">(1337人)</span>\\n                                </div>\\n                            </div>\\n                            <div class=\"srp-paytype yui3-u\">\\n                                <div class=\"srp-ico family\"></div>                            </div>\\n                        </div>\\n                    </div>\\n                </div>\\n            </div>\\n        </div>\\n    </div><!--\\n    --><div class=\"att-item item \" data-url=\"https://login.yahoo.com/config/login?.intl=tw&.pd=c%3D3Chd7Yq72e502eh4R99sgUvi5Q--&.done=https%3A%2F%2Ftw.search.bid.yahoo.com%2Fsearch%2Fauction%2Fproduct%3Fp%3Dcannon%2B300mm%2Bf2.8%26qt%3Dproduct%26cid%3D0%26clv%3D0&rr=5800024524\">\\n        <div class=\"wrap yui3-g\">\\n            <div class=\"srp-pdimage yui3-u\">\\n                <a href=\"https://tw.bid.yahoo.com/item/100064184783;_ylt=A3TWBEDEjjdVeQYAuxhyFbN8;_ylv=3\" title=\"【數購e】Canon EF 300 mm F/2.8 L IS USM II 平行輸入盒裝\">\\n                    <img height=\"150\" \\n                    alt=\"【數購e】Canon EF 300 mm F/2.8 L IS USM II 平行輸入盒裝\"\\n                    src=\"https://s.yimg.com/aw/api/res/1.2/__Rb_Dvb1lmyQf_EN2iJAw--/YXBwaWQ9eXR3YXVjdGlvbnNlcnZpY2U7aD00MDA7cT04NTtyb3RhdGU9YXV0bzt3PTQwMA--/http://nevec-img.zenfs.com/prod/tw_ec05-7/0f600c68-9f0d-4722-b6c8-a561a4c45cd4.jpg\">\\n                </a>\\n            </div>\\n            <div class=\"yui3-u srp-pdcontent\">\\n                <div class=\"srp-pdtitle yui3-g\">\\n                                        <span class=\"srp-tag bid yui3-u\">競標品</span>\\n                                        <div class=\"title yui3-u\">\\n                        <a class=\"ellipsis\" href=\"https://tw.bid.yahoo.com/item/100064184783;_ylt=A3TWBEDEjjdVeQYAuhhyFbN8;_ylv=3\" title=\"【數購e】Canon EF 300 mm F/2.8 L IS USM II 平行輸入盒裝\">【數購e】Canon EF 300 mm F/2.8 L IS USM II 平行輸入盒裝</a>\\n                    </div>\\n                </div>\\n                <div class=\"srp-pddetail yui3-g\">\\n                    <div class=\"srp-pdlblock yui3-u\">\\n                        <div class=\"yui3-g\">\\n                            <div class=\"srp-pdblock1 yui3-u\">\\n                                <div class=\"srp-bidprice yui3-g\">\\n                                    <span class=\"yui3-u title\">出價</span>\\n                                    <em class=\"yui3-u red\">165,500</em>\\n                                    <span class=\"yui3-u\">元</span>\\n                                </div>\\n                                <div class=\"srp-pdprice yui3-g\">\\n                                                                    </div>\\n                                <div class=\"srp-shipping\">\\n                                    運費55元                                </div>\\n                                                            </div>\\n                            <div class=\"srp-pdblock2 yui3-u\">\\n                                <span class=\"sep yui3-u\">｜</span>\\n                                <a href=\"https://tw.page.bid.yahoo.com/tw/show/bid_hist;_ylt=A3TWBEDEjjdVeQYAvhhyFbN8;_ylv=3?aID=100064184783\">\\n                                    0 次\\n                                </a>\\n                            </div>\\n                            <div class=\"srp-pdblock3 yui3-u\">\\n                                <span class=\"sep yui3-u\">｜</span>\\n                                                                            <span class=\"\">剩3天 23小時 </span>\\n                                                            </div>\\n                        </div>\\n                    </div>\\n                    <div class=\"srp-pdrblock yui3-u\">\\n                        <div class=\"yui3-g\">\\n                            <div class=\"srp-sellerinfo yui3-u\">\\n                                <div class=\"srp-pdstore\">\\n                                    <span class=\"store\">賣家：</span><a href=\"https://tw.bid.yahoo.com/tw/user/Y7760111608;_ylt=A3TWBEDEjjdVeQYAvBhyFbN8;_ylv=3\">數購e</a>\\n                                    <span class=\"store\">(評價 <a href=\"https://tw.bid.yahoo.com/rating/Y7760111608/listing;_ylt=A3TWBEDEjjdVeQYAvRhyFbN8;_ylv=3\">1</a>)</span>\\n                                </div>\\n                                                                <div class=\"srp-place\">\\n                                    在台北市                                </div>\\n                            </div>\\n                            <div class=\"srp-paytype yui3-u\">\\n                                <div class=\"srp-ico easy-pay\"></div><div class=\"srp-ico family\"></div><div class=\"srp-ico seven\"></div>                            </div>\\n                        </div>\\n                    </div>\\n                </div>\\n            </div>\\n        </div>\\n    </div><!--\\n    --><div class=\"att-item item \" data-url=\"https://login.yahoo.com/config/login?.intl=tw&.pd=c%3D3Chd7Yq72e502eh4R99sgUvi5Q--&.done=https%3A%2F%2Ftw.search.bid.yahoo.com%2Fsearch%2Fauction%2Fproduct%3Fp%3Dcannon%2B300mm%2Bf2.8%26qt%3Dproduct%26cid%3D0%26clv%3D0&rr=3112078457\">\\n        <div class=\"wrap yui3-g\">\\n            <div class=\"srp-pdimage yui3-u\">\\n                <a href=\"https://tw.bid.yahoo.com/item/100066000125;_ylt=A3TWBEDEjjdVeQYAwBhyFbN8;_ylv=3\" title=\"【五花八門】Canon EF 300 mm F/2.8 L IS USM II  平行輸入盒裝\">\\n                    <img height=\"150\" \\n                    alt=\"【五花八門】Canon EF 300 mm F/2.8 L IS USM II  平行輸入盒裝\"\\n                    src=\"https://s.yimg.com/aw/api/res/1.2/4e1bt3cAqOB0KtkFv_mgJQ--/YXBwaWQ9eXR3YXVjdGlvbnNlcnZpY2U7aD00MDA7cT04NTtyb3RhdGU9YXV0bzt3PTQwMA--/http://nevec-img.zenfs.com/prod/tw_ec05-7/fc915169-96ec-4bba-8911-6c81c774422c.jpg\">\\n                </a>\\n            </div>\\n            <div class=\"yui3-u srp-pdcontent\">\\n                <div class=\"srp-pdtitle yui3-g\">\\n                                        <span class=\"srp-tag bid yui3-u\">競標品</span>\\n                                        <div class=\"title yui3-u\">\\n                        <a class=\"ellipsis\" href=\"https://tw.bid.yahoo.com/item/100066000125;_ylt=A3TWBEDEjjdVeQYAvxhyFbN8;_ylv=3\" title=\"【五花八門】Canon EF 300 mm F/2.8 L IS USM II  平行輸入盒裝\">【五花八門】Canon EF 300 mm F/2.8 L IS USM II  平行輸入盒裝</a>\\n                    </div>\\n                </div>\\n                <div class=\"srp-pddetail yui3-g\">\\n                    <div class=\"srp-pdlblock yui3-u\">\\n                        <div class=\"yui3-g\">\\n                            <div class=\"srp-pdblock1 yui3-u\">\\n                                <div class=\"srp-bidprice yui3-g\">\\n                                    <span class=\"yui3-u title\">出價</span>\\n                                    <em class=\"yui3-u red\">165,500</em>\\n                                    <span class=\"yui3-u\">元</span>\\n                                </div>\\n                                <div class=\"srp-pdprice yui3-g\">\\n                                                                    </div>\\n                                <div class=\"srp-shipping\">\\n                                    運費55元                                </div>\\n                                                            </div>\\n                            <div class=\"srp-pdblock2 yui3-u\">\\n                                <span class=\"sep yui3-u\">｜</span>\\n                                <a href=\"https://tw.page.bid.yahoo.com/tw/show/bid_hist;_ylt=A3TWBEDEjjdVeQYAwxhyFbN8;_ylv=3?aID=100066000125\">\\n                                    0 次\\n                                </a>\\n                            </div>\\n                            <div class=\"srp-pdblock3 yui3-u\">\\n                                <span class=\"sep yui3-u\">｜</span>\\n                                                                            <span class=\"\">剩4天 19小時 </span>\\n                                                            </div>\\n                        </div>\\n                    </div>\\n                    <div class=\"srp-pdrblock yui3-u\">\\n                        <div class=\"yui3-g\">\\n                            <div class=\"srp-sellerinfo yui3-u\">\\n                                <div class=\"srp-pdstore\">\\n                                    <span class=\"store\">賣家：</span><a href=\"https://tw.bid.yahoo.com/tw/user/Y3186506729;_ylt=A3TWBEDEjjdVeQYAwRhyFbN8;_ylv=3\">《五花八門》大台北地區三小時到貨</a>\\n                                    <span class=\"store\">(評價 <a href=\"https://tw.bid.yahoo.com/rating/Y3186506729/listing;_ylt=A3TWBEDEjjdVeQYAwhhyFbN8;_ylv=3\">1</a>)</span>\\n                                </div>\\n                                                                <div class=\"srp-place\">\\n                                    在台北市                                </div>\\n                            </div>\\n                            <div class=\"srp-paytype yui3-u\">\\n                                <div class=\"srp-ico easy-pay\"></div><div class=\"srp-ico family\"></div><div class=\"srp-ico seven\"></div>                            </div>\\n                        </div>\\n                    </div>\\n                </div>\\n            </div>\\n        </div>\\n    </div><!--\\n    --><div class=\"att-item item \" data-url=\"https://login.yahoo.com/config/login?.intl=tw&.pd=c%3D3Chd7Yq72e502eh4R99sgUvi5Q--&.done=https%3A%2F%2Ftw.search.bid.yahoo.com%2Fsearch%2Fauction%2Fproduct%3Fp%3Dcannon%2B300mm%2Bf2.8%26qt%3Dproduct%26cid%3D0%26clv%3D0&rr=1358538095\">\\n        <div class=\"wrap yui3-g\">\\n            <div class=\"srp-pdimage yui3-u\">\\n                <a href=\"https://tw.bid.yahoo.com/item/100036395323;_ylt=A3TWBEDEjjdVeQYAxRhyFbN8;_ylv=3\" title=\"【東京360】Canon EF 300 mm F/2.8 L IS USM II  平行輸入盒裝\">\\n                    <img height=\"150\" \\n                    alt=\"【東京360】Canon EF 300 mm F/2.8 L IS USM II  平行輸入盒裝\"\\n                    src=\"https://s.yimg.com/aw/api/res/1.2/XQW7bjoxPbLU6mGLyV_xyg--/YXBwaWQ9eXR3YXVjdGlvbnNlcnZpY2U7aD00MDA7cT04NTtyb3RhdGU9YXV0bztzcj0xLjI7c3M9MS4yO3c9NDAw/http://nevec-img.zenfs.com/prod/tw_ec05-7/1b8d86ca-15e8-486c-9223-5cae66e5e967.jpg\">\\n                </a>\\n            </div>\\n            <div class=\"yui3-u srp-pdcontent\">\\n                <div class=\"srp-pdtitle yui3-g\">\\n                                        <span class=\"srp-tag bid yui3-u\">競標品</span>\\n                                        <div class=\"title yui3-u\">\\n                        <a class=\"ellipsis\" href=\"https://tw.bid.yahoo.com/item/100036395323;_ylt=A3TWBEDEjjdVeQYAxBhyFbN8;_ylv=3\" title=\"【東京360】Canon EF 300 mm F/2.8 L IS USM II  平行輸入盒裝\">【東京360】Canon EF 300 mm F/2.8 L IS USM II  平行輸入盒裝</a>\\n                    </div>\\n                </div>\\n                <div class=\"srp-pddetail yui3-g\">\\n                    <div class=\"srp-pdlblock yui3-u\">\\n                        <div class=\"yui3-g\">\\n                            <div class=\"srp-pdblock1 yui3-u\">\\n                                <div class=\"srp-bidprice yui3-g\">\\n                                    <span class=\"yui3-u title\">出價</span>\\n                                    <em class=\"yui3-u red\">165,500</em>\\n                                    <span class=\"yui3-u\">元</span>\\n                                </div>\\n                                <div class=\"srp-pdprice yui3-g\">\\n                                                                    </div>\\n                                <div class=\"srp-shipping\">\\n                                    運費55元                                </div>\\n                                                            </div>\\n                            <div class=\"srp-pdblock2 yui3-u\">\\n                                <span class=\"sep yui3-u\">｜</span>\\n                                <a href=\"https://tw.page.bid.yahoo.com/tw/show/bid_hist;_ylt=A3TWBEDEjjdVeQYAyBhyFbN8;_ylv=3?aID=100036395323\">\\n                                    0 次\\n                                </a>\\n                            </div>\\n                            <div class=\"srp-pdblock3 yui3-u\">\\n                                <span class=\"sep yui3-u\">｜</span>\\n                                                                            <span class=\"\">剩4天 21小時 </span>\\n                                                            </div>\\n                        </div>\\n                    </div>\\n                    <div class=\"srp-pdrblock yui3-u\">\\n                        <div class=\"yui3-g\">\\n                            <div class=\"srp-sellerinfo yui3-u\">\\n                                <div class=\"srp-pdstore\">\\n                                    <span class=\"store\">賣家：</span><a href=\"https://tw.bid.yahoo.com/tw/user/Y9120070822;_ylt=A3TWBEDEjjdVeQYAxhhyFbN8;_ylv=3\">【東京360】下標前請參考關於我</a>\\n                                    <span class=\"store\">(評價 <a href=\"https://tw.bid.yahoo.com/rating/Y9120070822/listing;_ylt=A3TWBEDEjjdVeQYAxxhyFbN8;_ylv=3\">155</a>)</span>\\n                                </div>\\n                                                                <div class=\"srp-place\">\\n                                    在台北市                                </div>\\n                            </div>\\n                            <div class=\"srp-paytype yui3-u\">\\n                                <div class=\"srp-ico easy-pay\"></div><div class=\"srp-ico family\"></div><div class=\"srp-ico seven\"></div>                            </div>\\n                        </div>\\n                    </div>\\n                </div>\\n            </div>\\n        </div>\\n    </div><!--\\n    --><div class=\"att-item item \" data-url=\"https://login.yahoo.com/config/login?.intl=tw&.pd=c%3D3Chd7Yq72e502eh4R99sgUvi5Q--&.done=https%3A%2F%2Ftw.search.bid.yahoo.com%2Fsearch%2Fauction%2Fproduct%3Fp%3Dcannon%2B300mm%2Bf2.8%26qt%3Dproduct%26cid%3D0%26clv%3D0&rr=1711435971\">\\n        <div class=\"wrap yui3-g\">\\n            <div class=\"srp-pdimage yui3-u\">\\n                <a href=\"https://tw.bid.yahoo.com/item/1212209163;_ylt=A3TWBEDEjjdVeQYAyhhyFbN8;_ylv=3\" title=\"彩色鳥 Canon 5D mark2+ Sigma APO 120-300mm F2.8 EX DG (望遠鏡頭/寫真人像/生態飛禽皆宜)\">\\n                    <img width=\"150\" \\n                    alt=\"彩色鳥 Canon 5D mark2+ Sigma APO 120-300mm F2.8 EX DG (望遠鏡頭/寫真人像/生態飛禽皆宜)\"\\n                    src=\"https://s.yimg.com/aw/api/res/1.2/g7lmGPzQ4g3vt9d_IGtQLg--/YXBwaWQ9eXR3YXVjdGlvbnNlcnZpY2U7aD0yODk7cT04NTtzcj0xLjI7c3M9MS4yO3c9NDAw/http://nevec-img.zenfs.com/prod/tw_ec05-7/2741ab7a-8bba-451b-a91f-8d78dc422b3f.jpg\">\\n                </a>\\n            </div>\\n            <div class=\"yui3-u srp-pdcontent\">\\n                <div class=\"srp-pdtitle yui3-g\">\\n                                        <span class=\"srp-tag bid yui3-u\">競標品</span>\\n                                        <div class=\"title yui3-u\">\\n                        <a class=\"ellipsis\" href=\"https://tw.bid.yahoo.com/item/1212209163;_ylt=A3TWBEDEjjdVeQYAyRhyFbN8;_ylv=3\" title=\"彩色鳥 Canon 5D mark2+ Sigma APO 120-300mm F2.8 EX DG (望遠鏡頭/寫真人像/生態飛禽皆宜)\">彩色鳥 Canon 5D mark2+ Sigma APO 120-300mm F2.8 EX DG (望遠鏡頭/寫真人像/生態飛禽皆宜)</a>\\n                    </div>\\n                </div>\\n                <div class=\"srp-pddetail yui3-g\">\\n                    <div class=\"srp-pdlblock yui3-u\">\\n                        <div class=\"yui3-g\">\\n                            <div class=\"srp-pdblock1 yui3-u\">\\n                                <div class=\"srp-bidprice yui3-g\">\\n                                    <span class=\"yui3-u title\">出價</span>\\n                                    <em class=\"yui3-u red\">1,500</em>\\n                                    <span class=\"yui3-u\">元</span>\\n                                </div>\\n                                <div class=\"srp-pdprice yui3-g\">\\n                                                                    </div>\\n                                <div class=\"srp-shipping\">\\n                                    面交/自取/不寄送                                </div>\\n                                                            </div>\\n                            <div class=\"srp-pdblock2 yui3-u\">\\n                                <span class=\"sep yui3-u\">｜</span>\\n                                <a href=\"https://tw.page.bid.yahoo.com/tw/show/bid_hist;_ylt=A3TWBEDEjjdVeQYAzRhyFbN8;_ylv=3?aID=1212209163\">\\n                                    0 次\\n                                </a>\\n                            </div>\\n                            <div class=\"srp-pdblock3 yui3-u\">\\n                                <span class=\"sep yui3-u\">｜</span>\\n                                                                            <span class=\"\">剩5天 2小時 </span>\\n                                                            </div>\\n                        </div>\\n                    </div>\\n                    <div class=\"srp-pdrblock yui3-u\">\\n                        <div class=\"yui3-g\">\\n                            <div class=\"srp-sellerinfo yui3-u\">\\n                                <div class=\"srp-pdstore\">\\n                                    <span class=\"store\">賣家：</span><a href=\"https://tw.bid.yahoo.com/tw/user/Y6871761427;_ylt=A3TWBEDEjjdVeQYAyxhyFbN8;_ylv=3\">彩色鳥攝影器材出租</a>\\n                                    <span class=\"store\">(評價 <a href=\"https://tw.bid.yahoo.com/rating/Y6871761427/listing;_ylt=A3TWBEDEjjdVeQYAzBhyFbN8;_ylv=3\">323</a>)</span>\\n                                </div>\\n                                                                    <a class=\"srp-ico store-icon\" title=\"拍賣店鋪\" href=\"https://help.yahoo.com/kb/index?page=content&id=SLN11039&locale=zh_TW&y=PROD_TWAUCT\"></a>\\n                                                                <div class=\"srp-place\">\\n                                    在台北市                                </div>\\n                            </div>\\n                            <div class=\"srp-paytype yui3-u\">\\n                                <div class=\"srp-ico easy-pay\"></div>                            </div>\\n                        </div>\\n                    </div>\\n                </div>\\n            </div>\\n        </div>\\n    </div><!--\\n    --><div class=\"att-item item \" data-url=\"https://login.yahoo.com/config/login?.intl=tw&.pd=c%3D3Chd7Yq72e502eh4R99sgUvi5Q--&.done=https%3A%2F%2Ftw.search.bid.yahoo.com%2Fsearch%2Fauction%2Fproduct%3Fp%3Dcannon%2B300mm%2Bf2.8%26qt%3Dproduct%26cid%3D0%26clv%3D0&rr=8213088583\">\\n        <div class=\"wrap yui3-g\">\\n            <div class=\"srp-pdimage yui3-u\">\\n                <a href=\"https://tw.bid.yahoo.com/item/100026661030;_ylt=A3TWBEDEjjdVeQYAzxhyFbN8;_ylv=3\" title=\"現貨-全新  Canon EF 300mm F2.8 L IS II USM 二代 望遠定焦鏡 大砲 實體店面 保固一年\">\\n                    <img width=\"150\" \\n                    alt=\"現貨-全新  Canon EF 300mm F2.8 L IS II USM 二代 望遠定焦鏡 大砲 實體店面 保固一年\"\\n                    src=\"https://s.yimg.com/aw/api/res/1.2/8X9bwAJGiEDnfnQ1yBMQkw--/YXBwaWQ9eXR3YXVjdGlvbnNlcnZpY2U7aD0zMDA7cT04NTtyb3RhdGU9YXV0bztzcj0xLjI7c3M9MS4yO3c9NDAw/http://nevec-img.zenfs.com/prod/tw_ec05-7/0db24c4c-361d-448a-865f-563a1abb9fa0.jpg\">\\n                </a>\\n            </div>\\n            <div class=\"yui3-u srp-pdcontent\">\\n                <div class=\"srp-pdtitle yui3-g\">\\n                                    <span class=\"srp-tag buynow yui3-u\">直購品</span>\\n                                    <div class=\"title yui3-u\">\\n                        <a class=\"ellipsis\" href=\"https://tw.bid.yahoo.com/item/100026661030;_ylt=A3TWBEDEjjdVeQYAzhhyFbN8;_ylv=3\" title=\"現貨-全新  Canon EF 300mm F2.8 L IS II USM 二代 望遠定焦鏡 大砲 實體店面 保固一年\">現貨-全新  Canon EF 300mm F2.8 L IS II USM 二代 望遠定焦鏡 大砲 實體店面 保固一年</a>\\n                    </div>\\n                </div>\\n                <div class=\"srp-pddetail yui3-g\">\\n                    <div class=\"srp-pdlblock yui3-u\">\\n                        <div class=\"yui3-g\">\\n                            <div class=\"srp-pdblock1 yui3-u\">\\n                                <div class=\"srp-pdprice yui3-g\">\\n                                                                        <span class=\"yui3-u title\">直購價</span>\\n                                    <em class=\"yui3-u\">175,000</em>\\n                                    <span class=\"yui3-u\">元</span>\\n                                                                    </div>\\n                                <div class=\"srp-shipping\">\\n                                    免運                                </div>\\n                                                                <span class=\"item-panel-btn srp-ico\" data-url=\"/tw/dedup?groupid=36162475&type=list&pg=1\">\\n                                    賣家相似商品\\n                                </span>\\n                                                            </div>\\n                            <div class=\"srp-pdblock2 yui3-u\">\\n                               \\n                            </div>\\n                            <div class=\"srp-pdblock3 yui3-u\">\\n                                <span class=\"sep yui3-u\">｜</span>\\n                                                                            <span class=\"\">剩5天 5小時 </span>\\n                                                            </div>\\n                        </div>\\n                    </div>\\n                    <div class=\"srp-pdrblock yui3-u\">\\n                        <div class=\"yui3-g\">\\n                            <div class=\"srp-sellerinfo yui3-u\">\\n                                <div class=\"srp-pdstore\">\\n                                    <span class=\"store\">賣家：</span><a href=\"https://tw.bid.yahoo.com/tw/user/Y0805521091;_ylt=A3TWBEDEjjdVeQYA0BhyFbN8;_ylv=3\">可傑數位</a>\\n                                    <span class=\"store\">(評價 <a href=\"https://tw.bid.yahoo.com/rating/Y0805521091/listing;_ylt=A3TWBEDEjjdVeQYA0RhyFbN8;_ylv=3\">9.3</a>)</span>\\n                                </div>\\n                                                                    <a class=\"srp-ico store-icon\" tilte=\"拍賣店鋪\" href=\"https://help.yahoo.com/kb/index?page=content&id=SLN11039&locale=zh_TW&y=PROD_TWAUCT\"></a>\\n                                                                <div class=\"srp-place\">\\n                                    在高雄市                                </div>\\n                            </div>\\n                            <div class=\"srp-paytype yui3-u\">\\n                                <div class=\"srp-ico easy-pay\"></div><div class=\"srp-ico credit\"></div>                            </div>\\n                        </div>\\n                    </div>\\n                </div>\\n            </div>\\n        </div>\\n    </div><!--\\n    --><div class=\"att-item item \" data-url=\"https://login.yahoo.com/config/login?.intl=tw&.pd=c%3D3Chd7Yq72e502eh4R99sgUvi5Q--&.done=https%3A%2F%2Ftw.search.bid.yahoo.com%2Fsearch%2Fauction%2Fproduct%3Fp%3Dcannon%2B300mm%2Bf2.8%26qt%3Dproduct%26cid%3D0%26clv%3D0&rr=9739623730\">\\n        <div class=\"wrap yui3-g\">\\n            <div class=\"srp-pdimage yui3-u\">\\n                <a href=\"https://tw.bid.yahoo.com/item/e75697569;_ylt=A3TWBEDEjjdVeQYA1BhyFbN8;_ylv=3\" title=\"【薪創光華】現貨 Canon EF 300mm F2.8 L IS II USM 彩虹公司貨 望遠定焦鏡\">\\n                    <img width=\"150\" \\n                    alt=\"【薪創光華】現貨 Canon EF 300mm F2.8 L IS II USM 彩虹公司貨 望遠定焦鏡\"\\n                    src=\"https://s.yimg.com/aw/api/res/1.2/02jppLEGQLNRD5XVRSSp8g--/YXBwaWQ9eXR3YXVjdGlvbnNlcnZpY2U7aD0zMDA7cT04NTtzcj0xLjI7c3M9MS4yO3c9NDAw/http://nevec-img.zenfs.com/prod/tw_ec05-7/70e432f5-2dc4-4e65-9284-9636bba70fe4.jpg\">\\n                </a>\\n            </div>\\n            <div class=\"yui3-u srp-pdcontent\">\\n                <div class=\"srp-pdtitle yui3-g\">\\n                                        <span class=\"srp-tag bid yui3-u\">競標品</span>\\n                                        <div class=\"title yui3-u\">\\n                        <a class=\"ellipsis\" href=\"https://tw.bid.yahoo.com/item/e75697569;_ylt=A3TWBEDEjjdVeQYA0xhyFbN8;_ylv=3\" title=\"【薪創光華】現貨 Canon EF 300mm F2.8 L IS II USM 彩虹公司貨 望遠定焦鏡\">【薪創光華】現貨 Canon EF 300mm F2.8 L IS II USM 彩虹公司貨 望遠定焦鏡</a>\\n                    </div>\\n                </div>\\n                <div class=\"srp-pddetail yui3-g\">\\n                    <div class=\"srp-pdlblock yui3-u\">\\n                        <div class=\"yui3-g\">\\n                            <div class=\"srp-pdblock1 yui3-u\">\\n                                <div class=\"srp-bidprice yui3-g\">\\n                                    <span class=\"yui3-u title\">出價</span>\\n                                    <em class=\"yui3-u red\">202,300</em>\\n                                    <span class=\"yui3-u\">元</span>\\n                                </div>\\n                                <div class=\"srp-pdprice yui3-g\">\\n                                                                    </div>\\n                                <div class=\"srp-shipping\">\\n                                    運費80元                                </div>\\n                                                            </div>\\n                            <div class=\"srp-pdblock2 yui3-u\">\\n                                <span class=\"sep yui3-u\">｜</span>\\n                                <a href=\"https://tw.page.bid.yahoo.com/tw/show/bid_hist;_ylt=A3TWBEDEjjdVeQYA1xhyFbN8;_ylv=3?aID=e75697569\">\\n                                    0 次\\n                                </a>\\n                            </div>\\n                            <div class=\"srp-pdblock3 yui3-u\">\\n                                <span class=\"sep yui3-u\">｜</span>\\n                                                                            <span class=\"\">剩5天 15小時 </span>\\n                                                            </div>\\n                        </div>\\n                    </div>\\n                    <div class=\"srp-pdrblock yui3-u\">\\n                        <div class=\"yui3-g\">\\n                            <div class=\"srp-sellerinfo yui3-u\">\\n                                <div class=\"srp-pdstore\">\\n                                    <span class=\"store\">賣家：</span><a href=\"https://tw.bid.yahoo.com/tw/user/Y3776281487;_ylt=A3TWBEDEjjdVeQYA1RhyFbN8;_ylv=3\">【薪創數位‧台北光華店】</a>\\n                                    <span class=\"store\">(評價 <a href=\"https://tw.bid.yahoo.com/rating/Y3776281487/listing;_ylt=A3TWBEDEjjdVeQYA1hhyFbN8;_ylv=3\">149</a>)</span>\\n                                </div>\\n                                                                    <a class=\"srp-ico store-icon\" title=\"拍賣店鋪\" href=\"https://help.yahoo.com/kb/index?page=content&id=SLN11039&locale=zh_TW&y=PROD_TWAUCT\"></a>\\n                                                                <div class=\"srp-place\">\\n                                    在台北市                                </div>\\n                            </div>\\n                            <div class=\"srp-paytype yui3-u\">\\n                                <div class=\"srp-ico easy-pay\"></div>                            </div>\\n                        </div>\\n                    </div>\\n                </div>\\n            </div>\\n        </div>\\n    </div><!--\\n    --><div class=\"att-item item \" data-url=\"https://login.yahoo.com/config/login?.intl=tw&.pd=c%3D3Chd7Yq72e502eh4R99sgUvi5Q--&.done=https%3A%2F%2Ftw.search.bid.yahoo.com%2Fsearch%2Fauction%2Fproduct%3Fp%3Dcannon%2B300mm%2Bf2.8%26qt%3Dproduct%26cid%3D0%26clv%3D0&rr=5149401439\">\\n        <div class=\"wrap yui3-g\">\\n            <div class=\"srp-pdimage yui3-u\">\\n                <a href=\"https://tw.bid.yahoo.com/item/100037647980;_ylt=A3TWBEDEjjdVeQYA2RhyFbN8;_ylv=3\" title=\"【GoGoJapan】售全新 CANON EF 300mm F2.8 L IS II USM 兩年保固 二代望遠鏡 2\">\\n                    <img width=\"150\" \\n                    alt=\"【GoGoJapan】售全新 CANON EF 300mm F2.8 L IS II USM 兩年保固 二代望遠鏡 2\"\\n                    src=\"https://s.yimg.com/aw/api/res/1.2/hOZAgkha8YmrPMwMmc4yLA--/YXBwaWQ9eXR3YXVjdGlvbnNlcnZpY2U7aD0zMDA7cT04NTtyb3RhdGU9YXV0bztzcj0xLjI7c3M9MS4yO3c9NDAw/http://nevec-img.zenfs.com/prod/tw_ec05-7/34217589-b9d7-4a5e-92f2-ee71695c0add.jpg\">\\n                </a>\\n            </div>\\n            <div class=\"yui3-u srp-pdcontent\">\\n                <div class=\"srp-pdtitle yui3-g\">\\n                                        <span class=\"srp-tag bid yui3-u\">競標品</span>\\n                                        <div class=\"title yui3-u\">\\n                        <a class=\"ellipsis\" href=\"https://tw.bid.yahoo.com/item/100037647980;_ylt=A3TWBEDEjjdVeQYA2BhyFbN8;_ylv=3\" title=\"【GoGoJapan】售全新 CANON EF 300mm F2.8 L IS II USM 兩年保固 二代望遠鏡 2\">【GoGoJapan】售全新 CANON EF 300mm F2.8 L IS II USM 兩年保固 二代望遠鏡 2</a>\\n                    </div>\\n                </div>\\n                <div class=\"srp-pddetail yui3-g\">\\n                    <div class=\"srp-pdlblock yui3-u\">\\n                        <div class=\"yui3-g\">\\n                            <div class=\"srp-pdblock1 yui3-u\">\\n                                <div class=\"srp-bidprice yui3-g\">\\n                                    <span class=\"yui3-u title\">出價</span>\\n                                    <em class=\"yui3-u red\">160,000</em>\\n                                    <span class=\"yui3-u\">元</span>\\n                                </div>\\n                                <div class=\"srp-pdprice yui3-g\">\\n                                                                    </div>\\n                                <div class=\"srp-shipping\">\\n                                    運費100元                                </div>\\n                                                                <span class=\"item-panel-btn srp-ico\" data-url=\"/tw/dedup?groupid=158269357&type=list&pg=1\">\\n                                    賣家相似商品\\n                                </span>\\n                                                            </div>\\n                            <div class=\"srp-pdblock2 yui3-u\">\\n                                <span class=\"sep yui3-u\">｜</span>\\n                                <a href=\"https://tw.page.bid.yahoo.com/tw/show/bid_hist;_ylt=A3TWBEDEjjdVeQYA3BhyFbN8;_ylv=3?aID=100037647980\">\\n                                    0 次\\n                                </a>\\n                            </div>\\n                            <div class=\"srp-pdblock3 yui3-u\">\\n                                <span class=\"sep yui3-u\">｜</span>\\n                                                                            <span class=\"\">剩5天 15小時 </span>\\n                                                            </div>\\n                        </div>\\n                    </div>\\n                    <div class=\"srp-pdrblock yui3-u\">\\n                        <div class=\"yui3-g\">\\n                            <div class=\"srp-sellerinfo yui3-u\">\\n                                <div class=\"srp-pdstore\">\\n                                    <span class=\"store\">賣家：</span><a href=\"https://tw.bid.yahoo.com/tw/user/Y5776920996;_ylt=A3TWBEDEjjdVeQYA2hhyFbN8;_ylv=3\">【GoGoJapan】北市民權西路122號</a>\\n                                    <span class=\"store\">(評價 <a href=\"https://tw.bid.yahoo.com/rating/Y5776920996/listing;_ylt=A3TWBEDEjjdVeQYA2xhyFbN8;_ylv=3\">4272</a>)</span>\\n                                </div>\\n                                                                    <a class=\"srp-ico store-icon\" title=\"拍賣店鋪\" href=\"https://help.yahoo.com/kb/index?page=content&id=SLN11039&locale=zh_TW&y=PROD_TWAUCT\"></a>\\n                                                                <div class=\"srp-place\">\\n                                    在台北市                                </div>\\n                            </div>\\n                            <div class=\"srp-paytype yui3-u\">\\n                                <div class=\"srp-ico easy-pay\"></div>                            </div>\\n                        </div>\\n                    </div>\\n                </div>\\n            </div>\\n        </div>\\n    </div><!--\\n    --><div class=\"att-item item \" data-url=\"https://login.yahoo.com/config/login?.intl=tw&.pd=c%3D3Chd7Yq72e502eh4R99sgUvi5Q--&.done=https%3A%2F%2Ftw.search.bid.yahoo.com%2Fsearch%2Fauction%2Fproduct%3Fp%3Dcannon%2B300mm%2Bf2.8%26qt%3Dproduct%26cid%3D0%26clv%3D0&rr=5830928655\">\\n        <div class=\"wrap yui3-g\">\\n            <div class=\"srp-pdimage yui3-u\">\\n                <a href=\"https://tw.bid.yahoo.com/item/100037647984;_ylt=A3TWBEDEjjdVeQYA3hhyFbN8;_ylv=3\" title=\"【GoGoJapan】售全新 CANON EF 300mm F2.8 L IS II USM 兩年保固 二代望遠鏡 3\">\\n                    <img width=\"150\" \\n                    alt=\"【GoGoJapan】售全新 CANON EF 300mm F2.8 L IS II USM 兩年保固 二代望遠鏡 3\"\\n                    src=\"https://s.yimg.com/aw/api/res/1.2/tWcXf8PgcGJY_UFGCOjlZQ--/YXBwaWQ9eXR3YXVjdGlvbnNlcnZpY2U7aD0zMDA7cT04NTtyb3RhdGU9YXV0bztzcj0xLjI7c3M9MS4yO3c9NDAw/http://nevec-img.zenfs.com/prod/tw_ec05-7/1a0841a9-9e1f-4c65-9b99-86dc796b764e.jpg\">\\n                </a>\\n            </div>\\n            <div class=\"yui3-u srp-pdcontent\">\\n                <div class=\"srp-pdtitle yui3-g\">\\n                                        <span class=\"srp-tag bid yui3-u\">競標品</span>\\n                                        <div class=\"title yui3-u\">\\n                        <a class=\"ellipsis\" href=\"https://tw.bid.yahoo.com/item/100037647984;_ylt=A3TWBEDEjjdVeQYA3RhyFbN8;_ylv=3\" title=\"【GoGoJapan】售全新 CANON EF 300mm F2.8 L IS II USM 兩年保固 二代望遠鏡 3\">【GoGoJapan】售全新 CANON EF 300mm F2.8 L IS II USM 兩年保固 二代望遠鏡 3</a>\\n                    </div>\\n                </div>\\n                <div class=\"srp-pddetail yui3-g\">\\n                    <div class=\"srp-pdlblock yui3-u\">\\n                        <div class=\"yui3-g\">\\n                            <div class=\"srp-pdblock1 yui3-u\">\\n                                <div class=\"srp-bidprice yui3-g\">\\n                                    <span class=\"yui3-u title\">出價</span>\\n                                    <em class=\"yui3-u red\">160,000</em>\\n                                    <span class=\"yui3-u\">元</span>\\n                                </div>\\n                                <div class=\"srp-pdprice yui3-g\">\\n                                                                    </div>\\n                                <div class=\"srp-shipping\">\\n                                    運費100元                                </div>\\n                                                            </div>\\n                            <div class=\"srp-pdblock2 yui3-u\">\\n                                <span class=\"sep yui3-u\">｜</span>\\n                                <a href=\"https://tw.page.bid.yahoo.com/tw/show/bid_hist;_ylt=A3TWBEDEjjdVeQYA4RhyFbN8;_ylv=3?aID=100037647984\">\\n                                    0 次\\n                                </a>\\n                            </div>\\n                            <div class=\"srp-pdblock3 yui3-u\">\\n                                <span class=\"sep yui3-u\">｜</span>\\n                                                                            <span class=\"\">剩5天 15小時 </span>\\n                                                            </div>\\n                        </div>\\n                    </div>\\n                    <div class=\"srp-pdrblock yui3-u\">\\n                        <div class=\"yui3-g\">\\n                            <div class=\"srp-sellerinfo yui3-u\">\\n                                <div class=\"srp-pdstore\">\\n                                    <span class=\"store\">賣家：</span><a href=\"https://tw.bid.yahoo.com/tw/user/Y5776920996;_ylt=A3TWBEDEjjdVeQYA3xhyFbN8;_ylv=3\">【GoGoJapan】北市民權西路122號</a>\\n                                    <span class=\"store\">(評價 <a href=\"https://tw.bid.yahoo.com/rating/Y5776920996/listing;_ylt=A3TWBEDEjjdVeQYA4BhyFbN8;_ylv=3\">4272</a>)</span>\\n                                </div>\\n                                                                    <a class=\"srp-ico store-icon\" title=\"拍賣店鋪\" href=\"https://help.yahoo.com/kb/index?page=content&id=SLN11039&locale=zh_TW&y=PROD_TWAUCT\"></a>\\n                                                                <div class=\"srp-place\">\\n                                    在台北市                                </div>\\n                            </div>\\n                            <div class=\"srp-paytype yui3-u\">\\n                                <div class=\"srp-ico easy-pay\"></div>                            </div>\\n                        </div>\\n                    </div>\\n                </div>\\n            </div>\\n        </div>\\n    </div><!--\\n    --><div class=\"att-item item \" data-url=\"https://login.yahoo.com/config/login?.intl=tw&.pd=c%3D3Chd7Yq72e502eh4R99sgUvi5Q--&.done=https%3A%2F%2Ftw.search.bid.yahoo.com%2Fsearch%2Fauction%2Fproduct%3Fp%3Dcannon%2B300mm%2Bf2.8%26qt%3Dproduct%26cid%3D0%26clv%3D0&rr=2368333886\">\\n        <div class=\"wrap yui3-g\">\\n            <div class=\"srp-pdimage yui3-u\">\\n                <a href=\"https://tw.bid.yahoo.com/item/100041063215;_ylt=A3TWBEDEjjdVeQYA4xhyFbN8;_ylv=3\" title=\"Canon 300mm F2.8 L USM IS II 大砲專用迷彩砲衣‧100%台灣製造 328 [國維數位]\">\\n                    <img width=\"150\" \\n                    alt=\"Canon 300mm F2.8 L USM IS II 大砲專用迷彩砲衣‧100%台灣製造 328 [國維數位]\"\\n                    src=\"https://s.yimg.com/aw/api/res/1.2/RsphXl5zCWLWbe_CcDpPbg--/YXBwaWQ9eXR3YXVjdGlvbnNlcnZpY2U7aD0zMDA7cT04NTtyb3RhdGU9YXV0bztzcj0xLjI7c3M9MS4yO3c9NDAw/http://nevec-img.zenfs.com/prod/tw_ec05-7/7c21eaad-9299-4357-a2d2-f0a89be5211c.jpg\">\\n                </a>\\n            </div>\\n            <div class=\"yui3-u srp-pdcontent\">\\n                <div class=\"srp-pdtitle yui3-g\">\\n                                    <span class=\"srp-tag buynow yui3-u\">直購品</span>\\n                                    <div class=\"title yui3-u\">\\n                        <a class=\"ellipsis\" href=\"https://tw.bid.yahoo.com/item/100041063215;_ylt=A3TWBEDEjjdVeQYA4hhyFbN8;_ylv=3\" title=\"Canon 300mm F2.8 L USM IS II 大砲專用迷彩砲衣‧100%台灣製造 328 [國維數位]\">Canon 300mm F2.8 L USM IS II 大砲專用迷彩砲衣‧100%台灣製造 328 [國維數位]</a>\\n                    </div>\\n                </div>\\n                <div class=\"srp-pddetail yui3-g\">\\n                    <div class=\"srp-pdlblock yui3-u\">\\n                        <div class=\"yui3-g\">\\n                            <div class=\"srp-pdblock1 yui3-u\">\\n                                <div class=\"srp-pdprice yui3-g\">\\n                                                                        <span class=\"yui3-u title\">直購價</span>\\n                                    <em class=\"yui3-u\">2,400</em>\\n                                    <span class=\"yui3-u\">元</span>\\n                                                                    </div>\\n                                <div class=\"srp-shipping\">\\n                                    免運                                </div>\\n                                                                <span class=\"item-panel-btn srp-ico\" data-url=\"/tw/dedup?groupid=171982270&type=list&pg=1\">\\n                                    賣家相似商品\\n                                </span>\\n                                                            </div>\\n                            <div class=\"srp-pdblock2 yui3-u\">\\n                               \\n                            </div>\\n                            <div class=\"srp-pdblock3 yui3-u\">\\n                                <span class=\"sep yui3-u\">｜</span>\\n                                                            </div>\\n                        </div>\\n                    </div>\\n                    <div class=\"srp-pdrblock yui3-u\">\\n                        <div class=\"yui3-g\">\\n                            <div class=\"srp-sellerinfo yui3-u\">\\n                                <div class=\"srp-pdstore\">\\n                                    <span class=\"store\">賣家：</span><a href=\"https://tw.bid.yahoo.com/tw/user/Y5108361206;_ylt=A3TWBEDEjjdVeQYA5BhyFbN8;_ylv=3\">國維數位科技</a>\\n                                    <span class=\"store\">(評價 <a href=\"https://tw.bid.yahoo.com/rating/Y5108361206/listing;_ylt=A3TWBEDEjjdVeQYA5RhyFbN8;_ylv=3\">3114</a>)</span>\\n                                </div>\\n                                                                    <a class=\"srp-ico store-icon\" tilte=\"拍賣店鋪\" href=\"https://help.yahoo.com/kb/index?page=content&id=SLN11039&locale=zh_TW&y=PROD_TWAUCT\"></a>\\n                                                                <div class=\"srp-place\">\\n                                    在高雄市                                </div>\\n                            </div>\\n                            <div class=\"srp-paytype yui3-u\">\\n                                <div class=\"srp-ico easy-pay\"></div><div class=\"srp-ico credit\"></div><div class=\"srp-ico installment\"></div><div class=\"srp-ico family\"></div><div class=\"srp-ico seven\"></div>                            </div>\\n                        </div>\\n                    </div>\\n                </div>\\n            </div>\\n        </div>\\n    </div><!--\\n    --><div class=\"att-item item \" data-url=\"https://login.yahoo.com/config/login?.intl=tw&.pd=c%3D3Chd7Yq72e502eh4R99sgUvi5Q--&.done=https%3A%2F%2Ftw.search.bid.yahoo.com%2Fsearch%2Fauction%2Fproduct%3Fp%3Dcannon%2B300mm%2Bf2.8%26qt%3Dproduct%26cid%3D0%26clv%3D0&rr=8741636171\">\\n        <div class=\"wrap yui3-g\">\\n            <div class=\"srp-pdimage yui3-u\">\\n                <a href=\"https://tw.bid.yahoo.com/item/100017506107;_ylt=A3TWBEDEjjdVeQYA6BhyFbN8;_ylv=3\" title=\"【GoGoJapan】售全新 CANON EF 300mm F2.8 L IS II USM 兩年保固 二代望遠鏡 1\">\\n                    <img width=\"150\" \\n                    alt=\"【GoGoJapan】售全新 CANON EF 300mm F2.8 L IS II USM 兩年保固 二代望遠鏡 1\"\\n                    src=\"https://s.yimg.com/aw/api/res/1.2/qWM97FYbNHUiE8ksO9Fygg--/YXBwaWQ9eXR3YXVjdGlvbnNlcnZpY2U7aD0zMDA7cT04NTtzcj0xLjI7c3M9MS4yO3c9NDAw/http://nevec-img.zenfs.com/prod/tw_ec05-7/7c52805b-058b-40f0-963d-a92f8d73e844.jpg\">\\n                </a>\\n            </div>\\n            <div class=\"yui3-u srp-pdcontent\">\\n                <div class=\"srp-pdtitle yui3-g\">\\n                                        <span class=\"srp-tag bid yui3-u\">競標品</span>\\n                                        <div class=\"title yui3-u\">\\n                        <a class=\"ellipsis\" href=\"https://tw.bid.yahoo.com/item/100017506107;_ylt=A3TWBEDEjjdVeQYA5xhyFbN8;_ylv=3\" title=\"【GoGoJapan】售全新 CANON EF 300mm F2.8 L IS II USM 兩年保固 二代望遠鏡 1\">【GoGoJapan】售全新 CANON EF 300mm F2.8 L IS II USM 兩年保固 二代望遠鏡 1</a>\\n                    </div>\\n                </div>\\n                <div class=\"srp-pddetail yui3-g\">\\n                    <div class=\"srp-pdlblock yui3-u\">\\n                        <div class=\"yui3-g\">\\n                            <div class=\"srp-pdblock1 yui3-u\">\\n                                <div class=\"srp-bidprice yui3-g\">\\n                                    <span class=\"yui3-u title\">出價</span>\\n                                    <em class=\"yui3-u red\">160,000</em>\\n                                    <span class=\"yui3-u\">元</span>\\n                                </div>\\n                                <div class=\"srp-pdprice yui3-g\">\\n                                                                    </div>\\n                                <div class=\"srp-shipping\">\\n                                    運費100元                                </div>\\n                                                            </div>\\n                            <div class=\"srp-pdblock2 yui3-u\">\\n                                <span class=\"sep yui3-u\">｜</span>\\n                                <a href=\"https://tw.page.bid.yahoo.com/tw/show/bid_hist;_ylt=A3TWBEDEjjdVeQYA6xhyFbN8;_ylv=3?aID=100017506107\">\\n                                    0 次\\n                                </a>\\n                            </div>\\n                            <div class=\"srp-pdblock3 yui3-u\">\\n                                <span class=\"sep yui3-u\">｜</span>\\n                                                                            <span class=\"\">剩5天 17小時 </span>\\n                                                            </div>\\n                        </div>\\n                    </div>\\n                    <div class=\"srp-pdrblock yui3-u\">\\n                        <div class=\"yui3-g\">\\n                            <div class=\"srp-sellerinfo yui3-u\">\\n                                <div class=\"srp-pdstore\">\\n                                    <span class=\"store\">賣家：</span><a href=\"https://tw.bid.yahoo.com/tw/user/Y5776920996;_ylt=A3TWBEDEjjdVeQYA6RhyFbN8;_ylv=3\">【GoGoJapan】北市民權西路122號</a>\\n                                    <span class=\"store\">(評價 <a href=\"https://tw.bid.yahoo.com/rating/Y5776920996/listing;_ylt=A3TWBEDEjjdVeQYA6hhyFbN8;_ylv=3\">4272</a>)</span>\\n                                </div>\\n                                                                <div class=\"srp-place\">\\n                                    在台北市                                </div>\\n                            </div>\\n                            <div class=\"srp-paytype yui3-u\">\\n                                <div class=\"srp-ico easy-pay\"></div>                            </div>\\n                        </div>\\n                    </div>\\n                </div>\\n            </div>\\n        </div>\\n    </div><!--\\n    --><div class=\"att-item item \" data-url=\"https://login.yahoo.com/config/login?.intl=tw&.pd=c%3D3Chd7Yq72e502eh4R99sgUvi5Q--&.done=https%3A%2F%2Ftw.search.bid.yahoo.com%2Fsearch%2Fauction%2Fproduct%3Fp%3Dcannon%2B300mm%2Bf2.8%26qt%3Dproduct%26cid%3D0%26clv%3D0&rr=1078290118\">\\n        <div class=\"wrap yui3-g\">\\n            <div class=\"srp-pdimage yui3-u\">\\n                <a href=\"https://tw.bid.yahoo.com/item/1219051490;_ylt=A3TWBEDEjjdVeQYA7RhyFbN8;_ylv=3\" title=\"＊兆華國際＊ Sigma 120-300mm F2.8 EX DG HSM OS 恆伸公司貨 Canon Nikon 含稅價\">\\n                    <img width=\"150\" \\n                    alt=\"＊兆華國際＊ Sigma 120-300mm F2.8 EX DG HSM OS 恆伸公司貨 Canon Nikon 含稅價\"\\n                    src=\"https://s.yimg.com/aw/api/res/1.2/JdDc2JNA9SDVTQIHRxe0Zw--/YXBwaWQ9eXR3YXVjdGlvbnNlcnZpY2U7aD0zMDA7cT04NTtzcj0xLjI7c3M9MS4yO3c9NDAw/http://nevec-img.zenfs.com/prod/tw_ec05-7/7283f6a1-ad90-4bf8-ac04-243d1e134276.jpg\">\\n                </a>\\n            </div>\\n            <div class=\"yui3-u srp-pdcontent\">\\n                <div class=\"srp-pdtitle yui3-g\">\\n                                        <span class=\"srp-tag bid yui3-u\">競標品</span>\\n                                        <div class=\"title yui3-u\">\\n                        <a class=\"ellipsis\" href=\"https://tw.bid.yahoo.com/item/1219051490;_ylt=A3TWBEDEjjdVeQYA7BhyFbN8;_ylv=3\" title=\"＊兆華國際＊ Sigma 120-300mm F2.8 EX DG HSM OS 恆伸公司貨 Canon Nikon 含稅價\">＊兆華國際＊ Sigma 120-300mm F2.8 EX DG HSM OS 恆伸公司貨 Canon Nikon 含稅價</a>\\n                    </div>\\n                </div>\\n                <div class=\"srp-pddetail yui3-g\">\\n                    <div class=\"srp-pdlblock yui3-u\">\\n                        <div class=\"yui3-g\">\\n                            <div class=\"srp-pdblock1 yui3-u\">\\n                                <div class=\"srp-bidprice yui3-g\">\\n                                    <span class=\"yui3-u title\">出價</span>\\n                                    <em class=\"yui3-u red\">88,000</em>\\n                                    <span class=\"yui3-u\">元</span>\\n                                </div>\\n                                <div class=\"srp-pdprice yui3-g\">\\n                                                                    </div>\\n                                <div class=\"srp-shipping\">\\n                                    運費80元                                </div>\\n                                                                <span class=\"item-panel-btn srp-ico\" data-url=\"/tw/dedup?groupid=163509068&type=list&pg=1\">\\n                                    賣家相似商品\\n                                </span>\\n                                                            </div>\\n                            <div class=\"srp-pdblock2 yui3-u\">\\n                                <span class=\"sep yui3-u\">｜</span>\\n                                <a href=\"https://tw.page.bid.yahoo.com/tw/show/bid_hist;_ylt=A3TWBEDEjjdVeQYA8BhyFbN8;_ylv=3?aID=1219051490\">\\n                                    0 次\\n                                </a>\\n                            </div>\\n                            <div class=\"srp-pdblock3 yui3-u\">\\n                                <span class=\"sep yui3-u\">｜</span>\\n                                                                            <span class=\"\">剩5天 18小時 </span>\\n                                                            </div>\\n                        </div>\\n                    </div>\\n                    <div class=\"srp-pdrblock yui3-u\">\\n                        <div class=\"yui3-g\">\\n                            <div class=\"srp-sellerinfo yui3-u\">\\n                                <div class=\"srp-pdstore\">\\n                                    <span class=\"store\">賣家：</span><a href=\"https://tw.bid.yahoo.com/tw/user/Y6915516577;_ylt=A3TWBEDEjjdVeQYA7hhyFbN8;_ylv=3\">兆華國際有限公司</a>\\n                                    <span class=\"store\">(評價 <a href=\"https://tw.bid.yahoo.com/rating/Y6915516577/listing;_ylt=A3TWBEDEjjdVeQYA7xhyFbN8;_ylv=3\">6316</a>)</span>\\n                                </div>\\n                                                                    <a class=\"srp-ico store-icon\" title=\"拍賣店鋪\" href=\"https://help.yahoo.com/kb/index?page=content&id=SLN11039&locale=zh_TW&y=PROD_TWAUCT\"></a>\\n                                                                <div class=\"srp-place\">\\n                                    在台北市                                </div>\\n                            </div>\\n                            <div class=\"srp-paytype yui3-u\">\\n                                <div class=\"srp-ico easy-pay\"></div>                            </div>\\n                        </div>\\n                    </div>\\n                </div>\\n            </div>\\n        </div>\\n    </div><!--\\n    --><div class=\"att-item item \" data-url=\"https://login.yahoo.com/config/login?.intl=tw&.pd=c%3D3Chd7Yq72e502eh4R99sgUvi5Q--&.done=https%3A%2F%2Ftw.search.bid.yahoo.com%2Fsearch%2Fauction%2Fproduct%3Fp%3Dcannon%2B300mm%2Bf2.8%26qt%3Dproduct%26cid%3D0%26clv%3D0&rr=1185209617\">\\n        <div class=\"wrap yui3-g\">\\n            <div class=\"srp-pdimage yui3-u\">\\n                <a href=\"https://tw.bid.yahoo.com/item/100026705545;_ylt=A3TWBEDEjjdVeQYA8hhyFbN8;_ylv=3\" title=\"【數位達人】美國Lenscoat - Canon EF 300mm F2.8 L IS II USM 鏡頭砲衣 /1\">\\n                    <img width=\"150\" \\n                    alt=\"【數位達人】美國Lenscoat - Canon EF 300mm F2.8 L IS II USM 鏡頭砲衣 /1\"\\n                    src=\"https://s.yimg.com/aw/api/res/1.2/VAKQpfktzCBK5B0XhcErdg--/YXBwaWQ9eXR3YXVjdGlvbnNlcnZpY2U7aD0zMTc7cT04NTtyb3RhdGU9YXV0bztzcj0xLjI7c3M9MS4yO3c9NDAw/http://nevec-img.zenfs.com/prod/tw_ec05-7/8212e412-e768-4c67-b397-326a2b67d6e3.jpg\">\\n                </a>\\n            </div>\\n            <div class=\"yui3-u srp-pdcontent\">\\n                <div class=\"srp-pdtitle yui3-g\">\\n                                    <span class=\"srp-tag buynow yui3-u\">直購品</span>\\n                                    <div class=\"title yui3-u\">\\n                        <a class=\"ellipsis\" href=\"https://tw.bid.yahoo.com/item/100026705545;_ylt=A3TWBEDEjjdVeQYA8RhyFbN8;_ylv=3\" title=\"【數位達人】美國Lenscoat - Canon EF 300mm F2.8 L IS II USM 鏡頭砲衣 /1\">【數位達人】美國Lenscoat - Canon EF 300mm F2.8 L IS II USM 鏡頭砲衣 /1</a>\\n                    </div>\\n                </div>\\n                <div class=\"srp-pddetail yui3-g\">\\n                    <div class=\"srp-pdlblock yui3-u\">\\n                        <div class=\"yui3-g\">\\n                            <div class=\"srp-pdblock1 yui3-u\">\\n                                <div class=\"srp-pdprice yui3-g\">\\n                                                                        <span class=\"yui3-u title\">直購價</span>\\n                                    <em class=\"yui3-u\">2,750</em>\\n                                    <span class=\"yui3-u\">元</span>\\n                                                                    </div>\\n                                <div class=\"srp-shipping\">\\n                                    運費55元                                </div>\\n                                                            </div>\\n                            <div class=\"srp-pdblock2 yui3-u\">\\n                               \\n                            </div>\\n                            <div class=\"srp-pdblock3 yui3-u\">\\n                                <span class=\"sep yui3-u\">｜</span>\\n                                                                            <span class=\"\">剩5天 19小時 </span>\\n                                                            </div>\\n                        </div>\\n                    </div>\\n                    <div class=\"srp-pdrblock yui3-u\">\\n                        <div class=\"yui3-g\">\\n                            <div class=\"srp-sellerinfo yui3-u\">\\n                                <div class=\"srp-pdstore\">\\n                                    <span class=\"store\">賣家：</span><a href=\"https://tw.bid.yahoo.com/tw/user/Y8082587130;_ylt=A3TWBEDEjjdVeQYA8xhyFbN8;_ylv=3\">數位達人塘鵝暴風箱現貨展示中</a>\\n                                    <span class=\"store\">(評價 <a href=\"https://tw.bid.yahoo.com/rating/Y8082587130/listing;_ylt=A3TWBEDEjjdVeQYA9BhyFbN8;_ylv=3\">9337</a>)</span>\\n                                </div>\\n                                                                    <a class=\"srp-ico store-icon\" tilte=\"拍賣店鋪\" href=\"https://help.yahoo.com/kb/index?page=content&id=SLN11039&locale=zh_TW&y=PROD_TWAUCT\"></a>\\n                                                                <div class=\"srp-place\">\\n                                    在台北市                                </div>\\n                            </div>\\n                            <div class=\"srp-paytype yui3-u\">\\n                                <div class=\"srp-ico easy-pay\"></div><div class=\"srp-ico family\"></div><div class=\"srp-ico seven\"></div>                            </div>\\n                        </div>\\n                    </div>\\n                </div>\\n            </div>\\n        </div>\\n    </div><!--\\n    --><div class=\"att-item item \" data-url=\"https://login.yahoo.com/config/login?.intl=tw&.pd=c%3D3Chd7Yq72e502eh4R99sgUvi5Q--&.done=https%3A%2F%2Ftw.search.bid.yahoo.com%2Fsearch%2Fauction%2Fproduct%3Fp%3Dcannon%2B300mm%2Bf2.8%26qt%3Dproduct%26cid%3D0%26clv%3D0&rr=3247734266\">\\n        <div class=\"wrap yui3-g\">\\n            <div class=\"srp-pdimage yui3-u\">\\n                <a href=\"https://tw.bid.yahoo.com/item/100026705514;_ylt=A3TWBEDEjjdVeQYA9xhyFbN8;_ylv=3\" title=\"【數位達人】美國Lenscoat - Canon EF 300mm F2.8 L IS II USM 鏡頭保 砲衣/2\">\\n                    <img width=\"150\" \\n                    alt=\"【數位達人】美國Lenscoat - Canon EF 300mm F2.8 L IS II USM 鏡頭保 砲衣/2\"\\n                    src=\"https://s.yimg.com/aw/api/res/1.2/a6SwVtdh7vRkvRjw2MMwZQ--/YXBwaWQ9eXR3YXVjdGlvbnNlcnZpY2U7aD0zMTc7cT04NTtyb3RhdGU9YXV0bztzcj0xLjI7c3M9MS4yO3c9NDAw/http://nevec-img.zenfs.com/prod/tw_ec05-7/dcd0bdb2-f316-4883-95a7-d0e9b4418e7c.jpg\">\\n                </a>\\n            </div>\\n            <div class=\"yui3-u srp-pdcontent\">\\n                <div class=\"srp-pdtitle yui3-g\">\\n                                    <span class=\"srp-tag buynow yui3-u\">直購品</span>\\n                                    <div class=\"title yui3-u\">\\n                        <a class=\"ellipsis\" href=\"https://tw.bid.yahoo.com/item/100026705514;_ylt=A3TWBEDEjjdVeQYA9hhyFbN8;_ylv=3\" title=\"【數位達人】美國Lenscoat - Canon EF 300mm F2.8 L IS II USM 鏡頭保 砲衣/2\">【數位達人】美國Lenscoat - Canon EF 300mm F2.8 L IS II USM 鏡頭保 砲衣/2</a>\\n                    </div>\\n                </div>\\n                <div class=\"srp-pddetail yui3-g\">\\n                    <div class=\"srp-pdlblock yui3-u\">\\n                        <div class=\"yui3-g\">\\n                            <div class=\"srp-pdblock1 yui3-u\">\\n                                <div class=\"srp-pdprice yui3-g\">\\n                                                                        <span class=\"yui3-u title\">直購價</span>\\n                                    <em class=\"yui3-u\">2,750</em>\\n                                    <span class=\"yui3-u\">元</span>\\n                                                                    </div>\\n                                <div class=\"srp-shipping\">\\n                                    運費55元                                </div>\\n                                                            </div>\\n                            <div class=\"srp-pdblock2 yui3-u\">\\n                               \\n                            </div>\\n                            <div class=\"srp-pdblock3 yui3-u\">\\n                                <span class=\"sep yui3-u\">｜</span>\\n                                                                            <span class=\"\">剩5天 19小時 </span>\\n                                                            </div>\\n                        </div>\\n                    </div>\\n                    <div class=\"srp-pdrblock yui3-u\">\\n                        <div class=\"yui3-g\">\\n                            <div class=\"srp-sellerinfo yui3-u\">\\n                                <div class=\"srp-pdstore\">\\n                                    <span class=\"store\">賣家：</span><a href=\"https://tw.bid.yahoo.com/tw/user/Y8082587130;_ylt=A3TWBEDEjjdVeQYA.BhyFbN8;_ylv=3\">數位達人塘鵝暴風箱現貨展示中</a>\\n                                    <span class=\"store\">(評價 <a href=\"https://tw.bid.yahoo.com/rating/Y8082587130/listing;_ylt=A3TWBEDEjjdVeQYA.RhyFbN8;_ylv=3\">9337</a>)</span>\\n                                </div>\\n                                                                    <a class=\"srp-ico store-icon\" tilte=\"拍賣店鋪\" href=\"https://help.yahoo.com/kb/index?page=content&id=SLN11039&locale=zh_TW&y=PROD_TWAUCT\"></a>\\n                                                                <div class=\"srp-place\">\\n                                    在台北市                                </div>\\n                            </div>\\n                            <div class=\"srp-paytype yui3-u\">\\n                                <div class=\"srp-ico easy-pay\"></div><div class=\"srp-ico family\"></div><div class=\"srp-ico seven\"></div>                            </div>\\n                        </div>\\n                    </div>\\n                </div>\\n            </div>\\n        </div>\\n    </div><!--\\n--></div>\\n</div>\\n\\t<div class=\"srp_pagination srp_pjax \">\\n\\t\\t<ul class=\"yui3-g\">\\n\\t\\t\\n\\t\\t\\n\\n\\t\\t            <li class=\"yui3-u selected\">1</li>\\n\\t\\t            <li class=\"yui3-u\"><a href=\"product;_ylt=A3TWBEDEjjdVeQYAxhdyFbN8;_ylv=3?p=cannon+300mm+f2.8&qt=product&cid=0&clv=0&property=auction&sub_property=auction&srch=product&act=srp&pg=2&poffset=0&aoffset=48\">2</a></li>\\n\\t\\t\\n\\n\\t\\t\\n\\t\\t\\t\\t\\t<li class=\"next-page yui3-u\"><a class=\"srp-ico\" href=\"product;_ylt=A3TWBEDEjjdVeQYAxxdyFbN8;_ylv=3?p=cannon+300mm+f2.8&qt=product&cid=0&clv=0&property=auction&sub_property=auction&srch=product&act=srp&pg=2&poffset=0&aoffset=48\"><span>下一頁</span></a></li>\\n\\t\\t\\t\\t</ul>\\n\\t</div>\\n                            </div>\\n                                                <div id=\"ywa_data\" data-spid=\"2092111218\" data-tk=\"100032634779\" data-dn=\"SRP_Product\" data-dg=\"Search\" data-ac=\"INTERNAL_SEARCH\" data-isk=\"cannon 300mm f2.8\" data-isr=\"94\" data-cf=\"23:NONE;59:1;15:2092111218\" data-dm=\"*.bid.yahoo.com,login.yahoo.com,tw.promo.yahoo.com,tw.help.yahoo.com,info.yahoo.com,tw.auction.mb.yahoo.com,tw.rd.yahoo.com\" data-cid=\"0\" data-bk=\"\"></div>\\n\\n                        \\n<div id=\"rpd_data\" data-keys=\"intl:tw;lang:zh-hant-tw;query:canon 300mm f2.8;pagenum:1;nr:94;n_sr:48;stype:remainTimeLH;vtype:all;ptype:picdes;pt:prod_srp;filter:0;bkfl:1;catlevel:0;pstcat:0;A_pn:SearchResultPage;A_pt:search;A_id:2092111218;V:kan13ydgtzdCf0b84Wo09CePUgDVV;origq:cannon 300mm f2.8;prisrNr:0;spnsrNr:0;level_0:0\"></div>\\n                        \\t\\t\\t\\t\\n\\t\\t<form id=\"srp_form\" action=\"product;_ylt=A3TWBEDEjjdVeQYA.xhyFbN8;_ylv=3?\" method=\"get\">\\n\\t\\t\\t<div id=\"btmsearchbar\" class=\"rpd-mod\"><a href=\"2092111218\"></a></div>\\n\\t\\t\\t<div id=\"b-sbar\" hide>\\n\\t                    <div class=\"srp-sbar srp-sbar-ico yui3-g\">\\n\\t                        <span class=\"srp-sbar-ip yui3-u\">\\n\\t                            <input id=\"srp-bt-bar\" autocomplete=\"off\" value=\"cannon 300mm f2.8\" type=\"text\" name=\"p\">\\n\\t                        </span>\\n\\t                        <span class=\"srp-sbar-btn yui3-u\">\\n\\t                            <input id=\"bt-sm-btn\" type=\"submit\" value=\"搜尋\">\\n\\t                        </span>\\n\\t                        \\n\\t                    </div>\\n\\t                </div>\\n                </form>\\n                        <!-- Start:YSM iframe Listing -->\\n<iframe src=\"https://s.yimg.com/bf/ysm/auction/auction_south2_s.html?v=1801323205&ctxtID=&p=cannon 300mm f2.8&bcm=%7C%7C%7C\" width=\"750\" height=\"660\" marginwidth=\"0\" marginheight=\"0\" hspace=\"0\" vspace=\"0\" frameborder=\"0\" scrolling=\"NO\" ></iframe>\\n<!--End: YSM iframe Listing -->\\n\\n                    </div>\\n                    <div id=\"space_id\" data-spid=\"2092111218\" data-acspid=\"2092111221\"></div>\\n                    <div id=\"category_id\" data-clv=\"0\" data-cid=\"0\"></div>\\n                </div>\\n            </div>\\n        </div>\\n        <a href=\"/tw/service/watch\" id=\"srp_track_icon\" class=\"\">\\n    <div class=\"srp-ico\">\\n    </div>\\n</a>\\n<div id=\"srp_add_to_track\">\\n    <div id=\"srp-mask\">\\n    </div>\\n    <div id=\"srp_track_panel\">\\n        <div class=\"hd\">\\n            <h2>將此商品加入追蹤清單</h2>\\n        </div>\\n        <div class=\"bd\">\\n            <form id=\"yauattform\" action=\"/tw/api/watch/add\" method=\"post\">\\n                <div class=\"name\">\\n                    <span>商品名稱：</span>\\n                    <span id=\"track_name\"></span>\\n                    <input id=\"yauclaa_aid\" type=\"hidden\" value=\"\" name=\"aid\">\\n                    <input id=\"yauclaa_seller\" type=\"hidden\" value=\"\" name=\"seller\">\\n                    <input type=\"hidden\" value=\"Te40r.eZES2\" name=\".crumb\">\\n                    <input type=\"hidden\" value=\"UTF-8\" name=\"ei\">\\n                </div>\\n                <hr>\\n                <div class=\"desc\">\\n                    <div class=\"ltitle\">\\n                        <label>描述：</label>\\n                        <label>\\n                            <em>非必填</em>\\n                        </label>\\n                    </div>\\n                    <div class=\"rcontent\">\\n                        <textarea id=\"yauclaa_desc\" class=\"inputtext\" name=\"desc\"></textarea>\\n                        <div class=\"notice\">\\n                            你還可填寫\\n                            <em class=\"wordcount\">50</em>\\n                            個字（最多填寫50個中文字，若不記錄可不填寫）\\n                        </div>\\n                        <div class=\"hide\">您填寫字數已超過限制，無法儲存。</div>\\n                    </div>\\n                </div>\\n                <hr />\\n                <div class=\"tag-pane clearfix\">\\n                    <div class=\"ltitle\">\\n                        <label>標籤：</label>\\n                        <label>\\n                            <em>非必填</em>\\n                        </label>\\n                    </div>\\n                    <div class=\"rcontent\">\\n                        <div class=\"f2e-tagging\">\\n                            <div class=\"added yui3-g\">\\n                                <div class=\"comment yui3-u\">目前沒有資料</div>\\n                            </div>\\n                            <div class=\"input yui3-g\">\\n                                <input id=\"custom_tag\" class=\"custom yui3-u\" type=\"text\" maxlength=\"10\">\\n                                <input id=\"add_custom_tag\" class=\"button yui3-u\" type=\"button\" value=\"新增\">\\n                            </div>\\n                            <div class=\"tips\">\\n                                <span>\\n                                    你還可新增<em>10</em>個標籤 (每次新增限輸入一個，每次限10個字)\\n                                </span>\\n                                <div class=\"explan\">\\n                                    您可自訂標籤，方便資料分類與管理\\n                                    <a href=\"https://tw.bid.yahoo.com/phtml/auc/tw/classroom/advanced/advanced_buy_tag.html\">\\n                                        <span class=\"srp-ico\"></span>\\n                                        標籤說明\\n                                    </a>\\n                                </div>\\n                            </div>\\n                            <div class=\"suggest\">\\n                                <em>常用的標籤：</em>\\n                                <p>\\n                                </p>\\n                            </div>\\n                            <input type=\"hidden\" id=\"yauclaa_tags\" name=\"tags_me\" class=\"text ui-tags\" value=\"\" />\\n                            <input type=\"hidden\" id=\"yauclaa_tags_sug\" name=\"tags_sug\" class=\"text\" value=\"\" />\\n                        </div>\\n                    </div>\\n                </div>\\n                <hr>\\n                <div class=\"public\">\\n                    <div>\\n                        <input id=\"yauclaa_public\" type=\"checkbox\" value=\"1\" name=\"is_public\">\\n                        <span>願意將此商品放入公開的追蹤清單</span>\\n                    </div>\\n                    <div class=\"notice\">\\n                        公開的追蹤清單，會同步更新到您的「個人動態」,及支援「個人動態」的服務中（如：Yahoo!奇摩電子信箱,即時通,無名小站2.0試用版等)。您在「個人動態」中設定的好友，可以看見此訊息。您可以\\n                        <a href=\"https://profile.yahoo.com/y/settings\">變更「個人動態」的設定</a>\\n                        ！（\\n                        <a href=\"https://help.yahoo.com/kb/index?locale=zh_TW&y=PROD_ACCT&page=home\">了解更多</a>\\n                        ）\\n                    </div>\\n                </div>\\n                <div class=\"button\">\\n                    <input class=\"submit srp-ico\" type=\"button\" value=\"確定\">\\n                    <input class=\"cancel srp-ico\" type=\"button\" value=\"取消\">\\n                </div>\\n            </form>\\n            <div class=\"message\" style=\"display: none;\">\\n                <span></span>\\n                <span class=\"ico\"></span>\\n            </div>\\n        </div>\\n    </div>\\n</div>\\n        <!--(begin) modules/yufoot.html-->\\n<div id=\"ft\">\\n    <div id=\"yhtw_mastfoot\" class=\"ypsmodule\">\\n        <div class=\"mflink a-right\">\\n            <a href=\"https://tw.rd.yahoo.com/referurl/bid/footer/*https://info.yahoo.com/legal/tw/yahoo/utos/zh-hant-tw/\">服務條款</a> |\\n            <a href=\"https://tw.rd.yahoo.com/referurl/bid/footer/*https://info.yahoo.com/privacy/tw/yahoo/\">隱私權</a> |\\n            <a href=\"https://tw.rd.yahoo.com/referurl/bid/footer/*https://tw.bid.yahoo.com/help/auct/policy/\">政策與規則</a> |\\n            <a href=\"https://tw.rd.yahoo.com/referurl/bid/footer/*https://tw.bid.yahoo.com/help/auct/safety/\">交易安全</a> |\\n            <a href=\"https://tw.rd.yahoo.com/_ylt=A3TWBEDEjjdVeQYA_BhyFbN8;_ylv=0/SIG=11tk2qact/EXP=1430913988/**https%3A//yahoo.uservoice.com/forums/222505\">提供搜尋意見</a>\\n        </div>\\n    </div>\\n</div>\\n<!--(end) modules/yufoot.html-->\\n    </div>\\n</body>\\n<script src=\"https://yui-s.yahooapis.com/combo?3.14.1/yui/yui-min.js\"></script>\\n<script src=\"https://s.yimg.com/tu/srp/srpapd_150409.js\"></script></html>\\n<script language=javascript>\\n(function(){window.xzq_p=function(R){M=R};window.xzq_svr=function(R){J=R};function F(S){var T=document;if(T.xzq_i==null){T.xzq_i=new Array();T.xzq_i.c=0}var R=T.xzq_i;R[++R.c]=new Image();R[R.c].src=S}window.xzq_sr=function(){var S=window;var Y=S.xzq_d;if(Y==null){return }if(J==null){return }var T=J+M;if(T.length>P){C();return }var X=\"\";var U=0;var W=Math.random();var V=(Y.hasOwnProperty!=null);var R;for(R in Y){if(typeof Y[R]==\"string\"){if(V&&!Y.hasOwnProperty(R)){continue}if(T.length+X.length+Y[R].length<=P){X+=Y[R]}else{if(T.length+Y[R].length>P){}else{U++;N(T,X,U,W);X=Y[R]}}}}if(U){U++}N(T,X,U,W);C()};function N(R,U,S,T){if(U.length>0){R+=\"&al=\"}F(R+U+\"&s=\"+S+\"&r=\"+T)}function C(){window.xzq_d=null;M=null;J=null}function K(R){xzq_sr()}function B(R){xzq_sr()}function L(U,V,W){if(W){var R=W.toString();var T=U;var Y=R.match(new RegExp(\"\\\\\\\\\\\\\\\\(([^\\\\\\\\\\\\\\\\)]*)\\\\\\\\\\\\\\\\)\"));Y=(Y[1].length>0?Y[1]:\"e\");T=T.replace(new RegExp(\"\\\\\\\\\\\\\\\\([^\\\\\\\\\\\\\\\\)]*\\\\\\\\\\\\\\\\)\",\"g\"),\"(\"+Y+\")\");if(R.indexOf(T)<0){var X=R.indexOf(\"{\");if(X>0){R=R.substring(X,R.length)}else{return W}R=R.replace(new RegExp(\"([^a-zA-Z0-9$_])this([^a-zA-Z0-9$_])\",\"g\"),\"$1xzq_this$2\");var Z=T+\";var rv = f( \"+Y+\",this);\";var S=\"{var a0 = \\'\"+Y+\"\\';var ofb = \\'\"+escape(R)+\"\\' ;var f = new Function( a0, \\'xzq_this\\', unescape(ofb));\"+Z+\"return rv;}\";return new Function(Y,S)}else{return W}}return V}window.xzq_eh=function(){if(E||I){this.onload=L(\"xzq_onload(e)\",K,this.onload,0);if(E&&typeof (this.onbeforeunload)!=O){this.onbeforeunload=L(\"xzq_dobeforeunload(e)\",B,this.onbeforeunload,0)}}};window.xzq_s=function(){setTimeout(\"xzq_sr()\",1)};var J=null;var M=null;var Q=navigator.appName;var H=navigator.appVersion;var G=navigator.userAgent;var A=parseInt(H);var D=Q.indexOf(\"Microsoft\");var E=D!=-1&&A>=4;var I=(Q.indexOf(\"Netscape\")!=-1||Q.indexOf(\"Opera\")!=-1)&&A>=4;var O=\"undefined\";var P=2000})();\\n</script><script language=javascript>\\nif(window.xzq_svr)xzq_svr(\\'https://csc.beap.bc.yahoo.com/\\');\\nif(window.xzq_p)xzq_p(\\'yi?bv=1.0.0&bs=(135oc6drd(gid$_1SSfTIwMy5H1wvrIkbuTBC7MTE4LgAAAAD.MMd6,st$1429704388455407,si$229561,sp$2092111218,pv$1,v$2.0))&t=JR_3-DR_3\\');\\nif(window.xzq_s)xzq_s();\\n</script><noscript><img width=1 height=1 alt=\"\" src=\"https://csc.beap.bc.yahoo.com/yi?bv=1.0.0&bs=(135oc6drd(gid$_1SSfTIwMy5H1wvrIkbuTBC7MTE4LgAAAAD.MMd6,st$1429704388455407,si$229561,sp$2092111218,pv$1,v$2.0))&t=JR_3-DR_3\"></noscript>\\n<!-- sf10.srch.ect.tp2.yahoo.com Wed Apr 22 12:06:28 CST 2015 -->\\n'"
      ]
     },
     "execution_count": 91,
     "metadata": {},
     "output_type": "execute_result"
    }
   ],
   "source": [
    "r.text"
   ]
  },
  {
   "cell_type": "markdown",
   "metadata": {},
   "source": [
    "這麼複雜的東西, 我們需要有幫手!"
   ]
  },
  {
   "cell_type": "code",
   "execution_count": 92,
   "metadata": {
    "collapsed": true
   },
   "outputs": [],
   "source": [
    "from bs4 import BeautifulSoup"
   ]
  },
  {
   "cell_type": "code",
   "execution_count": 93,
   "metadata": {
    "collapsed": true
   },
   "outputs": [],
   "source": [
    "soup = BeautifulSoup(r.text)"
   ]
  },
  {
   "cell_type": "markdown",
   "metadata": {},
   "source": [
    "<a class=\"icon ico-shopping-cart-w\" href=\"https://tw.bid.yahoo.com/checkout/cart\" rel=\"nofollow\">購物車</a>"
   ]
  },
  {
   "cell_type": "code",
   "execution_count": 94,
   "metadata": {
    "collapsed": false
   },
   "outputs": [
    {
     "data": {
      "text/plain": [
       "[<a class=\"icon ico-shopping-cart-w\" href=\"https://tw.bid.yahoo.com/checkout/cart\" rel=\"nofollow\">購物車</a>]"
      ]
     },
     "execution_count": 94,
     "metadata": {},
     "output_type": "execute_result"
    }
   ],
   "source": [
    "soup.findAll('a', attrs={\"class\":\"icon ico-shopping-cart-w\"})"
   ]
  }
 ],
 "metadata": {
  "kernelspec": {
   "display_name": "Python 3",
   "language": "python",
   "name": "python3"
  },
  "language_info": {
   "codemirror_mode": {
    "name": "ipython",
    "version": 3
   },
   "file_extension": ".py",
   "mimetype": "text/x-python",
   "name": "python",
   "nbconvert_exporter": "python",
   "pygments_lexer": "ipython3",
   "version": "3.3.5"
  }
 },
 "nbformat": 4,
 "nbformat_minor": 0
}
