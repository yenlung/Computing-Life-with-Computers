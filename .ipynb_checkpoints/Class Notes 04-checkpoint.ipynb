{
 "cells": [
  {
   "cell_type": "markdown",
   "metadata": {},
   "source": [
    "# Array!\n",
    "\n",
    "數據分析程式核心:\n",
    "    \n",
    "<h3 style=\"color:red;\"> Array 的思考方式!</h3>"
   ]
  },
  {
   "cell_type": "markdown",
   "metadata": {},
   "source": [
    "準備工作。"
   ]
  },
  {
   "cell_type": "code",
   "execution_count": 1,
   "metadata": {
    "collapsed": false
   },
   "outputs": [
    {
     "name": "stdout",
     "output_type": "stream",
     "text": [
      "Populating the interactive namespace from numpy and matplotlib\n"
     ]
    }
   ],
   "source": [
    "%pylab inline"
   ]
  },
  {
   "cell_type": "markdown",
   "metadata": {},
   "source": [
    "##[練習] PK\n",
    "\n",
    "我們先令一個 list\n",
    "    \n",
    "    lst = range(10)\n",
    "    \n",
    "再把它令成 array\n",
    "    \n",
    "    arr = array(lst)\n",
    "    \n",
    "1. 用 for 迴圈把 lst 裡的數字一一求平方。\n",
    "2. 把 arr 裡的數字全部平方。"
   ]
  },
  {
   "cell_type": "markdown",
   "metadata": {},
   "source": [
    "###[1] 迴圈的解法"
   ]
  },
  {
   "cell_type": "code",
   "execution_count": 2,
   "metadata": {
    "collapsed": true
   },
   "outputs": [],
   "source": [
    "lst = range(10)"
   ]
  },
  {
   "cell_type": "code",
   "execution_count": 3,
   "metadata": {
    "collapsed": false
   },
   "outputs": [
    {
     "data": {
      "text/plain": [
       "[0, 1, 2, 3, 4, 5, 6, 7, 8, 9]"
      ]
     },
     "execution_count": 3,
     "metadata": {},
     "output_type": "execute_result"
    }
   ],
   "source": [
    "lst"
   ]
  },
  {
   "cell_type": "code",
   "execution_count": 4,
   "metadata": {
    "collapsed": false
   },
   "outputs": [
    {
     "name": "stdout",
     "output_type": "stream",
     "text": [
      "[0, 1, 4, 9, 16, 25, 36, 49, 64, 81]\n"
     ]
    }
   ],
   "source": [
    "r=[]\n",
    "for i in lst:\n",
    "    r.append(i**2)\n",
    "print r    \n"
   ]
  },
  {
   "cell_type": "markdown",
   "metadata": {},
   "source": [
    "### [2] array 的解法"
   ]
  },
  {
   "cell_type": "markdown",
   "metadata": {},
   "source": [
    "先把 list 變 array"
   ]
  },
  {
   "cell_type": "code",
   "execution_count": 5,
   "metadata": {
    "collapsed": true
   },
   "outputs": [],
   "source": [
    "arr = array(lst)"
   ]
  },
  {
   "cell_type": "code",
   "execution_count": 6,
   "metadata": {
    "collapsed": false
   },
   "outputs": [
    {
     "data": {
      "text/plain": [
       "array([0, 1, 2, 3, 4, 5, 6, 7, 8, 9])"
      ]
     },
     "execution_count": 6,
     "metadata": {},
     "output_type": "execute_result"
    }
   ],
   "source": [
    "arr"
   ]
  },
  {
   "cell_type": "markdown",
   "metadata": {},
   "source": [
    "然後... 一次到位"
   ]
  },
  {
   "cell_type": "code",
   "execution_count": 7,
   "metadata": {
    "collapsed": false
   },
   "outputs": [
    {
     "data": {
      "text/plain": [
       "array([ 0,  1,  4,  9, 16, 25, 36, 49, 64, 81])"
      ]
     },
     "execution_count": 7,
     "metadata": {},
     "output_type": "execute_result"
    }
   ],
   "source": [
    "arr**2"
   ]
  },
  {
   "cell_type": "markdown",
   "metadata": {},
   "source": [
    "## [練習] Array 產生器\n",
    "\n",
    "設一個 array, 內容是:\n",
    "\n",
    "1. 從 1 到 10 亂數整數, 取 100 個。\n",
    "2. 取 100 個亂數, 要符合常態分配, 以 0 為平均, 標準差是 1。\n",
    "3. 從 0 到 5 的區間, 取 100 點。"
   ]
  },
  {
   "cell_type": "markdown",
   "metadata": {},
   "source": [
    "### [1] 從 1 到 10 亂數整數, 取 100 個。"
   ]
  },
  {
   "cell_type": "code",
   "execution_count": 8,
   "metadata": {
    "collapsed": false
   },
   "outputs": [
    {
     "data": {
      "text/plain": [
       "array([10,  6,  6,  9,  8,  1,  2,  3,  4,  7,  1,  7,  5, 10,  7,  1,  1,\n",
       "        8,  4,  7,  7,  2,  6, 10,  8,  3,  1,  6,  6,  1,  6,  6,  9, 10,\n",
       "        7,  8,  9,  2,  5,  1,  8,  6,  7,  3,  9,  5,  4,  8,  3,  4,  9,\n",
       "        1,  5,  4,  4,  3,  5,  8,  3,  7,  4,  4, 10,  3,  9,  5,  3,  1,\n",
       "        4,  5, 10,  6,  2, 10,  8,  1,  5,  4,  5,  5,  3,  9,  7, 10,  8,\n",
       "        1,  5,  4,  2,  4,  8,  8,  4,  1,  9,  9, 10,  9,  1,  5])"
      ]
     },
     "execution_count": 8,
     "metadata": {},
     "output_type": "execute_result"
    }
   ],
   "source": [
    "randint(1,11,100)"
   ]
  },
  {
   "cell_type": "markdown",
   "metadata": {},
   "source": [
    "### [2] 取 100 個亂數, 要符合常態分配, 以 0 為平均, 標準差是 1。\n",
    "\n",
    "題目那麼長, 結果問題還沒唸完就..."
   ]
  },
  {
   "cell_type": "code",
   "execution_count": 9,
   "metadata": {
    "collapsed": false
   },
   "outputs": [
    {
     "data": {
      "text/plain": [
       "array([ 0.29868944, -0.7166523 ,  1.43761974, -1.18729725,  0.20497938,\n",
       "       -1.84455188, -0.38904154, -0.87004485, -1.0399751 ,  1.60508449,\n",
       "       -1.1653988 ,  0.01570811, -0.16450329, -0.73666102, -0.37046775,\n",
       "       -0.87948278, -0.93174162, -3.08050007, -1.27565104, -1.10186782,\n",
       "       -0.34465916,  0.0852045 , -0.34752035, -1.21820741,  1.74506168,\n",
       "        0.21373434, -0.66963193, -0.31571514, -0.63314823,  0.92447637,\n",
       "        0.51726282, -1.06844389, -1.21872551,  0.88590114,  0.1571409 ,\n",
       "       -0.81090897,  0.33487799, -0.62836576, -0.50527841, -1.51109259,\n",
       "        0.51949673,  0.44042231,  1.2374403 , -1.16964673,  0.41923227,\n",
       "       -1.1141047 ,  0.24697171,  1.62616474, -0.47851189,  0.61057239,\n",
       "        1.02178078,  1.1185246 , -0.7482002 , -1.06982969, -1.51524618,\n",
       "       -0.15065158,  0.98025515, -1.40118143, -1.70599775, -0.10785197,\n",
       "        0.41947189,  0.96500865,  0.53599028, -1.02748179,  1.02469504,\n",
       "        1.22118419,  2.25050035,  0.17167301,  1.48338527,  0.3020803 ,\n",
       "        2.05623218,  0.54074435,  0.85382483, -0.12666385, -0.07462387,\n",
       "       -0.77819145, -0.10643935,  0.1431605 , -0.29472888, -1.52727175,\n",
       "       -0.58216041,  0.08324027,  1.15134354,  1.82999579,  1.15955778,\n",
       "       -1.47219728,  0.98087547, -0.19871958, -0.67390718,  1.92606135,\n",
       "       -1.50227738, -0.48501282, -0.40965706, -1.14040978, -0.4928795 ,\n",
       "        0.50190494,  0.40331362, -0.39727689, -0.71215874, -0.72786407])"
      ]
     },
     "execution_count": 9,
     "metadata": {},
     "output_type": "execute_result"
    }
   ],
   "source": [
    "randn(100)"
   ]
  },
  {
   "cell_type": "markdown",
   "metadata": {},
   "source": [
    "### [3] 從 0 到 5 的區間, 取 100 點。"
   ]
  },
  {
   "cell_type": "code",
   "execution_count": 10,
   "metadata": {
    "collapsed": true
   },
   "outputs": [],
   "source": [
    "x = linspace(2,10,50)"
   ]
  },
  {
   "cell_type": "code",
   "execution_count": 11,
   "metadata": {
    "collapsed": false
   },
   "outputs": [
    {
     "data": {
      "text/plain": [
       "array([  2.        ,   2.16326531,   2.32653061,   2.48979592,\n",
       "         2.65306122,   2.81632653,   2.97959184,   3.14285714,\n",
       "         3.30612245,   3.46938776,   3.63265306,   3.79591837,\n",
       "         3.95918367,   4.12244898,   4.28571429,   4.44897959,\n",
       "         4.6122449 ,   4.7755102 ,   4.93877551,   5.10204082,\n",
       "         5.26530612,   5.42857143,   5.59183673,   5.75510204,\n",
       "         5.91836735,   6.08163265,   6.24489796,   6.40816327,\n",
       "         6.57142857,   6.73469388,   6.89795918,   7.06122449,\n",
       "         7.2244898 ,   7.3877551 ,   7.55102041,   7.71428571,\n",
       "         7.87755102,   8.04081633,   8.20408163,   8.36734694,\n",
       "         8.53061224,   8.69387755,   8.85714286,   9.02040816,\n",
       "         9.18367347,   9.34693878,   9.51020408,   9.67346939,\n",
       "         9.83673469,  10.        ])"
      ]
     },
     "execution_count": 11,
     "metadata": {},
     "output_type": "execute_result"
    }
   ],
   "source": [
    "x"
   ]
  },
  {
   "cell_type": "markdown",
   "metadata": {},
   "source": [
    "## [練習] 取出 Array 的一部份\n",
    "\n",
    "記得要的 index 就是用中括號括起來。\n",
    "\n",
    "1. 找出第 3 個數字。\n",
    "2. 找出第 2 個到最後的數字。\n",
    "3. 找出前 10 個數字。"
   ]
  },
  {
   "cell_type": "markdown",
   "metadata": {},
   "source": [
    "指定 array。"
   ]
  },
  {
   "cell_type": "code",
   "execution_count": 12,
   "metadata": {
    "collapsed": true
   },
   "outputs": [],
   "source": [
    "arr = array(range(1, 101))"
   ]
  },
  {
   "cell_type": "code",
   "execution_count": 13,
   "metadata": {
    "collapsed": false
   },
   "outputs": [
    {
     "data": {
      "text/plain": [
       "array([  1,   2,   3,   4,   5,   6,   7,   8,   9,  10,  11,  12,  13,\n",
       "        14,  15,  16,  17,  18,  19,  20,  21,  22,  23,  24,  25,  26,\n",
       "        27,  28,  29,  30,  31,  32,  33,  34,  35,  36,  37,  38,  39,\n",
       "        40,  41,  42,  43,  44,  45,  46,  47,  48,  49,  50,  51,  52,\n",
       "        53,  54,  55,  56,  57,  58,  59,  60,  61,  62,  63,  64,  65,\n",
       "        66,  67,  68,  69,  70,  71,  72,  73,  74,  75,  76,  77,  78,\n",
       "        79,  80,  81,  82,  83,  84,  85,  86,  87,  88,  89,  90,  91,\n",
       "        92,  93,  94,  95,  96,  97,  98,  99, 100])"
      ]
     },
     "execution_count": 13,
     "metadata": {},
     "output_type": "execute_result"
    }
   ],
   "source": [
    "arr"
   ]
  },
  {
   "cell_type": "markdown",
   "metadata": {},
   "source": [
    "### [1] 找出第 3 個數字。"
   ]
  },
  {
   "cell_type": "code",
   "execution_count": 14,
   "metadata": {
    "collapsed": false
   },
   "outputs": [
    {
     "data": {
      "text/plain": [
       "3"
      ]
     },
     "execution_count": 14,
     "metadata": {},
     "output_type": "execute_result"
    }
   ],
   "source": [
    "arr[2]"
   ]
  },
  {
   "cell_type": "markdown",
   "metadata": {},
   "source": [
    "### [2] 找出第 2 個到最後的數字。"
   ]
  },
  {
   "cell_type": "code",
   "execution_count": 15,
   "metadata": {
    "collapsed": false
   },
   "outputs": [
    {
     "data": {
      "text/plain": [
       "array([  2,   3,   4,   5,   6,   7,   8,   9,  10,  11,  12,  13,  14,\n",
       "        15,  16,  17,  18,  19,  20,  21,  22,  23,  24,  25,  26,  27,\n",
       "        28,  29,  30,  31,  32,  33,  34,  35,  36,  37,  38,  39,  40,\n",
       "        41,  42,  43,  44,  45,  46,  47,  48,  49,  50,  51,  52,  53,\n",
       "        54,  55,  56,  57,  58,  59,  60,  61,  62,  63,  64,  65,  66,\n",
       "        67,  68,  69,  70,  71,  72,  73,  74,  75,  76,  77,  78,  79,\n",
       "        80,  81,  82,  83,  84,  85,  86,  87,  88,  89,  90,  91,  92,\n",
       "        93,  94,  95,  96,  97,  98,  99, 100])"
      ]
     },
     "execution_count": 15,
     "metadata": {},
     "output_type": "execute_result"
    }
   ],
   "source": [
    "arr[1:]"
   ]
  },
  {
   "cell_type": "markdown",
   "metadata": {},
   "source": [
    "### [3] 找出前 10 個數字。"
   ]
  },
  {
   "cell_type": "code",
   "execution_count": 16,
   "metadata": {
    "collapsed": false
   },
   "outputs": [
    {
     "data": {
      "text/plain": [
       "array([ 1,  2,  3,  4,  5,  6,  7,  8,  9, 10])"
      ]
     },
     "execution_count": 16,
     "metadata": {},
     "output_type": "execute_result"
    }
   ],
   "source": [
    "arr[:10]"
   ]
  },
  {
   "cell_type": "markdown",
   "metadata": {},
   "source": [
    "## [練習] 真的酷的是可設條件\n",
    "\n",
    "設一個練習用的 array\n",
    "   \n",
    "    arr = normal(60, 10, 55)\n",
    "    \n",
    "1. 看及格同學的平均。\n",
    "2. 算算有多少位同學不及格。\n",
    "3. 及格同學都加 10 分。"
   ]
  },
  {
   "cell_type": "markdown",
   "metadata": {},
   "source": [
    "從平均 60, 標準差是 10 的資料中, 隨機取 55 筆。"
   ]
  },
  {
   "cell_type": "code",
   "execution_count": 17,
   "metadata": {
    "collapsed": false
   },
   "outputs": [],
   "source": [
    "arr = normal(60, 10, 55)"
   ]
  },
  {
   "cell_type": "code",
   "execution_count": 18,
   "metadata": {
    "collapsed": false
   },
   "outputs": [
    {
     "data": {
      "text/plain": [
       "array([ 52.66639838,  55.27925402,  58.89328501,  57.02356117,\n",
       "        64.18073296,  60.95503012,  73.19745704,  47.81208331,\n",
       "        78.05877823,  66.55740892,  56.51932186,  69.82801826,\n",
       "        73.1464478 ,  77.03205689,  43.37076606,  34.9069703 ,\n",
       "        59.34184287,  59.87831803,  61.6630704 ,  47.0606374 ,\n",
       "        61.60246492,  83.35981135,  59.31052697,  81.0249773 ,\n",
       "        60.24924159,  52.13162266,  65.99100331,  52.77329815,\n",
       "        56.47489232,  52.36515091,  71.56270925,  62.62807202,\n",
       "        53.53211355,  59.33835956,  69.27463076,  70.61648055,\n",
       "        82.93564777,  78.11161858,  55.42575604,  61.09294767,\n",
       "        47.44436677,  48.93526864,  49.85634675,  57.34004294,\n",
       "        59.97897935,  55.31150268,  64.26038603,  66.79029007,\n",
       "        70.80577466,  61.03049962,  47.11808637,  47.66943732,\n",
       "        70.74103155,  64.57114586,  90.27111044])"
      ]
     },
     "execution_count": 18,
     "metadata": {},
     "output_type": "execute_result"
    }
   ],
   "source": [
    "arr"
   ]
  },
  {
   "cell_type": "markdown",
   "metadata": {},
   "source": [
    "來測測平均是不是差不多 60。"
   ]
  },
  {
   "cell_type": "code",
   "execution_count": 19,
   "metadata": {
    "collapsed": false
   },
   "outputs": [
    {
     "data": {
      "text/plain": [
       "61.623582424369097"
      ]
     },
     "execution_count": 19,
     "metadata": {},
     "output_type": "execute_result"
    }
   ],
   "source": [
    "arr.mean()"
   ]
  },
  {
   "cell_type": "markdown",
   "metadata": {},
   "source": [
    "### [1] 看及格同學的平均。"
   ]
  },
  {
   "cell_type": "markdown",
   "metadata": {},
   "source": [
    "我們下個條件判斷, 就會告訴我們每位有沒有符合 (在我們的例子是有沒有及格)。"
   ]
  },
  {
   "cell_type": "code",
   "execution_count": 20,
   "metadata": {
    "collapsed": false
   },
   "outputs": [
    {
     "data": {
      "text/plain": [
       "array([False, False, False, False,  True,  True,  True, False,  True,\n",
       "        True, False,  True,  True,  True, False, False, False, False,\n",
       "        True, False,  True,  True, False,  True,  True, False,  True,\n",
       "       False, False, False,  True,  True, False, False,  True,  True,\n",
       "        True,  True, False,  True, False, False, False, False, False,\n",
       "       False,  True,  True,  True,  True, False, False,  True,  True,  True], dtype=bool)"
      ]
     },
     "execution_count": 20,
     "metadata": {},
     "output_type": "execute_result"
    }
   ],
   "source": [
    "arr >= 60"
   ]
  },
  {
   "cell_type": "markdown",
   "metadata": {},
   "source": [
    "只看及格的同學, 就在索引的中括號中加入我們的條件。"
   ]
  },
  {
   "cell_type": "code",
   "execution_count": 21,
   "metadata": {
    "collapsed": false
   },
   "outputs": [
    {
     "data": {
      "text/plain": [
       "array([ 64.18073296,  60.95503012,  73.19745704,  78.05877823,\n",
       "        66.55740892,  69.82801826,  73.1464478 ,  77.03205689,\n",
       "        61.6630704 ,  61.60246492,  83.35981135,  81.0249773 ,\n",
       "        60.24924159,  65.99100331,  71.56270925,  62.62807202,\n",
       "        69.27463076,  70.61648055,  82.93564777,  78.11161858,\n",
       "        61.09294767,  64.26038603,  66.79029007,  70.80577466,\n",
       "        61.03049962,  70.74103155,  64.57114586,  90.27111044])"
      ]
     },
     "execution_count": 21,
     "metadata": {},
     "output_type": "execute_result"
    }
   ],
   "source": [
    "arr[arr>=60]"
   ]
  },
  {
   "cell_type": "markdown",
   "metadata": {},
   "source": [
    "看及格同學平均。"
   ]
  },
  {
   "cell_type": "code",
   "execution_count": 22,
   "metadata": {
    "collapsed": false
   },
   "outputs": [
    {
     "data": {
      "text/plain": [
       "70.054958711958648"
      ]
     },
     "execution_count": 22,
     "metadata": {},
     "output_type": "execute_result"
    }
   ],
   "source": [
    "arr[arr>=60].mean()"
   ]
  },
  {
   "cell_type": "markdown",
   "metadata": {},
   "source": [
    "### [2] 算有多少位同學不及格"
   ]
  },
  {
   "cell_type": "markdown",
   "metadata": {},
   "source": [
    "和看及格同學成績一樣, 我們可以找出不及格同學成績。"
   ]
  },
  {
   "cell_type": "code",
   "execution_count": 23,
   "metadata": {
    "collapsed": true
   },
   "outputs": [],
   "source": [
    "lst = arr[arr < 60]"
   ]
  },
  {
   "cell_type": "code",
   "execution_count": 24,
   "metadata": {
    "collapsed": false
   },
   "outputs": [
    {
     "data": {
      "text/plain": [
       "array([ 52.66639838,  55.27925402,  58.89328501,  57.02356117,\n",
       "        47.81208331,  56.51932186,  43.37076606,  34.9069703 ,\n",
       "        59.34184287,  59.87831803,  47.0606374 ,  59.31052697,\n",
       "        52.13162266,  52.77329815,  56.47489232,  52.36515091,\n",
       "        53.53211355,  59.33835956,  55.42575604,  47.44436677,\n",
       "        48.93526864,  49.85634675,  57.34004294,  59.97897935,\n",
       "        55.31150268,  47.11808637,  47.66943732])"
      ]
     },
     "execution_count": 24,
     "metadata": {},
     "output_type": "execute_result"
    }
   ],
   "source": [
    "lst"
   ]
  },
  {
   "cell_type": "markdown",
   "metadata": {},
   "source": [
    "算算有多少位。"
   ]
  },
  {
   "cell_type": "code",
   "execution_count": 25,
   "metadata": {
    "collapsed": false
   },
   "outputs": [
    {
     "data": {
      "text/plain": [
       "27"
      ]
     },
     "execution_count": 25,
     "metadata": {},
     "output_type": "execute_result"
    }
   ],
   "source": [
    "len(lst)"
   ]
  },
  {
   "cell_type": "markdown",
   "metadata": {},
   "source": [
    "### [3] 及格同學都加 10 分。"
   ]
  },
  {
   "cell_type": "code",
   "execution_count": 26,
   "metadata": {
    "collapsed": true
   },
   "outputs": [],
   "source": [
    "arr[arr >= 60] = arr[arr>=60] + 10"
   ]
  },
  {
   "cell_type": "markdown",
   "metadata": {},
   "source": [
    "### [附註]\n",
    "其實 Python 在這有個更酷的寫法。\n",
    "\n",
    "    arr[arr>=60] += 10"
   ]
  },
  {
   "cell_type": "markdown",
   "metadata": {},
   "source": [
    "看看及格同學平均, 應該上升 10 分。"
   ]
  },
  {
   "cell_type": "code",
   "execution_count": 27,
   "metadata": {
    "collapsed": false
   },
   "outputs": [
    {
     "data": {
      "text/plain": [
       "80.054958711958633"
      ]
     },
     "execution_count": 27,
     "metadata": {},
     "output_type": "execute_result"
    }
   ],
   "source": [
    "arr[arr>=60].mean()"
   ]
  },
  {
   "cell_type": "markdown",
   "metadata": {},
   "source": [
    "## [練習] 畫圖\n",
    "\n",
    "linspace, scatter 和 plot 的複習。"
   ]
  },
  {
   "cell_type": "markdown",
   "metadata": {},
   "source": [
    "### [1] Array 可以一次帶入函數。\n",
    "\n",
    "事實上是所謂 universial function 才可以, 不過我們暫時不要管它。"
   ]
  },
  {
   "cell_type": "code",
   "execution_count": 28,
   "metadata": {
    "collapsed": true
   },
   "outputs": [],
   "source": [
    "x = array([2, 3, 10, 5])"
   ]
  },
  {
   "cell_type": "code",
   "execution_count": 29,
   "metadata": {
    "collapsed": false
   },
   "outputs": [
    {
     "data": {
      "text/plain": [
       "array([  8,  15, 120,  35])"
      ]
     },
     "execution_count": 29,
     "metadata": {},
     "output_type": "execute_result"
    }
   ],
   "source": [
    "x**2 + 2*x"
   ]
  },
  {
   "cell_type": "code",
   "execution_count": 30,
   "metadata": {
    "collapsed": false
   },
   "outputs": [
    {
     "data": {
      "text/plain": [
       "array([ 0.90929743,  0.14112001, -0.54402111, -0.95892427])"
      ]
     },
     "execution_count": 30,
     "metadata": {},
     "output_type": "execute_result"
    }
   ],
   "source": [
    "sin(x)"
   ]
  },
  {
   "cell_type": "markdown",
   "metadata": {},
   "source": [
    "### [2] 標準函數畫圖\n",
    "\n",
    "記得 plot 的用法是\n",
    "\n",
    "    plot(x,y)\n",
    "    \n",
    "其中 x 是我們點的 x 座標之 array, y 是 y 座標之 array。"
   ]
  },
  {
   "cell_type": "code",
   "execution_count": 31,
   "metadata": {
    "collapsed": false
   },
   "outputs": [],
   "source": [
    "x = linspace(1, 10, 100)"
   ]
  },
  {
   "cell_type": "code",
   "execution_count": 32,
   "metadata": {
    "collapsed": false
   },
   "outputs": [
    {
     "data": {
      "text/plain": [
       "[<matplotlib.lines.Line2D at 0x10602b210>]"
      ]
     },
     "execution_count": 32,
     "metadata": {},
     "output_type": "execute_result"
    },
    {
     "data": {
      "image/png": "[encoded data removed]",
      "text/plain": [
       "<matplotlib.figure.Figure at 0x1043c1ad0>"
      ]
     },
     "metadata": {},
     "output_type": "display_data"
    }
   ],
   "source": [
    "plot(x, sin(x))"
   ]
  },
  {
   "cell_type": "code",
   "execution_count": 33,
   "metadata": {
    "collapsed": false
   },
   "outputs": [
    {
     "data": {
      "text/plain": [
       "[<matplotlib.lines.Line2D at 0x10618aad0>]"
      ]
     },
     "execution_count": 33,
     "metadata": {},
     "output_type": "execute_result"
    },
    {
     "data": {
      "image/png": "[encoded data removed]",
      "text/plain": [
       "<matplotlib.figure.Figure at 0x105f62cd0>"
      ]
     },
     "metadata": {},
     "output_type": "display_data"
    }
   ],
   "source": [
    "plot(x, x**2)"
   ]
  },
  {
   "cell_type": "markdown",
   "metadata": {},
   "source": [
    "畫兩個函數很簡單。"
   ]
  },
  {
   "cell_type": "code",
   "execution_count": 34,
   "metadata": {
    "collapsed": false
   },
   "outputs": [
    {
     "data": {
      "image/png": "[encoded data removed]",
      "text/plain": [
       "<matplotlib.figure.Figure at 0x1061af810>"
      ]
     },
     "metadata": {},
     "output_type": "display_data"
    }
   ],
   "source": [
    "x=linspace(-6,6,100)\n",
    "plot(x,cos(x));\n",
    "plot(x,sin(x));"
   ]
  },
  {
   "cell_type": "markdown",
   "metadata": {},
   "source": [
    "### [3] Scatter 的用法"
   ]
  },
  {
   "cell_type": "markdown",
   "metadata": {},
   "source": [
    "我們的點選用\n",
    "\n",
    "    (1,3), (-2,7), (3,9), (0,5)"
   ]
  },
  {
   "cell_type": "code",
   "execution_count": 35,
   "metadata": {
    "collapsed": true
   },
   "outputs": [],
   "source": [
    "x = [1, -2, 3, 0]\n",
    "y = [3, 7, 9, 5]"
   ]
  },
  {
   "cell_type": "code",
   "execution_count": 36,
   "metadata": {
    "collapsed": false
   },
   "outputs": [
    {
     "data": {
      "text/plain": [
       "<matplotlib.collections.PathCollection at 0x1063c8f50>"
      ]
     },
     "execution_count": 36,
     "metadata": {},
     "output_type": "execute_result"
    },
    {
     "data": {
      "image/png": "[encoded data removed]",
      "text/plain": [
       "<matplotlib.figure.Figure at 0x1062ae990>"
      ]
     },
     "metadata": {},
     "output_type": "display_data"
    }
   ],
   "source": [
    "scatter(x, y)"
   ]
  },
  {
   "cell_type": "markdown",
   "metadata": {},
   "source": [
    "亂數取 100 個點!"
   ]
  },
  {
   "cell_type": "code",
   "execution_count": 37,
   "metadata": {
    "collapsed": true
   },
   "outputs": [],
   "source": [
    "x = randn(100)\n",
    "y = randn(100)"
   ]
  },
  {
   "cell_type": "markdown",
   "metadata": {},
   "source": [
    "用之前 array 技巧, 只畫 x 座標大於 0 的!"
   ]
  },
  {
   "cell_type": "code",
   "execution_count": 38,
   "metadata": {
    "collapsed": false
   },
   "outputs": [
    {
     "data": {
      "text/plain": [
       "<matplotlib.collections.PathCollection at 0x10614b090>"
      ]
     },
     "execution_count": 38,
     "metadata": {},
     "output_type": "execute_result"
    },
    {
     "data": {
      "image/png": "[encoded data removed]",
      "text/plain": [
       "<matplotlib.figure.Figure at 0x1063e8f90>"
      ]
     },
     "metadata": {},
     "output_type": "display_data"
    }
   ],
   "source": [
    "scatter(x[x>0], y[x>0], c='r')"
   ]
  },
  {
   "cell_type": "markdown",
   "metadata": {},
   "source": [
    "把其他點一起畫, 但當然用不同色。"
   ]
  },
  {
   "cell_type": "code",
   "execution_count": 39,
   "metadata": {
    "collapsed": false
   },
   "outputs": [
    {
     "data": {
      "text/plain": [
       "<matplotlib.collections.PathCollection at 0x1064facd0>"
      ]
     },
     "execution_count": 39,
     "metadata": {},
     "output_type": "execute_result"
    },
    {
     "data": {
      "image/png": "[encoded data removed]",
      "text/plain": [
       "<matplotlib.figure.Figure at 0x106416190>"
      ]
     },
     "metadata": {},
     "output_type": "display_data"
    }
   ],
   "source": [
    "scatter(x[x<=0],y[x<=0])\n",
    "scatter(x[x>0], y[x>0], c='r')"
   ]
  },
  {
   "cell_type": "markdown",
   "metadata": {},
   "source": [
    "## [練習] 不學後悔的超酷互動模式!"
   ]
  },
  {
   "cell_type": "markdown",
   "metadata": {},
   "source": [
    "愛用 tab 鍵, 練習打這串。"
   ]
  },
  {
   "cell_type": "code",
   "execution_count": 40,
   "metadata": {
    "collapsed": false
   },
   "outputs": [
    {
     "name": "stderr",
     "output_type": "stream",
     "text": [
      ":0: FutureWarning: IPython widgets are experimental and may change in the future.\n"
     ]
    }
   ],
   "source": [
    "from IPython.html.widgets import interact"
   ]
  },
  {
   "cell_type": "markdown",
   "metadata": {},
   "source": [
    "定一個很白痴的函數。"
   ]
  },
  {
   "cell_type": "code",
   "execution_count": 41,
   "metadata": {
    "collapsed": true
   },
   "outputs": [],
   "source": [
    "def f(x):\n",
    "    print x"
   ]
  },
  {
   "cell_type": "code",
   "execution_count": 42,
   "metadata": {
    "collapsed": false
   },
   "outputs": [
    {
     "name": "stdout",
     "output_type": "stream",
     "text": [
      "3\n"
     ]
    }
   ],
   "source": [
    "f(3)"
   ]
  },
  {
   "cell_type": "code",
   "execution_count": 43,
   "metadata": {
    "collapsed": false
   },
   "outputs": [
    {
     "name": "stdout",
     "output_type": "stream",
     "text": [
      "hi\n"
     ]
    }
   ],
   "source": [
    "f(\"hi\")"
   ]
  },
  {
   "cell_type": "markdown",
   "metadata": {},
   "source": [
    "雖然真的很白痴, 但我們可以互動了!!\n",
    "\n",
    "    interact(要互動函數, 互動範圍、型式)"
   ]
  },
  {
   "cell_type": "markdown",
   "metadata": {},
   "source": [
    "整數。"
   ]
  },
  {
   "cell_type": "code",
   "execution_count": 44,
   "metadata": {
    "collapsed": false
   },
   "outputs": [
    {
     "name": "stdout",
     "output_type": "stream",
     "text": [
      "5\n"
     ]
    },
    {
     "data": {
      "text/plain": [
       "<function __main__.f>"
      ]
     },
     "execution_count": 44,
     "metadata": {},
     "output_type": "execute_result"
    }
   ],
   "source": [
    "interact(f, x=(1,10))"
   ]
  },
  {
   "cell_type": "markdown",
   "metadata": {},
   "source": [
    "浮點數。"
   ]
  },
  {
   "cell_type": "code",
   "execution_count": 45,
   "metadata": {
    "collapsed": false
   },
   "outputs": [
    {
     "name": "stdout",
     "output_type": "stream",
     "text": [
      "5.5\n"
     ]
    },
    {
     "data": {
      "text/plain": [
       "<function __main__.f>"
      ]
     },
     "execution_count": 45,
     "metadata": {},
     "output_type": "execute_result"
    }
   ],
   "source": [
    "interact(f, x=(1., 10.))"
   ]
  },
  {
   "cell_type": "markdown",
   "metadata": {},
   "source": [
    "字串 (文字框)。"
   ]
  },
  {
   "cell_type": "code",
   "execution_count": 46,
   "metadata": {
    "collapsed": false
   },
   "outputs": [
    {
     "name": "stdout",
     "output_type": "stream",
     "text": [
      "hi\n"
     ]
    },
    {
     "data": {
      "text/plain": [
       "<function __main__.f>"
      ]
     },
     "execution_count": 46,
     "metadata": {},
     "output_type": "execute_result"
    }
   ],
   "source": [
    "interact(f, x=\"hi\")"
   ]
  },
  {
   "cell_type": "markdown",
   "metadata": {},
   "source": [
    "字典 (下拉式選單)。"
   ]
  },
  {
   "cell_type": "code",
   "execution_count": 47,
   "metadata": {
    "collapsed": false
   },
   "outputs": [
    {
     "name": "stdout",
     "output_type": "stream",
     "text": [
      "0\n"
     ]
    },
    {
     "data": {
      "text/plain": [
       "<function __main__.f>"
      ]
     },
     "execution_count": 47,
     "metadata": {},
     "output_type": "execute_result"
    }
   ],
   "source": [
    "interact(f, x={u'台北':0, u'台南':1})"
   ]
  },
  {
   "cell_type": "markdown",
   "metadata": {},
   "source": [
    "### [附註]\n",
    "這裡字串前的 u 是 unicode (萬國碼) 的意思。用 unicode 處理一些中文 (或其他語系文字) 比較不會有問題。"
   ]
  },
  {
   "cell_type": "code",
   "execution_count": 48,
   "metadata": {
    "collapsed": true
   },
   "outputs": [],
   "source": [
    "name = \"蔡炎龍\""
   ]
  },
  {
   "cell_type": "code",
   "execution_count": 49,
   "metadata": {
    "collapsed": false
   },
   "outputs": [
    {
     "data": {
      "text/plain": [
       "9"
      ]
     },
     "execution_count": 49,
     "metadata": {},
     "output_type": "execute_result"
    }
   ],
   "source": [
    "len(name)"
   ]
  },
  {
   "cell_type": "code",
   "execution_count": 50,
   "metadata": {
    "collapsed": true
   },
   "outputs": [],
   "source": [
    "name = u\"蔡炎龍\""
   ]
  },
  {
   "cell_type": "code",
   "execution_count": 51,
   "metadata": {
    "collapsed": false
   },
   "outputs": [
    {
     "data": {
      "text/plain": [
       "3"
      ]
     },
     "execution_count": 51,
     "metadata": {},
     "output_type": "execute_result"
    }
   ],
   "source": [
    "len(name)"
   ]
  },
  {
   "cell_type": "markdown",
   "metadata": {},
   "source": [
    "### [範例]\n",
    "\n",
    "純粹好玩。"
   ]
  },
  {
   "cell_type": "code",
   "execution_count": 52,
   "metadata": {
    "collapsed": true
   },
   "outputs": [],
   "source": [
    "def foo(k):\n",
    "    print \" \"*k + \"oooo\""
   ]
  },
  {
   "cell_type": "code",
   "execution_count": 53,
   "metadata": {
    "collapsed": false
   },
   "outputs": [
    {
     "name": "stdout",
     "output_type": "stream",
     "text": [
      "   oooo\n"
     ]
    }
   ],
   "source": [
    "foo(3)"
   ]
  },
  {
   "cell_type": "code",
   "execution_count": 54,
   "metadata": {
    "collapsed": false
   },
   "outputs": [
    {
     "name": "stdout",
     "output_type": "stream",
     "text": [
      "     oooo\n"
     ]
    }
   ],
   "source": [
    "foo(5)"
   ]
  },
  {
   "cell_type": "code",
   "execution_count": 55,
   "metadata": {
    "collapsed": false
   },
   "outputs": [
    {
     "name": "stdout",
     "output_type": "stream",
     "text": [
      "          oooo\n"
     ]
    },
    {
     "data": {
      "text/plain": [
       "<function __main__.foo>"
      ]
     },
     "execution_count": 55,
     "metadata": {},
     "output_type": "execute_result"
    }
   ],
   "source": [
    "interact(foo, k=(1, 20))"
   ]
  },
  {
   "cell_type": "markdown",
   "metadata": {},
   "source": [
    "### interact_manual 用法\n",
    "\n",
    "這裡要 IPython 3 (Jupyter) 才可以。"
   ]
  },
  {
   "cell_type": "code",
   "execution_count": 56,
   "metadata": {
    "collapsed": true
   },
   "outputs": [],
   "source": [
    "def spam(k):\n",
    "    for i in range(k):\n",
    "        print \"*\"*(i+1)"
   ]
  },
  {
   "cell_type": "code",
   "execution_count": 57,
   "metadata": {
    "collapsed": false
   },
   "outputs": [
    {
     "name": "stdout",
     "output_type": "stream",
     "text": [
      "*\n",
      "**\n",
      "***\n",
      "****\n",
      "*****\n"
     ]
    },
    {
     "data": {
      "text/plain": [
       "<function __main__.spam>"
      ]
     },
     "execution_count": 57,
     "metadata": {},
     "output_type": "execute_result"
    }
   ],
   "source": [
    "interact(spam, k=(1,10))"
   ]
  },
  {
   "cell_type": "code",
   "execution_count": 58,
   "metadata": {
    "collapsed": true
   },
   "outputs": [],
   "source": [
    "from IPython.html.widgets import interact_manual"
   ]
  },
  {
   "cell_type": "code",
   "execution_count": 59,
   "metadata": {
    "collapsed": false
   },
   "outputs": [
    {
     "data": {
      "text/plain": [
       "<function __main__.spam>"
      ]
     },
     "execution_count": 59,
     "metadata": {},
     "output_type": "execute_result"
    }
   ],
   "source": [
    "interact_manual(spam, k=(1,10))"
   ]
  },
  {
   "cell_type": "markdown",
   "metadata": {},
   "source": [
    "## [附記1]\n",
    "\n",
    "IPython 中打數學符號用的是一個叫 MathJax 的網路服務。這是 JavaScript 寫的, 可以完全下載下來, 你就不一定要上網也可以用。方式是在 IPython 下\n",
    "\n",
    "    from IPython.external.mathjax import install_mathjax\n",
    "    install_mathjax()\n",
    "    \n",
    "就可以了。一台電腦只需做一次。"
   ]
  },
  {
   "cell_type": "markdown",
   "metadata": {},
   "source": [
    "## [附記2]\n",
    "\n",
    "Python 算是對多國語系支援 OK 的程式語言, 不過如果還覺得在 Python 用中文有時會出一點問題, 這些問題都可以調整的。只是真的要更方便、更自然, 推薦用\n",
    "\n",
    "<h3 style=\"color:red;\">Python 3!</h3>\n",
    "\n",
    "Python 3 有很多挺酷的地方。我們用 Anaconda, 可以安裝「互不干擾的」Python 系統, 所以你可以安心安裝。方式請看即將推出的影片。"
   ]
  }
 ],
 "metadata": {
  "kernelspec": {
   "display_name": "Python 2",
   "language": "python",
   "name": "python2"
  },
  "language_info": {
   "codemirror_mode": {
    "name": "ipython",
    "version": 2
   },
   "file_extension": ".py",
   "mimetype": "text/x-python",
   "name": "python",
   "nbconvert_exporter": "python",
   "pygments_lexer": "ipython2",
   "version": "2.7.9"
  }
 },
 "nbformat": 4,
 "nbformat_minor": 0
}
