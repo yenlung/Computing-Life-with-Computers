{
 "metadata": {
  "name": "",
  "signature": "sha256:5d34bc1919b7904452db06aa9b21e9fa36a355ca1efeca73d0a1c748c31bd310"
 },
 "nbformat": 3,
 "nbformat_minor": 0,
 "worksheets": [
  {
   "cells": [
    {
     "cell_type": "markdown",
     "metadata": {},
     "source": [
      "## \u4e0a\u8ab2\u7b46\u8a18 02\n",
      "\n",
      "\u4eca\u5929\u6211\u5011\u4e3b\u8981\u8907\u7fd2\u3001\u719f\u6089 list \u7684\u64cd\u4f5c\u3002"
     ]
    },
    {
     "cell_type": "markdown",
     "metadata": {},
     "source": [
      "### 1. \u628a\u4e00\u4e32\u6578\u5b57\u52a0\u8d77\u4f86"
     ]
    },
    {
     "cell_type": "markdown",
     "metadata": {},
     "source": [
      "#### [\u554f\u984c 1]\n",
      "\n",
      "\u6709\u4e00\u500b list\n",
      "\n",
      "    L = [13, 25, 66, 93, 107]\n",
      "    \n",
      "\u8acb\u628a\u88e1\u9762\u7684\u6578\u5b57\u5168\u90e8\u52a0\u8d77\u4f86!"
     ]
    },
    {
     "cell_type": "code",
     "collapsed": false,
     "input": [
      "L = [13, 25, 66, 93, 107]"
     ],
     "language": "python",
     "metadata": {},
     "outputs": [],
     "prompt_number": 6
    },
    {
     "cell_type": "markdown",
     "metadata": {},
     "source": [
      "#### [\u89e3\u6cd5 1-1]\n",
      "\n",
      "\u7528\u4e00\u500b\u8ff4\u5708\u52a0\u8d77\u4f86, \u96d6\u7136\u6bd4\u8f03\u905c, \u4f46\u6280\u5de7\u4ee5\u5f8c\u6703\u5e38\u5e38\u7528\u5230\u3002"
     ]
    },
    {
     "cell_type": "code",
     "collapsed": false,
     "input": [
      "s = 0"
     ],
     "language": "python",
     "metadata": {},
     "outputs": [],
     "prompt_number": 3
    },
    {
     "cell_type": "code",
     "collapsed": false,
     "input": [
      "for i in L:\n",
      "    s = s + i"
     ],
     "language": "python",
     "metadata": {},
     "outputs": [],
     "prompt_number": 5
    },
    {
     "cell_type": "code",
     "collapsed": false,
     "input": [
      "s"
     ],
     "language": "python",
     "metadata": {},
     "outputs": [
      {
       "metadata": {},
       "output_type": "pyout",
       "prompt_number": 6,
       "text": [
        "304"
       ]
      }
     ],
     "prompt_number": 6
    },
    {
     "cell_type": "markdown",
     "metadata": {},
     "source": [
      "#### [\u89e3\u6cd5 1-2]\n",
      "\n",
      "\u6709\u8070\u660e\u7684\u540c\u5b78, \u65e9\u5c31\u767c\u73fe\u5176\u5be6 Python \u771f\u7684\u662f\u7c21\u55ae\u5230\u8870\u6557\u7a0b\u5ea6\u7684\u8a9e\u8a00\u3002"
     ]
    },
    {
     "cell_type": "code",
     "collapsed": false,
     "input": [
      "sum(L)"
     ],
     "language": "python",
     "metadata": {},
     "outputs": [
      {
       "metadata": {},
       "output_type": "pyout",
       "prompt_number": 7,
       "text": [
        "304"
       ]
      }
     ],
     "prompt_number": 7
    },
    {
     "cell_type": "markdown",
     "metadata": {},
     "source": [
      "### 2. List \u7684\u751f\u6210\u548c\u64f4\u5f35"
     ]
    },
    {
     "cell_type": "markdown",
     "metadata": {},
     "source": [
      "\u770b\u770b, \u4e00\u500b list \u5c45\u7136\u53ef\u4ee5\u4e58\u4e0a\u4e00\u500b\u6b63\u6574\u6578!"
     ]
    },
    {
     "cell_type": "code",
     "collapsed": false,
     "input": [
      "L*2"
     ],
     "language": "python",
     "metadata": {},
     "outputs": [
      {
       "metadata": {},
       "output_type": "pyout",
       "prompt_number": 8,
       "text": [
        "[13, 25, 66, 93, 107, 13, 25, 66, 93, 107]"
       ]
      }
     ],
     "prompt_number": 8
    },
    {
     "cell_type": "markdown",
     "metadata": {},
     "source": [
      "\u5176\u5be6, \u67d0\u7a2e\u7a0b\u5ea6\u6211\u5011\u6709\u9ede\u5e0c\u671b\u9019\u500b\n",
      "\n",
      "    L*2\n",
      "    \n",
      "\u6703\u628a L \u88e1\u7684\u6bcf\u500b\u5143\u7d20\u90fd\u653e\u5927\u5169\u500d\u3002<b style=\"color:red;\">\u9019\u4ef6\u4e8b\u4ee5\u5f8c\u6211\u5011\u6703\u505a\u5230</b>\u3002"
     ]
    },
    {
     "cell_type": "code",
     "collapsed": false,
     "input": [
      "L"
     ],
     "language": "python",
     "metadata": {},
     "outputs": [
      {
       "metadata": {},
       "output_type": "pyout",
       "prompt_number": 9,
       "text": [
        "[13, 25, 66, 93, 107]"
       ]
      }
     ],
     "prompt_number": 9
    },
    {
     "cell_type": "code",
     "collapsed": false,
     "input": [
      "K = [12, 89, 23, 12, 33]"
     ],
     "language": "python",
     "metadata": {},
     "outputs": [],
     "prompt_number": 4
    },
    {
     "cell_type": "code",
     "collapsed": false,
     "input": [
      "L + K"
     ],
     "language": "python",
     "metadata": {},
     "outputs": [
      {
       "metadata": {},
       "output_type": "pyout",
       "prompt_number": 8,
       "text": [
        "[13, 25, 66, 93, 107, 12, 89, 23, 12, 33]"
       ]
      }
     ],
     "prompt_number": 8
    },
    {
     "cell_type": "markdown",
     "metadata": {},
     "source": [
      "\u5f9e\u9019\u88e1\u53ef\u4ee5\u770b\u5230, L + K \u5176\u5be6\u662f\u628a L \u548c K \u5169\u500b list \u5408\u8d77\u4f86! \u6709\u6642\u6211\u5011\u4e5f\u6703\u60f3\u9019\u6a23, \u4f46\u5176\u5be6\u6211\u5011\u73fe\u5728\u662f\u8981\u628a\u88e1\u9762\u76f8\u5c0d\u4f4d\u7f6e\u7684\u5143\u7d20\u4e00\u4e00\u52a0\u8d77\u4f86\u600e\u9ebc\u505a\u5462?"
     ]
    },
    {
     "cell_type": "markdown",
     "metadata": {},
     "source": [
      "\u6211\u5011\u770b\u770b L, K, \u7b2c 2 \u500b\u4f4d\u7f6e\u7684\u6578\u5b57\u662f\u4ec0\u9ebc, \u7136\u5f8c\u52a0\u8d77\u4f86 (Python list \u7de8\u865f\u5f9e 0 \u958b\u59cb\u7684)\u3002"
     ]
    },
    {
     "cell_type": "code",
     "collapsed": false,
     "input": [
      "L[2], K[2]"
     ],
     "language": "python",
     "metadata": {},
     "outputs": [
      {
       "metadata": {},
       "output_type": "pyout",
       "prompt_number": 11,
       "text": [
        "(66, 23)"
       ]
      }
     ],
     "prompt_number": 11
    },
    {
     "cell_type": "code",
     "collapsed": false,
     "input": [
      "L[2] + K[2]"
     ],
     "language": "python",
     "metadata": {},
     "outputs": [
      {
       "metadata": {},
       "output_type": "pyout",
       "prompt_number": 12,
       "text": [
        "89"
       ]
      }
     ],
     "prompt_number": 12
    },
    {
     "cell_type": "markdown",
     "metadata": {},
     "source": [
      "#### [\u554f\u984c 2]\n",
      "\n",
      "\u628a L, K \u5169\u500b list \u76f8\u5c0d\u4f4d\u5b50\u7684\u6578\u5b57\u90fd\u5169\u5169\u76f8\u52a0, \u653e\u5230\u4e00\u500b\u65b0\u7684 list J \u88e1\u9762\u3002"
     ]
    },
    {
     "cell_type": "markdown",
     "metadata": {},
     "source": [
      "#### [\u89e3\u6cd5 2-1]\n",
      "\n",
      "\u60f3\u6cd5\u5c31\u662f\u5148\u505a\u4e00\u500b\u7a7a\u7684 list J, \u7136\u5f8c\u6578\u5b57\u4e00\u500b\u4e00\u500b\u52a0\u597d, \u653e\u5230 J \u88e1\u9762\u53bb\u3002"
     ]
    },
    {
     "cell_type": "code",
     "collapsed": false,
     "input": [
      "J = []\n",
      "for i in [0,1,2,3,4]:\n",
      "    s = L[i] + K[i]\n",
      "    J = J + [s]"
     ],
     "language": "python",
     "metadata": {},
     "outputs": [],
     "prompt_number": 15
    },
    {
     "cell_type": "code",
     "collapsed": false,
     "input": [
      "J"
     ],
     "language": "python",
     "metadata": {},
     "outputs": [
      {
       "metadata": {},
       "output_type": "pyout",
       "prompt_number": 17,
       "text": [
        "[25, 114, 89, 105, 140]"
       ]
      }
     ],
     "prompt_number": 17
    },
    {
     "cell_type": "markdown",
     "metadata": {},
     "source": [
      "\u5176\u5be6\u6211\u5011\u4e0d\u7528\u81ea\u5df1\u6253\u90a3\u500b list\n",
      "\n",
      "    [0, 1, 2, 3, 4]\n",
      "    \n",
      "\u5426\u5247, \u842c\u4e00\u4eca\u5929\u8981\u7522\u751f\u7684\u662f 0 \u5230 100 \u8981\u600e\u9ebc\u8fa6? Python \u6709\u5f88\u591a\u751f list \u7684\u65b9\u6cd5!!"
     ]
    },
    {
     "cell_type": "code",
     "collapsed": false,
     "input": [
      "range(10)"
     ],
     "language": "python",
     "metadata": {},
     "outputs": [
      {
       "metadata": {},
       "output_type": "pyout",
       "prompt_number": 19,
       "text": [
        "[0, 1, 2, 3, 4, 5, 6, 7, 8, 9]"
       ]
      }
     ],
     "prompt_number": 19
    },
    {
     "cell_type": "markdown",
     "metadata": {},
     "source": [
      "\u5f9e 1 \u5230 10"
     ]
    },
    {
     "cell_type": "code",
     "collapsed": false,
     "input": [
      "range(1,11)"
     ],
     "language": "python",
     "metadata": {},
     "outputs": [
      {
       "metadata": {},
       "output_type": "pyout",
       "prompt_number": 21,
       "text": [
        "[1, 2, 3, 4, 5, 6, 7, 8, 9, 10]"
       ]
      }
     ],
     "prompt_number": 21
    },
    {
     "cell_type": "markdown",
     "metadata": {},
     "source": [
      "\u5f9e 1 \u5230 19, \u53ea\u8981\u5947\u6578\u30021 \u51fa\u73fe\u4e86, \u4e0b\u6b21\u662f\u5dee 2 \u4e0d\u662f\u5dee 1\u3000\u9019\u6a23\u5b50\u3002"
     ]
    },
    {
     "cell_type": "code",
     "collapsed": false,
     "input": [
      "range(1,20,2)"
     ],
     "language": "python",
     "metadata": {},
     "outputs": [
      {
       "metadata": {},
       "output_type": "pyout",
       "prompt_number": 22,
       "text": [
        "[1, 3, 5, 7, 9, 11, 13, 15, 17, 19]"
       ]
      }
     ],
     "prompt_number": 22
    },
    {
     "cell_type": "markdown",
     "metadata": {},
     "source": [
      "#### [\u89e3\u6cd5 2-2]\n",
      "\n",
      "\u7528\u81ea\u5df1\u751f\u51fa\u4f86\u7684 list \u505a index, \u7136\u5f8c\u6211\u5011\u518d\u7528\u6a19\u6e96\u64f4\u5145 list \u7684 append \u52a0\u5165\u65b0\u5143\u7d20\u3002"
     ]
    },
    {
     "cell_type": "code",
     "collapsed": false,
     "input": [
      "J = []\n",
      "for i in range(5):\n",
      "    s = L[i] + K[i]\n",
      "    J.append(s)"
     ],
     "language": "python",
     "metadata": {},
     "outputs": [],
     "prompt_number": 28
    },
    {
     "cell_type": "code",
     "collapsed": false,
     "input": [
      "J"
     ],
     "language": "python",
     "metadata": {},
     "outputs": [
      {
       "metadata": {},
       "output_type": "pyout",
       "prompt_number": 29,
       "text": [
        "[25, 114, 89, 105, 140]"
       ]
      }
     ],
     "prompt_number": 29
    },
    {
     "cell_type": "markdown",
     "metadata": {},
     "source": [
      "#### [\u6ce8\u610f]\n",
      "range \u662f<b style=\"color:red;\">\u4e0d\u53ef\u4ee5</b>\u7528\u5c0f\u6578\u7684, \u6bd4\u5982\u6211\u5011\u8981\u9593\u9694 0.2, \u4e0b\u9762\u9019\u6a23\u7684\u65b9\u5f0f\u6703\u51fa\u932f\u3002\n",
      "\n",
      "    range(1, 10, 0.2)\n",
      "    \n",
      "\u73fe\u5728\u6211\u5011\u9084\u662f\u53ef\u4ee5\u7522\u751f\u4e00\u500b [1, 1.2, 1.4, ...] \u9019\u6a23\u7684 list, \u4f46\u8981\u81ea\u5df1\u5beb\u9ede\u7a0b\u5f0f\u3002\u4ee5\u5f8c\u5e78\u798f\u5feb\u6a02\u7684\u65e5\u5b50\u5c31\u8981\u4f86\u81e8\u3002"
     ]
    },
    {
     "cell_type": "markdown",
     "metadata": {},
     "source": [
      "#### [\u540c\u5b78\u767c\u554f]\n",
      "\n",
      "for \u8ff4\u5708\u5230\u5e95\u662f\u4ec0\u9ebc\u3002\u9019\u6c92\u6709\u4ec0\u9ebc, \u5c31\u662f\u628a\u4e00\u500b list \u88e1\u9762\u7684\u6771\u897f\u4e00\u6b21\u4e00\u500b\u53eb\u51fa\u4f86, \u770b\u6211\u5011\u8981\u505a\u4ec0\u9ebc\u3002"
     ]
    },
    {
     "cell_type": "code",
     "collapsed": false,
     "input": [
      "L = [3, 7, 6, 9]\n",
      "for i in L:\n",
      "    print i"
     ],
     "language": "python",
     "metadata": {},
     "outputs": [
      {
       "output_type": "stream",
       "stream": "stdout",
       "text": [
        "3\n",
        "7\n",
        "6\n",
        "9\n"
       ]
      }
     ],
     "prompt_number": 23
    },
    {
     "cell_type": "markdown",
     "metadata": {},
     "source": [
      "### 3. IPython \u8a18\u7b46\u8a18\u5f88\u9177\u7684!\n",
      "\n",
      "#### Markdown \u8a9e\u6cd5\n",
      "\n",
      "\u5728 IPython \u4e2d, \u6211\u5011\u53ef\u4ee5\u4f7f\u7528 Markdown \u7684\u8a9e\u6cd5\u8a18\u7b46\u8a18\u3002\u4f60\u53ea\u8981\u7528\u4e0b\u62c9\u5f0f\u9078\u55ae, \u628a Code \u6a21\u5f0f\u6539\u6210 Markdown, \u90a3\u4e00\u500b cell \u5c31\u53ef\u4ee5\u7528 Markdown \u8a9e\u6cd5\u3002Markdown \u5f88\u591a\u5730\u65b9\u4f7f\u7528, \u5728\u5404\u5e73\u53f0\u4e5f\u53ef\u4ee5\u627e\u5230 Markdown \u7684\u7de8\u8f2f/\u9810\u89bd\u5668\u3002\n",
      "\n",
      "\u8acb\u53c3\u8003[Markdown \u8a9e\u6cd5\u8aaa\u660e](http://markdown.tw)\u3002"
     ]
    },
    {
     "cell_type": "markdown",
     "metadata": {},
     "source": [
      "#### \u6578\u5b78\u7b26\u865f\n",
      "\n",
      "IPython \u63a1\u7528 MathJax, \u4e5f\u5c31\u662f\u6211\u5011\u53ef\u4ee5\u7528\u6a19\u6e96\u7684 LaTeX \u6307\u4ee4\u4f86\u6253\u6578\u5b78\u7b26\u865f\u3002\u7d66\u4e00\u500b\u9322\u662f<b style=\"color:red;\">\u96a8\u6587\u6a21\u5f0f</b>:\n",
      "\n",
      "    $f(x) = \\int_1^x e^{g(x)} \\, dx$\n",
      "    \n",
      "\u7528\u5728\u6587\u5b57\u88e1\u6703\u50cf\u9019\u500b\u6a23\u5b50: $f(x) = \\int_1^3 e^{g(x)} \\, dx$\u3002\n",
      "\n",
      "<b style=\"color:red;\">\u5c55\u793a\u6a21\u5f0f</b>\u591a\u7d66\u9322\u5c31\u53ef\u4ee5:\n",
      "\n",
      "    $$f(x) = \\int_1^x e^{g(x)} \\, dx$$\n",
      "    \n",
      "\u9019\u6642\u6703\u7f6e\u4e2d\u3001\u7368\u7acb\u4e00\u884c\u3002\n",
      "\n",
      "$$f(x) = \\int_1^x e^{g(x)} \\, dx$$"
     ]
    },
    {
     "cell_type": "markdown",
     "metadata": {},
     "source": [
      "#### \u53ea\u8981\u6703\u5beb\u5c31\u6703 LaTeX\n",
      "\n",
      "\u5728\u7db2\u8def\u4e0a\u6211\u5011\u53ef\u4ee5\u5beb\u51fa\u6578\u5b78\u7b26\u865f, \u81ea\u52d5\u8f49\u6210 LaTeX!\n",
      "\n",
      "[MyScript \u7684 Web Equation](https://webdemo.myscript.com/#/demo/equation)"
     ]
    },
    {
     "cell_type": "markdown",
     "metadata": {},
     "source": [
      "## 4. \u7528 Python \u751f list \u5f88\u597d\u73a9"
     ]
    },
    {
     "cell_type": "markdown",
     "metadata": {},
     "source": [
      "#### [\u554f\u984c 3]\n",
      "\n",
      "\u6211\u60f3\u751f\u51fa\u4e00\u500b list, \u5167\u5bb9\u662f\n",
      "\n",
      "$$1^2, 2^2, 3^2, \\ldots, 10^2$$"
     ]
    },
    {
     "cell_type": "markdown",
     "metadata": {},
     "source": [
      "#### [\u89e3\u6cd5 3-1]\n",
      "\n",
      "\u7528\u4e0a\u6b21\u7684\u6982\u5ff5, \u6211\u5011\u628a 1 \u5230 10 \u7684\u5e73\u65b9\u4e00\u4e00\u653e\u5165\u4e00\u500b list \u4e2d\u3002"
     ]
    },
    {
     "cell_type": "code",
     "collapsed": false,
     "input": [
      "L = []\n",
      "for i in range(1,11):\n",
      "    L.append(i**2)"
     ],
     "language": "python",
     "metadata": {},
     "outputs": [],
     "prompt_number": 36
    },
    {
     "cell_type": "code",
     "collapsed": false,
     "input": [
      "L"
     ],
     "language": "python",
     "metadata": {},
     "outputs": [
      {
       "metadata": {},
       "output_type": "pyout",
       "prompt_number": 37,
       "text": [
        "[1, 4, 9, 16, 25, 36, 49, 64, 81, 100]"
       ]
      }
     ],
     "prompt_number": 37
    },
    {
     "cell_type": "markdown",
     "metadata": {},
     "source": [
      "#### [\u89e3\u6cd5 3-2]\n",
      "\n",
      "\u5176\u5be6 Python \u53ef\u4ee5\u505a\u5f97\u66f4\u9177! \u60f3\u60f3\u6211\u5011\u5728\u6578\u5b78\u4e0a, \u662f\u4e0d\u662f\u9019\u6a23\u8868\u793a\u4e00\u500b\u96c6\u5408:\n",
      "\n",
      "$$L = \\{i^2 | i = 1,2,\\ldots,10\\}$$\n",
      "\n",
      "\u800c\u4f60\u628a\u76f8\u5c0d\u7684\u90e8\u4efd\u90fd\u63db\u6210 Python \u8a9e\u8a00, \u6211\u5011\u5c31\u6703\u5f97\u5230..."
     ]
    },
    {
     "cell_type": "code",
     "collapsed": false,
     "input": [
      "L = [i**2 for i in range(1,11)]"
     ],
     "language": "python",
     "metadata": {},
     "outputs": [],
     "prompt_number": 27
    },
    {
     "cell_type": "code",
     "collapsed": false,
     "input": [
      "L"
     ],
     "language": "python",
     "metadata": {},
     "outputs": [
      {
       "metadata": {},
       "output_type": "pyout",
       "prompt_number": 28,
       "text": [
        "[1, 4, 9, 16, 25, 36, 49, 64, 81, 100]"
       ]
      }
     ],
     "prompt_number": 28
    },
    {
     "cell_type": "markdown",
     "metadata": {},
     "source": [
      "### 5. \u7528 Anki \u5b78 Python\n",
      "\n",
      "[Anki](http://ankisrs.net) \u662f\u4e00\u500b\u5f88\u591a\u4eba\u4f7f\u7528\u7684\u514d\u8cbb\u8edf\u9ad4, \u5b83\u662f\u6240\u8b02\u7684 SAS (Spaced Repetition Software), \u63a1\u7528\u9593\u6b47\u6027\u3001\u91cd\u8986\u5e6b\u4f60\u8986\u7fd2\u4e00\u4e9b\u6982\u5ff5\u3002\n",
      "\n",
      "\u4f60\u53ef\u4ee5\u53c3\u8003\u9019\u7bc7[Anki \u7684\u4ecb\u7d39](http://wlhunag.blogspot.tw/2013/06/Anki-tutorial-introduction.html)\u3002\n",
      "\n",
      "\u800c\u6211\u5011\u7528 Anki \u4f86\u5b78 Python \u662f\u5f88\u6709\u9053\u7406\u7684, \u56e0\u70ba Anki \u6b63\u662f\u7528 Python \u5beb\u7684!"
     ]
    }
   ],
   "metadata": {}
  }
 ]
}